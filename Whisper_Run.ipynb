{
  "nbformat": 4,
  "nbformat_minor": 0,
  "metadata": {
    "colab": {
      "provenance": [],
      "gpuType": "T4"
    },
    "kernelspec": {
      "name": "python3",
      "display_name": "Python 3"
    },
    "language_info": {
      "name": "python"
    },
    "accelerator": "GPU"
  },
  "cells": [
    {
      "cell_type": "code",
      "source": [
        "import numpy as np\n",
        "\n",
        "SAMPLE_RATE = 16000\n",
        "CHUNK_LENGTH= 30\n",
        "def chunk_and_resample_audio(\n",
        "    audio: np.ndarray,\n",
        "    audio_sample_rate: int,\n",
        "    model_sample_rate=SAMPLE_RATE,\n",
        "    model_chunk_seconds=CHUNK_LENGTH,\n",
        ") -> list[np.ndarray]:\n",
        "    if audio_sample_rate != model_sample_rate:\n",
        "        resampler = torchaudio.transforms.Resample(orig_freq=audio_sample_rate, new_freq=model_sample_rate)\n",
        "        audio = resampler(audio)\n",
        "        if audio.shape[0] > 1:\n",
        "            audio = torch.mean(audio, dim=0)\n",
        "        audio = audio.numpy()\n",
        "        audio_sample_rate = model_sample_rate\n",
        "\n",
        "    number_of_full_length_audio_chunks = (\n",
        "        audio.shape[0] // audio_sample_rate // model_chunk_seconds\n",
        "    )\n",
        "    last_sample_in_full_length_audio_chunks = (\n",
        "        audio_sample_rate * number_of_full_length_audio_chunks * model_chunk_seconds\n",
        "    )\n",
        "\n",
        "    if number_of_full_length_audio_chunks == 0:\n",
        "        return [audio]\n",
        "\n",
        "    return [\n",
        "        *np.array_split(\n",
        "            audio[:last_sample_in_full_length_audio_chunks],\n",
        "            number_of_full_length_audio_chunks,\n",
        "        ),\n",
        "        audio[last_sample_in_full_length_audio_chunks:],\n",
        "    ]\n"
      ],
      "metadata": {
        "id": "WYfx1RSGbB-s"
      },
      "execution_count": 6,
      "outputs": []
    },
    {
      "cell_type": "code",
      "source": [
        "import torch\n",
        "from transformers import AutoProcessor, WhisperForConditionalGeneration\n",
        "from datasets import load_dataset\n",
        "import torchaudio\n",
        "processor = AutoProcessor.from_pretrained(\"openai/whisper-base.en\")\n",
        "model = WhisperForConditionalGeneration.from_pretrained(\"openai/whisper-base.en\").to(\"cuda\")\n",
        "print(model.device)\n",
        "def get_transcript(audio_path):\n",
        "\n",
        "  waveform, sample_rate = torchaudio.load(audio_path)\n",
        "  audios=chunk_and_resample_audio(waveform,sample_rate)\n",
        "\n",
        "  transcripts=[]\n",
        "  for i,audio in enumerate(audios):\n",
        "    print(\"start time:\",i*30,\"s\")\n",
        "    end_time= min((i+1)*30,i*30+ audio.shape[0]/SAMPLE_RATE)\n",
        "    print(\"end time:\",end_time)\n",
        "    print(audio.shape)\n",
        "    input_features = processor(audio, return_tensors=\"pt\").input_features.to(\"cuda\")\n",
        "    print(\"fetaure shape:\",input_features.shape)\n",
        "    generated_ids = model.generate(inputs=input_features)\n",
        "    print(\"gen ids\",generated_ids.shape)\n",
        "    transcription = processor.batch_decode(generated_ids, skip_special_tokens=True)[0]\n",
        "    cur_obj={\n",
        "        \"start_time\":i*30,\n",
        "        \"end_time\":end_time,\n",
        "        \"transcription\":transcription\n",
        "    }\n",
        "    transcripts.append(cur_obj)\n",
        "  return transcripts\n",
        "trans=get_transcript(\"/content/audio/AlphaGo & AlphaGo Zero (DL 24).wav\")"
      ],
      "metadata": {
        "colab": {
          "base_uri": "https://localhost:8080/"
        },
        "id": "uOHQqZ5EHIrt",
        "outputId": "2e3e793a-fdea-482c-b841-da40eda396d0"
      },
      "execution_count": 19,
      "outputs": [
        {
          "output_type": "stream",
          "name": "stdout",
          "text": [
            "cuda:0\n"
          ]
        },
        {
          "output_type": "stream",
          "name": "stderr",
          "text": [
            "/usr/local/lib/python3.12/dist-packages/torchaudio/_backend/utils.py:213: UserWarning: In 2.9, this function's implementation will be changed to use torchaudio.load_with_torchcodec` under the hood. Some parameters like ``normalize``, ``format``, ``buffer_size``, and ``backend`` will be ignored. We recommend that you port your code to rely directly on TorchCodec's decoder instead: https://docs.pytorch.org/torchcodec/stable/generated/torchcodec.decoders.AudioDecoder.html#torchcodec.decoders.AudioDecoder.\n",
            "  warnings.warn(\n",
            "/usr/local/lib/python3.12/dist-packages/torchaudio/_backend/ffmpeg.py:88: UserWarning: torio.io._streaming_media_decoder.StreamingMediaDecoder has been deprecated. This deprecation is part of a large refactoring effort to transition TorchAudio into a maintenance phase. The decoding and encoding capabilities of PyTorch for both audio and video are being consolidated into TorchCodec. Please see https://github.com/pytorch/audio/issues/3902 for more information. It will be removed from the 2.9 release. \n",
            "  s = torchaudio.io.StreamReader(src, format, None, buffer_size)\n",
            "It is strongly recommended to pass the `sampling_rate` argument to `WhisperFeatureExtractor()`. Failing to do so can result in silent errors that might be hard to debug.\n"
          ]
        },
        {
          "output_type": "stream",
          "name": "stdout",
          "text": [
            "start time: 0 s\n",
            "end time: 30\n",
            "(480000,)\n",
            "fetaure shape: torch.Size([1, 80, 3000])\n"
          ]
        },
        {
          "output_type": "stream",
          "name": "stderr",
          "text": [
            "/usr/local/lib/python3.12/dist-packages/transformers/models/whisper/generation_whisper.py:655: FutureWarning: The input name `inputs` is deprecated. Please make sure to use `input_features` instead.\n",
            "  warnings.warn(\n",
            "It is strongly recommended to pass the `sampling_rate` argument to `WhisperFeatureExtractor()`. Failing to do so can result in silent errors that might be hard to debug.\n"
          ]
        },
        {
          "output_type": "stream",
          "name": "stdout",
          "text": [
            "gen ids torch.Size([1, 80])\n",
            "start time: 30 s\n",
            "end time: 60\n",
            "(480000,)\n",
            "fetaure shape: torch.Size([1, 80, 3000])\n"
          ]
        },
        {
          "output_type": "stream",
          "name": "stderr",
          "text": [
            "It is strongly recommended to pass the `sampling_rate` argument to `WhisperFeatureExtractor()`. Failing to do so can result in silent errors that might be hard to debug.\n"
          ]
        },
        {
          "output_type": "stream",
          "name": "stdout",
          "text": [
            "gen ids torch.Size([1, 79])\n",
            "start time: 60 s\n",
            "end time: 90\n",
            "(480000,)\n",
            "fetaure shape: torch.Size([1, 80, 3000])\n"
          ]
        },
        {
          "output_type": "stream",
          "name": "stderr",
          "text": [
            "It is strongly recommended to pass the `sampling_rate` argument to `WhisperFeatureExtractor()`. Failing to do so can result in silent errors that might be hard to debug.\n"
          ]
        },
        {
          "output_type": "stream",
          "name": "stdout",
          "text": [
            "gen ids torch.Size([1, 95])\n",
            "start time: 90 s\n",
            "end time: 120\n",
            "(480000,)\n",
            "fetaure shape: torch.Size([1, 80, 3000])\n"
          ]
        },
        {
          "output_type": "stream",
          "name": "stderr",
          "text": [
            "It is strongly recommended to pass the `sampling_rate` argument to `WhisperFeatureExtractor()`. Failing to do so can result in silent errors that might be hard to debug.\n"
          ]
        },
        {
          "output_type": "stream",
          "name": "stdout",
          "text": [
            "gen ids torch.Size([1, 74])\n",
            "start time: 120 s\n",
            "end time: 150\n",
            "(480000,)\n",
            "fetaure shape: torch.Size([1, 80, 3000])\n"
          ]
        },
        {
          "output_type": "stream",
          "name": "stderr",
          "text": [
            "It is strongly recommended to pass the `sampling_rate` argument to `WhisperFeatureExtractor()`. Failing to do so can result in silent errors that might be hard to debug.\n"
          ]
        },
        {
          "output_type": "stream",
          "name": "stdout",
          "text": [
            "gen ids torch.Size([1, 87])\n",
            "start time: 150 s\n",
            "end time: 180\n",
            "(480000,)\n",
            "fetaure shape: torch.Size([1, 80, 3000])\n"
          ]
        },
        {
          "output_type": "stream",
          "name": "stderr",
          "text": [
            "It is strongly recommended to pass the `sampling_rate` argument to `WhisperFeatureExtractor()`. Failing to do so can result in silent errors that might be hard to debug.\n"
          ]
        },
        {
          "output_type": "stream",
          "name": "stdout",
          "text": [
            "gen ids torch.Size([1, 80])\n",
            "start time: 180 s\n",
            "end time: 210\n",
            "(480000,)\n",
            "fetaure shape: torch.Size([1, 80, 3000])\n"
          ]
        },
        {
          "output_type": "stream",
          "name": "stderr",
          "text": [
            "It is strongly recommended to pass the `sampling_rate` argument to `WhisperFeatureExtractor()`. Failing to do so can result in silent errors that might be hard to debug.\n"
          ]
        },
        {
          "output_type": "stream",
          "name": "stdout",
          "text": [
            "gen ids torch.Size([1, 81])\n",
            "start time: 210 s\n",
            "end time: 240\n",
            "(480000,)\n",
            "fetaure shape: torch.Size([1, 80, 3000])\n"
          ]
        },
        {
          "output_type": "stream",
          "name": "stderr",
          "text": [
            "It is strongly recommended to pass the `sampling_rate` argument to `WhisperFeatureExtractor()`. Failing to do so can result in silent errors that might be hard to debug.\n"
          ]
        },
        {
          "output_type": "stream",
          "name": "stdout",
          "text": [
            "gen ids torch.Size([1, 71])\n",
            "start time: 240 s\n",
            "end time: 270\n",
            "(480000,)\n",
            "fetaure shape: torch.Size([1, 80, 3000])\n"
          ]
        },
        {
          "output_type": "stream",
          "name": "stderr",
          "text": [
            "It is strongly recommended to pass the `sampling_rate` argument to `WhisperFeatureExtractor()`. Failing to do so can result in silent errors that might be hard to debug.\n"
          ]
        },
        {
          "output_type": "stream",
          "name": "stdout",
          "text": [
            "gen ids torch.Size([1, 73])\n",
            "start time: 270 s\n",
            "end time: 300\n",
            "(480000,)\n",
            "fetaure shape: torch.Size([1, 80, 3000])\n"
          ]
        },
        {
          "output_type": "stream",
          "name": "stderr",
          "text": [
            "It is strongly recommended to pass the `sampling_rate` argument to `WhisperFeatureExtractor()`. Failing to do so can result in silent errors that might be hard to debug.\n"
          ]
        },
        {
          "output_type": "stream",
          "name": "stdout",
          "text": [
            "gen ids torch.Size([1, 86])\n",
            "start time: 300 s\n",
            "end time: 330\n",
            "(480000,)\n",
            "fetaure shape: torch.Size([1, 80, 3000])\n"
          ]
        },
        {
          "output_type": "stream",
          "name": "stderr",
          "text": [
            "It is strongly recommended to pass the `sampling_rate` argument to `WhisperFeatureExtractor()`. Failing to do so can result in silent errors that might be hard to debug.\n"
          ]
        },
        {
          "output_type": "stream",
          "name": "stdout",
          "text": [
            "gen ids torch.Size([1, 72])\n",
            "start time: 330 s\n",
            "end time: 360\n",
            "(480000,)\n",
            "fetaure shape: torch.Size([1, 80, 3000])\n"
          ]
        },
        {
          "output_type": "stream",
          "name": "stderr",
          "text": [
            "It is strongly recommended to pass the `sampling_rate` argument to `WhisperFeatureExtractor()`. Failing to do so can result in silent errors that might be hard to debug.\n"
          ]
        },
        {
          "output_type": "stream",
          "name": "stdout",
          "text": [
            "gen ids torch.Size([1, 74])\n",
            "start time: 360 s\n",
            "end time: 390\n",
            "(480000,)\n",
            "fetaure shape: torch.Size([1, 80, 3000])\n"
          ]
        },
        {
          "output_type": "stream",
          "name": "stderr",
          "text": [
            "It is strongly recommended to pass the `sampling_rate` argument to `WhisperFeatureExtractor()`. Failing to do so can result in silent errors that might be hard to debug.\n"
          ]
        },
        {
          "output_type": "stream",
          "name": "stdout",
          "text": [
            "gen ids torch.Size([1, 67])\n",
            "start time: 390 s\n",
            "end time: 420\n",
            "(480000,)\n",
            "fetaure shape: torch.Size([1, 80, 3000])\n"
          ]
        },
        {
          "output_type": "stream",
          "name": "stderr",
          "text": [
            "It is strongly recommended to pass the `sampling_rate` argument to `WhisperFeatureExtractor()`. Failing to do so can result in silent errors that might be hard to debug.\n"
          ]
        },
        {
          "output_type": "stream",
          "name": "stdout",
          "text": [
            "gen ids torch.Size([1, 69])\n",
            "start time: 420 s\n",
            "end time: 450\n",
            "(480000,)\n",
            "fetaure shape: torch.Size([1, 80, 3000])\n"
          ]
        },
        {
          "output_type": "stream",
          "name": "stderr",
          "text": [
            "It is strongly recommended to pass the `sampling_rate` argument to `WhisperFeatureExtractor()`. Failing to do so can result in silent errors that might be hard to debug.\n"
          ]
        },
        {
          "output_type": "stream",
          "name": "stdout",
          "text": [
            "gen ids torch.Size([1, 78])\n",
            "start time: 450 s\n",
            "end time: 480\n",
            "(480000,)\n",
            "fetaure shape: torch.Size([1, 80, 3000])\n"
          ]
        },
        {
          "output_type": "stream",
          "name": "stderr",
          "text": [
            "It is strongly recommended to pass the `sampling_rate` argument to `WhisperFeatureExtractor()`. Failing to do so can result in silent errors that might be hard to debug.\n"
          ]
        },
        {
          "output_type": "stream",
          "name": "stdout",
          "text": [
            "gen ids torch.Size([1, 78])\n",
            "start time: 480 s\n",
            "end time: 510\n",
            "(480000,)\n",
            "fetaure shape: torch.Size([1, 80, 3000])\n"
          ]
        },
        {
          "output_type": "stream",
          "name": "stderr",
          "text": [
            "It is strongly recommended to pass the `sampling_rate` argument to `WhisperFeatureExtractor()`. Failing to do so can result in silent errors that might be hard to debug.\n"
          ]
        },
        {
          "output_type": "stream",
          "name": "stdout",
          "text": [
            "gen ids torch.Size([1, 82])\n",
            "start time: 510 s\n",
            "end time: 540\n",
            "(480000,)\n",
            "fetaure shape: torch.Size([1, 80, 3000])\n"
          ]
        },
        {
          "output_type": "stream",
          "name": "stderr",
          "text": [
            "It is strongly recommended to pass the `sampling_rate` argument to `WhisperFeatureExtractor()`. Failing to do so can result in silent errors that might be hard to debug.\n"
          ]
        },
        {
          "output_type": "stream",
          "name": "stdout",
          "text": [
            "gen ids torch.Size([1, 77])\n",
            "start time: 540 s\n",
            "end time: 570\n",
            "(480000,)\n",
            "fetaure shape: torch.Size([1, 80, 3000])\n"
          ]
        },
        {
          "output_type": "stream",
          "name": "stderr",
          "text": [
            "It is strongly recommended to pass the `sampling_rate` argument to `WhisperFeatureExtractor()`. Failing to do so can result in silent errors that might be hard to debug.\n"
          ]
        },
        {
          "output_type": "stream",
          "name": "stdout",
          "text": [
            "gen ids torch.Size([1, 80])\n",
            "start time: 570 s\n",
            "end time: 600\n",
            "(480000,)\n",
            "fetaure shape: torch.Size([1, 80, 3000])\n"
          ]
        },
        {
          "output_type": "stream",
          "name": "stderr",
          "text": [
            "It is strongly recommended to pass the `sampling_rate` argument to `WhisperFeatureExtractor()`. Failing to do so can result in silent errors that might be hard to debug.\n"
          ]
        },
        {
          "output_type": "stream",
          "name": "stdout",
          "text": [
            "gen ids torch.Size([1, 63])\n",
            "start time: 600 s\n",
            "end time: 630\n",
            "(480000,)\n",
            "fetaure shape: torch.Size([1, 80, 3000])\n"
          ]
        },
        {
          "output_type": "stream",
          "name": "stderr",
          "text": [
            "It is strongly recommended to pass the `sampling_rate` argument to `WhisperFeatureExtractor()`. Failing to do so can result in silent errors that might be hard to debug.\n"
          ]
        },
        {
          "output_type": "stream",
          "name": "stdout",
          "text": [
            "gen ids torch.Size([1, 73])\n",
            "start time: 630 s\n",
            "end time: 660\n",
            "(480000,)\n",
            "fetaure shape: torch.Size([1, 80, 3000])\n"
          ]
        },
        {
          "output_type": "stream",
          "name": "stderr",
          "text": [
            "It is strongly recommended to pass the `sampling_rate` argument to `WhisperFeatureExtractor()`. Failing to do so can result in silent errors that might be hard to debug.\n"
          ]
        },
        {
          "output_type": "stream",
          "name": "stdout",
          "text": [
            "gen ids torch.Size([1, 72])\n",
            "start time: 660 s\n",
            "end time: 690\n",
            "(480000,)\n",
            "fetaure shape: torch.Size([1, 80, 3000])\n"
          ]
        },
        {
          "output_type": "stream",
          "name": "stderr",
          "text": [
            "It is strongly recommended to pass the `sampling_rate` argument to `WhisperFeatureExtractor()`. Failing to do so can result in silent errors that might be hard to debug.\n"
          ]
        },
        {
          "output_type": "stream",
          "name": "stdout",
          "text": [
            "gen ids torch.Size([1, 72])\n",
            "start time: 690 s\n",
            "end time: 720\n",
            "(480000,)\n",
            "fetaure shape: torch.Size([1, 80, 3000])\n"
          ]
        },
        {
          "output_type": "stream",
          "name": "stderr",
          "text": [
            "It is strongly recommended to pass the `sampling_rate` argument to `WhisperFeatureExtractor()`. Failing to do so can result in silent errors that might be hard to debug.\n"
          ]
        },
        {
          "output_type": "stream",
          "name": "stdout",
          "text": [
            "gen ids torch.Size([1, 77])\n",
            "start time: 720 s\n",
            "end time: 750\n",
            "(480000,)\n",
            "fetaure shape: torch.Size([1, 80, 3000])\n"
          ]
        },
        {
          "output_type": "stream",
          "name": "stderr",
          "text": [
            "It is strongly recommended to pass the `sampling_rate` argument to `WhisperFeatureExtractor()`. Failing to do so can result in silent errors that might be hard to debug.\n"
          ]
        },
        {
          "output_type": "stream",
          "name": "stdout",
          "text": [
            "gen ids torch.Size([1, 80])\n",
            "start time: 750 s\n",
            "end time: 780\n",
            "(480000,)\n",
            "fetaure shape: torch.Size([1, 80, 3000])\n"
          ]
        },
        {
          "output_type": "stream",
          "name": "stderr",
          "text": [
            "It is strongly recommended to pass the `sampling_rate` argument to `WhisperFeatureExtractor()`. Failing to do so can result in silent errors that might be hard to debug.\n"
          ]
        },
        {
          "output_type": "stream",
          "name": "stdout",
          "text": [
            "gen ids torch.Size([1, 79])\n",
            "start time: 780 s\n",
            "end time: 810\n",
            "(480000,)\n",
            "fetaure shape: torch.Size([1, 80, 3000])\n"
          ]
        },
        {
          "output_type": "stream",
          "name": "stderr",
          "text": [
            "It is strongly recommended to pass the `sampling_rate` argument to `WhisperFeatureExtractor()`. Failing to do so can result in silent errors that might be hard to debug.\n"
          ]
        },
        {
          "output_type": "stream",
          "name": "stdout",
          "text": [
            "gen ids torch.Size([1, 68])\n",
            "start time: 810 s\n",
            "end time: 840\n",
            "(480000,)\n",
            "fetaure shape: torch.Size([1, 80, 3000])\n"
          ]
        },
        {
          "output_type": "stream",
          "name": "stderr",
          "text": [
            "It is strongly recommended to pass the `sampling_rate` argument to `WhisperFeatureExtractor()`. Failing to do so can result in silent errors that might be hard to debug.\n"
          ]
        },
        {
          "output_type": "stream",
          "name": "stdout",
          "text": [
            "gen ids torch.Size([1, 77])\n",
            "start time: 840 s\n",
            "end time: 870\n",
            "(480000,)\n",
            "fetaure shape: torch.Size([1, 80, 3000])\n"
          ]
        },
        {
          "output_type": "stream",
          "name": "stderr",
          "text": [
            "It is strongly recommended to pass the `sampling_rate` argument to `WhisperFeatureExtractor()`. Failing to do so can result in silent errors that might be hard to debug.\n"
          ]
        },
        {
          "output_type": "stream",
          "name": "stdout",
          "text": [
            "gen ids torch.Size([1, 80])\n",
            "start time: 870 s\n",
            "end time: 900\n",
            "(480000,)\n",
            "fetaure shape: torch.Size([1, 80, 3000])\n"
          ]
        },
        {
          "output_type": "stream",
          "name": "stderr",
          "text": [
            "It is strongly recommended to pass the `sampling_rate` argument to `WhisperFeatureExtractor()`. Failing to do so can result in silent errors that might be hard to debug.\n"
          ]
        },
        {
          "output_type": "stream",
          "name": "stdout",
          "text": [
            "gen ids torch.Size([1, 86])\n",
            "start time: 900 s\n",
            "end time: 930\n",
            "(480000,)\n",
            "fetaure shape: torch.Size([1, 80, 3000])\n"
          ]
        },
        {
          "output_type": "stream",
          "name": "stderr",
          "text": [
            "It is strongly recommended to pass the `sampling_rate` argument to `WhisperFeatureExtractor()`. Failing to do so can result in silent errors that might be hard to debug.\n"
          ]
        },
        {
          "output_type": "stream",
          "name": "stdout",
          "text": [
            "gen ids torch.Size([1, 79])\n",
            "start time: 930 s\n",
            "end time: 960\n",
            "(480000,)\n",
            "fetaure shape: torch.Size([1, 80, 3000])\n"
          ]
        },
        {
          "output_type": "stream",
          "name": "stderr",
          "text": [
            "It is strongly recommended to pass the `sampling_rate` argument to `WhisperFeatureExtractor()`. Failing to do so can result in silent errors that might be hard to debug.\n"
          ]
        },
        {
          "output_type": "stream",
          "name": "stdout",
          "text": [
            "gen ids torch.Size([1, 72])\n",
            "start time: 960 s\n",
            "end time: 990\n",
            "(480000,)\n",
            "fetaure shape: torch.Size([1, 80, 3000])\n"
          ]
        },
        {
          "output_type": "stream",
          "name": "stderr",
          "text": [
            "It is strongly recommended to pass the `sampling_rate` argument to `WhisperFeatureExtractor()`. Failing to do so can result in silent errors that might be hard to debug.\n"
          ]
        },
        {
          "output_type": "stream",
          "name": "stdout",
          "text": [
            "gen ids torch.Size([1, 90])\n",
            "start time: 990 s\n",
            "end time: 1020\n",
            "(480000,)\n",
            "fetaure shape: torch.Size([1, 80, 3000])\n"
          ]
        },
        {
          "output_type": "stream",
          "name": "stderr",
          "text": [
            "It is strongly recommended to pass the `sampling_rate` argument to `WhisperFeatureExtractor()`. Failing to do so can result in silent errors that might be hard to debug.\n"
          ]
        },
        {
          "output_type": "stream",
          "name": "stdout",
          "text": [
            "gen ids torch.Size([1, 76])\n",
            "start time: 1020 s\n",
            "end time: 1050\n",
            "(480000,)\n",
            "fetaure shape: torch.Size([1, 80, 3000])\n"
          ]
        },
        {
          "output_type": "stream",
          "name": "stderr",
          "text": [
            "It is strongly recommended to pass the `sampling_rate` argument to `WhisperFeatureExtractor()`. Failing to do so can result in silent errors that might be hard to debug.\n"
          ]
        },
        {
          "output_type": "stream",
          "name": "stdout",
          "text": [
            "gen ids torch.Size([1, 77])\n",
            "start time: 1050 s\n",
            "end time: 1080\n",
            "(480000,)\n",
            "fetaure shape: torch.Size([1, 80, 3000])\n"
          ]
        },
        {
          "output_type": "stream",
          "name": "stderr",
          "text": [
            "It is strongly recommended to pass the `sampling_rate` argument to `WhisperFeatureExtractor()`. Failing to do so can result in silent errors that might be hard to debug.\n"
          ]
        },
        {
          "output_type": "stream",
          "name": "stdout",
          "text": [
            "gen ids torch.Size([1, 75])\n",
            "start time: 1080 s\n",
            "end time: 1110\n",
            "(480000,)\n",
            "fetaure shape: torch.Size([1, 80, 3000])\n"
          ]
        },
        {
          "output_type": "stream",
          "name": "stderr",
          "text": [
            "It is strongly recommended to pass the `sampling_rate` argument to `WhisperFeatureExtractor()`. Failing to do so can result in silent errors that might be hard to debug.\n"
          ]
        },
        {
          "output_type": "stream",
          "name": "stdout",
          "text": [
            "gen ids torch.Size([1, 79])\n",
            "start time: 1110 s\n",
            "end time: 1140\n",
            "(480000,)\n",
            "fetaure shape: torch.Size([1, 80, 3000])\n"
          ]
        },
        {
          "output_type": "stream",
          "name": "stderr",
          "text": [
            "It is strongly recommended to pass the `sampling_rate` argument to `WhisperFeatureExtractor()`. Failing to do so can result in silent errors that might be hard to debug.\n"
          ]
        },
        {
          "output_type": "stream",
          "name": "stdout",
          "text": [
            "gen ids torch.Size([1, 75])\n",
            "start time: 1140 s\n",
            "end time: 1170\n",
            "(480000,)\n",
            "fetaure shape: torch.Size([1, 80, 3000])\n"
          ]
        },
        {
          "output_type": "stream",
          "name": "stderr",
          "text": [
            "It is strongly recommended to pass the `sampling_rate` argument to `WhisperFeatureExtractor()`. Failing to do so can result in silent errors that might be hard to debug.\n"
          ]
        },
        {
          "output_type": "stream",
          "name": "stdout",
          "text": [
            "gen ids torch.Size([1, 71])\n",
            "start time: 1170 s\n",
            "end time: 1200\n",
            "(480000,)\n",
            "fetaure shape: torch.Size([1, 80, 3000])\n"
          ]
        },
        {
          "output_type": "stream",
          "name": "stderr",
          "text": [
            "It is strongly recommended to pass the `sampling_rate` argument to `WhisperFeatureExtractor()`. Failing to do so can result in silent errors that might be hard to debug.\n"
          ]
        },
        {
          "output_type": "stream",
          "name": "stdout",
          "text": [
            "gen ids torch.Size([1, 81])\n",
            "start time: 1200 s\n",
            "end time: 1230\n",
            "(480000,)\n",
            "fetaure shape: torch.Size([1, 80, 3000])\n"
          ]
        },
        {
          "output_type": "stream",
          "name": "stderr",
          "text": [
            "It is strongly recommended to pass the `sampling_rate` argument to `WhisperFeatureExtractor()`. Failing to do so can result in silent errors that might be hard to debug.\n"
          ]
        },
        {
          "output_type": "stream",
          "name": "stdout",
          "text": [
            "gen ids torch.Size([1, 74])\n",
            "start time: 1230 s\n",
            "end time: 1260\n",
            "(480000,)\n",
            "fetaure shape: torch.Size([1, 80, 3000])\n"
          ]
        },
        {
          "output_type": "stream",
          "name": "stderr",
          "text": [
            "It is strongly recommended to pass the `sampling_rate` argument to `WhisperFeatureExtractor()`. Failing to do so can result in silent errors that might be hard to debug.\n"
          ]
        },
        {
          "output_type": "stream",
          "name": "stdout",
          "text": [
            "gen ids torch.Size([1, 74])\n",
            "start time: 1260 s\n",
            "end time: 1290\n",
            "(480000,)\n",
            "fetaure shape: torch.Size([1, 80, 3000])\n"
          ]
        },
        {
          "output_type": "stream",
          "name": "stderr",
          "text": [
            "It is strongly recommended to pass the `sampling_rate` argument to `WhisperFeatureExtractor()`. Failing to do so can result in silent errors that might be hard to debug.\n"
          ]
        },
        {
          "output_type": "stream",
          "name": "stdout",
          "text": [
            "gen ids torch.Size([1, 84])\n",
            "start time: 1290 s\n",
            "end time: 1320\n",
            "(480000,)\n",
            "fetaure shape: torch.Size([1, 80, 3000])\n"
          ]
        },
        {
          "output_type": "stream",
          "name": "stderr",
          "text": [
            "It is strongly recommended to pass the `sampling_rate` argument to `WhisperFeatureExtractor()`. Failing to do so can result in silent errors that might be hard to debug.\n"
          ]
        },
        {
          "output_type": "stream",
          "name": "stdout",
          "text": [
            "gen ids torch.Size([1, 80])\n",
            "start time: 1320 s\n",
            "end time: 1350\n",
            "(480000,)\n",
            "fetaure shape: torch.Size([1, 80, 3000])\n"
          ]
        },
        {
          "output_type": "stream",
          "name": "stderr",
          "text": [
            "It is strongly recommended to pass the `sampling_rate` argument to `WhisperFeatureExtractor()`. Failing to do so can result in silent errors that might be hard to debug.\n"
          ]
        },
        {
          "output_type": "stream",
          "name": "stdout",
          "text": [
            "gen ids torch.Size([1, 74])\n",
            "start time: 1350 s\n",
            "end time: 1361.21175\n",
            "(179388,)\n",
            "fetaure shape: torch.Size([1, 80, 3000])\n",
            "gen ids torch.Size([1, 28])\n"
          ]
        }
      ]
    },
    {
      "cell_type": "code",
      "source": [
        "import json\n",
        "import os\n",
        "audio_folder= \"/content/audio\"\n",
        "audio_dict={}\n",
        "for audio_path in os.listdir(audio_folder):\n",
        "  if not audio_path.endswith(\".wav\") or (os.path.splitext(audio_path)[0] in audio_dict.keys()):\n",
        "    continue\n",
        "  print(audio_path)\n",
        "  pred=get_transcript(os.path.join(audio_folder,audio_path))\n",
        "  audio_dict[os.path.splitext(audio_path)[0]]=pred\n",
        "  print(os.path.splitext(audio_path)[0].replace(\" \",\"\"))\n",
        "with open(\"trans_playlist.json\",\"w\") as f:\n",
        "  json.dump(audio_dict,f)\n",
        "\n",
        ""
      ],
      "metadata": {
        "colab": {
          "base_uri": "https://localhost:8080/"
        },
        "id": "qxSICYoM8bsV",
        "outputId": "ee6e425c-79f5-4467-8a82-ba588aafffc9"
      },
      "execution_count": 23,
      "outputs": [
        {
          "output_type": "stream",
          "name": "stdout",
          "text": [
            "Out-of-Sample Validation (DL 06).wav\n"
          ]
        },
        {
          "output_type": "stream",
          "name": "stderr",
          "text": [
            "/usr/local/lib/python3.12/dist-packages/torchaudio/_backend/utils.py:213: UserWarning: In 2.9, this function's implementation will be changed to use torchaudio.load_with_torchcodec` under the hood. Some parameters like ``normalize``, ``format``, ``buffer_size``, and ``backend`` will be ignored. We recommend that you port your code to rely directly on TorchCodec's decoder instead: https://docs.pytorch.org/torchcodec/stable/generated/torchcodec.decoders.AudioDecoder.html#torchcodec.decoders.AudioDecoder.\n",
            "  warnings.warn(\n",
            "/usr/local/lib/python3.12/dist-packages/torchaudio/_backend/ffmpeg.py:88: UserWarning: torio.io._streaming_media_decoder.StreamingMediaDecoder has been deprecated. This deprecation is part of a large refactoring effort to transition TorchAudio into a maintenance phase. The decoding and encoding capabilities of PyTorch for both audio and video are being consolidated into TorchCodec. Please see https://github.com/pytorch/audio/issues/3902 for more information. It will be removed from the 2.9 release. \n",
            "  s = torchaudio.io.StreamReader(src, format, None, buffer_size)\n",
            "It is strongly recommended to pass the `sampling_rate` argument to `WhisperFeatureExtractor()`. Failing to do so can result in silent errors that might be hard to debug.\n"
          ]
        },
        {
          "output_type": "stream",
          "name": "stdout",
          "text": [
            "start time: 0 s\n",
            "end time: 30\n",
            "(480000,)\n",
            "fetaure shape: torch.Size([1, 80, 3000])\n"
          ]
        },
        {
          "output_type": "stream",
          "name": "stderr",
          "text": [
            "/usr/local/lib/python3.12/dist-packages/transformers/models/whisper/generation_whisper.py:655: FutureWarning: The input name `inputs` is deprecated. Please make sure to use `input_features` instead.\n",
            "  warnings.warn(\n",
            "It is strongly recommended to pass the `sampling_rate` argument to `WhisperFeatureExtractor()`. Failing to do so can result in silent errors that might be hard to debug.\n"
          ]
        },
        {
          "output_type": "stream",
          "name": "stdout",
          "text": [
            "gen ids torch.Size([1, 86])\n",
            "start time: 30 s\n",
            "end time: 60\n",
            "(480000,)\n",
            "fetaure shape: torch.Size([1, 80, 3000])\n"
          ]
        },
        {
          "output_type": "stream",
          "name": "stderr",
          "text": [
            "It is strongly recommended to pass the `sampling_rate` argument to `WhisperFeatureExtractor()`. Failing to do so can result in silent errors that might be hard to debug.\n"
          ]
        },
        {
          "output_type": "stream",
          "name": "stdout",
          "text": [
            "gen ids torch.Size([1, 68])\n",
            "start time: 60 s\n",
            "end time: 90\n",
            "(480000,)\n",
            "fetaure shape: torch.Size([1, 80, 3000])\n"
          ]
        },
        {
          "output_type": "stream",
          "name": "stderr",
          "text": [
            "It is strongly recommended to pass the `sampling_rate` argument to `WhisperFeatureExtractor()`. Failing to do so can result in silent errors that might be hard to debug.\n"
          ]
        },
        {
          "output_type": "stream",
          "name": "stdout",
          "text": [
            "gen ids torch.Size([1, 74])\n",
            "start time: 90 s\n",
            "end time: 120\n",
            "(480000,)\n",
            "fetaure shape: torch.Size([1, 80, 3000])\n"
          ]
        },
        {
          "output_type": "stream",
          "name": "stderr",
          "text": [
            "It is strongly recommended to pass the `sampling_rate` argument to `WhisperFeatureExtractor()`. Failing to do so can result in silent errors that might be hard to debug.\n"
          ]
        },
        {
          "output_type": "stream",
          "name": "stdout",
          "text": [
            "gen ids torch.Size([1, 72])\n",
            "start time: 120 s\n",
            "end time: 150\n",
            "(480000,)\n",
            "fetaure shape: torch.Size([1, 80, 3000])\n"
          ]
        },
        {
          "output_type": "stream",
          "name": "stderr",
          "text": [
            "It is strongly recommended to pass the `sampling_rate` argument to `WhisperFeatureExtractor()`. Failing to do so can result in silent errors that might be hard to debug.\n"
          ]
        },
        {
          "output_type": "stream",
          "name": "stdout",
          "text": [
            "gen ids torch.Size([1, 70])\n",
            "start time: 150 s\n",
            "end time: 180\n",
            "(480000,)\n",
            "fetaure shape: torch.Size([1, 80, 3000])\n"
          ]
        },
        {
          "output_type": "stream",
          "name": "stderr",
          "text": [
            "It is strongly recommended to pass the `sampling_rate` argument to `WhisperFeatureExtractor()`. Failing to do so can result in silent errors that might be hard to debug.\n"
          ]
        },
        {
          "output_type": "stream",
          "name": "stdout",
          "text": [
            "gen ids torch.Size([1, 80])\n",
            "start time: 180 s\n",
            "end time: 210\n",
            "(480000,)\n",
            "fetaure shape: torch.Size([1, 80, 3000])\n"
          ]
        },
        {
          "output_type": "stream",
          "name": "stderr",
          "text": [
            "It is strongly recommended to pass the `sampling_rate` argument to `WhisperFeatureExtractor()`. Failing to do so can result in silent errors that might be hard to debug.\n"
          ]
        },
        {
          "output_type": "stream",
          "name": "stdout",
          "text": [
            "gen ids torch.Size([1, 92])\n",
            "start time: 210 s\n",
            "end time: 240\n",
            "(480000,)\n",
            "fetaure shape: torch.Size([1, 80, 3000])\n"
          ]
        },
        {
          "output_type": "stream",
          "name": "stderr",
          "text": [
            "It is strongly recommended to pass the `sampling_rate` argument to `WhisperFeatureExtractor()`. Failing to do so can result in silent errors that might be hard to debug.\n"
          ]
        },
        {
          "output_type": "stream",
          "name": "stdout",
          "text": [
            "gen ids torch.Size([1, 87])\n",
            "start time: 240 s\n",
            "end time: 270\n",
            "(480000,)\n",
            "fetaure shape: torch.Size([1, 80, 3000])\n"
          ]
        },
        {
          "output_type": "stream",
          "name": "stderr",
          "text": [
            "It is strongly recommended to pass the `sampling_rate` argument to `WhisperFeatureExtractor()`. Failing to do so can result in silent errors that might be hard to debug.\n"
          ]
        },
        {
          "output_type": "stream",
          "name": "stdout",
          "text": [
            "gen ids torch.Size([1, 85])\n",
            "start time: 270 s\n",
            "end time: 300\n",
            "(480000,)\n",
            "fetaure shape: torch.Size([1, 80, 3000])\n"
          ]
        },
        {
          "output_type": "stream",
          "name": "stderr",
          "text": [
            "It is strongly recommended to pass the `sampling_rate` argument to `WhisperFeatureExtractor()`. Failing to do so can result in silent errors that might be hard to debug.\n"
          ]
        },
        {
          "output_type": "stream",
          "name": "stdout",
          "text": [
            "gen ids torch.Size([1, 97])\n",
            "start time: 300 s\n",
            "end time: 330\n",
            "(480000,)\n",
            "fetaure shape: torch.Size([1, 80, 3000])\n"
          ]
        },
        {
          "output_type": "stream",
          "name": "stderr",
          "text": [
            "It is strongly recommended to pass the `sampling_rate` argument to `WhisperFeatureExtractor()`. Failing to do so can result in silent errors that might be hard to debug.\n"
          ]
        },
        {
          "output_type": "stream",
          "name": "stdout",
          "text": [
            "gen ids torch.Size([1, 83])\n",
            "start time: 330 s\n",
            "end time: 360\n",
            "(480000,)\n",
            "fetaure shape: torch.Size([1, 80, 3000])\n"
          ]
        },
        {
          "output_type": "stream",
          "name": "stderr",
          "text": [
            "It is strongly recommended to pass the `sampling_rate` argument to `WhisperFeatureExtractor()`. Failing to do so can result in silent errors that might be hard to debug.\n"
          ]
        },
        {
          "output_type": "stream",
          "name": "stdout",
          "text": [
            "gen ids torch.Size([1, 76])\n",
            "start time: 360 s\n",
            "end time: 390\n",
            "(480000,)\n",
            "fetaure shape: torch.Size([1, 80, 3000])\n"
          ]
        },
        {
          "output_type": "stream",
          "name": "stderr",
          "text": [
            "It is strongly recommended to pass the `sampling_rate` argument to `WhisperFeatureExtractor()`. Failing to do so can result in silent errors that might be hard to debug.\n"
          ]
        },
        {
          "output_type": "stream",
          "name": "stdout",
          "text": [
            "gen ids torch.Size([1, 77])\n",
            "start time: 390 s\n",
            "end time: 420\n",
            "(480000,)\n",
            "fetaure shape: torch.Size([1, 80, 3000])\n"
          ]
        },
        {
          "output_type": "stream",
          "name": "stderr",
          "text": [
            "It is strongly recommended to pass the `sampling_rate` argument to `WhisperFeatureExtractor()`. Failing to do so can result in silent errors that might be hard to debug.\n"
          ]
        },
        {
          "output_type": "stream",
          "name": "stdout",
          "text": [
            "gen ids torch.Size([1, 86])\n",
            "start time: 420 s\n",
            "end time: 450\n",
            "(480000,)\n",
            "fetaure shape: torch.Size([1, 80, 3000])\n"
          ]
        },
        {
          "output_type": "stream",
          "name": "stderr",
          "text": [
            "It is strongly recommended to pass the `sampling_rate` argument to `WhisperFeatureExtractor()`. Failing to do so can result in silent errors that might be hard to debug.\n"
          ]
        },
        {
          "output_type": "stream",
          "name": "stdout",
          "text": [
            "gen ids torch.Size([1, 79])\n",
            "start time: 450 s\n",
            "end time: 480\n",
            "(480000,)\n",
            "fetaure shape: torch.Size([1, 80, 3000])\n"
          ]
        },
        {
          "output_type": "stream",
          "name": "stderr",
          "text": [
            "It is strongly recommended to pass the `sampling_rate` argument to `WhisperFeatureExtractor()`. Failing to do so can result in silent errors that might be hard to debug.\n"
          ]
        },
        {
          "output_type": "stream",
          "name": "stdout",
          "text": [
            "gen ids torch.Size([1, 87])\n",
            "start time: 480 s\n",
            "end time: 510\n",
            "(480000,)\n",
            "fetaure shape: torch.Size([1, 80, 3000])\n"
          ]
        },
        {
          "output_type": "stream",
          "name": "stderr",
          "text": [
            "It is strongly recommended to pass the `sampling_rate` argument to `WhisperFeatureExtractor()`. Failing to do so can result in silent errors that might be hard to debug.\n"
          ]
        },
        {
          "output_type": "stream",
          "name": "stdout",
          "text": [
            "gen ids torch.Size([1, 81])\n",
            "start time: 510 s\n",
            "end time: 540\n",
            "(480000,)\n",
            "fetaure shape: torch.Size([1, 80, 3000])\n"
          ]
        },
        {
          "output_type": "stream",
          "name": "stderr",
          "text": [
            "It is strongly recommended to pass the `sampling_rate` argument to `WhisperFeatureExtractor()`. Failing to do so can result in silent errors that might be hard to debug.\n"
          ]
        },
        {
          "output_type": "stream",
          "name": "stdout",
          "text": [
            "gen ids torch.Size([1, 85])\n",
            "start time: 540 s\n",
            "end time: 570\n",
            "(480000,)\n",
            "fetaure shape: torch.Size([1, 80, 3000])\n"
          ]
        },
        {
          "output_type": "stream",
          "name": "stderr",
          "text": [
            "It is strongly recommended to pass the `sampling_rate` argument to `WhisperFeatureExtractor()`. Failing to do so can result in silent errors that might be hard to debug.\n"
          ]
        },
        {
          "output_type": "stream",
          "name": "stdout",
          "text": [
            "gen ids torch.Size([1, 74])\n",
            "start time: 570 s\n",
            "end time: 600\n",
            "(480000,)\n",
            "fetaure shape: torch.Size([1, 80, 3000])\n"
          ]
        },
        {
          "output_type": "stream",
          "name": "stderr",
          "text": [
            "It is strongly recommended to pass the `sampling_rate` argument to `WhisperFeatureExtractor()`. Failing to do so can result in silent errors that might be hard to debug.\n"
          ]
        },
        {
          "output_type": "stream",
          "name": "stdout",
          "text": [
            "gen ids torch.Size([1, 82])\n",
            "start time: 600 s\n",
            "end time: 630\n",
            "(480000,)\n",
            "fetaure shape: torch.Size([1, 80, 3000])\n"
          ]
        },
        {
          "output_type": "stream",
          "name": "stderr",
          "text": [
            "It is strongly recommended to pass the `sampling_rate` argument to `WhisperFeatureExtractor()`. Failing to do so can result in silent errors that might be hard to debug.\n"
          ]
        },
        {
          "output_type": "stream",
          "name": "stdout",
          "text": [
            "gen ids torch.Size([1, 78])\n",
            "start time: 630 s\n",
            "end time: 660\n",
            "(480000,)\n",
            "fetaure shape: torch.Size([1, 80, 3000])\n"
          ]
        },
        {
          "output_type": "stream",
          "name": "stderr",
          "text": [
            "It is strongly recommended to pass the `sampling_rate` argument to `WhisperFeatureExtractor()`. Failing to do so can result in silent errors that might be hard to debug.\n"
          ]
        },
        {
          "output_type": "stream",
          "name": "stdout",
          "text": [
            "gen ids torch.Size([1, 90])\n",
            "start time: 660 s\n",
            "end time: 690\n",
            "(480000,)\n",
            "fetaure shape: torch.Size([1, 80, 3000])\n"
          ]
        },
        {
          "output_type": "stream",
          "name": "stderr",
          "text": [
            "It is strongly recommended to pass the `sampling_rate` argument to `WhisperFeatureExtractor()`. Failing to do so can result in silent errors that might be hard to debug.\n"
          ]
        },
        {
          "output_type": "stream",
          "name": "stdout",
          "text": [
            "gen ids torch.Size([1, 96])\n",
            "start time: 690 s\n",
            "end time: 720\n",
            "(480000,)\n",
            "fetaure shape: torch.Size([1, 80, 3000])\n"
          ]
        },
        {
          "output_type": "stream",
          "name": "stderr",
          "text": [
            "It is strongly recommended to pass the `sampling_rate` argument to `WhisperFeatureExtractor()`. Failing to do so can result in silent errors that might be hard to debug.\n"
          ]
        },
        {
          "output_type": "stream",
          "name": "stdout",
          "text": [
            "gen ids torch.Size([1, 85])\n",
            "start time: 720 s\n",
            "end time: 750\n",
            "(480000,)\n",
            "fetaure shape: torch.Size([1, 80, 3000])\n"
          ]
        },
        {
          "output_type": "stream",
          "name": "stderr",
          "text": [
            "It is strongly recommended to pass the `sampling_rate` argument to `WhisperFeatureExtractor()`. Failing to do so can result in silent errors that might be hard to debug.\n"
          ]
        },
        {
          "output_type": "stream",
          "name": "stdout",
          "text": [
            "gen ids torch.Size([1, 79])\n",
            "start time: 750 s\n",
            "end time: 780\n",
            "(480000,)\n",
            "fetaure shape: torch.Size([1, 80, 3000])\n"
          ]
        },
        {
          "output_type": "stream",
          "name": "stderr",
          "text": [
            "It is strongly recommended to pass the `sampling_rate` argument to `WhisperFeatureExtractor()`. Failing to do so can result in silent errors that might be hard to debug.\n"
          ]
        },
        {
          "output_type": "stream",
          "name": "stdout",
          "text": [
            "gen ids torch.Size([1, 75])\n",
            "start time: 780 s\n",
            "end time: 810\n",
            "(480000,)\n",
            "fetaure shape: torch.Size([1, 80, 3000])\n"
          ]
        },
        {
          "output_type": "stream",
          "name": "stderr",
          "text": [
            "It is strongly recommended to pass the `sampling_rate` argument to `WhisperFeatureExtractor()`. Failing to do so can result in silent errors that might be hard to debug.\n"
          ]
        },
        {
          "output_type": "stream",
          "name": "stdout",
          "text": [
            "gen ids torch.Size([1, 89])\n",
            "start time: 810 s\n",
            "end time: 840\n",
            "(480000,)\n",
            "fetaure shape: torch.Size([1, 80, 3000])\n"
          ]
        },
        {
          "output_type": "stream",
          "name": "stderr",
          "text": [
            "It is strongly recommended to pass the `sampling_rate` argument to `WhisperFeatureExtractor()`. Failing to do so can result in silent errors that might be hard to debug.\n"
          ]
        },
        {
          "output_type": "stream",
          "name": "stdout",
          "text": [
            "gen ids torch.Size([1, 75])\n",
            "start time: 840 s\n",
            "end time: 870\n",
            "(480000,)\n",
            "fetaure shape: torch.Size([1, 80, 3000])\n"
          ]
        },
        {
          "output_type": "stream",
          "name": "stderr",
          "text": [
            "It is strongly recommended to pass the `sampling_rate` argument to `WhisperFeatureExtractor()`. Failing to do so can result in silent errors that might be hard to debug.\n"
          ]
        },
        {
          "output_type": "stream",
          "name": "stdout",
          "text": [
            "gen ids torch.Size([1, 77])\n",
            "start time: 870 s\n",
            "end time: 895.326625\n",
            "(405226,)\n",
            "fetaure shape: torch.Size([1, 80, 3000])\n",
            "gen ids torch.Size([1, 64])\n",
            "Out-of-SampleValidation(DL06)\n",
            "Neural Network Backpropagation (DL 08).wav\n"
          ]
        },
        {
          "output_type": "stream",
          "name": "stderr",
          "text": [
            "It is strongly recommended to pass the `sampling_rate` argument to `WhisperFeatureExtractor()`. Failing to do so can result in silent errors that might be hard to debug.\n"
          ]
        },
        {
          "output_type": "stream",
          "name": "stdout",
          "text": [
            "start time: 0 s\n",
            "end time: 30\n",
            "(480000,)\n",
            "fetaure shape: torch.Size([1, 80, 3000])\n"
          ]
        },
        {
          "output_type": "stream",
          "name": "stderr",
          "text": [
            "It is strongly recommended to pass the `sampling_rate` argument to `WhisperFeatureExtractor()`. Failing to do so can result in silent errors that might be hard to debug.\n"
          ]
        },
        {
          "output_type": "stream",
          "name": "stdout",
          "text": [
            "gen ids torch.Size([1, 77])\n",
            "start time: 30 s\n",
            "end time: 60\n",
            "(480000,)\n",
            "fetaure shape: torch.Size([1, 80, 3000])\n"
          ]
        },
        {
          "output_type": "stream",
          "name": "stderr",
          "text": [
            "It is strongly recommended to pass the `sampling_rate` argument to `WhisperFeatureExtractor()`. Failing to do so can result in silent errors that might be hard to debug.\n"
          ]
        },
        {
          "output_type": "stream",
          "name": "stdout",
          "text": [
            "gen ids torch.Size([1, 80])\n",
            "start time: 60 s\n",
            "end time: 90\n",
            "(480000,)\n",
            "fetaure shape: torch.Size([1, 80, 3000])\n"
          ]
        },
        {
          "output_type": "stream",
          "name": "stderr",
          "text": [
            "It is strongly recommended to pass the `sampling_rate` argument to `WhisperFeatureExtractor()`. Failing to do so can result in silent errors that might be hard to debug.\n"
          ]
        },
        {
          "output_type": "stream",
          "name": "stdout",
          "text": [
            "gen ids torch.Size([1, 70])\n",
            "start time: 90 s\n",
            "end time: 120\n",
            "(480000,)\n",
            "fetaure shape: torch.Size([1, 80, 3000])\n"
          ]
        },
        {
          "output_type": "stream",
          "name": "stderr",
          "text": [
            "It is strongly recommended to pass the `sampling_rate` argument to `WhisperFeatureExtractor()`. Failing to do so can result in silent errors that might be hard to debug.\n"
          ]
        },
        {
          "output_type": "stream",
          "name": "stdout",
          "text": [
            "gen ids torch.Size([1, 68])\n",
            "start time: 120 s\n",
            "end time: 150\n",
            "(480000,)\n",
            "fetaure shape: torch.Size([1, 80, 3000])\n"
          ]
        },
        {
          "output_type": "stream",
          "name": "stderr",
          "text": [
            "It is strongly recommended to pass the `sampling_rate` argument to `WhisperFeatureExtractor()`. Failing to do so can result in silent errors that might be hard to debug.\n"
          ]
        },
        {
          "output_type": "stream",
          "name": "stdout",
          "text": [
            "gen ids torch.Size([1, 60])\n",
            "start time: 150 s\n",
            "end time: 180\n",
            "(480000,)\n",
            "fetaure shape: torch.Size([1, 80, 3000])\n"
          ]
        },
        {
          "output_type": "stream",
          "name": "stderr",
          "text": [
            "It is strongly recommended to pass the `sampling_rate` argument to `WhisperFeatureExtractor()`. Failing to do so can result in silent errors that might be hard to debug.\n"
          ]
        },
        {
          "output_type": "stream",
          "name": "stdout",
          "text": [
            "gen ids torch.Size([1, 77])\n",
            "start time: 180 s\n",
            "end time: 210\n",
            "(480000,)\n",
            "fetaure shape: torch.Size([1, 80, 3000])\n"
          ]
        },
        {
          "output_type": "stream",
          "name": "stderr",
          "text": [
            "It is strongly recommended to pass the `sampling_rate` argument to `WhisperFeatureExtractor()`. Failing to do so can result in silent errors that might be hard to debug.\n"
          ]
        },
        {
          "output_type": "stream",
          "name": "stdout",
          "text": [
            "gen ids torch.Size([1, 58])\n",
            "start time: 210 s\n",
            "end time: 240\n",
            "(480000,)\n",
            "fetaure shape: torch.Size([1, 80, 3000])\n"
          ]
        },
        {
          "output_type": "stream",
          "name": "stderr",
          "text": [
            "It is strongly recommended to pass the `sampling_rate` argument to `WhisperFeatureExtractor()`. Failing to do so can result in silent errors that might be hard to debug.\n"
          ]
        },
        {
          "output_type": "stream",
          "name": "stdout",
          "text": [
            "gen ids torch.Size([1, 68])\n",
            "start time: 240 s\n",
            "end time: 270\n",
            "(480000,)\n",
            "fetaure shape: torch.Size([1, 80, 3000])\n"
          ]
        },
        {
          "output_type": "stream",
          "name": "stderr",
          "text": [
            "It is strongly recommended to pass the `sampling_rate` argument to `WhisperFeatureExtractor()`. Failing to do so can result in silent errors that might be hard to debug.\n"
          ]
        },
        {
          "output_type": "stream",
          "name": "stdout",
          "text": [
            "gen ids torch.Size([1, 48])\n",
            "start time: 270 s\n",
            "end time: 300\n",
            "(480000,)\n",
            "fetaure shape: torch.Size([1, 80, 3000])\n"
          ]
        },
        {
          "output_type": "stream",
          "name": "stderr",
          "text": [
            "It is strongly recommended to pass the `sampling_rate` argument to `WhisperFeatureExtractor()`. Failing to do so can result in silent errors that might be hard to debug.\n"
          ]
        },
        {
          "output_type": "stream",
          "name": "stdout",
          "text": [
            "gen ids torch.Size([1, 67])\n",
            "start time: 300 s\n",
            "end time: 330\n",
            "(480000,)\n",
            "fetaure shape: torch.Size([1, 80, 3000])\n"
          ]
        },
        {
          "output_type": "stream",
          "name": "stderr",
          "text": [
            "It is strongly recommended to pass the `sampling_rate` argument to `WhisperFeatureExtractor()`. Failing to do so can result in silent errors that might be hard to debug.\n"
          ]
        },
        {
          "output_type": "stream",
          "name": "stdout",
          "text": [
            "gen ids torch.Size([1, 70])\n",
            "start time: 330 s\n",
            "end time: 360\n",
            "(480000,)\n",
            "fetaure shape: torch.Size([1, 80, 3000])\n"
          ]
        },
        {
          "output_type": "stream",
          "name": "stderr",
          "text": [
            "It is strongly recommended to pass the `sampling_rate` argument to `WhisperFeatureExtractor()`. Failing to do so can result in silent errors that might be hard to debug.\n"
          ]
        },
        {
          "output_type": "stream",
          "name": "stdout",
          "text": [
            "gen ids torch.Size([1, 57])\n",
            "start time: 360 s\n",
            "end time: 390\n",
            "(480000,)\n",
            "fetaure shape: torch.Size([1, 80, 3000])\n"
          ]
        },
        {
          "output_type": "stream",
          "name": "stderr",
          "text": [
            "It is strongly recommended to pass the `sampling_rate` argument to `WhisperFeatureExtractor()`. Failing to do so can result in silent errors that might be hard to debug.\n"
          ]
        },
        {
          "output_type": "stream",
          "name": "stdout",
          "text": [
            "gen ids torch.Size([1, 61])\n",
            "start time: 390 s\n",
            "end time: 420\n",
            "(480000,)\n",
            "fetaure shape: torch.Size([1, 80, 3000])\n"
          ]
        },
        {
          "output_type": "stream",
          "name": "stderr",
          "text": [
            "It is strongly recommended to pass the `sampling_rate` argument to `WhisperFeatureExtractor()`. Failing to do so can result in silent errors that might be hard to debug.\n"
          ]
        },
        {
          "output_type": "stream",
          "name": "stdout",
          "text": [
            "gen ids torch.Size([1, 52])\n",
            "start time: 420 s\n",
            "end time: 450\n",
            "(480000,)\n",
            "fetaure shape: torch.Size([1, 80, 3000])\n"
          ]
        },
        {
          "output_type": "stream",
          "name": "stderr",
          "text": [
            "It is strongly recommended to pass the `sampling_rate` argument to `WhisperFeatureExtractor()`. Failing to do so can result in silent errors that might be hard to debug.\n"
          ]
        },
        {
          "output_type": "stream",
          "name": "stdout",
          "text": [
            "gen ids torch.Size([1, 65])\n",
            "start time: 450 s\n",
            "end time: 480\n",
            "(480000,)\n",
            "fetaure shape: torch.Size([1, 80, 3000])\n"
          ]
        },
        {
          "output_type": "stream",
          "name": "stderr",
          "text": [
            "It is strongly recommended to pass the `sampling_rate` argument to `WhisperFeatureExtractor()`. Failing to do so can result in silent errors that might be hard to debug.\n"
          ]
        },
        {
          "output_type": "stream",
          "name": "stdout",
          "text": [
            "gen ids torch.Size([1, 67])\n",
            "start time: 480 s\n",
            "end time: 510\n",
            "(480000,)\n",
            "fetaure shape: torch.Size([1, 80, 3000])\n"
          ]
        },
        {
          "output_type": "stream",
          "name": "stderr",
          "text": [
            "It is strongly recommended to pass the `sampling_rate` argument to `WhisperFeatureExtractor()`. Failing to do so can result in silent errors that might be hard to debug.\n"
          ]
        },
        {
          "output_type": "stream",
          "name": "stdout",
          "text": [
            "gen ids torch.Size([1, 53])\n",
            "start time: 510 s\n",
            "end time: 540\n",
            "(480000,)\n",
            "fetaure shape: torch.Size([1, 80, 3000])\n"
          ]
        },
        {
          "output_type": "stream",
          "name": "stderr",
          "text": [
            "It is strongly recommended to pass the `sampling_rate` argument to `WhisperFeatureExtractor()`. Failing to do so can result in silent errors that might be hard to debug.\n"
          ]
        },
        {
          "output_type": "stream",
          "name": "stdout",
          "text": [
            "gen ids torch.Size([1, 65])\n",
            "start time: 540 s\n",
            "end time: 570\n",
            "(480000,)\n",
            "fetaure shape: torch.Size([1, 80, 3000])\n"
          ]
        },
        {
          "output_type": "stream",
          "name": "stderr",
          "text": [
            "It is strongly recommended to pass the `sampling_rate` argument to `WhisperFeatureExtractor()`. Failing to do so can result in silent errors that might be hard to debug.\n"
          ]
        },
        {
          "output_type": "stream",
          "name": "stdout",
          "text": [
            "gen ids torch.Size([1, 72])\n",
            "start time: 570 s\n",
            "end time: 600\n",
            "(480000,)\n",
            "fetaure shape: torch.Size([1, 80, 3000])\n"
          ]
        },
        {
          "output_type": "stream",
          "name": "stderr",
          "text": [
            "It is strongly recommended to pass the `sampling_rate` argument to `WhisperFeatureExtractor()`. Failing to do so can result in silent errors that might be hard to debug.\n"
          ]
        },
        {
          "output_type": "stream",
          "name": "stdout",
          "text": [
            "gen ids torch.Size([1, 60])\n",
            "start time: 600 s\n",
            "end time: 630\n",
            "(480000,)\n",
            "fetaure shape: torch.Size([1, 80, 3000])\n"
          ]
        },
        {
          "output_type": "stream",
          "name": "stderr",
          "text": [
            "It is strongly recommended to pass the `sampling_rate` argument to `WhisperFeatureExtractor()`. Failing to do so can result in silent errors that might be hard to debug.\n"
          ]
        },
        {
          "output_type": "stream",
          "name": "stdout",
          "text": [
            "gen ids torch.Size([1, 54])\n",
            "start time: 630 s\n",
            "end time: 660\n",
            "(480000,)\n",
            "fetaure shape: torch.Size([1, 80, 3000])\n"
          ]
        },
        {
          "output_type": "stream",
          "name": "stderr",
          "text": [
            "It is strongly recommended to pass the `sampling_rate` argument to `WhisperFeatureExtractor()`. Failing to do so can result in silent errors that might be hard to debug.\n"
          ]
        },
        {
          "output_type": "stream",
          "name": "stdout",
          "text": [
            "gen ids torch.Size([1, 53])\n",
            "start time: 660 s\n",
            "end time: 690\n",
            "(480000,)\n",
            "fetaure shape: torch.Size([1, 80, 3000])\n"
          ]
        },
        {
          "output_type": "stream",
          "name": "stderr",
          "text": [
            "It is strongly recommended to pass the `sampling_rate` argument to `WhisperFeatureExtractor()`. Failing to do so can result in silent errors that might be hard to debug.\n"
          ]
        },
        {
          "output_type": "stream",
          "name": "stdout",
          "text": [
            "gen ids torch.Size([1, 78])\n",
            "start time: 690 s\n",
            "end time: 720\n",
            "(480000,)\n",
            "fetaure shape: torch.Size([1, 80, 3000])\n"
          ]
        },
        {
          "output_type": "stream",
          "name": "stderr",
          "text": [
            "It is strongly recommended to pass the `sampling_rate` argument to `WhisperFeatureExtractor()`. Failing to do so can result in silent errors that might be hard to debug.\n"
          ]
        },
        {
          "output_type": "stream",
          "name": "stdout",
          "text": [
            "gen ids torch.Size([1, 77])\n",
            "start time: 720 s\n",
            "end time: 750\n",
            "(480000,)\n",
            "fetaure shape: torch.Size([1, 80, 3000])\n"
          ]
        },
        {
          "output_type": "stream",
          "name": "stderr",
          "text": [
            "It is strongly recommended to pass the `sampling_rate` argument to `WhisperFeatureExtractor()`. Failing to do so can result in silent errors that might be hard to debug.\n"
          ]
        },
        {
          "output_type": "stream",
          "name": "stdout",
          "text": [
            "gen ids torch.Size([1, 82])\n",
            "start time: 750 s\n",
            "end time: 780\n",
            "(480000,)\n",
            "fetaure shape: torch.Size([1, 80, 3000])\n"
          ]
        },
        {
          "output_type": "stream",
          "name": "stderr",
          "text": [
            "It is strongly recommended to pass the `sampling_rate` argument to `WhisperFeatureExtractor()`. Failing to do so can result in silent errors that might be hard to debug.\n"
          ]
        },
        {
          "output_type": "stream",
          "name": "stdout",
          "text": [
            "gen ids torch.Size([1, 75])\n",
            "start time: 780 s\n",
            "end time: 810\n",
            "(480000,)\n",
            "fetaure shape: torch.Size([1, 80, 3000])\n"
          ]
        },
        {
          "output_type": "stream",
          "name": "stderr",
          "text": [
            "It is strongly recommended to pass the `sampling_rate` argument to `WhisperFeatureExtractor()`. Failing to do so can result in silent errors that might be hard to debug.\n"
          ]
        },
        {
          "output_type": "stream",
          "name": "stdout",
          "text": [
            "gen ids torch.Size([1, 67])\n",
            "start time: 810 s\n",
            "end time: 840\n",
            "(480000,)\n",
            "fetaure shape: torch.Size([1, 80, 3000])\n"
          ]
        },
        {
          "output_type": "stream",
          "name": "stderr",
          "text": [
            "It is strongly recommended to pass the `sampling_rate` argument to `WhisperFeatureExtractor()`. Failing to do so can result in silent errors that might be hard to debug.\n"
          ]
        },
        {
          "output_type": "stream",
          "name": "stdout",
          "text": [
            "gen ids torch.Size([1, 66])\n",
            "start time: 840 s\n",
            "end time: 870\n",
            "(480000,)\n",
            "fetaure shape: torch.Size([1, 80, 3000])\n"
          ]
        },
        {
          "output_type": "stream",
          "name": "stderr",
          "text": [
            "It is strongly recommended to pass the `sampling_rate` argument to `WhisperFeatureExtractor()`. Failing to do so can result in silent errors that might be hard to debug.\n"
          ]
        },
        {
          "output_type": "stream",
          "name": "stdout",
          "text": [
            "gen ids torch.Size([1, 63])\n",
            "start time: 870 s\n",
            "end time: 900\n",
            "(480000,)\n",
            "fetaure shape: torch.Size([1, 80, 3000])\n"
          ]
        },
        {
          "output_type": "stream",
          "name": "stderr",
          "text": [
            "It is strongly recommended to pass the `sampling_rate` argument to `WhisperFeatureExtractor()`. Failing to do so can result in silent errors that might be hard to debug.\n"
          ]
        },
        {
          "output_type": "stream",
          "name": "stdout",
          "text": [
            "gen ids torch.Size([1, 75])\n",
            "start time: 900 s\n",
            "end time: 930\n",
            "(480000,)\n",
            "fetaure shape: torch.Size([1, 80, 3000])\n"
          ]
        },
        {
          "output_type": "stream",
          "name": "stderr",
          "text": [
            "It is strongly recommended to pass the `sampling_rate` argument to `WhisperFeatureExtractor()`. Failing to do so can result in silent errors that might be hard to debug.\n"
          ]
        },
        {
          "output_type": "stream",
          "name": "stdout",
          "text": [
            "gen ids torch.Size([1, 68])\n",
            "start time: 930 s\n",
            "end time: 960\n",
            "(480000,)\n",
            "fetaure shape: torch.Size([1, 80, 3000])\n"
          ]
        },
        {
          "output_type": "stream",
          "name": "stderr",
          "text": [
            "It is strongly recommended to pass the `sampling_rate` argument to `WhisperFeatureExtractor()`. Failing to do so can result in silent errors that might be hard to debug.\n"
          ]
        },
        {
          "output_type": "stream",
          "name": "stdout",
          "text": [
            "gen ids torch.Size([1, 69])\n",
            "start time: 960 s\n",
            "end time: 990\n",
            "(480000,)\n",
            "fetaure shape: torch.Size([1, 80, 3000])\n"
          ]
        },
        {
          "output_type": "stream",
          "name": "stderr",
          "text": [
            "It is strongly recommended to pass the `sampling_rate` argument to `WhisperFeatureExtractor()`. Failing to do so can result in silent errors that might be hard to debug.\n"
          ]
        },
        {
          "output_type": "stream",
          "name": "stdout",
          "text": [
            "gen ids torch.Size([1, 43])\n",
            "start time: 990 s\n",
            "end time: 1020\n",
            "(480000,)\n",
            "fetaure shape: torch.Size([1, 80, 3000])\n"
          ]
        },
        {
          "output_type": "stream",
          "name": "stderr",
          "text": [
            "It is strongly recommended to pass the `sampling_rate` argument to `WhisperFeatureExtractor()`. Failing to do so can result in silent errors that might be hard to debug.\n"
          ]
        },
        {
          "output_type": "stream",
          "name": "stdout",
          "text": [
            "gen ids torch.Size([1, 30])\n",
            "start time: 1020 s\n",
            "end time: 1050\n",
            "(480000,)\n",
            "fetaure shape: torch.Size([1, 80, 3000])\n"
          ]
        },
        {
          "output_type": "stream",
          "name": "stderr",
          "text": [
            "It is strongly recommended to pass the `sampling_rate` argument to `WhisperFeatureExtractor()`. Failing to do so can result in silent errors that might be hard to debug.\n"
          ]
        },
        {
          "output_type": "stream",
          "name": "stdout",
          "text": [
            "gen ids torch.Size([1, 68])\n",
            "start time: 1050 s\n",
            "end time: 1080\n",
            "(480000,)\n",
            "fetaure shape: torch.Size([1, 80, 3000])\n"
          ]
        },
        {
          "output_type": "stream",
          "name": "stderr",
          "text": [
            "It is strongly recommended to pass the `sampling_rate` argument to `WhisperFeatureExtractor()`. Failing to do so can result in silent errors that might be hard to debug.\n"
          ]
        },
        {
          "output_type": "stream",
          "name": "stdout",
          "text": [
            "gen ids torch.Size([1, 76])\n",
            "start time: 1080 s\n",
            "end time: 1081.481\n",
            "(23696,)\n",
            "fetaure shape: torch.Size([1, 80, 3000])\n",
            "gen ids torch.Size([1, 2])\n",
            "NeuralNetworkBackpropagation(DL08)\n",
            "Recurrent Neural Networks (DL 17).wav\n"
          ]
        },
        {
          "output_type": "stream",
          "name": "stderr",
          "text": [
            "It is strongly recommended to pass the `sampling_rate` argument to `WhisperFeatureExtractor()`. Failing to do so can result in silent errors that might be hard to debug.\n"
          ]
        },
        {
          "output_type": "stream",
          "name": "stdout",
          "text": [
            "start time: 0 s\n",
            "end time: 30\n",
            "(480000,)\n",
            "fetaure shape: torch.Size([1, 80, 3000])\n"
          ]
        },
        {
          "output_type": "stream",
          "name": "stderr",
          "text": [
            "It is strongly recommended to pass the `sampling_rate` argument to `WhisperFeatureExtractor()`. Failing to do so can result in silent errors that might be hard to debug.\n"
          ]
        },
        {
          "output_type": "stream",
          "name": "stdout",
          "text": [
            "gen ids torch.Size([1, 66])\n",
            "start time: 30 s\n",
            "end time: 60\n",
            "(480000,)\n",
            "fetaure shape: torch.Size([1, 80, 3000])\n"
          ]
        },
        {
          "output_type": "stream",
          "name": "stderr",
          "text": [
            "It is strongly recommended to pass the `sampling_rate` argument to `WhisperFeatureExtractor()`. Failing to do so can result in silent errors that might be hard to debug.\n"
          ]
        },
        {
          "output_type": "stream",
          "name": "stdout",
          "text": [
            "gen ids torch.Size([1, 82])\n",
            "start time: 60 s\n",
            "end time: 90\n",
            "(480000,)\n",
            "fetaure shape: torch.Size([1, 80, 3000])\n"
          ]
        },
        {
          "output_type": "stream",
          "name": "stderr",
          "text": [
            "It is strongly recommended to pass the `sampling_rate` argument to `WhisperFeatureExtractor()`. Failing to do so can result in silent errors that might be hard to debug.\n"
          ]
        },
        {
          "output_type": "stream",
          "name": "stdout",
          "text": [
            "gen ids torch.Size([1, 70])\n",
            "start time: 90 s\n",
            "end time: 120\n",
            "(480000,)\n",
            "fetaure shape: torch.Size([1, 80, 3000])\n"
          ]
        },
        {
          "output_type": "stream",
          "name": "stderr",
          "text": [
            "It is strongly recommended to pass the `sampling_rate` argument to `WhisperFeatureExtractor()`. Failing to do so can result in silent errors that might be hard to debug.\n"
          ]
        },
        {
          "output_type": "stream",
          "name": "stdout",
          "text": [
            "gen ids torch.Size([1, 72])\n",
            "start time: 120 s\n",
            "end time: 150\n",
            "(480000,)\n",
            "fetaure shape: torch.Size([1, 80, 3000])\n"
          ]
        },
        {
          "output_type": "stream",
          "name": "stderr",
          "text": [
            "It is strongly recommended to pass the `sampling_rate` argument to `WhisperFeatureExtractor()`. Failing to do so can result in silent errors that might be hard to debug.\n"
          ]
        },
        {
          "output_type": "stream",
          "name": "stdout",
          "text": [
            "gen ids torch.Size([1, 64])\n",
            "start time: 150 s\n",
            "end time: 180\n",
            "(480000,)\n",
            "fetaure shape: torch.Size([1, 80, 3000])\n"
          ]
        },
        {
          "output_type": "stream",
          "name": "stderr",
          "text": [
            "It is strongly recommended to pass the `sampling_rate` argument to `WhisperFeatureExtractor()`. Failing to do so can result in silent errors that might be hard to debug.\n"
          ]
        },
        {
          "output_type": "stream",
          "name": "stdout",
          "text": [
            "gen ids torch.Size([1, 89])\n",
            "start time: 180 s\n",
            "end time: 210\n",
            "(480000,)\n",
            "fetaure shape: torch.Size([1, 80, 3000])\n"
          ]
        },
        {
          "output_type": "stream",
          "name": "stderr",
          "text": [
            "It is strongly recommended to pass the `sampling_rate` argument to `WhisperFeatureExtractor()`. Failing to do so can result in silent errors that might be hard to debug.\n"
          ]
        },
        {
          "output_type": "stream",
          "name": "stdout",
          "text": [
            "gen ids torch.Size([1, 73])\n",
            "start time: 210 s\n",
            "end time: 240\n",
            "(480000,)\n",
            "fetaure shape: torch.Size([1, 80, 3000])\n"
          ]
        },
        {
          "output_type": "stream",
          "name": "stderr",
          "text": [
            "It is strongly recommended to pass the `sampling_rate` argument to `WhisperFeatureExtractor()`. Failing to do so can result in silent errors that might be hard to debug.\n"
          ]
        },
        {
          "output_type": "stream",
          "name": "stdout",
          "text": [
            "gen ids torch.Size([1, 64])\n",
            "start time: 240 s\n",
            "end time: 270\n",
            "(480000,)\n",
            "fetaure shape: torch.Size([1, 80, 3000])\n"
          ]
        },
        {
          "output_type": "stream",
          "name": "stderr",
          "text": [
            "It is strongly recommended to pass the `sampling_rate` argument to `WhisperFeatureExtractor()`. Failing to do so can result in silent errors that might be hard to debug.\n"
          ]
        },
        {
          "output_type": "stream",
          "name": "stdout",
          "text": [
            "gen ids torch.Size([1, 91])\n",
            "start time: 270 s\n",
            "end time: 300\n",
            "(480000,)\n",
            "fetaure shape: torch.Size([1, 80, 3000])\n"
          ]
        },
        {
          "output_type": "stream",
          "name": "stderr",
          "text": [
            "It is strongly recommended to pass the `sampling_rate` argument to `WhisperFeatureExtractor()`. Failing to do so can result in silent errors that might be hard to debug.\n"
          ]
        },
        {
          "output_type": "stream",
          "name": "stdout",
          "text": [
            "gen ids torch.Size([1, 79])\n",
            "start time: 300 s\n",
            "end time: 330\n",
            "(480000,)\n",
            "fetaure shape: torch.Size([1, 80, 3000])\n"
          ]
        },
        {
          "output_type": "stream",
          "name": "stderr",
          "text": [
            "It is strongly recommended to pass the `sampling_rate` argument to `WhisperFeatureExtractor()`. Failing to do so can result in silent errors that might be hard to debug.\n"
          ]
        },
        {
          "output_type": "stream",
          "name": "stdout",
          "text": [
            "gen ids torch.Size([1, 72])\n",
            "start time: 330 s\n",
            "end time: 360\n",
            "(480000,)\n",
            "fetaure shape: torch.Size([1, 80, 3000])\n"
          ]
        },
        {
          "output_type": "stream",
          "name": "stderr",
          "text": [
            "It is strongly recommended to pass the `sampling_rate` argument to `WhisperFeatureExtractor()`. Failing to do so can result in silent errors that might be hard to debug.\n"
          ]
        },
        {
          "output_type": "stream",
          "name": "stdout",
          "text": [
            "gen ids torch.Size([1, 68])\n",
            "start time: 360 s\n",
            "end time: 390\n",
            "(480000,)\n",
            "fetaure shape: torch.Size([1, 80, 3000])\n"
          ]
        },
        {
          "output_type": "stream",
          "name": "stderr",
          "text": [
            "It is strongly recommended to pass the `sampling_rate` argument to `WhisperFeatureExtractor()`. Failing to do so can result in silent errors that might be hard to debug.\n"
          ]
        },
        {
          "output_type": "stream",
          "name": "stdout",
          "text": [
            "gen ids torch.Size([1, 71])\n",
            "start time: 390 s\n",
            "end time: 420\n",
            "(480000,)\n",
            "fetaure shape: torch.Size([1, 80, 3000])\n"
          ]
        },
        {
          "output_type": "stream",
          "name": "stderr",
          "text": [
            "It is strongly recommended to pass the `sampling_rate` argument to `WhisperFeatureExtractor()`. Failing to do so can result in silent errors that might be hard to debug.\n"
          ]
        },
        {
          "output_type": "stream",
          "name": "stdout",
          "text": [
            "gen ids torch.Size([1, 67])\n",
            "start time: 420 s\n",
            "end time: 450\n",
            "(480000,)\n",
            "fetaure shape: torch.Size([1, 80, 3000])\n"
          ]
        },
        {
          "output_type": "stream",
          "name": "stderr",
          "text": [
            "It is strongly recommended to pass the `sampling_rate` argument to `WhisperFeatureExtractor()`. Failing to do so can result in silent errors that might be hard to debug.\n"
          ]
        },
        {
          "output_type": "stream",
          "name": "stdout",
          "text": [
            "gen ids torch.Size([1, 69])\n",
            "start time: 450 s\n",
            "end time: 480\n",
            "(480000,)\n",
            "fetaure shape: torch.Size([1, 80, 3000])\n"
          ]
        },
        {
          "output_type": "stream",
          "name": "stderr",
          "text": [
            "It is strongly recommended to pass the `sampling_rate` argument to `WhisperFeatureExtractor()`. Failing to do so can result in silent errors that might be hard to debug.\n"
          ]
        },
        {
          "output_type": "stream",
          "name": "stdout",
          "text": [
            "gen ids torch.Size([1, 75])\n",
            "start time: 480 s\n",
            "end time: 510\n",
            "(480000,)\n",
            "fetaure shape: torch.Size([1, 80, 3000])\n"
          ]
        },
        {
          "output_type": "stream",
          "name": "stderr",
          "text": [
            "It is strongly recommended to pass the `sampling_rate` argument to `WhisperFeatureExtractor()`. Failing to do so can result in silent errors that might be hard to debug.\n"
          ]
        },
        {
          "output_type": "stream",
          "name": "stdout",
          "text": [
            "gen ids torch.Size([1, 73])\n",
            "start time: 510 s\n",
            "end time: 540\n",
            "(480000,)\n",
            "fetaure shape: torch.Size([1, 80, 3000])\n"
          ]
        },
        {
          "output_type": "stream",
          "name": "stderr",
          "text": [
            "It is strongly recommended to pass the `sampling_rate` argument to `WhisperFeatureExtractor()`. Failing to do so can result in silent errors that might be hard to debug.\n"
          ]
        },
        {
          "output_type": "stream",
          "name": "stdout",
          "text": [
            "gen ids torch.Size([1, 59])\n",
            "start time: 540 s\n",
            "end time: 570\n",
            "(480000,)\n",
            "fetaure shape: torch.Size([1, 80, 3000])\n"
          ]
        },
        {
          "output_type": "stream",
          "name": "stderr",
          "text": [
            "It is strongly recommended to pass the `sampling_rate` argument to `WhisperFeatureExtractor()`. Failing to do so can result in silent errors that might be hard to debug.\n"
          ]
        },
        {
          "output_type": "stream",
          "name": "stdout",
          "text": [
            "gen ids torch.Size([1, 66])\n",
            "start time: 570 s\n",
            "end time: 595.4060625\n",
            "(406497,)\n",
            "fetaure shape: torch.Size([1, 80, 3000])\n",
            "gen ids torch.Size([1, 53])\n",
            "RecurrentNeuralNetworks(DL17)\n",
            "Residual Networks and Skip Connections (DL 15).wav\n"
          ]
        },
        {
          "output_type": "stream",
          "name": "stderr",
          "text": [
            "It is strongly recommended to pass the `sampling_rate` argument to `WhisperFeatureExtractor()`. Failing to do so can result in silent errors that might be hard to debug.\n"
          ]
        },
        {
          "output_type": "stream",
          "name": "stdout",
          "text": [
            "start time: 0 s\n",
            "end time: 30\n",
            "(480000,)\n",
            "fetaure shape: torch.Size([1, 80, 3000])\n"
          ]
        },
        {
          "output_type": "stream",
          "name": "stderr",
          "text": [
            "It is strongly recommended to pass the `sampling_rate` argument to `WhisperFeatureExtractor()`. Failing to do so can result in silent errors that might be hard to debug.\n"
          ]
        },
        {
          "output_type": "stream",
          "name": "stdout",
          "text": [
            "gen ids torch.Size([1, 81])\n",
            "start time: 30 s\n",
            "end time: 60\n",
            "(480000,)\n",
            "fetaure shape: torch.Size([1, 80, 3000])\n"
          ]
        },
        {
          "output_type": "stream",
          "name": "stderr",
          "text": [
            "It is strongly recommended to pass the `sampling_rate` argument to `WhisperFeatureExtractor()`. Failing to do so can result in silent errors that might be hard to debug.\n"
          ]
        },
        {
          "output_type": "stream",
          "name": "stdout",
          "text": [
            "gen ids torch.Size([1, 83])\n",
            "start time: 60 s\n",
            "end time: 90\n",
            "(480000,)\n",
            "fetaure shape: torch.Size([1, 80, 3000])\n"
          ]
        },
        {
          "output_type": "stream",
          "name": "stderr",
          "text": [
            "It is strongly recommended to pass the `sampling_rate` argument to `WhisperFeatureExtractor()`. Failing to do so can result in silent errors that might be hard to debug.\n"
          ]
        },
        {
          "output_type": "stream",
          "name": "stdout",
          "text": [
            "gen ids torch.Size([1, 73])\n",
            "start time: 90 s\n",
            "end time: 120\n",
            "(480000,)\n",
            "fetaure shape: torch.Size([1, 80, 3000])\n"
          ]
        },
        {
          "output_type": "stream",
          "name": "stderr",
          "text": [
            "It is strongly recommended to pass the `sampling_rate` argument to `WhisperFeatureExtractor()`. Failing to do so can result in silent errors that might be hard to debug.\n"
          ]
        },
        {
          "output_type": "stream",
          "name": "stdout",
          "text": [
            "gen ids torch.Size([1, 79])\n",
            "start time: 120 s\n",
            "end time: 150\n",
            "(480000,)\n",
            "fetaure shape: torch.Size([1, 80, 3000])\n"
          ]
        },
        {
          "output_type": "stream",
          "name": "stderr",
          "text": [
            "It is strongly recommended to pass the `sampling_rate` argument to `WhisperFeatureExtractor()`. Failing to do so can result in silent errors that might be hard to debug.\n"
          ]
        },
        {
          "output_type": "stream",
          "name": "stdout",
          "text": [
            "gen ids torch.Size([1, 75])\n",
            "start time: 150 s\n",
            "end time: 180\n",
            "(480000,)\n",
            "fetaure shape: torch.Size([1, 80, 3000])\n"
          ]
        },
        {
          "output_type": "stream",
          "name": "stderr",
          "text": [
            "It is strongly recommended to pass the `sampling_rate` argument to `WhisperFeatureExtractor()`. Failing to do so can result in silent errors that might be hard to debug.\n"
          ]
        },
        {
          "output_type": "stream",
          "name": "stdout",
          "text": [
            "gen ids torch.Size([1, 86])\n",
            "start time: 180 s\n",
            "end time: 210\n",
            "(480000,)\n",
            "fetaure shape: torch.Size([1, 80, 3000])\n"
          ]
        },
        {
          "output_type": "stream",
          "name": "stderr",
          "text": [
            "It is strongly recommended to pass the `sampling_rate` argument to `WhisperFeatureExtractor()`. Failing to do so can result in silent errors that might be hard to debug.\n"
          ]
        },
        {
          "output_type": "stream",
          "name": "stdout",
          "text": [
            "gen ids torch.Size([1, 77])\n",
            "start time: 210 s\n",
            "end time: 240\n",
            "(480000,)\n",
            "fetaure shape: torch.Size([1, 80, 3000])\n"
          ]
        },
        {
          "output_type": "stream",
          "name": "stderr",
          "text": [
            "It is strongly recommended to pass the `sampling_rate` argument to `WhisperFeatureExtractor()`. Failing to do so can result in silent errors that might be hard to debug.\n"
          ]
        },
        {
          "output_type": "stream",
          "name": "stdout",
          "text": [
            "gen ids torch.Size([1, 52])\n",
            "start time: 240 s\n",
            "end time: 270\n",
            "(480000,)\n",
            "fetaure shape: torch.Size([1, 80, 3000])\n"
          ]
        },
        {
          "output_type": "stream",
          "name": "stderr",
          "text": [
            "It is strongly recommended to pass the `sampling_rate` argument to `WhisperFeatureExtractor()`. Failing to do so can result in silent errors that might be hard to debug.\n"
          ]
        },
        {
          "output_type": "stream",
          "name": "stdout",
          "text": [
            "gen ids torch.Size([1, 47])\n",
            "start time: 270 s\n",
            "end time: 300\n",
            "(480000,)\n",
            "fetaure shape: torch.Size([1, 80, 3000])\n"
          ]
        },
        {
          "output_type": "stream",
          "name": "stderr",
          "text": [
            "It is strongly recommended to pass the `sampling_rate` argument to `WhisperFeatureExtractor()`. Failing to do so can result in silent errors that might be hard to debug.\n"
          ]
        },
        {
          "output_type": "stream",
          "name": "stdout",
          "text": [
            "gen ids torch.Size([1, 64])\n",
            "start time: 300 s\n",
            "end time: 330\n",
            "(480000,)\n",
            "fetaure shape: torch.Size([1, 80, 3000])\n"
          ]
        },
        {
          "output_type": "stream",
          "name": "stderr",
          "text": [
            "It is strongly recommended to pass the `sampling_rate` argument to `WhisperFeatureExtractor()`. Failing to do so can result in silent errors that might be hard to debug.\n"
          ]
        },
        {
          "output_type": "stream",
          "name": "stdout",
          "text": [
            "gen ids torch.Size([1, 62])\n",
            "start time: 330 s\n",
            "end time: 360\n",
            "(480000,)\n",
            "fetaure shape: torch.Size([1, 80, 3000])\n"
          ]
        },
        {
          "output_type": "stream",
          "name": "stderr",
          "text": [
            "It is strongly recommended to pass the `sampling_rate` argument to `WhisperFeatureExtractor()`. Failing to do so can result in silent errors that might be hard to debug.\n"
          ]
        },
        {
          "output_type": "stream",
          "name": "stdout",
          "text": [
            "gen ids torch.Size([1, 53])\n",
            "start time: 360 s\n",
            "end time: 390\n",
            "(480000,)\n",
            "fetaure shape: torch.Size([1, 80, 3000])\n"
          ]
        },
        {
          "output_type": "stream",
          "name": "stderr",
          "text": [
            "It is strongly recommended to pass the `sampling_rate` argument to `WhisperFeatureExtractor()`. Failing to do so can result in silent errors that might be hard to debug.\n"
          ]
        },
        {
          "output_type": "stream",
          "name": "stdout",
          "text": [
            "gen ids torch.Size([1, 78])\n",
            "start time: 390 s\n",
            "end time: 420\n",
            "(480000,)\n",
            "fetaure shape: torch.Size([1, 80, 3000])\n"
          ]
        },
        {
          "output_type": "stream",
          "name": "stderr",
          "text": [
            "It is strongly recommended to pass the `sampling_rate` argument to `WhisperFeatureExtractor()`. Failing to do so can result in silent errors that might be hard to debug.\n"
          ]
        },
        {
          "output_type": "stream",
          "name": "stdout",
          "text": [
            "gen ids torch.Size([1, 75])\n",
            "start time: 420 s\n",
            "end time: 450\n",
            "(480000,)\n",
            "fetaure shape: torch.Size([1, 80, 3000])\n"
          ]
        },
        {
          "output_type": "stream",
          "name": "stderr",
          "text": [
            "It is strongly recommended to pass the `sampling_rate` argument to `WhisperFeatureExtractor()`. Failing to do so can result in silent errors that might be hard to debug.\n"
          ]
        },
        {
          "output_type": "stream",
          "name": "stdout",
          "text": [
            "gen ids torch.Size([1, 69])\n",
            "start time: 450 s\n",
            "end time: 480\n",
            "(480000,)\n",
            "fetaure shape: torch.Size([1, 80, 3000])\n"
          ]
        },
        {
          "output_type": "stream",
          "name": "stderr",
          "text": [
            "It is strongly recommended to pass the `sampling_rate` argument to `WhisperFeatureExtractor()`. Failing to do so can result in silent errors that might be hard to debug.\n"
          ]
        },
        {
          "output_type": "stream",
          "name": "stdout",
          "text": [
            "gen ids torch.Size([1, 58])\n",
            "start time: 480 s\n",
            "end time: 510\n",
            "(480000,)\n",
            "fetaure shape: torch.Size([1, 80, 3000])\n"
          ]
        },
        {
          "output_type": "stream",
          "name": "stderr",
          "text": [
            "It is strongly recommended to pass the `sampling_rate` argument to `WhisperFeatureExtractor()`. Failing to do so can result in silent errors that might be hard to debug.\n"
          ]
        },
        {
          "output_type": "stream",
          "name": "stdout",
          "text": [
            "gen ids torch.Size([1, 72])\n",
            "start time: 510 s\n",
            "end time: 540\n",
            "(480000,)\n",
            "fetaure shape: torch.Size([1, 80, 3000])\n"
          ]
        },
        {
          "output_type": "stream",
          "name": "stderr",
          "text": [
            "It is strongly recommended to pass the `sampling_rate` argument to `WhisperFeatureExtractor()`. Failing to do so can result in silent errors that might be hard to debug.\n"
          ]
        },
        {
          "output_type": "stream",
          "name": "stdout",
          "text": [
            "gen ids torch.Size([1, 66])\n",
            "start time: 540 s\n",
            "end time: 570\n",
            "(480000,)\n",
            "fetaure shape: torch.Size([1, 80, 3000])\n"
          ]
        },
        {
          "output_type": "stream",
          "name": "stderr",
          "text": [
            "It is strongly recommended to pass the `sampling_rate` argument to `WhisperFeatureExtractor()`. Failing to do so can result in silent errors that might be hard to debug.\n"
          ]
        },
        {
          "output_type": "stream",
          "name": "stdout",
          "text": [
            "gen ids torch.Size([1, 69])\n",
            "start time: 570 s\n",
            "end time: 600\n",
            "(480000,)\n",
            "fetaure shape: torch.Size([1, 80, 3000])\n"
          ]
        },
        {
          "output_type": "stream",
          "name": "stderr",
          "text": [
            "It is strongly recommended to pass the `sampling_rate` argument to `WhisperFeatureExtractor()`. Failing to do so can result in silent errors that might be hard to debug.\n"
          ]
        },
        {
          "output_type": "stream",
          "name": "stdout",
          "text": [
            "gen ids torch.Size([1, 77])\n",
            "start time: 600 s\n",
            "end time: 630\n",
            "(480000,)\n",
            "fetaure shape: torch.Size([1, 80, 3000])\n"
          ]
        },
        {
          "output_type": "stream",
          "name": "stderr",
          "text": [
            "It is strongly recommended to pass the `sampling_rate` argument to `WhisperFeatureExtractor()`. Failing to do so can result in silent errors that might be hard to debug.\n"
          ]
        },
        {
          "output_type": "stream",
          "name": "stdout",
          "text": [
            "gen ids torch.Size([1, 36])\n",
            "start time: 630 s\n",
            "end time: 660\n",
            "(480000,)\n",
            "fetaure shape: torch.Size([1, 80, 3000])\n"
          ]
        },
        {
          "output_type": "stream",
          "name": "stderr",
          "text": [
            "It is strongly recommended to pass the `sampling_rate` argument to `WhisperFeatureExtractor()`. Failing to do so can result in silent errors that might be hard to debug.\n"
          ]
        },
        {
          "output_type": "stream",
          "name": "stdout",
          "text": [
            "gen ids torch.Size([1, 77])\n",
            "start time: 660 s\n",
            "end time: 690\n",
            "(480000,)\n",
            "fetaure shape: torch.Size([1, 80, 3000])\n"
          ]
        },
        {
          "output_type": "stream",
          "name": "stderr",
          "text": [
            "It is strongly recommended to pass the `sampling_rate` argument to `WhisperFeatureExtractor()`. Failing to do so can result in silent errors that might be hard to debug.\n"
          ]
        },
        {
          "output_type": "stream",
          "name": "stdout",
          "text": [
            "gen ids torch.Size([1, 76])\n",
            "start time: 690 s\n",
            "end time: 720\n",
            "(480000,)\n",
            "fetaure shape: torch.Size([1, 80, 3000])\n"
          ]
        },
        {
          "output_type": "stream",
          "name": "stderr",
          "text": [
            "It is strongly recommended to pass the `sampling_rate` argument to `WhisperFeatureExtractor()`. Failing to do so can result in silent errors that might be hard to debug.\n"
          ]
        },
        {
          "output_type": "stream",
          "name": "stdout",
          "text": [
            "gen ids torch.Size([1, 72])\n",
            "start time: 720 s\n",
            "end time: 750\n",
            "(480000,)\n",
            "fetaure shape: torch.Size([1, 80, 3000])\n"
          ]
        },
        {
          "output_type": "stream",
          "name": "stderr",
          "text": [
            "It is strongly recommended to pass the `sampling_rate` argument to `WhisperFeatureExtractor()`. Failing to do so can result in silent errors that might be hard to debug.\n"
          ]
        },
        {
          "output_type": "stream",
          "name": "stdout",
          "text": [
            "gen ids torch.Size([1, 62])\n",
            "start time: 750 s\n",
            "end time: 780\n",
            "(480000,)\n",
            "fetaure shape: torch.Size([1, 80, 3000])\n"
          ]
        },
        {
          "output_type": "stream",
          "name": "stderr",
          "text": [
            "It is strongly recommended to pass the `sampling_rate` argument to `WhisperFeatureExtractor()`. Failing to do so can result in silent errors that might be hard to debug.\n"
          ]
        },
        {
          "output_type": "stream",
          "name": "stdout",
          "text": [
            "gen ids torch.Size([1, 73])\n",
            "start time: 780 s\n",
            "end time: 810\n",
            "(480000,)\n",
            "fetaure shape: torch.Size([1, 80, 3000])\n"
          ]
        },
        {
          "output_type": "stream",
          "name": "stderr",
          "text": [
            "It is strongly recommended to pass the `sampling_rate` argument to `WhisperFeatureExtractor()`. Failing to do so can result in silent errors that might be hard to debug.\n"
          ]
        },
        {
          "output_type": "stream",
          "name": "stdout",
          "text": [
            "gen ids torch.Size([1, 65])\n",
            "start time: 810 s\n",
            "end time: 840\n",
            "(480000,)\n",
            "fetaure shape: torch.Size([1, 80, 3000])\n"
          ]
        },
        {
          "output_type": "stream",
          "name": "stderr",
          "text": [
            "It is strongly recommended to pass the `sampling_rate` argument to `WhisperFeatureExtractor()`. Failing to do so can result in silent errors that might be hard to debug.\n"
          ]
        },
        {
          "output_type": "stream",
          "name": "stdout",
          "text": [
            "gen ids torch.Size([1, 27])\n",
            "start time: 840 s\n",
            "end time: 870\n",
            "(480000,)\n",
            "fetaure shape: torch.Size([1, 80, 3000])\n"
          ]
        },
        {
          "output_type": "stream",
          "name": "stderr",
          "text": [
            "It is strongly recommended to pass the `sampling_rate` argument to `WhisperFeatureExtractor()`. Failing to do so can result in silent errors that might be hard to debug.\n"
          ]
        },
        {
          "output_type": "stream",
          "name": "stdout",
          "text": [
            "gen ids torch.Size([1, 60])\n",
            "start time: 870 s\n",
            "end time: 900\n",
            "(480000,)\n",
            "fetaure shape: torch.Size([1, 80, 3000])\n"
          ]
        },
        {
          "output_type": "stream",
          "name": "stderr",
          "text": [
            "It is strongly recommended to pass the `sampling_rate` argument to `WhisperFeatureExtractor()`. Failing to do so can result in silent errors that might be hard to debug.\n"
          ]
        },
        {
          "output_type": "stream",
          "name": "stdout",
          "text": [
            "gen ids torch.Size([1, 63])\n",
            "start time: 900 s\n",
            "end time: 930\n",
            "(480000,)\n",
            "fetaure shape: torch.Size([1, 80, 3000])\n"
          ]
        },
        {
          "output_type": "stream",
          "name": "stderr",
          "text": [
            "It is strongly recommended to pass the `sampling_rate` argument to `WhisperFeatureExtractor()`. Failing to do so can result in silent errors that might be hard to debug.\n"
          ]
        },
        {
          "output_type": "stream",
          "name": "stdout",
          "text": [
            "gen ids torch.Size([1, 50])\n",
            "start time: 930 s\n",
            "end time: 960\n",
            "(480000,)\n",
            "fetaure shape: torch.Size([1, 80, 3000])\n"
          ]
        },
        {
          "output_type": "stream",
          "name": "stderr",
          "text": [
            "It is strongly recommended to pass the `sampling_rate` argument to `WhisperFeatureExtractor()`. Failing to do so can result in silent errors that might be hard to debug.\n"
          ]
        },
        {
          "output_type": "stream",
          "name": "stdout",
          "text": [
            "gen ids torch.Size([1, 70])\n",
            "start time: 960 s\n",
            "end time: 990\n",
            "(480000,)\n",
            "fetaure shape: torch.Size([1, 80, 3000])\n"
          ]
        },
        {
          "output_type": "stream",
          "name": "stderr",
          "text": [
            "It is strongly recommended to pass the `sampling_rate` argument to `WhisperFeatureExtractor()`. Failing to do so can result in silent errors that might be hard to debug.\n"
          ]
        },
        {
          "output_type": "stream",
          "name": "stdout",
          "text": [
            "gen ids torch.Size([1, 81])\n",
            "start time: 990 s\n",
            "end time: 1019.75075\n",
            "(476012,)\n",
            "fetaure shape: torch.Size([1, 80, 3000])\n",
            "gen ids torch.Size([1, 70])\n",
            "ResidualNetworksandSkipConnections(DL15)\n",
            "Better Activation & Loss for Classification： Softmax & Categorical Crossentropy (DL 09).wav\n"
          ]
        },
        {
          "output_type": "stream",
          "name": "stderr",
          "text": [
            "It is strongly recommended to pass the `sampling_rate` argument to `WhisperFeatureExtractor()`. Failing to do so can result in silent errors that might be hard to debug.\n"
          ]
        },
        {
          "output_type": "stream",
          "name": "stdout",
          "text": [
            "start time: 0 s\n",
            "end time: 30\n",
            "(480000,)\n",
            "fetaure shape: torch.Size([1, 80, 3000])\n"
          ]
        },
        {
          "output_type": "stream",
          "name": "stderr",
          "text": [
            "It is strongly recommended to pass the `sampling_rate` argument to `WhisperFeatureExtractor()`. Failing to do so can result in silent errors that might be hard to debug.\n"
          ]
        },
        {
          "output_type": "stream",
          "name": "stdout",
          "text": [
            "gen ids torch.Size([1, 93])\n",
            "start time: 30 s\n",
            "end time: 60\n",
            "(480000,)\n",
            "fetaure shape: torch.Size([1, 80, 3000])\n"
          ]
        },
        {
          "output_type": "stream",
          "name": "stderr",
          "text": [
            "It is strongly recommended to pass the `sampling_rate` argument to `WhisperFeatureExtractor()`. Failing to do so can result in silent errors that might be hard to debug.\n"
          ]
        },
        {
          "output_type": "stream",
          "name": "stdout",
          "text": [
            "gen ids torch.Size([1, 88])\n",
            "start time: 60 s\n",
            "end time: 90\n",
            "(480000,)\n",
            "fetaure shape: torch.Size([1, 80, 3000])\n"
          ]
        },
        {
          "output_type": "stream",
          "name": "stderr",
          "text": [
            "It is strongly recommended to pass the `sampling_rate` argument to `WhisperFeatureExtractor()`. Failing to do so can result in silent errors that might be hard to debug.\n"
          ]
        },
        {
          "output_type": "stream",
          "name": "stdout",
          "text": [
            "gen ids torch.Size([1, 92])\n",
            "start time: 90 s\n",
            "end time: 120\n",
            "(480000,)\n",
            "fetaure shape: torch.Size([1, 80, 3000])\n"
          ]
        },
        {
          "output_type": "stream",
          "name": "stderr",
          "text": [
            "It is strongly recommended to pass the `sampling_rate` argument to `WhisperFeatureExtractor()`. Failing to do so can result in silent errors that might be hard to debug.\n"
          ]
        },
        {
          "output_type": "stream",
          "name": "stdout",
          "text": [
            "gen ids torch.Size([1, 85])\n",
            "start time: 120 s\n",
            "end time: 150\n",
            "(480000,)\n",
            "fetaure shape: torch.Size([1, 80, 3000])\n"
          ]
        },
        {
          "output_type": "stream",
          "name": "stderr",
          "text": [
            "It is strongly recommended to pass the `sampling_rate` argument to `WhisperFeatureExtractor()`. Failing to do so can result in silent errors that might be hard to debug.\n"
          ]
        },
        {
          "output_type": "stream",
          "name": "stdout",
          "text": [
            "gen ids torch.Size([1, 71])\n",
            "start time: 150 s\n",
            "end time: 180\n",
            "(480000,)\n",
            "fetaure shape: torch.Size([1, 80, 3000])\n"
          ]
        },
        {
          "output_type": "stream",
          "name": "stderr",
          "text": [
            "It is strongly recommended to pass the `sampling_rate` argument to `WhisperFeatureExtractor()`. Failing to do so can result in silent errors that might be hard to debug.\n"
          ]
        },
        {
          "output_type": "stream",
          "name": "stdout",
          "text": [
            "gen ids torch.Size([1, 93])\n",
            "start time: 180 s\n",
            "end time: 210\n",
            "(480000,)\n",
            "fetaure shape: torch.Size([1, 80, 3000])\n"
          ]
        },
        {
          "output_type": "stream",
          "name": "stderr",
          "text": [
            "It is strongly recommended to pass the `sampling_rate` argument to `WhisperFeatureExtractor()`. Failing to do so can result in silent errors that might be hard to debug.\n"
          ]
        },
        {
          "output_type": "stream",
          "name": "stdout",
          "text": [
            "gen ids torch.Size([1, 79])\n",
            "start time: 210 s\n",
            "end time: 240\n",
            "(480000,)\n",
            "fetaure shape: torch.Size([1, 80, 3000])\n"
          ]
        },
        {
          "output_type": "stream",
          "name": "stderr",
          "text": [
            "It is strongly recommended to pass the `sampling_rate` argument to `WhisperFeatureExtractor()`. Failing to do so can result in silent errors that might be hard to debug.\n"
          ]
        },
        {
          "output_type": "stream",
          "name": "stdout",
          "text": [
            "gen ids torch.Size([1, 74])\n",
            "start time: 240 s\n",
            "end time: 270\n",
            "(480000,)\n",
            "fetaure shape: torch.Size([1, 80, 3000])\n"
          ]
        },
        {
          "output_type": "stream",
          "name": "stderr",
          "text": [
            "It is strongly recommended to pass the `sampling_rate` argument to `WhisperFeatureExtractor()`. Failing to do so can result in silent errors that might be hard to debug.\n"
          ]
        },
        {
          "output_type": "stream",
          "name": "stdout",
          "text": [
            "gen ids torch.Size([1, 71])\n",
            "start time: 270 s\n",
            "end time: 300\n",
            "(480000,)\n",
            "fetaure shape: torch.Size([1, 80, 3000])\n"
          ]
        },
        {
          "output_type": "stream",
          "name": "stderr",
          "text": [
            "It is strongly recommended to pass the `sampling_rate` argument to `WhisperFeatureExtractor()`. Failing to do so can result in silent errors that might be hard to debug.\n"
          ]
        },
        {
          "output_type": "stream",
          "name": "stdout",
          "text": [
            "gen ids torch.Size([1, 86])\n",
            "start time: 300 s\n",
            "end time: 330\n",
            "(480000,)\n",
            "fetaure shape: torch.Size([1, 80, 3000])\n"
          ]
        },
        {
          "output_type": "stream",
          "name": "stderr",
          "text": [
            "It is strongly recommended to pass the `sampling_rate` argument to `WhisperFeatureExtractor()`. Failing to do so can result in silent errors that might be hard to debug.\n"
          ]
        },
        {
          "output_type": "stream",
          "name": "stdout",
          "text": [
            "gen ids torch.Size([1, 78])\n",
            "start time: 330 s\n",
            "end time: 360\n",
            "(480000,)\n",
            "fetaure shape: torch.Size([1, 80, 3000])\n"
          ]
        },
        {
          "output_type": "stream",
          "name": "stderr",
          "text": [
            "It is strongly recommended to pass the `sampling_rate` argument to `WhisperFeatureExtractor()`. Failing to do so can result in silent errors that might be hard to debug.\n"
          ]
        },
        {
          "output_type": "stream",
          "name": "stdout",
          "text": [
            "gen ids torch.Size([1, 83])\n",
            "start time: 360 s\n",
            "end time: 390\n",
            "(480000,)\n",
            "fetaure shape: torch.Size([1, 80, 3000])\n"
          ]
        },
        {
          "output_type": "stream",
          "name": "stderr",
          "text": [
            "It is strongly recommended to pass the `sampling_rate` argument to `WhisperFeatureExtractor()`. Failing to do so can result in silent errors that might be hard to debug.\n"
          ]
        },
        {
          "output_type": "stream",
          "name": "stdout",
          "text": [
            "gen ids torch.Size([1, 81])\n",
            "start time: 390 s\n",
            "end time: 420\n",
            "(480000,)\n",
            "fetaure shape: torch.Size([1, 80, 3000])\n"
          ]
        },
        {
          "output_type": "stream",
          "name": "stderr",
          "text": [
            "It is strongly recommended to pass the `sampling_rate` argument to `WhisperFeatureExtractor()`. Failing to do so can result in silent errors that might be hard to debug.\n"
          ]
        },
        {
          "output_type": "stream",
          "name": "stdout",
          "text": [
            "gen ids torch.Size([1, 77])\n",
            "start time: 420 s\n",
            "end time: 450\n",
            "(480000,)\n",
            "fetaure shape: torch.Size([1, 80, 3000])\n"
          ]
        },
        {
          "output_type": "stream",
          "name": "stderr",
          "text": [
            "It is strongly recommended to pass the `sampling_rate` argument to `WhisperFeatureExtractor()`. Failing to do so can result in silent errors that might be hard to debug.\n"
          ]
        },
        {
          "output_type": "stream",
          "name": "stdout",
          "text": [
            "gen ids torch.Size([1, 82])\n",
            "start time: 450 s\n",
            "end time: 480\n",
            "(480000,)\n",
            "fetaure shape: torch.Size([1, 80, 3000])\n"
          ]
        },
        {
          "output_type": "stream",
          "name": "stderr",
          "text": [
            "It is strongly recommended to pass the `sampling_rate` argument to `WhisperFeatureExtractor()`. Failing to do so can result in silent errors that might be hard to debug.\n"
          ]
        },
        {
          "output_type": "stream",
          "name": "stdout",
          "text": [
            "gen ids torch.Size([1, 65])\n",
            "start time: 480 s\n",
            "end time: 510\n",
            "(480000,)\n",
            "fetaure shape: torch.Size([1, 80, 3000])\n"
          ]
        },
        {
          "output_type": "stream",
          "name": "stderr",
          "text": [
            "It is strongly recommended to pass the `sampling_rate` argument to `WhisperFeatureExtractor()`. Failing to do so can result in silent errors that might be hard to debug.\n"
          ]
        },
        {
          "output_type": "stream",
          "name": "stdout",
          "text": [
            "gen ids torch.Size([1, 78])\n",
            "start time: 510 s\n",
            "end time: 540\n",
            "(480000,)\n",
            "fetaure shape: torch.Size([1, 80, 3000])\n"
          ]
        },
        {
          "output_type": "stream",
          "name": "stderr",
          "text": [
            "It is strongly recommended to pass the `sampling_rate` argument to `WhisperFeatureExtractor()`. Failing to do so can result in silent errors that might be hard to debug.\n"
          ]
        },
        {
          "output_type": "stream",
          "name": "stdout",
          "text": [
            "gen ids torch.Size([1, 69])\n",
            "start time: 540 s\n",
            "end time: 570\n",
            "(480000,)\n",
            "fetaure shape: torch.Size([1, 80, 3000])\n"
          ]
        },
        {
          "output_type": "stream",
          "name": "stderr",
          "text": [
            "It is strongly recommended to pass the `sampling_rate` argument to `WhisperFeatureExtractor()`. Failing to do so can result in silent errors that might be hard to debug.\n"
          ]
        },
        {
          "output_type": "stream",
          "name": "stdout",
          "text": [
            "gen ids torch.Size([1, 89])\n",
            "start time: 570 s\n",
            "end time: 600\n",
            "(480000,)\n",
            "fetaure shape: torch.Size([1, 80, 3000])\n"
          ]
        },
        {
          "output_type": "stream",
          "name": "stderr",
          "text": [
            "It is strongly recommended to pass the `sampling_rate` argument to `WhisperFeatureExtractor()`. Failing to do so can result in silent errors that might be hard to debug.\n"
          ]
        },
        {
          "output_type": "stream",
          "name": "stdout",
          "text": [
            "gen ids torch.Size([1, 59])\n",
            "start time: 600 s\n",
            "end time: 630\n",
            "(480000,)\n",
            "fetaure shape: torch.Size([1, 80, 3000])\n"
          ]
        },
        {
          "output_type": "stream",
          "name": "stderr",
          "text": [
            "It is strongly recommended to pass the `sampling_rate` argument to `WhisperFeatureExtractor()`. Failing to do so can result in silent errors that might be hard to debug.\n"
          ]
        },
        {
          "output_type": "stream",
          "name": "stdout",
          "text": [
            "gen ids torch.Size([1, 64])\n",
            "start time: 630 s\n",
            "end time: 660\n",
            "(480000,)\n",
            "fetaure shape: torch.Size([1, 80, 3000])\n"
          ]
        },
        {
          "output_type": "stream",
          "name": "stderr",
          "text": [
            "It is strongly recommended to pass the `sampling_rate` argument to `WhisperFeatureExtractor()`. Failing to do so can result in silent errors that might be hard to debug.\n"
          ]
        },
        {
          "output_type": "stream",
          "name": "stdout",
          "text": [
            "gen ids torch.Size([1, 69])\n",
            "start time: 660 s\n",
            "end time: 690\n",
            "(480000,)\n",
            "fetaure shape: torch.Size([1, 80, 3000])\n"
          ]
        },
        {
          "output_type": "stream",
          "name": "stderr",
          "text": [
            "It is strongly recommended to pass the `sampling_rate` argument to `WhisperFeatureExtractor()`. Failing to do so can result in silent errors that might be hard to debug.\n"
          ]
        },
        {
          "output_type": "stream",
          "name": "stdout",
          "text": [
            "gen ids torch.Size([1, 53])\n",
            "start time: 690 s\n",
            "end time: 720\n",
            "(480000,)\n",
            "fetaure shape: torch.Size([1, 80, 3000])\n"
          ]
        },
        {
          "output_type": "stream",
          "name": "stderr",
          "text": [
            "It is strongly recommended to pass the `sampling_rate` argument to `WhisperFeatureExtractor()`. Failing to do so can result in silent errors that might be hard to debug.\n"
          ]
        },
        {
          "output_type": "stream",
          "name": "stdout",
          "text": [
            "gen ids torch.Size([1, 58])\n",
            "start time: 720 s\n",
            "end time: 750\n",
            "(480000,)\n",
            "fetaure shape: torch.Size([1, 80, 3000])\n"
          ]
        },
        {
          "output_type": "stream",
          "name": "stderr",
          "text": [
            "It is strongly recommended to pass the `sampling_rate` argument to `WhisperFeatureExtractor()`. Failing to do so can result in silent errors that might be hard to debug.\n"
          ]
        },
        {
          "output_type": "stream",
          "name": "stdout",
          "text": [
            "gen ids torch.Size([1, 73])\n",
            "start time: 750 s\n",
            "end time: 780\n",
            "(480000,)\n",
            "fetaure shape: torch.Size([1, 80, 3000])\n"
          ]
        },
        {
          "output_type": "stream",
          "name": "stderr",
          "text": [
            "It is strongly recommended to pass the `sampling_rate` argument to `WhisperFeatureExtractor()`. Failing to do so can result in silent errors that might be hard to debug.\n"
          ]
        },
        {
          "output_type": "stream",
          "name": "stdout",
          "text": [
            "gen ids torch.Size([1, 58])\n",
            "start time: 780 s\n",
            "end time: 810\n",
            "(480000,)\n",
            "fetaure shape: torch.Size([1, 80, 3000])\n"
          ]
        },
        {
          "output_type": "stream",
          "name": "stderr",
          "text": [
            "It is strongly recommended to pass the `sampling_rate` argument to `WhisperFeatureExtractor()`. Failing to do so can result in silent errors that might be hard to debug.\n"
          ]
        },
        {
          "output_type": "stream",
          "name": "stdout",
          "text": [
            "gen ids torch.Size([1, 52])\n",
            "start time: 810 s\n",
            "end time: 840\n",
            "(480000,)\n",
            "fetaure shape: torch.Size([1, 80, 3000])\n"
          ]
        },
        {
          "output_type": "stream",
          "name": "stderr",
          "text": [
            "It is strongly recommended to pass the `sampling_rate` argument to `WhisperFeatureExtractor()`. Failing to do so can result in silent errors that might be hard to debug.\n"
          ]
        },
        {
          "output_type": "stream",
          "name": "stdout",
          "text": [
            "gen ids torch.Size([1, 72])\n",
            "start time: 840 s\n",
            "end time: 870\n",
            "(480000,)\n",
            "fetaure shape: torch.Size([1, 80, 3000])\n"
          ]
        },
        {
          "output_type": "stream",
          "name": "stderr",
          "text": [
            "It is strongly recommended to pass the `sampling_rate` argument to `WhisperFeatureExtractor()`. Failing to do so can result in silent errors that might be hard to debug.\n"
          ]
        },
        {
          "output_type": "stream",
          "name": "stdout",
          "text": [
            "gen ids torch.Size([1, 72])\n",
            "start time: 870 s\n",
            "end time: 889.5680625\n",
            "(313089,)\n",
            "fetaure shape: torch.Size([1, 80, 3000])\n",
            "gen ids torch.Size([1, 52])\n",
            "BetterActivation&LossforClassification：Softmax&CategoricalCrossentropy(DL09)\n",
            "AlphaGo & AlphaGo Zero (DL 24).wav\n"
          ]
        },
        {
          "output_type": "stream",
          "name": "stderr",
          "text": [
            "It is strongly recommended to pass the `sampling_rate` argument to `WhisperFeatureExtractor()`. Failing to do so can result in silent errors that might be hard to debug.\n"
          ]
        },
        {
          "output_type": "stream",
          "name": "stdout",
          "text": [
            "start time: 0 s\n",
            "end time: 30\n",
            "(480000,)\n",
            "fetaure shape: torch.Size([1, 80, 3000])\n"
          ]
        },
        {
          "output_type": "stream",
          "name": "stderr",
          "text": [
            "It is strongly recommended to pass the `sampling_rate` argument to `WhisperFeatureExtractor()`. Failing to do so can result in silent errors that might be hard to debug.\n"
          ]
        },
        {
          "output_type": "stream",
          "name": "stdout",
          "text": [
            "gen ids torch.Size([1, 80])\n",
            "start time: 30 s\n",
            "end time: 60\n",
            "(480000,)\n",
            "fetaure shape: torch.Size([1, 80, 3000])\n"
          ]
        },
        {
          "output_type": "stream",
          "name": "stderr",
          "text": [
            "It is strongly recommended to pass the `sampling_rate` argument to `WhisperFeatureExtractor()`. Failing to do so can result in silent errors that might be hard to debug.\n"
          ]
        },
        {
          "output_type": "stream",
          "name": "stdout",
          "text": [
            "gen ids torch.Size([1, 79])\n",
            "start time: 60 s\n",
            "end time: 90\n",
            "(480000,)\n",
            "fetaure shape: torch.Size([1, 80, 3000])\n"
          ]
        },
        {
          "output_type": "stream",
          "name": "stderr",
          "text": [
            "It is strongly recommended to pass the `sampling_rate` argument to `WhisperFeatureExtractor()`. Failing to do so can result in silent errors that might be hard to debug.\n"
          ]
        },
        {
          "output_type": "stream",
          "name": "stdout",
          "text": [
            "gen ids torch.Size([1, 95])\n",
            "start time: 90 s\n",
            "end time: 120\n",
            "(480000,)\n",
            "fetaure shape: torch.Size([1, 80, 3000])\n"
          ]
        },
        {
          "output_type": "stream",
          "name": "stderr",
          "text": [
            "It is strongly recommended to pass the `sampling_rate` argument to `WhisperFeatureExtractor()`. Failing to do so can result in silent errors that might be hard to debug.\n"
          ]
        },
        {
          "output_type": "stream",
          "name": "stdout",
          "text": [
            "gen ids torch.Size([1, 74])\n",
            "start time: 120 s\n",
            "end time: 150\n",
            "(480000,)\n",
            "fetaure shape: torch.Size([1, 80, 3000])\n"
          ]
        },
        {
          "output_type": "stream",
          "name": "stderr",
          "text": [
            "It is strongly recommended to pass the `sampling_rate` argument to `WhisperFeatureExtractor()`. Failing to do so can result in silent errors that might be hard to debug.\n"
          ]
        },
        {
          "output_type": "stream",
          "name": "stdout",
          "text": [
            "gen ids torch.Size([1, 87])\n",
            "start time: 150 s\n",
            "end time: 180\n",
            "(480000,)\n",
            "fetaure shape: torch.Size([1, 80, 3000])\n"
          ]
        },
        {
          "output_type": "stream",
          "name": "stderr",
          "text": [
            "It is strongly recommended to pass the `sampling_rate` argument to `WhisperFeatureExtractor()`. Failing to do so can result in silent errors that might be hard to debug.\n"
          ]
        },
        {
          "output_type": "stream",
          "name": "stdout",
          "text": [
            "gen ids torch.Size([1, 80])\n",
            "start time: 180 s\n",
            "end time: 210\n",
            "(480000,)\n",
            "fetaure shape: torch.Size([1, 80, 3000])\n"
          ]
        },
        {
          "output_type": "stream",
          "name": "stderr",
          "text": [
            "It is strongly recommended to pass the `sampling_rate` argument to `WhisperFeatureExtractor()`. Failing to do so can result in silent errors that might be hard to debug.\n"
          ]
        },
        {
          "output_type": "stream",
          "name": "stdout",
          "text": [
            "gen ids torch.Size([1, 81])\n",
            "start time: 210 s\n",
            "end time: 240\n",
            "(480000,)\n",
            "fetaure shape: torch.Size([1, 80, 3000])\n"
          ]
        },
        {
          "output_type": "stream",
          "name": "stderr",
          "text": [
            "It is strongly recommended to pass the `sampling_rate` argument to `WhisperFeatureExtractor()`. Failing to do so can result in silent errors that might be hard to debug.\n"
          ]
        },
        {
          "output_type": "stream",
          "name": "stdout",
          "text": [
            "gen ids torch.Size([1, 71])\n",
            "start time: 240 s\n",
            "end time: 270\n",
            "(480000,)\n",
            "fetaure shape: torch.Size([1, 80, 3000])\n"
          ]
        },
        {
          "output_type": "stream",
          "name": "stderr",
          "text": [
            "It is strongly recommended to pass the `sampling_rate` argument to `WhisperFeatureExtractor()`. Failing to do so can result in silent errors that might be hard to debug.\n"
          ]
        },
        {
          "output_type": "stream",
          "name": "stdout",
          "text": [
            "gen ids torch.Size([1, 73])\n",
            "start time: 270 s\n",
            "end time: 300\n",
            "(480000,)\n",
            "fetaure shape: torch.Size([1, 80, 3000])\n"
          ]
        },
        {
          "output_type": "stream",
          "name": "stderr",
          "text": [
            "It is strongly recommended to pass the `sampling_rate` argument to `WhisperFeatureExtractor()`. Failing to do so can result in silent errors that might be hard to debug.\n"
          ]
        },
        {
          "output_type": "stream",
          "name": "stdout",
          "text": [
            "gen ids torch.Size([1, 86])\n",
            "start time: 300 s\n",
            "end time: 330\n",
            "(480000,)\n",
            "fetaure shape: torch.Size([1, 80, 3000])\n"
          ]
        },
        {
          "output_type": "stream",
          "name": "stderr",
          "text": [
            "It is strongly recommended to pass the `sampling_rate` argument to `WhisperFeatureExtractor()`. Failing to do so can result in silent errors that might be hard to debug.\n"
          ]
        },
        {
          "output_type": "stream",
          "name": "stdout",
          "text": [
            "gen ids torch.Size([1, 72])\n",
            "start time: 330 s\n",
            "end time: 360\n",
            "(480000,)\n",
            "fetaure shape: torch.Size([1, 80, 3000])\n"
          ]
        },
        {
          "output_type": "stream",
          "name": "stderr",
          "text": [
            "It is strongly recommended to pass the `sampling_rate` argument to `WhisperFeatureExtractor()`. Failing to do so can result in silent errors that might be hard to debug.\n"
          ]
        },
        {
          "output_type": "stream",
          "name": "stdout",
          "text": [
            "gen ids torch.Size([1, 74])\n",
            "start time: 360 s\n",
            "end time: 390\n",
            "(480000,)\n",
            "fetaure shape: torch.Size([1, 80, 3000])\n"
          ]
        },
        {
          "output_type": "stream",
          "name": "stderr",
          "text": [
            "It is strongly recommended to pass the `sampling_rate` argument to `WhisperFeatureExtractor()`. Failing to do so can result in silent errors that might be hard to debug.\n"
          ]
        },
        {
          "output_type": "stream",
          "name": "stdout",
          "text": [
            "gen ids torch.Size([1, 67])\n",
            "start time: 390 s\n",
            "end time: 420\n",
            "(480000,)\n",
            "fetaure shape: torch.Size([1, 80, 3000])\n"
          ]
        },
        {
          "output_type": "stream",
          "name": "stderr",
          "text": [
            "It is strongly recommended to pass the `sampling_rate` argument to `WhisperFeatureExtractor()`. Failing to do so can result in silent errors that might be hard to debug.\n"
          ]
        },
        {
          "output_type": "stream",
          "name": "stdout",
          "text": [
            "gen ids torch.Size([1, 69])\n",
            "start time: 420 s\n",
            "end time: 450\n",
            "(480000,)\n",
            "fetaure shape: torch.Size([1, 80, 3000])\n"
          ]
        },
        {
          "output_type": "stream",
          "name": "stderr",
          "text": [
            "It is strongly recommended to pass the `sampling_rate` argument to `WhisperFeatureExtractor()`. Failing to do so can result in silent errors that might be hard to debug.\n"
          ]
        },
        {
          "output_type": "stream",
          "name": "stdout",
          "text": [
            "gen ids torch.Size([1, 78])\n",
            "start time: 450 s\n",
            "end time: 480\n",
            "(480000,)\n",
            "fetaure shape: torch.Size([1, 80, 3000])\n"
          ]
        },
        {
          "output_type": "stream",
          "name": "stderr",
          "text": [
            "It is strongly recommended to pass the `sampling_rate` argument to `WhisperFeatureExtractor()`. Failing to do so can result in silent errors that might be hard to debug.\n"
          ]
        },
        {
          "output_type": "stream",
          "name": "stdout",
          "text": [
            "gen ids torch.Size([1, 78])\n",
            "start time: 480 s\n",
            "end time: 510\n",
            "(480000,)\n",
            "fetaure shape: torch.Size([1, 80, 3000])\n"
          ]
        },
        {
          "output_type": "stream",
          "name": "stderr",
          "text": [
            "It is strongly recommended to pass the `sampling_rate` argument to `WhisperFeatureExtractor()`. Failing to do so can result in silent errors that might be hard to debug.\n"
          ]
        },
        {
          "output_type": "stream",
          "name": "stdout",
          "text": [
            "gen ids torch.Size([1, 82])\n",
            "start time: 510 s\n",
            "end time: 540\n",
            "(480000,)\n",
            "fetaure shape: torch.Size([1, 80, 3000])\n"
          ]
        },
        {
          "output_type": "stream",
          "name": "stderr",
          "text": [
            "It is strongly recommended to pass the `sampling_rate` argument to `WhisperFeatureExtractor()`. Failing to do so can result in silent errors that might be hard to debug.\n"
          ]
        },
        {
          "output_type": "stream",
          "name": "stdout",
          "text": [
            "gen ids torch.Size([1, 77])\n",
            "start time: 540 s\n",
            "end time: 570\n",
            "(480000,)\n",
            "fetaure shape: torch.Size([1, 80, 3000])\n"
          ]
        },
        {
          "output_type": "stream",
          "name": "stderr",
          "text": [
            "It is strongly recommended to pass the `sampling_rate` argument to `WhisperFeatureExtractor()`. Failing to do so can result in silent errors that might be hard to debug.\n"
          ]
        },
        {
          "output_type": "stream",
          "name": "stdout",
          "text": [
            "gen ids torch.Size([1, 80])\n",
            "start time: 570 s\n",
            "end time: 600\n",
            "(480000,)\n",
            "fetaure shape: torch.Size([1, 80, 3000])\n"
          ]
        },
        {
          "output_type": "stream",
          "name": "stderr",
          "text": [
            "It is strongly recommended to pass the `sampling_rate` argument to `WhisperFeatureExtractor()`. Failing to do so can result in silent errors that might be hard to debug.\n"
          ]
        },
        {
          "output_type": "stream",
          "name": "stdout",
          "text": [
            "gen ids torch.Size([1, 63])\n",
            "start time: 600 s\n",
            "end time: 630\n",
            "(480000,)\n",
            "fetaure shape: torch.Size([1, 80, 3000])\n"
          ]
        },
        {
          "output_type": "stream",
          "name": "stderr",
          "text": [
            "It is strongly recommended to pass the `sampling_rate` argument to `WhisperFeatureExtractor()`. Failing to do so can result in silent errors that might be hard to debug.\n"
          ]
        },
        {
          "output_type": "stream",
          "name": "stdout",
          "text": [
            "gen ids torch.Size([1, 73])\n",
            "start time: 630 s\n",
            "end time: 660\n",
            "(480000,)\n",
            "fetaure shape: torch.Size([1, 80, 3000])\n"
          ]
        },
        {
          "output_type": "stream",
          "name": "stderr",
          "text": [
            "It is strongly recommended to pass the `sampling_rate` argument to `WhisperFeatureExtractor()`. Failing to do so can result in silent errors that might be hard to debug.\n"
          ]
        },
        {
          "output_type": "stream",
          "name": "stdout",
          "text": [
            "gen ids torch.Size([1, 72])\n",
            "start time: 660 s\n",
            "end time: 690\n",
            "(480000,)\n",
            "fetaure shape: torch.Size([1, 80, 3000])\n"
          ]
        },
        {
          "output_type": "stream",
          "name": "stderr",
          "text": [
            "It is strongly recommended to pass the `sampling_rate` argument to `WhisperFeatureExtractor()`. Failing to do so can result in silent errors that might be hard to debug.\n"
          ]
        },
        {
          "output_type": "stream",
          "name": "stdout",
          "text": [
            "gen ids torch.Size([1, 72])\n",
            "start time: 690 s\n",
            "end time: 720\n",
            "(480000,)\n",
            "fetaure shape: torch.Size([1, 80, 3000])\n"
          ]
        },
        {
          "output_type": "stream",
          "name": "stderr",
          "text": [
            "It is strongly recommended to pass the `sampling_rate` argument to `WhisperFeatureExtractor()`. Failing to do so can result in silent errors that might be hard to debug.\n"
          ]
        },
        {
          "output_type": "stream",
          "name": "stdout",
          "text": [
            "gen ids torch.Size([1, 77])\n",
            "start time: 720 s\n",
            "end time: 750\n",
            "(480000,)\n",
            "fetaure shape: torch.Size([1, 80, 3000])\n"
          ]
        },
        {
          "output_type": "stream",
          "name": "stderr",
          "text": [
            "It is strongly recommended to pass the `sampling_rate` argument to `WhisperFeatureExtractor()`. Failing to do so can result in silent errors that might be hard to debug.\n"
          ]
        },
        {
          "output_type": "stream",
          "name": "stdout",
          "text": [
            "gen ids torch.Size([1, 80])\n",
            "start time: 750 s\n",
            "end time: 780\n",
            "(480000,)\n",
            "fetaure shape: torch.Size([1, 80, 3000])\n"
          ]
        },
        {
          "output_type": "stream",
          "name": "stderr",
          "text": [
            "It is strongly recommended to pass the `sampling_rate` argument to `WhisperFeatureExtractor()`. Failing to do so can result in silent errors that might be hard to debug.\n"
          ]
        },
        {
          "output_type": "stream",
          "name": "stdout",
          "text": [
            "gen ids torch.Size([1, 79])\n",
            "start time: 780 s\n",
            "end time: 810\n",
            "(480000,)\n",
            "fetaure shape: torch.Size([1, 80, 3000])\n"
          ]
        },
        {
          "output_type": "stream",
          "name": "stderr",
          "text": [
            "It is strongly recommended to pass the `sampling_rate` argument to `WhisperFeatureExtractor()`. Failing to do so can result in silent errors that might be hard to debug.\n"
          ]
        },
        {
          "output_type": "stream",
          "name": "stdout",
          "text": [
            "gen ids torch.Size([1, 68])\n",
            "start time: 810 s\n",
            "end time: 840\n",
            "(480000,)\n",
            "fetaure shape: torch.Size([1, 80, 3000])\n"
          ]
        },
        {
          "output_type": "stream",
          "name": "stderr",
          "text": [
            "It is strongly recommended to pass the `sampling_rate` argument to `WhisperFeatureExtractor()`. Failing to do so can result in silent errors that might be hard to debug.\n"
          ]
        },
        {
          "output_type": "stream",
          "name": "stdout",
          "text": [
            "gen ids torch.Size([1, 77])\n",
            "start time: 840 s\n",
            "end time: 870\n",
            "(480000,)\n",
            "fetaure shape: torch.Size([1, 80, 3000])\n"
          ]
        },
        {
          "output_type": "stream",
          "name": "stderr",
          "text": [
            "It is strongly recommended to pass the `sampling_rate` argument to `WhisperFeatureExtractor()`. Failing to do so can result in silent errors that might be hard to debug.\n"
          ]
        },
        {
          "output_type": "stream",
          "name": "stdout",
          "text": [
            "gen ids torch.Size([1, 80])\n",
            "start time: 870 s\n",
            "end time: 900\n",
            "(480000,)\n",
            "fetaure shape: torch.Size([1, 80, 3000])\n"
          ]
        },
        {
          "output_type": "stream",
          "name": "stderr",
          "text": [
            "It is strongly recommended to pass the `sampling_rate` argument to `WhisperFeatureExtractor()`. Failing to do so can result in silent errors that might be hard to debug.\n"
          ]
        },
        {
          "output_type": "stream",
          "name": "stdout",
          "text": [
            "gen ids torch.Size([1, 86])\n",
            "start time: 900 s\n",
            "end time: 930\n",
            "(480000,)\n",
            "fetaure shape: torch.Size([1, 80, 3000])\n"
          ]
        },
        {
          "output_type": "stream",
          "name": "stderr",
          "text": [
            "It is strongly recommended to pass the `sampling_rate` argument to `WhisperFeatureExtractor()`. Failing to do so can result in silent errors that might be hard to debug.\n"
          ]
        },
        {
          "output_type": "stream",
          "name": "stdout",
          "text": [
            "gen ids torch.Size([1, 79])\n",
            "start time: 930 s\n",
            "end time: 960\n",
            "(480000,)\n",
            "fetaure shape: torch.Size([1, 80, 3000])\n"
          ]
        },
        {
          "output_type": "stream",
          "name": "stderr",
          "text": [
            "It is strongly recommended to pass the `sampling_rate` argument to `WhisperFeatureExtractor()`. Failing to do so can result in silent errors that might be hard to debug.\n"
          ]
        },
        {
          "output_type": "stream",
          "name": "stdout",
          "text": [
            "gen ids torch.Size([1, 72])\n",
            "start time: 960 s\n",
            "end time: 990\n",
            "(480000,)\n",
            "fetaure shape: torch.Size([1, 80, 3000])\n"
          ]
        },
        {
          "output_type": "stream",
          "name": "stderr",
          "text": [
            "It is strongly recommended to pass the `sampling_rate` argument to `WhisperFeatureExtractor()`. Failing to do so can result in silent errors that might be hard to debug.\n"
          ]
        },
        {
          "output_type": "stream",
          "name": "stdout",
          "text": [
            "gen ids torch.Size([1, 90])\n",
            "start time: 990 s\n",
            "end time: 1020\n",
            "(480000,)\n",
            "fetaure shape: torch.Size([1, 80, 3000])\n"
          ]
        },
        {
          "output_type": "stream",
          "name": "stderr",
          "text": [
            "It is strongly recommended to pass the `sampling_rate` argument to `WhisperFeatureExtractor()`. Failing to do so can result in silent errors that might be hard to debug.\n"
          ]
        },
        {
          "output_type": "stream",
          "name": "stdout",
          "text": [
            "gen ids torch.Size([1, 76])\n",
            "start time: 1020 s\n",
            "end time: 1050\n",
            "(480000,)\n",
            "fetaure shape: torch.Size([1, 80, 3000])\n"
          ]
        },
        {
          "output_type": "stream",
          "name": "stderr",
          "text": [
            "It is strongly recommended to pass the `sampling_rate` argument to `WhisperFeatureExtractor()`. Failing to do so can result in silent errors that might be hard to debug.\n"
          ]
        },
        {
          "output_type": "stream",
          "name": "stdout",
          "text": [
            "gen ids torch.Size([1, 77])\n",
            "start time: 1050 s\n",
            "end time: 1080\n",
            "(480000,)\n",
            "fetaure shape: torch.Size([1, 80, 3000])\n"
          ]
        },
        {
          "output_type": "stream",
          "name": "stderr",
          "text": [
            "It is strongly recommended to pass the `sampling_rate` argument to `WhisperFeatureExtractor()`. Failing to do so can result in silent errors that might be hard to debug.\n"
          ]
        },
        {
          "output_type": "stream",
          "name": "stdout",
          "text": [
            "gen ids torch.Size([1, 75])\n",
            "start time: 1080 s\n",
            "end time: 1110\n",
            "(480000,)\n",
            "fetaure shape: torch.Size([1, 80, 3000])\n"
          ]
        },
        {
          "output_type": "stream",
          "name": "stderr",
          "text": [
            "It is strongly recommended to pass the `sampling_rate` argument to `WhisperFeatureExtractor()`. Failing to do so can result in silent errors that might be hard to debug.\n"
          ]
        },
        {
          "output_type": "stream",
          "name": "stdout",
          "text": [
            "gen ids torch.Size([1, 79])\n",
            "start time: 1110 s\n",
            "end time: 1140\n",
            "(480000,)\n",
            "fetaure shape: torch.Size([1, 80, 3000])\n"
          ]
        },
        {
          "output_type": "stream",
          "name": "stderr",
          "text": [
            "It is strongly recommended to pass the `sampling_rate` argument to `WhisperFeatureExtractor()`. Failing to do so can result in silent errors that might be hard to debug.\n"
          ]
        },
        {
          "output_type": "stream",
          "name": "stdout",
          "text": [
            "gen ids torch.Size([1, 75])\n",
            "start time: 1140 s\n",
            "end time: 1170\n",
            "(480000,)\n",
            "fetaure shape: torch.Size([1, 80, 3000])\n"
          ]
        },
        {
          "output_type": "stream",
          "name": "stderr",
          "text": [
            "It is strongly recommended to pass the `sampling_rate` argument to `WhisperFeatureExtractor()`. Failing to do so can result in silent errors that might be hard to debug.\n"
          ]
        },
        {
          "output_type": "stream",
          "name": "stdout",
          "text": [
            "gen ids torch.Size([1, 71])\n",
            "start time: 1170 s\n",
            "end time: 1200\n",
            "(480000,)\n",
            "fetaure shape: torch.Size([1, 80, 3000])\n"
          ]
        },
        {
          "output_type": "stream",
          "name": "stderr",
          "text": [
            "It is strongly recommended to pass the `sampling_rate` argument to `WhisperFeatureExtractor()`. Failing to do so can result in silent errors that might be hard to debug.\n"
          ]
        },
        {
          "output_type": "stream",
          "name": "stdout",
          "text": [
            "gen ids torch.Size([1, 81])\n",
            "start time: 1200 s\n",
            "end time: 1230\n",
            "(480000,)\n",
            "fetaure shape: torch.Size([1, 80, 3000])\n"
          ]
        },
        {
          "output_type": "stream",
          "name": "stderr",
          "text": [
            "It is strongly recommended to pass the `sampling_rate` argument to `WhisperFeatureExtractor()`. Failing to do so can result in silent errors that might be hard to debug.\n"
          ]
        },
        {
          "output_type": "stream",
          "name": "stdout",
          "text": [
            "gen ids torch.Size([1, 74])\n",
            "start time: 1230 s\n",
            "end time: 1260\n",
            "(480000,)\n",
            "fetaure shape: torch.Size([1, 80, 3000])\n"
          ]
        },
        {
          "output_type": "stream",
          "name": "stderr",
          "text": [
            "It is strongly recommended to pass the `sampling_rate` argument to `WhisperFeatureExtractor()`. Failing to do so can result in silent errors that might be hard to debug.\n"
          ]
        },
        {
          "output_type": "stream",
          "name": "stdout",
          "text": [
            "gen ids torch.Size([1, 74])\n",
            "start time: 1260 s\n",
            "end time: 1290\n",
            "(480000,)\n",
            "fetaure shape: torch.Size([1, 80, 3000])\n"
          ]
        },
        {
          "output_type": "stream",
          "name": "stderr",
          "text": [
            "It is strongly recommended to pass the `sampling_rate` argument to `WhisperFeatureExtractor()`. Failing to do so can result in silent errors that might be hard to debug.\n"
          ]
        },
        {
          "output_type": "stream",
          "name": "stdout",
          "text": [
            "gen ids torch.Size([1, 84])\n",
            "start time: 1290 s\n",
            "end time: 1320\n",
            "(480000,)\n",
            "fetaure shape: torch.Size([1, 80, 3000])\n"
          ]
        },
        {
          "output_type": "stream",
          "name": "stderr",
          "text": [
            "It is strongly recommended to pass the `sampling_rate` argument to `WhisperFeatureExtractor()`. Failing to do so can result in silent errors that might be hard to debug.\n"
          ]
        },
        {
          "output_type": "stream",
          "name": "stdout",
          "text": [
            "gen ids torch.Size([1, 80])\n",
            "start time: 1320 s\n",
            "end time: 1350\n",
            "(480000,)\n",
            "fetaure shape: torch.Size([1, 80, 3000])\n"
          ]
        },
        {
          "output_type": "stream",
          "name": "stderr",
          "text": [
            "It is strongly recommended to pass the `sampling_rate` argument to `WhisperFeatureExtractor()`. Failing to do so can result in silent errors that might be hard to debug.\n"
          ]
        },
        {
          "output_type": "stream",
          "name": "stdout",
          "text": [
            "gen ids torch.Size([1, 74])\n",
            "start time: 1350 s\n",
            "end time: 1361.21175\n",
            "(179388,)\n",
            "fetaure shape: torch.Size([1, 80, 3000])\n",
            "gen ids torch.Size([1, 28])\n",
            "AlphaGo&AlphaGoZero(DL24)\n",
            "The Adam Optimizer (DL 21).wav\n"
          ]
        },
        {
          "output_type": "stream",
          "name": "stderr",
          "text": [
            "It is strongly recommended to pass the `sampling_rate` argument to `WhisperFeatureExtractor()`. Failing to do so can result in silent errors that might be hard to debug.\n"
          ]
        },
        {
          "output_type": "stream",
          "name": "stdout",
          "text": [
            "start time: 0 s\n",
            "end time: 30\n",
            "(480000,)\n",
            "fetaure shape: torch.Size([1, 80, 3000])\n"
          ]
        },
        {
          "output_type": "stream",
          "name": "stderr",
          "text": [
            "It is strongly recommended to pass the `sampling_rate` argument to `WhisperFeatureExtractor()`. Failing to do so can result in silent errors that might be hard to debug.\n"
          ]
        },
        {
          "output_type": "stream",
          "name": "stdout",
          "text": [
            "gen ids torch.Size([1, 85])\n",
            "start time: 30 s\n",
            "end time: 60\n",
            "(480000,)\n",
            "fetaure shape: torch.Size([1, 80, 3000])\n"
          ]
        },
        {
          "output_type": "stream",
          "name": "stderr",
          "text": [
            "It is strongly recommended to pass the `sampling_rate` argument to `WhisperFeatureExtractor()`. Failing to do so can result in silent errors that might be hard to debug.\n"
          ]
        },
        {
          "output_type": "stream",
          "name": "stdout",
          "text": [
            "gen ids torch.Size([1, 77])\n",
            "start time: 60 s\n",
            "end time: 90\n",
            "(480000,)\n",
            "fetaure shape: torch.Size([1, 80, 3000])\n"
          ]
        },
        {
          "output_type": "stream",
          "name": "stderr",
          "text": [
            "It is strongly recommended to pass the `sampling_rate` argument to `WhisperFeatureExtractor()`. Failing to do so can result in silent errors that might be hard to debug.\n"
          ]
        },
        {
          "output_type": "stream",
          "name": "stdout",
          "text": [
            "gen ids torch.Size([1, 67])\n",
            "start time: 90 s\n",
            "end time: 120\n",
            "(480000,)\n",
            "fetaure shape: torch.Size([1, 80, 3000])\n"
          ]
        },
        {
          "output_type": "stream",
          "name": "stderr",
          "text": [
            "It is strongly recommended to pass the `sampling_rate` argument to `WhisperFeatureExtractor()`. Failing to do so can result in silent errors that might be hard to debug.\n"
          ]
        },
        {
          "output_type": "stream",
          "name": "stdout",
          "text": [
            "gen ids torch.Size([1, 82])\n",
            "start time: 120 s\n",
            "end time: 150\n",
            "(480000,)\n",
            "fetaure shape: torch.Size([1, 80, 3000])\n"
          ]
        },
        {
          "output_type": "stream",
          "name": "stderr",
          "text": [
            "It is strongly recommended to pass the `sampling_rate` argument to `WhisperFeatureExtractor()`. Failing to do so can result in silent errors that might be hard to debug.\n"
          ]
        },
        {
          "output_type": "stream",
          "name": "stdout",
          "text": [
            "gen ids torch.Size([1, 85])\n",
            "start time: 150 s\n",
            "end time: 180\n",
            "(480000,)\n",
            "fetaure shape: torch.Size([1, 80, 3000])\n"
          ]
        },
        {
          "output_type": "stream",
          "name": "stderr",
          "text": [
            "It is strongly recommended to pass the `sampling_rate` argument to `WhisperFeatureExtractor()`. Failing to do so can result in silent errors that might be hard to debug.\n"
          ]
        },
        {
          "output_type": "stream",
          "name": "stdout",
          "text": [
            "gen ids torch.Size([1, 87])\n",
            "start time: 180 s\n",
            "end time: 210\n",
            "(480000,)\n",
            "fetaure shape: torch.Size([1, 80, 3000])\n"
          ]
        },
        {
          "output_type": "stream",
          "name": "stderr",
          "text": [
            "It is strongly recommended to pass the `sampling_rate` argument to `WhisperFeatureExtractor()`. Failing to do so can result in silent errors that might be hard to debug.\n"
          ]
        },
        {
          "output_type": "stream",
          "name": "stdout",
          "text": [
            "gen ids torch.Size([1, 85])\n",
            "start time: 210 s\n",
            "end time: 240\n",
            "(480000,)\n",
            "fetaure shape: torch.Size([1, 80, 3000])\n"
          ]
        },
        {
          "output_type": "stream",
          "name": "stderr",
          "text": [
            "It is strongly recommended to pass the `sampling_rate` argument to `WhisperFeatureExtractor()`. Failing to do so can result in silent errors that might be hard to debug.\n"
          ]
        },
        {
          "output_type": "stream",
          "name": "stdout",
          "text": [
            "gen ids torch.Size([1, 68])\n",
            "start time: 240 s\n",
            "end time: 270\n",
            "(480000,)\n",
            "fetaure shape: torch.Size([1, 80, 3000])\n"
          ]
        },
        {
          "output_type": "stream",
          "name": "stderr",
          "text": [
            "It is strongly recommended to pass the `sampling_rate` argument to `WhisperFeatureExtractor()`. Failing to do so can result in silent errors that might be hard to debug.\n"
          ]
        },
        {
          "output_type": "stream",
          "name": "stdout",
          "text": [
            "gen ids torch.Size([1, 66])\n",
            "start time: 270 s\n",
            "end time: 300\n",
            "(480000,)\n",
            "fetaure shape: torch.Size([1, 80, 3000])\n"
          ]
        },
        {
          "output_type": "stream",
          "name": "stderr",
          "text": [
            "It is strongly recommended to pass the `sampling_rate` argument to `WhisperFeatureExtractor()`. Failing to do so can result in silent errors that might be hard to debug.\n"
          ]
        },
        {
          "output_type": "stream",
          "name": "stdout",
          "text": [
            "gen ids torch.Size([1, 71])\n",
            "start time: 300 s\n",
            "end time: 330\n",
            "(480000,)\n",
            "fetaure shape: torch.Size([1, 80, 3000])\n"
          ]
        },
        {
          "output_type": "stream",
          "name": "stderr",
          "text": [
            "It is strongly recommended to pass the `sampling_rate` argument to `WhisperFeatureExtractor()`. Failing to do so can result in silent errors that might be hard to debug.\n"
          ]
        },
        {
          "output_type": "stream",
          "name": "stdout",
          "text": [
            "gen ids torch.Size([1, 71])\n",
            "start time: 330 s\n",
            "end time: 360\n",
            "(480000,)\n",
            "fetaure shape: torch.Size([1, 80, 3000])\n"
          ]
        },
        {
          "output_type": "stream",
          "name": "stderr",
          "text": [
            "It is strongly recommended to pass the `sampling_rate` argument to `WhisperFeatureExtractor()`. Failing to do so can result in silent errors that might be hard to debug.\n"
          ]
        },
        {
          "output_type": "stream",
          "name": "stdout",
          "text": [
            "gen ids torch.Size([1, 68])\n",
            "start time: 360 s\n",
            "end time: 390\n",
            "(480000,)\n",
            "fetaure shape: torch.Size([1, 80, 3000])\n"
          ]
        },
        {
          "output_type": "stream",
          "name": "stderr",
          "text": [
            "It is strongly recommended to pass the `sampling_rate` argument to `WhisperFeatureExtractor()`. Failing to do so can result in silent errors that might be hard to debug.\n"
          ]
        },
        {
          "output_type": "stream",
          "name": "stdout",
          "text": [
            "gen ids torch.Size([1, 48])\n",
            "start time: 390 s\n",
            "end time: 420\n",
            "(480000,)\n",
            "fetaure shape: torch.Size([1, 80, 3000])\n"
          ]
        },
        {
          "output_type": "stream",
          "name": "stderr",
          "text": [
            "It is strongly recommended to pass the `sampling_rate` argument to `WhisperFeatureExtractor()`. Failing to do so can result in silent errors that might be hard to debug.\n"
          ]
        },
        {
          "output_type": "stream",
          "name": "stdout",
          "text": [
            "gen ids torch.Size([1, 56])\n",
            "start time: 420 s\n",
            "end time: 450\n",
            "(480000,)\n",
            "fetaure shape: torch.Size([1, 80, 3000])\n"
          ]
        },
        {
          "output_type": "stream",
          "name": "stderr",
          "text": [
            "It is strongly recommended to pass the `sampling_rate` argument to `WhisperFeatureExtractor()`. Failing to do so can result in silent errors that might be hard to debug.\n"
          ]
        },
        {
          "output_type": "stream",
          "name": "stdout",
          "text": [
            "gen ids torch.Size([1, 68])\n",
            "start time: 450 s\n",
            "end time: 480\n",
            "(480000,)\n",
            "fetaure shape: torch.Size([1, 80, 3000])\n"
          ]
        },
        {
          "output_type": "stream",
          "name": "stderr",
          "text": [
            "It is strongly recommended to pass the `sampling_rate` argument to `WhisperFeatureExtractor()`. Failing to do so can result in silent errors that might be hard to debug.\n"
          ]
        },
        {
          "output_type": "stream",
          "name": "stdout",
          "text": [
            "gen ids torch.Size([1, 74])\n",
            "start time: 480 s\n",
            "end time: 510\n",
            "(480000,)\n",
            "fetaure shape: torch.Size([1, 80, 3000])\n"
          ]
        },
        {
          "output_type": "stream",
          "name": "stderr",
          "text": [
            "It is strongly recommended to pass the `sampling_rate` argument to `WhisperFeatureExtractor()`. Failing to do so can result in silent errors that might be hard to debug.\n"
          ]
        },
        {
          "output_type": "stream",
          "name": "stdout",
          "text": [
            "gen ids torch.Size([1, 70])\n",
            "start time: 510 s\n",
            "end time: 540\n",
            "(480000,)\n",
            "fetaure shape: torch.Size([1, 80, 3000])\n"
          ]
        },
        {
          "output_type": "stream",
          "name": "stderr",
          "text": [
            "It is strongly recommended to pass the `sampling_rate` argument to `WhisperFeatureExtractor()`. Failing to do so can result in silent errors that might be hard to debug.\n"
          ]
        },
        {
          "output_type": "stream",
          "name": "stdout",
          "text": [
            "gen ids torch.Size([1, 91])\n",
            "start time: 540 s\n",
            "end time: 552.9019375\n",
            "(206431,)\n",
            "fetaure shape: torch.Size([1, 80, 3000])\n",
            "gen ids torch.Size([1, 32])\n",
            "TheAdamOptimizer(DL21)\n",
            "Automatic Differentiation (DL 26).wav\n"
          ]
        },
        {
          "output_type": "stream",
          "name": "stderr",
          "text": [
            "It is strongly recommended to pass the `sampling_rate` argument to `WhisperFeatureExtractor()`. Failing to do so can result in silent errors that might be hard to debug.\n"
          ]
        },
        {
          "output_type": "stream",
          "name": "stdout",
          "text": [
            "start time: 0 s\n",
            "end time: 30\n",
            "(480000,)\n",
            "fetaure shape: torch.Size([1, 80, 3000])\n"
          ]
        },
        {
          "output_type": "stream",
          "name": "stderr",
          "text": [
            "It is strongly recommended to pass the `sampling_rate` argument to `WhisperFeatureExtractor()`. Failing to do so can result in silent errors that might be hard to debug.\n"
          ]
        },
        {
          "output_type": "stream",
          "name": "stdout",
          "text": [
            "gen ids torch.Size([1, 81])\n",
            "start time: 30 s\n",
            "end time: 60\n",
            "(480000,)\n",
            "fetaure shape: torch.Size([1, 80, 3000])\n"
          ]
        },
        {
          "output_type": "stream",
          "name": "stderr",
          "text": [
            "It is strongly recommended to pass the `sampling_rate` argument to `WhisperFeatureExtractor()`. Failing to do so can result in silent errors that might be hard to debug.\n"
          ]
        },
        {
          "output_type": "stream",
          "name": "stdout",
          "text": [
            "gen ids torch.Size([1, 48])\n",
            "start time: 60 s\n",
            "end time: 90\n",
            "(480000,)\n",
            "fetaure shape: torch.Size([1, 80, 3000])\n"
          ]
        },
        {
          "output_type": "stream",
          "name": "stderr",
          "text": [
            "It is strongly recommended to pass the `sampling_rate` argument to `WhisperFeatureExtractor()`. Failing to do so can result in silent errors that might be hard to debug.\n",
            "It is strongly recommended to pass the `sampling_rate` argument to `WhisperFeatureExtractor()`. Failing to do so can result in silent errors that might be hard to debug.\n"
          ]
        },
        {
          "output_type": "stream",
          "name": "stdout",
          "text": [
            "gen ids torch.Size([1, 87])\n",
            "start time: 90 s\n",
            "end time: 120\n",
            "(480000,)\n",
            "fetaure shape: torch.Size([1, 80, 3000])\n",
            "gen ids torch.Size([1, 5])\n",
            "start time: 120 s\n",
            "end time: 150\n",
            "(480000,)\n",
            "fetaure shape: torch.Size([1, 80, 3000])\n"
          ]
        },
        {
          "output_type": "stream",
          "name": "stderr",
          "text": [
            "It is strongly recommended to pass the `sampling_rate` argument to `WhisperFeatureExtractor()`. Failing to do so can result in silent errors that might be hard to debug.\n"
          ]
        },
        {
          "output_type": "stream",
          "name": "stdout",
          "text": [
            "gen ids torch.Size([1, 73])\n",
            "start time: 150 s\n",
            "end time: 180\n",
            "(480000,)\n",
            "fetaure shape: torch.Size([1, 80, 3000])\n"
          ]
        },
        {
          "output_type": "stream",
          "name": "stderr",
          "text": [
            "It is strongly recommended to pass the `sampling_rate` argument to `WhisperFeatureExtractor()`. Failing to do so can result in silent errors that might be hard to debug.\n"
          ]
        },
        {
          "output_type": "stream",
          "name": "stdout",
          "text": [
            "gen ids torch.Size([1, 75])\n",
            "start time: 180 s\n",
            "end time: 210\n",
            "(480000,)\n",
            "fetaure shape: torch.Size([1, 80, 3000])\n"
          ]
        },
        {
          "output_type": "stream",
          "name": "stderr",
          "text": [
            "It is strongly recommended to pass the `sampling_rate` argument to `WhisperFeatureExtractor()`. Failing to do so can result in silent errors that might be hard to debug.\n"
          ]
        },
        {
          "output_type": "stream",
          "name": "stdout",
          "text": [
            "gen ids torch.Size([1, 77])\n",
            "start time: 210 s\n",
            "end time: 240\n",
            "(480000,)\n",
            "fetaure shape: torch.Size([1, 80, 3000])\n"
          ]
        },
        {
          "output_type": "stream",
          "name": "stderr",
          "text": [
            "It is strongly recommended to pass the `sampling_rate` argument to `WhisperFeatureExtractor()`. Failing to do so can result in silent errors that might be hard to debug.\n"
          ]
        },
        {
          "output_type": "stream",
          "name": "stdout",
          "text": [
            "gen ids torch.Size([1, 54])\n",
            "start time: 240 s\n",
            "end time: 270\n",
            "(480000,)\n",
            "fetaure shape: torch.Size([1, 80, 3000])\n"
          ]
        },
        {
          "output_type": "stream",
          "name": "stderr",
          "text": [
            "It is strongly recommended to pass the `sampling_rate` argument to `WhisperFeatureExtractor()`. Failing to do so can result in silent errors that might be hard to debug.\n"
          ]
        },
        {
          "output_type": "stream",
          "name": "stdout",
          "text": [
            "gen ids torch.Size([1, 73])\n",
            "start time: 270 s\n",
            "end time: 300\n",
            "(480000,)\n",
            "fetaure shape: torch.Size([1, 80, 3000])\n"
          ]
        },
        {
          "output_type": "stream",
          "name": "stderr",
          "text": [
            "It is strongly recommended to pass the `sampling_rate` argument to `WhisperFeatureExtractor()`. Failing to do so can result in silent errors that might be hard to debug.\n"
          ]
        },
        {
          "output_type": "stream",
          "name": "stdout",
          "text": [
            "gen ids torch.Size([1, 72])\n",
            "start time: 300 s\n",
            "end time: 330\n",
            "(480000,)\n",
            "fetaure shape: torch.Size([1, 80, 3000])\n"
          ]
        },
        {
          "output_type": "stream",
          "name": "stderr",
          "text": [
            "It is strongly recommended to pass the `sampling_rate` argument to `WhisperFeatureExtractor()`. Failing to do so can result in silent errors that might be hard to debug.\n"
          ]
        },
        {
          "output_type": "stream",
          "name": "stdout",
          "text": [
            "gen ids torch.Size([1, 66])\n",
            "start time: 330 s\n",
            "end time: 360\n",
            "(480000,)\n",
            "fetaure shape: torch.Size([1, 80, 3000])\n"
          ]
        },
        {
          "output_type": "stream",
          "name": "stderr",
          "text": [
            "It is strongly recommended to pass the `sampling_rate` argument to `WhisperFeatureExtractor()`. Failing to do so can result in silent errors that might be hard to debug.\n"
          ]
        },
        {
          "output_type": "stream",
          "name": "stdout",
          "text": [
            "gen ids torch.Size([1, 55])\n",
            "start time: 360 s\n",
            "end time: 390\n",
            "(480000,)\n",
            "fetaure shape: torch.Size([1, 80, 3000])\n"
          ]
        },
        {
          "output_type": "stream",
          "name": "stderr",
          "text": [
            "It is strongly recommended to pass the `sampling_rate` argument to `WhisperFeatureExtractor()`. Failing to do so can result in silent errors that might be hard to debug.\n"
          ]
        },
        {
          "output_type": "stream",
          "name": "stdout",
          "text": [
            "gen ids torch.Size([1, 74])\n",
            "start time: 390 s\n",
            "end time: 420\n",
            "(480000,)\n",
            "fetaure shape: torch.Size([1, 80, 3000])\n"
          ]
        },
        {
          "output_type": "stream",
          "name": "stderr",
          "text": [
            "It is strongly recommended to pass the `sampling_rate` argument to `WhisperFeatureExtractor()`. Failing to do so can result in silent errors that might be hard to debug.\n"
          ]
        },
        {
          "output_type": "stream",
          "name": "stdout",
          "text": [
            "gen ids torch.Size([1, 70])\n",
            "start time: 420 s\n",
            "end time: 450\n",
            "(480000,)\n",
            "fetaure shape: torch.Size([1, 80, 3000])\n"
          ]
        },
        {
          "output_type": "stream",
          "name": "stderr",
          "text": [
            "It is strongly recommended to pass the `sampling_rate` argument to `WhisperFeatureExtractor()`. Failing to do so can result in silent errors that might be hard to debug.\n"
          ]
        },
        {
          "output_type": "stream",
          "name": "stdout",
          "text": [
            "gen ids torch.Size([1, 61])\n",
            "start time: 450 s\n",
            "end time: 480\n",
            "(480000,)\n",
            "fetaure shape: torch.Size([1, 80, 3000])\n"
          ]
        },
        {
          "output_type": "stream",
          "name": "stderr",
          "text": [
            "It is strongly recommended to pass the `sampling_rate` argument to `WhisperFeatureExtractor()`. Failing to do so can result in silent errors that might be hard to debug.\n"
          ]
        },
        {
          "output_type": "stream",
          "name": "stdout",
          "text": [
            "gen ids torch.Size([1, 75])\n",
            "start time: 480 s\n",
            "end time: 510\n",
            "(480000,)\n",
            "fetaure shape: torch.Size([1, 80, 3000])\n"
          ]
        },
        {
          "output_type": "stream",
          "name": "stderr",
          "text": [
            "It is strongly recommended to pass the `sampling_rate` argument to `WhisperFeatureExtractor()`. Failing to do so can result in silent errors that might be hard to debug.\n"
          ]
        },
        {
          "output_type": "stream",
          "name": "stdout",
          "text": [
            "gen ids torch.Size([1, 75])\n",
            "start time: 510 s\n",
            "end time: 540\n",
            "(480000,)\n",
            "fetaure shape: torch.Size([1, 80, 3000])\n"
          ]
        },
        {
          "output_type": "stream",
          "name": "stderr",
          "text": [
            "It is strongly recommended to pass the `sampling_rate` argument to `WhisperFeatureExtractor()`. Failing to do so can result in silent errors that might be hard to debug.\n"
          ]
        },
        {
          "output_type": "stream",
          "name": "stdout",
          "text": [
            "gen ids torch.Size([1, 68])\n",
            "start time: 540 s\n",
            "end time: 570\n",
            "(480000,)\n",
            "fetaure shape: torch.Size([1, 80, 3000])\n"
          ]
        },
        {
          "output_type": "stream",
          "name": "stderr",
          "text": [
            "It is strongly recommended to pass the `sampling_rate` argument to `WhisperFeatureExtractor()`. Failing to do so can result in silent errors that might be hard to debug.\n"
          ]
        },
        {
          "output_type": "stream",
          "name": "stdout",
          "text": [
            "gen ids torch.Size([1, 60])\n",
            "start time: 570 s\n",
            "end time: 600\n",
            "(480000,)\n",
            "fetaure shape: torch.Size([1, 80, 3000])\n"
          ]
        },
        {
          "output_type": "stream",
          "name": "stderr",
          "text": [
            "It is strongly recommended to pass the `sampling_rate` argument to `WhisperFeatureExtractor()`. Failing to do so can result in silent errors that might be hard to debug.\n"
          ]
        },
        {
          "output_type": "stream",
          "name": "stdout",
          "text": [
            "gen ids torch.Size([1, 68])\n",
            "start time: 600 s\n",
            "end time: 630\n",
            "(480000,)\n",
            "fetaure shape: torch.Size([1, 80, 3000])\n"
          ]
        },
        {
          "output_type": "stream",
          "name": "stderr",
          "text": [
            "It is strongly recommended to pass the `sampling_rate` argument to `WhisperFeatureExtractor()`. Failing to do so can result in silent errors that might be hard to debug.\n"
          ]
        },
        {
          "output_type": "stream",
          "name": "stdout",
          "text": [
            "gen ids torch.Size([1, 63])\n",
            "start time: 630 s\n",
            "end time: 660\n",
            "(480000,)\n",
            "fetaure shape: torch.Size([1, 80, 3000])\n"
          ]
        },
        {
          "output_type": "stream",
          "name": "stderr",
          "text": [
            "It is strongly recommended to pass the `sampling_rate` argument to `WhisperFeatureExtractor()`. Failing to do so can result in silent errors that might be hard to debug.\n"
          ]
        },
        {
          "output_type": "stream",
          "name": "stdout",
          "text": [
            "gen ids torch.Size([1, 66])\n",
            "start time: 660 s\n",
            "end time: 683.978625\n",
            "(383658,)\n",
            "fetaure shape: torch.Size([1, 80, 3000])\n",
            "gen ids torch.Size([1, 54])\n",
            "AutomaticDifferentiation(DL26)\n",
            "Convolutional Layers (DL 13).wav\n"
          ]
        },
        {
          "output_type": "stream",
          "name": "stderr",
          "text": [
            "It is strongly recommended to pass the `sampling_rate` argument to `WhisperFeatureExtractor()`. Failing to do so can result in silent errors that might be hard to debug.\n"
          ]
        },
        {
          "output_type": "stream",
          "name": "stdout",
          "text": [
            "start time: 0 s\n",
            "end time: 30\n",
            "(480000,)\n",
            "fetaure shape: torch.Size([1, 80, 3000])\n"
          ]
        },
        {
          "output_type": "stream",
          "name": "stderr",
          "text": [
            "It is strongly recommended to pass the `sampling_rate` argument to `WhisperFeatureExtractor()`. Failing to do so can result in silent errors that might be hard to debug.\n"
          ]
        },
        {
          "output_type": "stream",
          "name": "stdout",
          "text": [
            "gen ids torch.Size([1, 86])\n",
            "start time: 30 s\n",
            "end time: 60\n",
            "(480000,)\n",
            "fetaure shape: torch.Size([1, 80, 3000])\n"
          ]
        },
        {
          "output_type": "stream",
          "name": "stderr",
          "text": [
            "It is strongly recommended to pass the `sampling_rate` argument to `WhisperFeatureExtractor()`. Failing to do so can result in silent errors that might be hard to debug.\n"
          ]
        },
        {
          "output_type": "stream",
          "name": "stdout",
          "text": [
            "gen ids torch.Size([1, 74])\n",
            "start time: 60 s\n",
            "end time: 90\n",
            "(480000,)\n",
            "fetaure shape: torch.Size([1, 80, 3000])\n"
          ]
        },
        {
          "output_type": "stream",
          "name": "stderr",
          "text": [
            "It is strongly recommended to pass the `sampling_rate` argument to `WhisperFeatureExtractor()`. Failing to do so can result in silent errors that might be hard to debug.\n"
          ]
        },
        {
          "output_type": "stream",
          "name": "stdout",
          "text": [
            "gen ids torch.Size([1, 79])\n",
            "start time: 90 s\n",
            "end time: 120\n",
            "(480000,)\n",
            "fetaure shape: torch.Size([1, 80, 3000])\n"
          ]
        },
        {
          "output_type": "stream",
          "name": "stderr",
          "text": [
            "It is strongly recommended to pass the `sampling_rate` argument to `WhisperFeatureExtractor()`. Failing to do so can result in silent errors that might be hard to debug.\n"
          ]
        },
        {
          "output_type": "stream",
          "name": "stdout",
          "text": [
            "gen ids torch.Size([1, 73])\n",
            "start time: 120 s\n",
            "end time: 150\n",
            "(480000,)\n",
            "fetaure shape: torch.Size([1, 80, 3000])\n"
          ]
        },
        {
          "output_type": "stream",
          "name": "stderr",
          "text": [
            "It is strongly recommended to pass the `sampling_rate` argument to `WhisperFeatureExtractor()`. Failing to do so can result in silent errors that might be hard to debug.\n"
          ]
        },
        {
          "output_type": "stream",
          "name": "stdout",
          "text": [
            "gen ids torch.Size([1, 70])\n",
            "start time: 150 s\n",
            "end time: 180\n",
            "(480000,)\n",
            "fetaure shape: torch.Size([1, 80, 3000])\n"
          ]
        },
        {
          "output_type": "stream",
          "name": "stderr",
          "text": [
            "It is strongly recommended to pass the `sampling_rate` argument to `WhisperFeatureExtractor()`. Failing to do so can result in silent errors that might be hard to debug.\n"
          ]
        },
        {
          "output_type": "stream",
          "name": "stdout",
          "text": [
            "gen ids torch.Size([1, 68])\n",
            "start time: 180 s\n",
            "end time: 210\n",
            "(480000,)\n",
            "fetaure shape: torch.Size([1, 80, 3000])\n"
          ]
        },
        {
          "output_type": "stream",
          "name": "stderr",
          "text": [
            "It is strongly recommended to pass the `sampling_rate` argument to `WhisperFeatureExtractor()`. Failing to do so can result in silent errors that might be hard to debug.\n"
          ]
        },
        {
          "output_type": "stream",
          "name": "stdout",
          "text": [
            "gen ids torch.Size([1, 66])\n",
            "start time: 210 s\n",
            "end time: 240\n",
            "(480000,)\n",
            "fetaure shape: torch.Size([1, 80, 3000])\n"
          ]
        },
        {
          "output_type": "stream",
          "name": "stderr",
          "text": [
            "It is strongly recommended to pass the `sampling_rate` argument to `WhisperFeatureExtractor()`. Failing to do so can result in silent errors that might be hard to debug.\n"
          ]
        },
        {
          "output_type": "stream",
          "name": "stdout",
          "text": [
            "gen ids torch.Size([1, 79])\n",
            "start time: 240 s\n",
            "end time: 270\n",
            "(480000,)\n",
            "fetaure shape: torch.Size([1, 80, 3000])\n"
          ]
        },
        {
          "output_type": "stream",
          "name": "stderr",
          "text": [
            "It is strongly recommended to pass the `sampling_rate` argument to `WhisperFeatureExtractor()`. Failing to do so can result in silent errors that might be hard to debug.\n"
          ]
        },
        {
          "output_type": "stream",
          "name": "stdout",
          "text": [
            "gen ids torch.Size([1, 64])\n",
            "start time: 270 s\n",
            "end time: 300\n",
            "(480000,)\n",
            "fetaure shape: torch.Size([1, 80, 3000])\n"
          ]
        },
        {
          "output_type": "stream",
          "name": "stderr",
          "text": [
            "It is strongly recommended to pass the `sampling_rate` argument to `WhisperFeatureExtractor()`. Failing to do so can result in silent errors that might be hard to debug.\n"
          ]
        },
        {
          "output_type": "stream",
          "name": "stdout",
          "text": [
            "gen ids torch.Size([1, 59])\n",
            "start time: 300 s\n",
            "end time: 330\n",
            "(480000,)\n",
            "fetaure shape: torch.Size([1, 80, 3000])\n"
          ]
        },
        {
          "output_type": "stream",
          "name": "stderr",
          "text": [
            "It is strongly recommended to pass the `sampling_rate` argument to `WhisperFeatureExtractor()`. Failing to do so can result in silent errors that might be hard to debug.\n"
          ]
        },
        {
          "output_type": "stream",
          "name": "stdout",
          "text": [
            "gen ids torch.Size([1, 74])\n",
            "start time: 330 s\n",
            "end time: 360\n",
            "(480000,)\n",
            "fetaure shape: torch.Size([1, 80, 3000])\n"
          ]
        },
        {
          "output_type": "stream",
          "name": "stderr",
          "text": [
            "It is strongly recommended to pass the `sampling_rate` argument to `WhisperFeatureExtractor()`. Failing to do so can result in silent errors that might be hard to debug.\n"
          ]
        },
        {
          "output_type": "stream",
          "name": "stdout",
          "text": [
            "gen ids torch.Size([1, 72])\n",
            "start time: 360 s\n",
            "end time: 390\n",
            "(480000,)\n",
            "fetaure shape: torch.Size([1, 80, 3000])\n"
          ]
        },
        {
          "output_type": "stream",
          "name": "stderr",
          "text": [
            "It is strongly recommended to pass the `sampling_rate` argument to `WhisperFeatureExtractor()`. Failing to do so can result in silent errors that might be hard to debug.\n"
          ]
        },
        {
          "output_type": "stream",
          "name": "stdout",
          "text": [
            "gen ids torch.Size([1, 73])\n",
            "start time: 390 s\n",
            "end time: 420\n",
            "(480000,)\n",
            "fetaure shape: torch.Size([1, 80, 3000])\n"
          ]
        },
        {
          "output_type": "stream",
          "name": "stderr",
          "text": [
            "It is strongly recommended to pass the `sampling_rate` argument to `WhisperFeatureExtractor()`. Failing to do so can result in silent errors that might be hard to debug.\n"
          ]
        },
        {
          "output_type": "stream",
          "name": "stdout",
          "text": [
            "gen ids torch.Size([1, 95])\n",
            "start time: 420 s\n",
            "end time: 450\n",
            "(480000,)\n",
            "fetaure shape: torch.Size([1, 80, 3000])\n"
          ]
        },
        {
          "output_type": "stream",
          "name": "stderr",
          "text": [
            "It is strongly recommended to pass the `sampling_rate` argument to `WhisperFeatureExtractor()`. Failing to do so can result in silent errors that might be hard to debug.\n"
          ]
        },
        {
          "output_type": "stream",
          "name": "stdout",
          "text": [
            "gen ids torch.Size([1, 89])\n",
            "start time: 450 s\n",
            "end time: 480\n",
            "(480000,)\n",
            "fetaure shape: torch.Size([1, 80, 3000])\n"
          ]
        },
        {
          "output_type": "stream",
          "name": "stderr",
          "text": [
            "It is strongly recommended to pass the `sampling_rate` argument to `WhisperFeatureExtractor()`. Failing to do so can result in silent errors that might be hard to debug.\n"
          ]
        },
        {
          "output_type": "stream",
          "name": "stdout",
          "text": [
            "gen ids torch.Size([1, 74])\n",
            "start time: 480 s\n",
            "end time: 510\n",
            "(480000,)\n",
            "fetaure shape: torch.Size([1, 80, 3000])\n"
          ]
        },
        {
          "output_type": "stream",
          "name": "stderr",
          "text": [
            "It is strongly recommended to pass the `sampling_rate` argument to `WhisperFeatureExtractor()`. Failing to do so can result in silent errors that might be hard to debug.\n"
          ]
        },
        {
          "output_type": "stream",
          "name": "stdout",
          "text": [
            "gen ids torch.Size([1, 80])\n",
            "start time: 510 s\n",
            "end time: 540\n",
            "(480000,)\n",
            "fetaure shape: torch.Size([1, 80, 3000])\n"
          ]
        },
        {
          "output_type": "stream",
          "name": "stderr",
          "text": [
            "It is strongly recommended to pass the `sampling_rate` argument to `WhisperFeatureExtractor()`. Failing to do so can result in silent errors that might be hard to debug.\n"
          ]
        },
        {
          "output_type": "stream",
          "name": "stdout",
          "text": [
            "gen ids torch.Size([1, 91])\n",
            "start time: 540 s\n",
            "end time: 570\n",
            "(480000,)\n",
            "fetaure shape: torch.Size([1, 80, 3000])\n"
          ]
        },
        {
          "output_type": "stream",
          "name": "stderr",
          "text": [
            "It is strongly recommended to pass the `sampling_rate` argument to `WhisperFeatureExtractor()`. Failing to do so can result in silent errors that might be hard to debug.\n"
          ]
        },
        {
          "output_type": "stream",
          "name": "stdout",
          "text": [
            "gen ids torch.Size([1, 81])\n",
            "start time: 570 s\n",
            "end time: 600\n",
            "(480000,)\n",
            "fetaure shape: torch.Size([1, 80, 3000])\n"
          ]
        },
        {
          "output_type": "stream",
          "name": "stderr",
          "text": [
            "It is strongly recommended to pass the `sampling_rate` argument to `WhisperFeatureExtractor()`. Failing to do so can result in silent errors that might be hard to debug.\n"
          ]
        },
        {
          "output_type": "stream",
          "name": "stdout",
          "text": [
            "gen ids torch.Size([1, 87])\n",
            "start time: 600 s\n",
            "end time: 630\n",
            "(480000,)\n",
            "fetaure shape: torch.Size([1, 80, 3000])\n"
          ]
        },
        {
          "output_type": "stream",
          "name": "stderr",
          "text": [
            "It is strongly recommended to pass the `sampling_rate` argument to `WhisperFeatureExtractor()`. Failing to do so can result in silent errors that might be hard to debug.\n"
          ]
        },
        {
          "output_type": "stream",
          "name": "stdout",
          "text": [
            "gen ids torch.Size([1, 84])\n",
            "start time: 630 s\n",
            "end time: 660\n",
            "(480000,)\n",
            "fetaure shape: torch.Size([1, 80, 3000])\n"
          ]
        },
        {
          "output_type": "stream",
          "name": "stderr",
          "text": [
            "It is strongly recommended to pass the `sampling_rate` argument to `WhisperFeatureExtractor()`. Failing to do so can result in silent errors that might be hard to debug.\n"
          ]
        },
        {
          "output_type": "stream",
          "name": "stdout",
          "text": [
            "gen ids torch.Size([1, 92])\n",
            "start time: 660 s\n",
            "end time: 690\n",
            "(480000,)\n",
            "fetaure shape: torch.Size([1, 80, 3000])\n"
          ]
        },
        {
          "output_type": "stream",
          "name": "stderr",
          "text": [
            "It is strongly recommended to pass the `sampling_rate` argument to `WhisperFeatureExtractor()`. Failing to do so can result in silent errors that might be hard to debug.\n"
          ]
        },
        {
          "output_type": "stream",
          "name": "stdout",
          "text": [
            "gen ids torch.Size([1, 89])\n",
            "start time: 690 s\n",
            "end time: 720\n",
            "(480000,)\n",
            "fetaure shape: torch.Size([1, 80, 3000])\n"
          ]
        },
        {
          "output_type": "stream",
          "name": "stderr",
          "text": [
            "It is strongly recommended to pass the `sampling_rate` argument to `WhisperFeatureExtractor()`. Failing to do so can result in silent errors that might be hard to debug.\n"
          ]
        },
        {
          "output_type": "stream",
          "name": "stdout",
          "text": [
            "gen ids torch.Size([1, 89])\n",
            "start time: 720 s\n",
            "end time: 750\n",
            "(480000,)\n",
            "fetaure shape: torch.Size([1, 80, 3000])\n"
          ]
        },
        {
          "output_type": "stream",
          "name": "stderr",
          "text": [
            "It is strongly recommended to pass the `sampling_rate` argument to `WhisperFeatureExtractor()`. Failing to do so can result in silent errors that might be hard to debug.\n"
          ]
        },
        {
          "output_type": "stream",
          "name": "stdout",
          "text": [
            "gen ids torch.Size([1, 78])\n",
            "start time: 750 s\n",
            "end time: 780\n",
            "(480000,)\n",
            "fetaure shape: torch.Size([1, 80, 3000])\n"
          ]
        },
        {
          "output_type": "stream",
          "name": "stderr",
          "text": [
            "It is strongly recommended to pass the `sampling_rate` argument to `WhisperFeatureExtractor()`. Failing to do so can result in silent errors that might be hard to debug.\n"
          ]
        },
        {
          "output_type": "stream",
          "name": "stdout",
          "text": [
            "gen ids torch.Size([1, 63])\n",
            "start time: 780 s\n",
            "end time: 810\n",
            "(480000,)\n",
            "fetaure shape: torch.Size([1, 80, 3000])\n"
          ]
        },
        {
          "output_type": "stream",
          "name": "stderr",
          "text": [
            "It is strongly recommended to pass the `sampling_rate` argument to `WhisperFeatureExtractor()`. Failing to do so can result in silent errors that might be hard to debug.\n"
          ]
        },
        {
          "output_type": "stream",
          "name": "stdout",
          "text": [
            "gen ids torch.Size([1, 78])\n",
            "start time: 810 s\n",
            "end time: 840\n",
            "(480000,)\n",
            "fetaure shape: torch.Size([1, 80, 3000])\n"
          ]
        },
        {
          "output_type": "stream",
          "name": "stderr",
          "text": [
            "It is strongly recommended to pass the `sampling_rate` argument to `WhisperFeatureExtractor()`. Failing to do so can result in silent errors that might be hard to debug.\n"
          ]
        },
        {
          "output_type": "stream",
          "name": "stdout",
          "text": [
            "gen ids torch.Size([1, 64])\n",
            "start time: 840 s\n",
            "end time: 870\n",
            "(480000,)\n",
            "fetaure shape: torch.Size([1, 80, 3000])\n"
          ]
        },
        {
          "output_type": "stream",
          "name": "stderr",
          "text": [
            "It is strongly recommended to pass the `sampling_rate` argument to `WhisperFeatureExtractor()`. Failing to do so can result in silent errors that might be hard to debug.\n"
          ]
        },
        {
          "output_type": "stream",
          "name": "stdout",
          "text": [
            "gen ids torch.Size([1, 72])\n",
            "start time: 870 s\n",
            "end time: 900\n",
            "(480000,)\n",
            "fetaure shape: torch.Size([1, 80, 3000])\n"
          ]
        },
        {
          "output_type": "stream",
          "name": "stderr",
          "text": [
            "It is strongly recommended to pass the `sampling_rate` argument to `WhisperFeatureExtractor()`. Failing to do so can result in silent errors that might be hard to debug.\n"
          ]
        },
        {
          "output_type": "stream",
          "name": "stdout",
          "text": [
            "gen ids torch.Size([1, 47])\n",
            "start time: 900 s\n",
            "end time: 930\n",
            "(480000,)\n",
            "fetaure shape: torch.Size([1, 80, 3000])\n"
          ]
        },
        {
          "output_type": "stream",
          "name": "stderr",
          "text": [
            "It is strongly recommended to pass the `sampling_rate` argument to `WhisperFeatureExtractor()`. Failing to do so can result in silent errors that might be hard to debug.\n"
          ]
        },
        {
          "output_type": "stream",
          "name": "stdout",
          "text": [
            "gen ids torch.Size([1, 73])\n",
            "start time: 930 s\n",
            "end time: 960\n",
            "(480000,)\n",
            "fetaure shape: torch.Size([1, 80, 3000])\n"
          ]
        },
        {
          "output_type": "stream",
          "name": "stderr",
          "text": [
            "It is strongly recommended to pass the `sampling_rate` argument to `WhisperFeatureExtractor()`. Failing to do so can result in silent errors that might be hard to debug.\n"
          ]
        },
        {
          "output_type": "stream",
          "name": "stdout",
          "text": [
            "gen ids torch.Size([1, 60])\n",
            "start time: 960 s\n",
            "end time: 990\n",
            "(480000,)\n",
            "fetaure shape: torch.Size([1, 80, 3000])\n"
          ]
        },
        {
          "output_type": "stream",
          "name": "stderr",
          "text": [
            "It is strongly recommended to pass the `sampling_rate` argument to `WhisperFeatureExtractor()`. Failing to do so can result in silent errors that might be hard to debug.\n"
          ]
        },
        {
          "output_type": "stream",
          "name": "stdout",
          "text": [
            "gen ids torch.Size([1, 54])\n",
            "start time: 990 s\n",
            "end time: 1020\n",
            "(480000,)\n",
            "fetaure shape: torch.Size([1, 80, 3000])\n"
          ]
        },
        {
          "output_type": "stream",
          "name": "stderr",
          "text": [
            "It is strongly recommended to pass the `sampling_rate` argument to `WhisperFeatureExtractor()`. Failing to do so can result in silent errors that might be hard to debug.\n"
          ]
        },
        {
          "output_type": "stream",
          "name": "stdout",
          "text": [
            "gen ids torch.Size([1, 70])\n",
            "start time: 1020 s\n",
            "end time: 1050\n",
            "(480000,)\n",
            "fetaure shape: torch.Size([1, 80, 3000])\n"
          ]
        },
        {
          "output_type": "stream",
          "name": "stderr",
          "text": [
            "It is strongly recommended to pass the `sampling_rate` argument to `WhisperFeatureExtractor()`. Failing to do so can result in silent errors that might be hard to debug.\n"
          ]
        },
        {
          "output_type": "stream",
          "name": "stdout",
          "text": [
            "gen ids torch.Size([1, 74])\n",
            "start time: 1050 s\n",
            "end time: 1080\n",
            "(480000,)\n",
            "fetaure shape: torch.Size([1, 80, 3000])\n"
          ]
        },
        {
          "output_type": "stream",
          "name": "stderr",
          "text": [
            "It is strongly recommended to pass the `sampling_rate` argument to `WhisperFeatureExtractor()`. Failing to do so can result in silent errors that might be hard to debug.\n"
          ]
        },
        {
          "output_type": "stream",
          "name": "stdout",
          "text": [
            "gen ids torch.Size([1, 69])\n",
            "start time: 1080 s\n",
            "end time: 1110\n",
            "(480000,)\n",
            "fetaure shape: torch.Size([1, 80, 3000])\n"
          ]
        },
        {
          "output_type": "stream",
          "name": "stderr",
          "text": [
            "It is strongly recommended to pass the `sampling_rate` argument to `WhisperFeatureExtractor()`. Failing to do so can result in silent errors that might be hard to debug.\n"
          ]
        },
        {
          "output_type": "stream",
          "name": "stdout",
          "text": [
            "gen ids torch.Size([1, 81])\n",
            "start time: 1110 s\n",
            "end time: 1140\n",
            "(480000,)\n",
            "fetaure shape: torch.Size([1, 80, 3000])\n"
          ]
        },
        {
          "output_type": "stream",
          "name": "stderr",
          "text": [
            "It is strongly recommended to pass the `sampling_rate` argument to `WhisperFeatureExtractor()`. Failing to do so can result in silent errors that might be hard to debug.\n"
          ]
        },
        {
          "output_type": "stream",
          "name": "stdout",
          "text": [
            "gen ids torch.Size([1, 74])\n",
            "start time: 1140 s\n",
            "end time: 1170\n",
            "(480000,)\n",
            "fetaure shape: torch.Size([1, 80, 3000])\n"
          ]
        },
        {
          "output_type": "stream",
          "name": "stderr",
          "text": [
            "It is strongly recommended to pass the `sampling_rate` argument to `WhisperFeatureExtractor()`. Failing to do so can result in silent errors that might be hard to debug.\n"
          ]
        },
        {
          "output_type": "stream",
          "name": "stdout",
          "text": [
            "gen ids torch.Size([1, 69])\n",
            "start time: 1170 s\n",
            "end time: 1200\n",
            "(480000,)\n",
            "fetaure shape: torch.Size([1, 80, 3000])\n"
          ]
        },
        {
          "output_type": "stream",
          "name": "stderr",
          "text": [
            "It is strongly recommended to pass the `sampling_rate` argument to `WhisperFeatureExtractor()`. Failing to do so can result in silent errors that might be hard to debug.\n"
          ]
        },
        {
          "output_type": "stream",
          "name": "stdout",
          "text": [
            "gen ids torch.Size([1, 62])\n",
            "start time: 1200 s\n",
            "end time: 1230\n",
            "(480000,)\n",
            "fetaure shape: torch.Size([1, 80, 3000])\n"
          ]
        },
        {
          "output_type": "stream",
          "name": "stderr",
          "text": [
            "It is strongly recommended to pass the `sampling_rate` argument to `WhisperFeatureExtractor()`. Failing to do so can result in silent errors that might be hard to debug.\n"
          ]
        },
        {
          "output_type": "stream",
          "name": "stdout",
          "text": [
            "gen ids torch.Size([1, 69])\n",
            "start time: 1230 s\n",
            "end time: 1260\n",
            "(480000,)\n",
            "fetaure shape: torch.Size([1, 80, 3000])\n"
          ]
        },
        {
          "output_type": "stream",
          "name": "stderr",
          "text": [
            "It is strongly recommended to pass the `sampling_rate` argument to `WhisperFeatureExtractor()`. Failing to do so can result in silent errors that might be hard to debug.\n"
          ]
        },
        {
          "output_type": "stream",
          "name": "stdout",
          "text": [
            "gen ids torch.Size([1, 60])\n",
            "start time: 1260 s\n",
            "end time: 1290\n",
            "(480000,)\n",
            "fetaure shape: torch.Size([1, 80, 3000])\n"
          ]
        },
        {
          "output_type": "stream",
          "name": "stderr",
          "text": [
            "It is strongly recommended to pass the `sampling_rate` argument to `WhisperFeatureExtractor()`. Failing to do so can result in silent errors that might be hard to debug.\n"
          ]
        },
        {
          "output_type": "stream",
          "name": "stdout",
          "text": [
            "gen ids torch.Size([1, 76])\n",
            "start time: 1290 s\n",
            "end time: 1320\n",
            "(480000,)\n",
            "fetaure shape: torch.Size([1, 80, 3000])\n"
          ]
        },
        {
          "output_type": "stream",
          "name": "stderr",
          "text": [
            "It is strongly recommended to pass the `sampling_rate` argument to `WhisperFeatureExtractor()`. Failing to do so can result in silent errors that might be hard to debug.\n"
          ]
        },
        {
          "output_type": "stream",
          "name": "stdout",
          "text": [
            "gen ids torch.Size([1, 82])\n",
            "start time: 1320 s\n",
            "end time: 1350\n",
            "(480000,)\n",
            "fetaure shape: torch.Size([1, 80, 3000])\n"
          ]
        },
        {
          "output_type": "stream",
          "name": "stderr",
          "text": [
            "It is strongly recommended to pass the `sampling_rate` argument to `WhisperFeatureExtractor()`. Failing to do so can result in silent errors that might be hard to debug.\n"
          ]
        },
        {
          "output_type": "stream",
          "name": "stdout",
          "text": [
            "gen ids torch.Size([1, 50])\n",
            "start time: 1350 s\n",
            "end time: 1380\n",
            "(480000,)\n",
            "fetaure shape: torch.Size([1, 80, 3000])\n"
          ]
        },
        {
          "output_type": "stream",
          "name": "stderr",
          "text": [
            "It is strongly recommended to pass the `sampling_rate` argument to `WhisperFeatureExtractor()`. Failing to do so can result in silent errors that might be hard to debug.\n"
          ]
        },
        {
          "output_type": "stream",
          "name": "stdout",
          "text": [
            "gen ids torch.Size([1, 75])\n",
            "start time: 1380 s\n",
            "end time: 1410\n",
            "(480000,)\n",
            "fetaure shape: torch.Size([1, 80, 3000])\n"
          ]
        },
        {
          "output_type": "stream",
          "name": "stderr",
          "text": [
            "It is strongly recommended to pass the `sampling_rate` argument to `WhisperFeatureExtractor()`. Failing to do so can result in silent errors that might be hard to debug.\n"
          ]
        },
        {
          "output_type": "stream",
          "name": "stdout",
          "text": [
            "gen ids torch.Size([1, 78])\n",
            "start time: 1410 s\n",
            "end time: 1424.27725\n",
            "(228436,)\n",
            "fetaure shape: torch.Size([1, 80, 3000])\n",
            "gen ids torch.Size([1, 35])\n",
            "ConvolutionalLayers(DL13)\n",
            "Avoiding Neural Network Overfitting (DL 12).wav\n"
          ]
        },
        {
          "output_type": "stream",
          "name": "stderr",
          "text": [
            "It is strongly recommended to pass the `sampling_rate` argument to `WhisperFeatureExtractor()`. Failing to do so can result in silent errors that might be hard to debug.\n"
          ]
        },
        {
          "output_type": "stream",
          "name": "stdout",
          "text": [
            "start time: 0 s\n",
            "end time: 30\n",
            "(480000,)\n",
            "fetaure shape: torch.Size([1, 80, 3000])\n"
          ]
        },
        {
          "output_type": "stream",
          "name": "stderr",
          "text": [
            "It is strongly recommended to pass the `sampling_rate` argument to `WhisperFeatureExtractor()`. Failing to do so can result in silent errors that might be hard to debug.\n"
          ]
        },
        {
          "output_type": "stream",
          "name": "stdout",
          "text": [
            "gen ids torch.Size([1, 77])\n",
            "start time: 30 s\n",
            "end time: 60\n",
            "(480000,)\n",
            "fetaure shape: torch.Size([1, 80, 3000])\n"
          ]
        },
        {
          "output_type": "stream",
          "name": "stderr",
          "text": [
            "It is strongly recommended to pass the `sampling_rate` argument to `WhisperFeatureExtractor()`. Failing to do so can result in silent errors that might be hard to debug.\n"
          ]
        },
        {
          "output_type": "stream",
          "name": "stdout",
          "text": [
            "gen ids torch.Size([1, 84])\n",
            "start time: 60 s\n",
            "end time: 90\n",
            "(480000,)\n",
            "fetaure shape: torch.Size([1, 80, 3000])\n"
          ]
        },
        {
          "output_type": "stream",
          "name": "stderr",
          "text": [
            "It is strongly recommended to pass the `sampling_rate` argument to `WhisperFeatureExtractor()`. Failing to do so can result in silent errors that might be hard to debug.\n"
          ]
        },
        {
          "output_type": "stream",
          "name": "stdout",
          "text": [
            "gen ids torch.Size([1, 80])\n",
            "start time: 90 s\n",
            "end time: 120\n",
            "(480000,)\n",
            "fetaure shape: torch.Size([1, 80, 3000])\n"
          ]
        },
        {
          "output_type": "stream",
          "name": "stderr",
          "text": [
            "It is strongly recommended to pass the `sampling_rate` argument to `WhisperFeatureExtractor()`. Failing to do so can result in silent errors that might be hard to debug.\n"
          ]
        },
        {
          "output_type": "stream",
          "name": "stdout",
          "text": [
            "gen ids torch.Size([1, 86])\n",
            "start time: 120 s\n",
            "end time: 150\n",
            "(480000,)\n",
            "fetaure shape: torch.Size([1, 80, 3000])\n"
          ]
        },
        {
          "output_type": "stream",
          "name": "stderr",
          "text": [
            "It is strongly recommended to pass the `sampling_rate` argument to `WhisperFeatureExtractor()`. Failing to do so can result in silent errors that might be hard to debug.\n"
          ]
        },
        {
          "output_type": "stream",
          "name": "stdout",
          "text": [
            "gen ids torch.Size([1, 77])\n",
            "start time: 150 s\n",
            "end time: 180\n",
            "(480000,)\n",
            "fetaure shape: torch.Size([1, 80, 3000])\n"
          ]
        },
        {
          "output_type": "stream",
          "name": "stderr",
          "text": [
            "It is strongly recommended to pass the `sampling_rate` argument to `WhisperFeatureExtractor()`. Failing to do so can result in silent errors that might be hard to debug.\n"
          ]
        },
        {
          "output_type": "stream",
          "name": "stdout",
          "text": [
            "gen ids torch.Size([1, 83])\n",
            "start time: 180 s\n",
            "end time: 210\n",
            "(480000,)\n",
            "fetaure shape: torch.Size([1, 80, 3000])\n"
          ]
        },
        {
          "output_type": "stream",
          "name": "stderr",
          "text": [
            "It is strongly recommended to pass the `sampling_rate` argument to `WhisperFeatureExtractor()`. Failing to do so can result in silent errors that might be hard to debug.\n"
          ]
        },
        {
          "output_type": "stream",
          "name": "stdout",
          "text": [
            "gen ids torch.Size([1, 74])\n",
            "start time: 210 s\n",
            "end time: 240\n",
            "(480000,)\n",
            "fetaure shape: torch.Size([1, 80, 3000])\n"
          ]
        },
        {
          "output_type": "stream",
          "name": "stderr",
          "text": [
            "It is strongly recommended to pass the `sampling_rate` argument to `WhisperFeatureExtractor()`. Failing to do so can result in silent errors that might be hard to debug.\n"
          ]
        },
        {
          "output_type": "stream",
          "name": "stdout",
          "text": [
            "gen ids torch.Size([1, 94])\n",
            "start time: 240 s\n",
            "end time: 270\n",
            "(480000,)\n",
            "fetaure shape: torch.Size([1, 80, 3000])\n"
          ]
        },
        {
          "output_type": "stream",
          "name": "stderr",
          "text": [
            "It is strongly recommended to pass the `sampling_rate` argument to `WhisperFeatureExtractor()`. Failing to do so can result in silent errors that might be hard to debug.\n"
          ]
        },
        {
          "output_type": "stream",
          "name": "stdout",
          "text": [
            "gen ids torch.Size([1, 92])\n",
            "start time: 270 s\n",
            "end time: 300\n",
            "(480000,)\n",
            "fetaure shape: torch.Size([1, 80, 3000])\n"
          ]
        },
        {
          "output_type": "stream",
          "name": "stderr",
          "text": [
            "It is strongly recommended to pass the `sampling_rate` argument to `WhisperFeatureExtractor()`. Failing to do so can result in silent errors that might be hard to debug.\n"
          ]
        },
        {
          "output_type": "stream",
          "name": "stdout",
          "text": [
            "gen ids torch.Size([1, 91])\n",
            "start time: 300 s\n",
            "end time: 330\n",
            "(480000,)\n",
            "fetaure shape: torch.Size([1, 80, 3000])\n"
          ]
        },
        {
          "output_type": "stream",
          "name": "stderr",
          "text": [
            "It is strongly recommended to pass the `sampling_rate` argument to `WhisperFeatureExtractor()`. Failing to do so can result in silent errors that might be hard to debug.\n"
          ]
        },
        {
          "output_type": "stream",
          "name": "stdout",
          "text": [
            "gen ids torch.Size([1, 101])\n",
            "start time: 330 s\n",
            "end time: 360\n",
            "(480000,)\n",
            "fetaure shape: torch.Size([1, 80, 3000])\n"
          ]
        },
        {
          "output_type": "stream",
          "name": "stderr",
          "text": [
            "It is strongly recommended to pass the `sampling_rate` argument to `WhisperFeatureExtractor()`. Failing to do so can result in silent errors that might be hard to debug.\n"
          ]
        },
        {
          "output_type": "stream",
          "name": "stdout",
          "text": [
            "gen ids torch.Size([1, 88])\n",
            "start time: 360 s\n",
            "end time: 390\n",
            "(480000,)\n",
            "fetaure shape: torch.Size([1, 80, 3000])\n"
          ]
        },
        {
          "output_type": "stream",
          "name": "stderr",
          "text": [
            "It is strongly recommended to pass the `sampling_rate` argument to `WhisperFeatureExtractor()`. Failing to do so can result in silent errors that might be hard to debug.\n"
          ]
        },
        {
          "output_type": "stream",
          "name": "stdout",
          "text": [
            "gen ids torch.Size([1, 62])\n",
            "start time: 390 s\n",
            "end time: 420\n",
            "(480000,)\n",
            "fetaure shape: torch.Size([1, 80, 3000])\n"
          ]
        },
        {
          "output_type": "stream",
          "name": "stderr",
          "text": [
            "It is strongly recommended to pass the `sampling_rate` argument to `WhisperFeatureExtractor()`. Failing to do so can result in silent errors that might be hard to debug.\n"
          ]
        },
        {
          "output_type": "stream",
          "name": "stdout",
          "text": [
            "gen ids torch.Size([1, 83])\n",
            "start time: 420 s\n",
            "end time: 450\n",
            "(480000,)\n",
            "fetaure shape: torch.Size([1, 80, 3000])\n"
          ]
        },
        {
          "output_type": "stream",
          "name": "stderr",
          "text": [
            "It is strongly recommended to pass the `sampling_rate` argument to `WhisperFeatureExtractor()`. Failing to do so can result in silent errors that might be hard to debug.\n"
          ]
        },
        {
          "output_type": "stream",
          "name": "stdout",
          "text": [
            "gen ids torch.Size([1, 76])\n",
            "start time: 450 s\n",
            "end time: 480\n",
            "(480000,)\n",
            "fetaure shape: torch.Size([1, 80, 3000])\n"
          ]
        },
        {
          "output_type": "stream",
          "name": "stderr",
          "text": [
            "It is strongly recommended to pass the `sampling_rate` argument to `WhisperFeatureExtractor()`. Failing to do so can result in silent errors that might be hard to debug.\n"
          ]
        },
        {
          "output_type": "stream",
          "name": "stdout",
          "text": [
            "gen ids torch.Size([1, 67])\n",
            "start time: 480 s\n",
            "end time: 510\n",
            "(480000,)\n",
            "fetaure shape: torch.Size([1, 80, 3000])\n"
          ]
        },
        {
          "output_type": "stream",
          "name": "stderr",
          "text": [
            "It is strongly recommended to pass the `sampling_rate` argument to `WhisperFeatureExtractor()`. Failing to do so can result in silent errors that might be hard to debug.\n"
          ]
        },
        {
          "output_type": "stream",
          "name": "stdout",
          "text": [
            "gen ids torch.Size([1, 63])\n",
            "start time: 510 s\n",
            "end time: 540\n",
            "(480000,)\n",
            "fetaure shape: torch.Size([1, 80, 3000])\n"
          ]
        },
        {
          "output_type": "stream",
          "name": "stderr",
          "text": [
            "It is strongly recommended to pass the `sampling_rate` argument to `WhisperFeatureExtractor()`. Failing to do so can result in silent errors that might be hard to debug.\n"
          ]
        },
        {
          "output_type": "stream",
          "name": "stdout",
          "text": [
            "gen ids torch.Size([1, 82])\n",
            "start time: 540 s\n",
            "end time: 570\n",
            "(480000,)\n",
            "fetaure shape: torch.Size([1, 80, 3000])\n"
          ]
        },
        {
          "output_type": "stream",
          "name": "stderr",
          "text": [
            "It is strongly recommended to pass the `sampling_rate` argument to `WhisperFeatureExtractor()`. Failing to do so can result in silent errors that might be hard to debug.\n"
          ]
        },
        {
          "output_type": "stream",
          "name": "stdout",
          "text": [
            "gen ids torch.Size([1, 76])\n",
            "start time: 570 s\n",
            "end time: 600\n",
            "(480000,)\n",
            "fetaure shape: torch.Size([1, 80, 3000])\n"
          ]
        },
        {
          "output_type": "stream",
          "name": "stderr",
          "text": [
            "It is strongly recommended to pass the `sampling_rate` argument to `WhisperFeatureExtractor()`. Failing to do so can result in silent errors that might be hard to debug.\n"
          ]
        },
        {
          "output_type": "stream",
          "name": "stdout",
          "text": [
            "gen ids torch.Size([1, 86])\n",
            "start time: 600 s\n",
            "end time: 630\n",
            "(480000,)\n",
            "fetaure shape: torch.Size([1, 80, 3000])\n"
          ]
        },
        {
          "output_type": "stream",
          "name": "stderr",
          "text": [
            "It is strongly recommended to pass the `sampling_rate` argument to `WhisperFeatureExtractor()`. Failing to do so can result in silent errors that might be hard to debug.\n"
          ]
        },
        {
          "output_type": "stream",
          "name": "stdout",
          "text": [
            "gen ids torch.Size([1, 53])\n",
            "start time: 630 s\n",
            "end time: 660\n",
            "(480000,)\n",
            "fetaure shape: torch.Size([1, 80, 3000])\n"
          ]
        },
        {
          "output_type": "stream",
          "name": "stderr",
          "text": [
            "It is strongly recommended to pass the `sampling_rate` argument to `WhisperFeatureExtractor()`. Failing to do so can result in silent errors that might be hard to debug.\n"
          ]
        },
        {
          "output_type": "stream",
          "name": "stdout",
          "text": [
            "gen ids torch.Size([1, 51])\n",
            "start time: 660 s\n",
            "end time: 690\n",
            "(480000,)\n",
            "fetaure shape: torch.Size([1, 80, 3000])\n"
          ]
        },
        {
          "output_type": "stream",
          "name": "stderr",
          "text": [
            "It is strongly recommended to pass the `sampling_rate` argument to `WhisperFeatureExtractor()`. Failing to do so can result in silent errors that might be hard to debug.\n"
          ]
        },
        {
          "output_type": "stream",
          "name": "stdout",
          "text": [
            "gen ids torch.Size([1, 59])\n",
            "start time: 690 s\n",
            "end time: 720\n",
            "(480000,)\n",
            "fetaure shape: torch.Size([1, 80, 3000])\n"
          ]
        },
        {
          "output_type": "stream",
          "name": "stderr",
          "text": [
            "It is strongly recommended to pass the `sampling_rate` argument to `WhisperFeatureExtractor()`. Failing to do so can result in silent errors that might be hard to debug.\n"
          ]
        },
        {
          "output_type": "stream",
          "name": "stdout",
          "text": [
            "gen ids torch.Size([1, 49])\n",
            "start time: 720 s\n",
            "end time: 750\n",
            "(480000,)\n",
            "fetaure shape: torch.Size([1, 80, 3000])\n"
          ]
        },
        {
          "output_type": "stream",
          "name": "stderr",
          "text": [
            "It is strongly recommended to pass the `sampling_rate` argument to `WhisperFeatureExtractor()`. Failing to do so can result in silent errors that might be hard to debug.\n"
          ]
        },
        {
          "output_type": "stream",
          "name": "stdout",
          "text": [
            "gen ids torch.Size([1, 71])\n",
            "start time: 750 s\n",
            "end time: 780\n",
            "(480000,)\n",
            "fetaure shape: torch.Size([1, 80, 3000])\n"
          ]
        },
        {
          "output_type": "stream",
          "name": "stderr",
          "text": [
            "It is strongly recommended to pass the `sampling_rate` argument to `WhisperFeatureExtractor()`. Failing to do so can result in silent errors that might be hard to debug.\n"
          ]
        },
        {
          "output_type": "stream",
          "name": "stdout",
          "text": [
            "gen ids torch.Size([1, 65])\n",
            "start time: 780 s\n",
            "end time: 796.4793125\n",
            "(263669,)\n",
            "fetaure shape: torch.Size([1, 80, 3000])\n",
            "gen ids torch.Size([1, 47])\n",
            "AvoidingNeuralNetworkOverfitting(DL12)\n",
            "Training large networks with little data： transfer learning and data augmentation (DL 14).wav\n"
          ]
        },
        {
          "output_type": "stream",
          "name": "stderr",
          "text": [
            "It is strongly recommended to pass the `sampling_rate` argument to `WhisperFeatureExtractor()`. Failing to do so can result in silent errors that might be hard to debug.\n"
          ]
        },
        {
          "output_type": "stream",
          "name": "stdout",
          "text": [
            "start time: 0 s\n",
            "end time: 30\n",
            "(480000,)\n",
            "fetaure shape: torch.Size([1, 80, 3000])\n"
          ]
        },
        {
          "output_type": "stream",
          "name": "stderr",
          "text": [
            "It is strongly recommended to pass the `sampling_rate` argument to `WhisperFeatureExtractor()`. Failing to do so can result in silent errors that might be hard to debug.\n"
          ]
        },
        {
          "output_type": "stream",
          "name": "stdout",
          "text": [
            "gen ids torch.Size([1, 91])\n",
            "start time: 30 s\n",
            "end time: 60\n",
            "(480000,)\n",
            "fetaure shape: torch.Size([1, 80, 3000])\n"
          ]
        },
        {
          "output_type": "stream",
          "name": "stderr",
          "text": [
            "It is strongly recommended to pass the `sampling_rate` argument to `WhisperFeatureExtractor()`. Failing to do so can result in silent errors that might be hard to debug.\n"
          ]
        },
        {
          "output_type": "stream",
          "name": "stdout",
          "text": [
            "gen ids torch.Size([1, 88])\n",
            "start time: 60 s\n",
            "end time: 90\n",
            "(480000,)\n",
            "fetaure shape: torch.Size([1, 80, 3000])\n"
          ]
        },
        {
          "output_type": "stream",
          "name": "stderr",
          "text": [
            "It is strongly recommended to pass the `sampling_rate` argument to `WhisperFeatureExtractor()`. Failing to do so can result in silent errors that might be hard to debug.\n"
          ]
        },
        {
          "output_type": "stream",
          "name": "stdout",
          "text": [
            "gen ids torch.Size([1, 82])\n",
            "start time: 90 s\n",
            "end time: 120\n",
            "(480000,)\n",
            "fetaure shape: torch.Size([1, 80, 3000])\n"
          ]
        },
        {
          "output_type": "stream",
          "name": "stderr",
          "text": [
            "It is strongly recommended to pass the `sampling_rate` argument to `WhisperFeatureExtractor()`. Failing to do so can result in silent errors that might be hard to debug.\n"
          ]
        },
        {
          "output_type": "stream",
          "name": "stdout",
          "text": [
            "gen ids torch.Size([1, 80])\n",
            "start time: 120 s\n",
            "end time: 150\n",
            "(480000,)\n",
            "fetaure shape: torch.Size([1, 80, 3000])\n"
          ]
        },
        {
          "output_type": "stream",
          "name": "stderr",
          "text": [
            "It is strongly recommended to pass the `sampling_rate` argument to `WhisperFeatureExtractor()`. Failing to do so can result in silent errors that might be hard to debug.\n"
          ]
        },
        {
          "output_type": "stream",
          "name": "stdout",
          "text": [
            "gen ids torch.Size([1, 68])\n",
            "start time: 150 s\n",
            "end time: 180\n",
            "(480000,)\n",
            "fetaure shape: torch.Size([1, 80, 3000])\n"
          ]
        },
        {
          "output_type": "stream",
          "name": "stderr",
          "text": [
            "It is strongly recommended to pass the `sampling_rate` argument to `WhisperFeatureExtractor()`. Failing to do so can result in silent errors that might be hard to debug.\n"
          ]
        },
        {
          "output_type": "stream",
          "name": "stdout",
          "text": [
            "gen ids torch.Size([1, 84])\n",
            "start time: 180 s\n",
            "end time: 210\n",
            "(480000,)\n",
            "fetaure shape: torch.Size([1, 80, 3000])\n"
          ]
        },
        {
          "output_type": "stream",
          "name": "stderr",
          "text": [
            "It is strongly recommended to pass the `sampling_rate` argument to `WhisperFeatureExtractor()`. Failing to do so can result in silent errors that might be hard to debug.\n"
          ]
        },
        {
          "output_type": "stream",
          "name": "stdout",
          "text": [
            "gen ids torch.Size([1, 80])\n",
            "start time: 210 s\n",
            "end time: 240\n",
            "(480000,)\n",
            "fetaure shape: torch.Size([1, 80, 3000])\n"
          ]
        },
        {
          "output_type": "stream",
          "name": "stderr",
          "text": [
            "It is strongly recommended to pass the `sampling_rate` argument to `WhisperFeatureExtractor()`. Failing to do so can result in silent errors that might be hard to debug.\n"
          ]
        },
        {
          "output_type": "stream",
          "name": "stdout",
          "text": [
            "gen ids torch.Size([1, 72])\n",
            "start time: 240 s\n",
            "end time: 270\n",
            "(480000,)\n",
            "fetaure shape: torch.Size([1, 80, 3000])\n"
          ]
        },
        {
          "output_type": "stream",
          "name": "stderr",
          "text": [
            "It is strongly recommended to pass the `sampling_rate` argument to `WhisperFeatureExtractor()`. Failing to do so can result in silent errors that might be hard to debug.\n"
          ]
        },
        {
          "output_type": "stream",
          "name": "stdout",
          "text": [
            "gen ids torch.Size([1, 71])\n",
            "start time: 270 s\n",
            "end time: 300\n",
            "(480000,)\n",
            "fetaure shape: torch.Size([1, 80, 3000])\n"
          ]
        },
        {
          "output_type": "stream",
          "name": "stderr",
          "text": [
            "It is strongly recommended to pass the `sampling_rate` argument to `WhisperFeatureExtractor()`. Failing to do so can result in silent errors that might be hard to debug.\n"
          ]
        },
        {
          "output_type": "stream",
          "name": "stdout",
          "text": [
            "gen ids torch.Size([1, 69])\n",
            "start time: 300 s\n",
            "end time: 330\n",
            "(480000,)\n",
            "fetaure shape: torch.Size([1, 80, 3000])\n"
          ]
        },
        {
          "output_type": "stream",
          "name": "stderr",
          "text": [
            "It is strongly recommended to pass the `sampling_rate` argument to `WhisperFeatureExtractor()`. Failing to do so can result in silent errors that might be hard to debug.\n"
          ]
        },
        {
          "output_type": "stream",
          "name": "stdout",
          "text": [
            "gen ids torch.Size([1, 69])\n",
            "start time: 330 s\n",
            "end time: 360\n",
            "(480000,)\n",
            "fetaure shape: torch.Size([1, 80, 3000])\n"
          ]
        },
        {
          "output_type": "stream",
          "name": "stderr",
          "text": [
            "It is strongly recommended to pass the `sampling_rate` argument to `WhisperFeatureExtractor()`. Failing to do so can result in silent errors that might be hard to debug.\n"
          ]
        },
        {
          "output_type": "stream",
          "name": "stdout",
          "text": [
            "gen ids torch.Size([1, 70])\n",
            "start time: 360 s\n",
            "end time: 390\n",
            "(480000,)\n",
            "fetaure shape: torch.Size([1, 80, 3000])\n"
          ]
        },
        {
          "output_type": "stream",
          "name": "stderr",
          "text": [
            "It is strongly recommended to pass the `sampling_rate` argument to `WhisperFeatureExtractor()`. Failing to do so can result in silent errors that might be hard to debug.\n"
          ]
        },
        {
          "output_type": "stream",
          "name": "stdout",
          "text": [
            "gen ids torch.Size([1, 61])\n",
            "start time: 390 s\n",
            "end time: 420\n",
            "(480000,)\n",
            "fetaure shape: torch.Size([1, 80, 3000])\n"
          ]
        },
        {
          "output_type": "stream",
          "name": "stderr",
          "text": [
            "It is strongly recommended to pass the `sampling_rate` argument to `WhisperFeatureExtractor()`. Failing to do so can result in silent errors that might be hard to debug.\n"
          ]
        },
        {
          "output_type": "stream",
          "name": "stdout",
          "text": [
            "gen ids torch.Size([1, 77])\n",
            "start time: 420 s\n",
            "end time: 450\n",
            "(480000,)\n",
            "fetaure shape: torch.Size([1, 80, 3000])\n"
          ]
        },
        {
          "output_type": "stream",
          "name": "stderr",
          "text": [
            "It is strongly recommended to pass the `sampling_rate` argument to `WhisperFeatureExtractor()`. Failing to do so can result in silent errors that might be hard to debug.\n"
          ]
        },
        {
          "output_type": "stream",
          "name": "stdout",
          "text": [
            "gen ids torch.Size([1, 71])\n",
            "start time: 450 s\n",
            "end time: 480\n",
            "(480000,)\n",
            "fetaure shape: torch.Size([1, 80, 3000])\n"
          ]
        },
        {
          "output_type": "stream",
          "name": "stderr",
          "text": [
            "It is strongly recommended to pass the `sampling_rate` argument to `WhisperFeatureExtractor()`. Failing to do so can result in silent errors that might be hard to debug.\n"
          ]
        },
        {
          "output_type": "stream",
          "name": "stdout",
          "text": [
            "gen ids torch.Size([1, 81])\n",
            "start time: 480 s\n",
            "end time: 510\n",
            "(480000,)\n",
            "fetaure shape: torch.Size([1, 80, 3000])\n"
          ]
        },
        {
          "output_type": "stream",
          "name": "stderr",
          "text": [
            "It is strongly recommended to pass the `sampling_rate` argument to `WhisperFeatureExtractor()`. Failing to do so can result in silent errors that might be hard to debug.\n"
          ]
        },
        {
          "output_type": "stream",
          "name": "stdout",
          "text": [
            "gen ids torch.Size([1, 65])\n",
            "start time: 510 s\n",
            "end time: 540\n",
            "(480000,)\n",
            "fetaure shape: torch.Size([1, 80, 3000])\n"
          ]
        },
        {
          "output_type": "stream",
          "name": "stderr",
          "text": [
            "It is strongly recommended to pass the `sampling_rate` argument to `WhisperFeatureExtractor()`. Failing to do so can result in silent errors that might be hard to debug.\n"
          ]
        },
        {
          "output_type": "stream",
          "name": "stdout",
          "text": [
            "gen ids torch.Size([1, 72])\n",
            "start time: 540 s\n",
            "end time: 570\n",
            "(480000,)\n",
            "fetaure shape: torch.Size([1, 80, 3000])\n"
          ]
        },
        {
          "output_type": "stream",
          "name": "stderr",
          "text": [
            "It is strongly recommended to pass the `sampling_rate` argument to `WhisperFeatureExtractor()`. Failing to do so can result in silent errors that might be hard to debug.\n"
          ]
        },
        {
          "output_type": "stream",
          "name": "stdout",
          "text": [
            "gen ids torch.Size([1, 72])\n",
            "start time: 570 s\n",
            "end time: 600\n",
            "(480000,)\n",
            "fetaure shape: torch.Size([1, 80, 3000])\n"
          ]
        },
        {
          "output_type": "stream",
          "name": "stderr",
          "text": [
            "It is strongly recommended to pass the `sampling_rate` argument to `WhisperFeatureExtractor()`. Failing to do so can result in silent errors that might be hard to debug.\n"
          ]
        },
        {
          "output_type": "stream",
          "name": "stdout",
          "text": [
            "gen ids torch.Size([1, 76])\n",
            "start time: 600 s\n",
            "end time: 630\n",
            "(480000,)\n",
            "fetaure shape: torch.Size([1, 80, 3000])\n"
          ]
        },
        {
          "output_type": "stream",
          "name": "stderr",
          "text": [
            "It is strongly recommended to pass the `sampling_rate` argument to `WhisperFeatureExtractor()`. Failing to do so can result in silent errors that might be hard to debug.\n"
          ]
        },
        {
          "output_type": "stream",
          "name": "stdout",
          "text": [
            "gen ids torch.Size([1, 74])\n",
            "start time: 630 s\n",
            "end time: 660\n",
            "(480000,)\n",
            "fetaure shape: torch.Size([1, 80, 3000])\n"
          ]
        },
        {
          "output_type": "stream",
          "name": "stderr",
          "text": [
            "It is strongly recommended to pass the `sampling_rate` argument to `WhisperFeatureExtractor()`. Failing to do so can result in silent errors that might be hard to debug.\n"
          ]
        },
        {
          "output_type": "stream",
          "name": "stdout",
          "text": [
            "gen ids torch.Size([1, 78])\n",
            "start time: 660 s\n",
            "end time: 690\n",
            "(480000,)\n",
            "fetaure shape: torch.Size([1, 80, 3000])\n"
          ]
        },
        {
          "output_type": "stream",
          "name": "stderr",
          "text": [
            "It is strongly recommended to pass the `sampling_rate` argument to `WhisperFeatureExtractor()`. Failing to do so can result in silent errors that might be hard to debug.\n"
          ]
        },
        {
          "output_type": "stream",
          "name": "stdout",
          "text": [
            "gen ids torch.Size([1, 71])\n",
            "start time: 690 s\n",
            "end time: 720\n",
            "(480000,)\n",
            "fetaure shape: torch.Size([1, 80, 3000])\n"
          ]
        },
        {
          "output_type": "stream",
          "name": "stderr",
          "text": [
            "It is strongly recommended to pass the `sampling_rate` argument to `WhisperFeatureExtractor()`. Failing to do so can result in silent errors that might be hard to debug.\n"
          ]
        },
        {
          "output_type": "stream",
          "name": "stdout",
          "text": [
            "gen ids torch.Size([1, 80])\n",
            "start time: 720 s\n",
            "end time: 720.271375\n",
            "(4342,)\n",
            "fetaure shape: torch.Size([1, 80, 3000])\n",
            "gen ids torch.Size([1, 1])\n",
            "Traininglargenetworkswithlittledata：transferlearninganddataaugmentation(DL14)\n",
            "LSTMs (DL 18).wav\n"
          ]
        },
        {
          "output_type": "stream",
          "name": "stderr",
          "text": [
            "It is strongly recommended to pass the `sampling_rate` argument to `WhisperFeatureExtractor()`. Failing to do so can result in silent errors that might be hard to debug.\n"
          ]
        },
        {
          "output_type": "stream",
          "name": "stdout",
          "text": [
            "start time: 0 s\n",
            "end time: 30\n",
            "(480000,)\n",
            "fetaure shape: torch.Size([1, 80, 3000])\n"
          ]
        },
        {
          "output_type": "stream",
          "name": "stderr",
          "text": [
            "It is strongly recommended to pass the `sampling_rate` argument to `WhisperFeatureExtractor()`. Failing to do so can result in silent errors that might be hard to debug.\n"
          ]
        },
        {
          "output_type": "stream",
          "name": "stdout",
          "text": [
            "gen ids torch.Size([1, 89])\n",
            "start time: 30 s\n",
            "end time: 60\n",
            "(480000,)\n",
            "fetaure shape: torch.Size([1, 80, 3000])\n"
          ]
        },
        {
          "output_type": "stream",
          "name": "stderr",
          "text": [
            "It is strongly recommended to pass the `sampling_rate` argument to `WhisperFeatureExtractor()`. Failing to do so can result in silent errors that might be hard to debug.\n"
          ]
        },
        {
          "output_type": "stream",
          "name": "stdout",
          "text": [
            "gen ids torch.Size([1, 88])\n",
            "start time: 60 s\n",
            "end time: 90\n",
            "(480000,)\n",
            "fetaure shape: torch.Size([1, 80, 3000])\n"
          ]
        },
        {
          "output_type": "stream",
          "name": "stderr",
          "text": [
            "It is strongly recommended to pass the `sampling_rate` argument to `WhisperFeatureExtractor()`. Failing to do so can result in silent errors that might be hard to debug.\n"
          ]
        },
        {
          "output_type": "stream",
          "name": "stdout",
          "text": [
            "gen ids torch.Size([1, 95])\n",
            "start time: 90 s\n",
            "end time: 120\n",
            "(480000,)\n",
            "fetaure shape: torch.Size([1, 80, 3000])\n"
          ]
        },
        {
          "output_type": "stream",
          "name": "stderr",
          "text": [
            "It is strongly recommended to pass the `sampling_rate` argument to `WhisperFeatureExtractor()`. Failing to do so can result in silent errors that might be hard to debug.\n"
          ]
        },
        {
          "output_type": "stream",
          "name": "stdout",
          "text": [
            "gen ids torch.Size([1, 72])\n",
            "start time: 120 s\n",
            "end time: 150\n",
            "(480000,)\n",
            "fetaure shape: torch.Size([1, 80, 3000])\n"
          ]
        },
        {
          "output_type": "stream",
          "name": "stderr",
          "text": [
            "It is strongly recommended to pass the `sampling_rate` argument to `WhisperFeatureExtractor()`. Failing to do so can result in silent errors that might be hard to debug.\n"
          ]
        },
        {
          "output_type": "stream",
          "name": "stdout",
          "text": [
            "gen ids torch.Size([1, 77])\n",
            "start time: 150 s\n",
            "end time: 180\n",
            "(480000,)\n",
            "fetaure shape: torch.Size([1, 80, 3000])\n"
          ]
        },
        {
          "output_type": "stream",
          "name": "stderr",
          "text": [
            "It is strongly recommended to pass the `sampling_rate` argument to `WhisperFeatureExtractor()`. Failing to do so can result in silent errors that might be hard to debug.\n"
          ]
        },
        {
          "output_type": "stream",
          "name": "stdout",
          "text": [
            "gen ids torch.Size([1, 71])\n",
            "start time: 180 s\n",
            "end time: 210\n",
            "(480000,)\n",
            "fetaure shape: torch.Size([1, 80, 3000])\n"
          ]
        },
        {
          "output_type": "stream",
          "name": "stderr",
          "text": [
            "It is strongly recommended to pass the `sampling_rate` argument to `WhisperFeatureExtractor()`. Failing to do so can result in silent errors that might be hard to debug.\n"
          ]
        },
        {
          "output_type": "stream",
          "name": "stdout",
          "text": [
            "gen ids torch.Size([1, 39])\n",
            "start time: 210 s\n",
            "end time: 240\n",
            "(480000,)\n",
            "fetaure shape: torch.Size([1, 80, 3000])\n"
          ]
        },
        {
          "output_type": "stream",
          "name": "stderr",
          "text": [
            "It is strongly recommended to pass the `sampling_rate` argument to `WhisperFeatureExtractor()`. Failing to do so can result in silent errors that might be hard to debug.\n"
          ]
        },
        {
          "output_type": "stream",
          "name": "stdout",
          "text": [
            "gen ids torch.Size([1, 61])\n",
            "start time: 240 s\n",
            "end time: 270\n",
            "(480000,)\n",
            "fetaure shape: torch.Size([1, 80, 3000])\n"
          ]
        },
        {
          "output_type": "stream",
          "name": "stderr",
          "text": [
            "It is strongly recommended to pass the `sampling_rate` argument to `WhisperFeatureExtractor()`. Failing to do so can result in silent errors that might be hard to debug.\n"
          ]
        },
        {
          "output_type": "stream",
          "name": "stdout",
          "text": [
            "gen ids torch.Size([1, 62])\n",
            "start time: 270 s\n",
            "end time: 300\n",
            "(480000,)\n",
            "fetaure shape: torch.Size([1, 80, 3000])\n"
          ]
        },
        {
          "output_type": "stream",
          "name": "stderr",
          "text": [
            "It is strongly recommended to pass the `sampling_rate` argument to `WhisperFeatureExtractor()`. Failing to do so can result in silent errors that might be hard to debug.\n"
          ]
        },
        {
          "output_type": "stream",
          "name": "stdout",
          "text": [
            "gen ids torch.Size([1, 74])\n",
            "start time: 300 s\n",
            "end time: 330\n",
            "(480000,)\n",
            "fetaure shape: torch.Size([1, 80, 3000])\n"
          ]
        },
        {
          "output_type": "stream",
          "name": "stderr",
          "text": [
            "It is strongly recommended to pass the `sampling_rate` argument to `WhisperFeatureExtractor()`. Failing to do so can result in silent errors that might be hard to debug.\n"
          ]
        },
        {
          "output_type": "stream",
          "name": "stdout",
          "text": [
            "gen ids torch.Size([1, 65])\n",
            "start time: 330 s\n",
            "end time: 360\n",
            "(480000,)\n",
            "fetaure shape: torch.Size([1, 80, 3000])\n"
          ]
        },
        {
          "output_type": "stream",
          "name": "stderr",
          "text": [
            "It is strongly recommended to pass the `sampling_rate` argument to `WhisperFeatureExtractor()`. Failing to do so can result in silent errors that might be hard to debug.\n"
          ]
        },
        {
          "output_type": "stream",
          "name": "stdout",
          "text": [
            "gen ids torch.Size([1, 73])\n",
            "start time: 360 s\n",
            "end time: 390\n",
            "(480000,)\n",
            "fetaure shape: torch.Size([1, 80, 3000])\n"
          ]
        },
        {
          "output_type": "stream",
          "name": "stderr",
          "text": [
            "It is strongly recommended to pass the `sampling_rate` argument to `WhisperFeatureExtractor()`. Failing to do so can result in silent errors that might be hard to debug.\n",
            "It is strongly recommended to pass the `sampling_rate` argument to `WhisperFeatureExtractor()`. Failing to do so can result in silent errors that might be hard to debug.\n"
          ]
        },
        {
          "output_type": "stream",
          "name": "stdout",
          "text": [
            "gen ids torch.Size([1, 61])\n",
            "start time: 390 s\n",
            "end time: 420\n",
            "(480000,)\n",
            "fetaure shape: torch.Size([1, 80, 3000])\n",
            "gen ids torch.Size([1, 6])\n",
            "start time: 420 s\n",
            "end time: 450\n",
            "(480000,)\n",
            "fetaure shape: torch.Size([1, 80, 3000])\n"
          ]
        },
        {
          "output_type": "stream",
          "name": "stderr",
          "text": [
            "It is strongly recommended to pass the `sampling_rate` argument to `WhisperFeatureExtractor()`. Failing to do so can result in silent errors that might be hard to debug.\n"
          ]
        },
        {
          "output_type": "stream",
          "name": "stdout",
          "text": [
            "gen ids torch.Size([1, 69])\n",
            "start time: 450 s\n",
            "end time: 480\n",
            "(480000,)\n",
            "fetaure shape: torch.Size([1, 80, 3000])\n"
          ]
        },
        {
          "output_type": "stream",
          "name": "stderr",
          "text": [
            "It is strongly recommended to pass the `sampling_rate` argument to `WhisperFeatureExtractor()`. Failing to do so can result in silent errors that might be hard to debug.\n"
          ]
        },
        {
          "output_type": "stream",
          "name": "stdout",
          "text": [
            "gen ids torch.Size([1, 61])\n",
            "start time: 480 s\n",
            "end time: 510\n",
            "(480000,)\n",
            "fetaure shape: torch.Size([1, 80, 3000])\n"
          ]
        },
        {
          "output_type": "stream",
          "name": "stderr",
          "text": [
            "It is strongly recommended to pass the `sampling_rate` argument to `WhisperFeatureExtractor()`. Failing to do so can result in silent errors that might be hard to debug.\n"
          ]
        },
        {
          "output_type": "stream",
          "name": "stdout",
          "text": [
            "gen ids torch.Size([1, 68])\n",
            "start time: 510 s\n",
            "end time: 540\n",
            "(480000,)\n",
            "fetaure shape: torch.Size([1, 80, 3000])\n"
          ]
        },
        {
          "output_type": "stream",
          "name": "stderr",
          "text": [
            "It is strongly recommended to pass the `sampling_rate` argument to `WhisperFeatureExtractor()`. Failing to do so can result in silent errors that might be hard to debug.\n"
          ]
        },
        {
          "output_type": "stream",
          "name": "stdout",
          "text": [
            "gen ids torch.Size([1, 43])\n",
            "start time: 540 s\n",
            "end time: 570\n",
            "(480000,)\n",
            "fetaure shape: torch.Size([1, 80, 3000])\n"
          ]
        },
        {
          "output_type": "stream",
          "name": "stderr",
          "text": [
            "It is strongly recommended to pass the `sampling_rate` argument to `WhisperFeatureExtractor()`. Failing to do so can result in silent errors that might be hard to debug.\n"
          ]
        },
        {
          "output_type": "stream",
          "name": "stdout",
          "text": [
            "gen ids torch.Size([1, 82])\n",
            "start time: 570 s\n",
            "end time: 600\n",
            "(480000,)\n",
            "fetaure shape: torch.Size([1, 80, 3000])\n"
          ]
        },
        {
          "output_type": "stream",
          "name": "stderr",
          "text": [
            "It is strongly recommended to pass the `sampling_rate` argument to `WhisperFeatureExtractor()`. Failing to do so can result in silent errors that might be hard to debug.\n"
          ]
        },
        {
          "output_type": "stream",
          "name": "stdout",
          "text": [
            "gen ids torch.Size([1, 74])\n",
            "start time: 600 s\n",
            "end time: 630\n",
            "(480000,)\n",
            "fetaure shape: torch.Size([1, 80, 3000])\n"
          ]
        },
        {
          "output_type": "stream",
          "name": "stderr",
          "text": [
            "It is strongly recommended to pass the `sampling_rate` argument to `WhisperFeatureExtractor()`. Failing to do so can result in silent errors that might be hard to debug.\n"
          ]
        },
        {
          "output_type": "stream",
          "name": "stdout",
          "text": [
            "gen ids torch.Size([1, 72])\n",
            "start time: 630 s\n",
            "end time: 660\n",
            "(480000,)\n",
            "fetaure shape: torch.Size([1, 80, 3000])\n"
          ]
        },
        {
          "output_type": "stream",
          "name": "stderr",
          "text": [
            "It is strongly recommended to pass the `sampling_rate` argument to `WhisperFeatureExtractor()`. Failing to do so can result in silent errors that might be hard to debug.\n"
          ]
        },
        {
          "output_type": "stream",
          "name": "stdout",
          "text": [
            "gen ids torch.Size([1, 76])\n",
            "start time: 660 s\n",
            "end time: 690\n",
            "(480000,)\n",
            "fetaure shape: torch.Size([1, 80, 3000])\n"
          ]
        },
        {
          "output_type": "stream",
          "name": "stderr",
          "text": [
            "It is strongly recommended to pass the `sampling_rate` argument to `WhisperFeatureExtractor()`. Failing to do so can result in silent errors that might be hard to debug.\n"
          ]
        },
        {
          "output_type": "stream",
          "name": "stdout",
          "text": [
            "gen ids torch.Size([1, 73])\n",
            "start time: 690 s\n",
            "end time: 720\n",
            "(480000,)\n",
            "fetaure shape: torch.Size([1, 80, 3000])\n"
          ]
        },
        {
          "output_type": "stream",
          "name": "stderr",
          "text": [
            "It is strongly recommended to pass the `sampling_rate` argument to `WhisperFeatureExtractor()`. Failing to do so can result in silent errors that might be hard to debug.\n"
          ]
        },
        {
          "output_type": "stream",
          "name": "stdout",
          "text": [
            "gen ids torch.Size([1, 85])\n",
            "start time: 720 s\n",
            "end time: 750\n",
            "(480000,)\n",
            "fetaure shape: torch.Size([1, 80, 3000])\n"
          ]
        },
        {
          "output_type": "stream",
          "name": "stderr",
          "text": [
            "It is strongly recommended to pass the `sampling_rate` argument to `WhisperFeatureExtractor()`. Failing to do so can result in silent errors that might be hard to debug.\n"
          ]
        },
        {
          "output_type": "stream",
          "name": "stdout",
          "text": [
            "gen ids torch.Size([1, 79])\n",
            "start time: 750 s\n",
            "end time: 780\n",
            "(480000,)\n",
            "fetaure shape: torch.Size([1, 80, 3000])\n"
          ]
        },
        {
          "output_type": "stream",
          "name": "stderr",
          "text": [
            "It is strongly recommended to pass the `sampling_rate` argument to `WhisperFeatureExtractor()`. Failing to do so can result in silent errors that might be hard to debug.\n"
          ]
        },
        {
          "output_type": "stream",
          "name": "stdout",
          "text": [
            "gen ids torch.Size([1, 61])\n",
            "start time: 780 s\n",
            "end time: 810\n",
            "(480000,)\n",
            "fetaure shape: torch.Size([1, 80, 3000])\n"
          ]
        },
        {
          "output_type": "stream",
          "name": "stderr",
          "text": [
            "It is strongly recommended to pass the `sampling_rate` argument to `WhisperFeatureExtractor()`. Failing to do so can result in silent errors that might be hard to debug.\n"
          ]
        },
        {
          "output_type": "stream",
          "name": "stdout",
          "text": [
            "gen ids torch.Size([1, 63])\n",
            "start time: 810 s\n",
            "end time: 840\n",
            "(480000,)\n",
            "fetaure shape: torch.Size([1, 80, 3000])\n"
          ]
        },
        {
          "output_type": "stream",
          "name": "stderr",
          "text": [
            "It is strongly recommended to pass the `sampling_rate` argument to `WhisperFeatureExtractor()`. Failing to do so can result in silent errors that might be hard to debug.\n"
          ]
        },
        {
          "output_type": "stream",
          "name": "stdout",
          "text": [
            "gen ids torch.Size([1, 69])\n",
            "start time: 840 s\n",
            "end time: 870\n",
            "(480000,)\n",
            "fetaure shape: torch.Size([1, 80, 3000])\n"
          ]
        },
        {
          "output_type": "stream",
          "name": "stderr",
          "text": [
            "It is strongly recommended to pass the `sampling_rate` argument to `WhisperFeatureExtractor()`. Failing to do so can result in silent errors that might be hard to debug.\n"
          ]
        },
        {
          "output_type": "stream",
          "name": "stdout",
          "text": [
            "gen ids torch.Size([1, 33])\n",
            "start time: 870 s\n",
            "end time: 900\n",
            "(480000,)\n",
            "fetaure shape: torch.Size([1, 80, 3000])\n"
          ]
        },
        {
          "output_type": "stream",
          "name": "stderr",
          "text": [
            "It is strongly recommended to pass the `sampling_rate` argument to `WhisperFeatureExtractor()`. Failing to do so can result in silent errors that might be hard to debug.\n"
          ]
        },
        {
          "output_type": "stream",
          "name": "stdout",
          "text": [
            "gen ids torch.Size([1, 70])\n",
            "start time: 900 s\n",
            "end time: 930\n",
            "(480000,)\n",
            "fetaure shape: torch.Size([1, 80, 3000])\n"
          ]
        },
        {
          "output_type": "stream",
          "name": "stderr",
          "text": [
            "It is strongly recommended to pass the `sampling_rate` argument to `WhisperFeatureExtractor()`. Failing to do so can result in silent errors that might be hard to debug.\n"
          ]
        },
        {
          "output_type": "stream",
          "name": "stdout",
          "text": [
            "gen ids torch.Size([1, 85])\n",
            "start time: 930 s\n",
            "end time: 960\n",
            "(480000,)\n",
            "fetaure shape: torch.Size([1, 80, 3000])\n"
          ]
        },
        {
          "output_type": "stream",
          "name": "stderr",
          "text": [
            "It is strongly recommended to pass the `sampling_rate` argument to `WhisperFeatureExtractor()`. Failing to do so can result in silent errors that might be hard to debug.\n"
          ]
        },
        {
          "output_type": "stream",
          "name": "stdout",
          "text": [
            "gen ids torch.Size([1, 83])\n",
            "start time: 960 s\n",
            "end time: 990\n",
            "(480000,)\n",
            "fetaure shape: torch.Size([1, 80, 3000])\n"
          ]
        },
        {
          "output_type": "stream",
          "name": "stderr",
          "text": [
            "It is strongly recommended to pass the `sampling_rate` argument to `WhisperFeatureExtractor()`. Failing to do so can result in silent errors that might be hard to debug.\n"
          ]
        },
        {
          "output_type": "stream",
          "name": "stdout",
          "text": [
            "gen ids torch.Size([1, 64])\n",
            "start time: 990 s\n",
            "end time: 1005.633\n",
            "(250128,)\n",
            "fetaure shape: torch.Size([1, 80, 3000])\n",
            "gen ids torch.Size([1, 36])\n",
            "LSTMs(DL18)\n",
            "What is Deep Learning？ (DL 01).wav\n"
          ]
        },
        {
          "output_type": "stream",
          "name": "stderr",
          "text": [
            "It is strongly recommended to pass the `sampling_rate` argument to `WhisperFeatureExtractor()`. Failing to do so can result in silent errors that might be hard to debug.\n"
          ]
        },
        {
          "output_type": "stream",
          "name": "stdout",
          "text": [
            "start time: 0 s\n",
            "end time: 30\n",
            "(480000,)\n",
            "fetaure shape: torch.Size([1, 80, 3000])\n"
          ]
        },
        {
          "output_type": "stream",
          "name": "stderr",
          "text": [
            "It is strongly recommended to pass the `sampling_rate` argument to `WhisperFeatureExtractor()`. Failing to do so can result in silent errors that might be hard to debug.\n"
          ]
        },
        {
          "output_type": "stream",
          "name": "stdout",
          "text": [
            "gen ids torch.Size([1, 101])\n",
            "start time: 30 s\n",
            "end time: 60\n",
            "(480000,)\n",
            "fetaure shape: torch.Size([1, 80, 3000])\n"
          ]
        },
        {
          "output_type": "stream",
          "name": "stderr",
          "text": [
            "It is strongly recommended to pass the `sampling_rate` argument to `WhisperFeatureExtractor()`. Failing to do so can result in silent errors that might be hard to debug.\n"
          ]
        },
        {
          "output_type": "stream",
          "name": "stdout",
          "text": [
            "gen ids torch.Size([1, 80])\n",
            "start time: 60 s\n",
            "end time: 90\n",
            "(480000,)\n",
            "fetaure shape: torch.Size([1, 80, 3000])\n"
          ]
        },
        {
          "output_type": "stream",
          "name": "stderr",
          "text": [
            "It is strongly recommended to pass the `sampling_rate` argument to `WhisperFeatureExtractor()`. Failing to do so can result in silent errors that might be hard to debug.\n"
          ]
        },
        {
          "output_type": "stream",
          "name": "stdout",
          "text": [
            "gen ids torch.Size([1, 72])\n",
            "start time: 90 s\n",
            "end time: 120\n",
            "(480000,)\n",
            "fetaure shape: torch.Size([1, 80, 3000])\n"
          ]
        },
        {
          "output_type": "stream",
          "name": "stderr",
          "text": [
            "It is strongly recommended to pass the `sampling_rate` argument to `WhisperFeatureExtractor()`. Failing to do so can result in silent errors that might be hard to debug.\n"
          ]
        },
        {
          "output_type": "stream",
          "name": "stdout",
          "text": [
            "gen ids torch.Size([1, 78])\n",
            "start time: 120 s\n",
            "end time: 150\n",
            "(480000,)\n",
            "fetaure shape: torch.Size([1, 80, 3000])\n"
          ]
        },
        {
          "output_type": "stream",
          "name": "stderr",
          "text": [
            "It is strongly recommended to pass the `sampling_rate` argument to `WhisperFeatureExtractor()`. Failing to do so can result in silent errors that might be hard to debug.\n"
          ]
        },
        {
          "output_type": "stream",
          "name": "stdout",
          "text": [
            "gen ids torch.Size([1, 71])\n",
            "start time: 150 s\n",
            "end time: 180\n",
            "(480000,)\n",
            "fetaure shape: torch.Size([1, 80, 3000])\n"
          ]
        },
        {
          "output_type": "stream",
          "name": "stderr",
          "text": [
            "It is strongly recommended to pass the `sampling_rate` argument to `WhisperFeatureExtractor()`. Failing to do so can result in silent errors that might be hard to debug.\n"
          ]
        },
        {
          "output_type": "stream",
          "name": "stdout",
          "text": [
            "gen ids torch.Size([1, 78])\n",
            "start time: 180 s\n",
            "end time: 210\n",
            "(480000,)\n",
            "fetaure shape: torch.Size([1, 80, 3000])\n"
          ]
        },
        {
          "output_type": "stream",
          "name": "stderr",
          "text": [
            "It is strongly recommended to pass the `sampling_rate` argument to `WhisperFeatureExtractor()`. Failing to do so can result in silent errors that might be hard to debug.\n"
          ]
        },
        {
          "output_type": "stream",
          "name": "stdout",
          "text": [
            "gen ids torch.Size([1, 75])\n",
            "start time: 210 s\n",
            "end time: 240\n",
            "(480000,)\n",
            "fetaure shape: torch.Size([1, 80, 3000])\n"
          ]
        },
        {
          "output_type": "stream",
          "name": "stderr",
          "text": [
            "It is strongly recommended to pass the `sampling_rate` argument to `WhisperFeatureExtractor()`. Failing to do so can result in silent errors that might be hard to debug.\n"
          ]
        },
        {
          "output_type": "stream",
          "name": "stdout",
          "text": [
            "gen ids torch.Size([1, 70])\n",
            "start time: 240 s\n",
            "end time: 270\n",
            "(480000,)\n",
            "fetaure shape: torch.Size([1, 80, 3000])\n"
          ]
        },
        {
          "output_type": "stream",
          "name": "stderr",
          "text": [
            "It is strongly recommended to pass the `sampling_rate` argument to `WhisperFeatureExtractor()`. Failing to do so can result in silent errors that might be hard to debug.\n"
          ]
        },
        {
          "output_type": "stream",
          "name": "stdout",
          "text": [
            "gen ids torch.Size([1, 64])\n",
            "start time: 270 s\n",
            "end time: 300\n",
            "(480000,)\n",
            "fetaure shape: torch.Size([1, 80, 3000])\n"
          ]
        },
        {
          "output_type": "stream",
          "name": "stderr",
          "text": [
            "It is strongly recommended to pass the `sampling_rate` argument to `WhisperFeatureExtractor()`. Failing to do so can result in silent errors that might be hard to debug.\n"
          ]
        },
        {
          "output_type": "stream",
          "name": "stdout",
          "text": [
            "gen ids torch.Size([1, 70])\n",
            "start time: 300 s\n",
            "end time: 330\n",
            "(480000,)\n",
            "fetaure shape: torch.Size([1, 80, 3000])\n"
          ]
        },
        {
          "output_type": "stream",
          "name": "stderr",
          "text": [
            "It is strongly recommended to pass the `sampling_rate` argument to `WhisperFeatureExtractor()`. Failing to do so can result in silent errors that might be hard to debug.\n"
          ]
        },
        {
          "output_type": "stream",
          "name": "stdout",
          "text": [
            "gen ids torch.Size([1, 67])\n",
            "start time: 330 s\n",
            "end time: 360\n",
            "(480000,)\n",
            "fetaure shape: torch.Size([1, 80, 3000])\n"
          ]
        },
        {
          "output_type": "stream",
          "name": "stderr",
          "text": [
            "It is strongly recommended to pass the `sampling_rate` argument to `WhisperFeatureExtractor()`. Failing to do so can result in silent errors that might be hard to debug.\n"
          ]
        },
        {
          "output_type": "stream",
          "name": "stdout",
          "text": [
            "gen ids torch.Size([1, 67])\n",
            "start time: 360 s\n",
            "end time: 390\n",
            "(480000,)\n",
            "fetaure shape: torch.Size([1, 80, 3000])\n"
          ]
        },
        {
          "output_type": "stream",
          "name": "stderr",
          "text": [
            "It is strongly recommended to pass the `sampling_rate` argument to `WhisperFeatureExtractor()`. Failing to do so can result in silent errors that might be hard to debug.\n"
          ]
        },
        {
          "output_type": "stream",
          "name": "stdout",
          "text": [
            "gen ids torch.Size([1, 79])\n",
            "start time: 390 s\n",
            "end time: 420\n",
            "(480000,)\n",
            "fetaure shape: torch.Size([1, 80, 3000])\n"
          ]
        },
        {
          "output_type": "stream",
          "name": "stderr",
          "text": [
            "It is strongly recommended to pass the `sampling_rate` argument to `WhisperFeatureExtractor()`. Failing to do so can result in silent errors that might be hard to debug.\n"
          ]
        },
        {
          "output_type": "stream",
          "name": "stdout",
          "text": [
            "gen ids torch.Size([1, 72])\n",
            "start time: 420 s\n",
            "end time: 450\n",
            "(480000,)\n",
            "fetaure shape: torch.Size([1, 80, 3000])\n"
          ]
        },
        {
          "output_type": "stream",
          "name": "stderr",
          "text": [
            "It is strongly recommended to pass the `sampling_rate` argument to `WhisperFeatureExtractor()`. Failing to do so can result in silent errors that might be hard to debug.\n"
          ]
        },
        {
          "output_type": "stream",
          "name": "stdout",
          "text": [
            "gen ids torch.Size([1, 66])\n",
            "start time: 450 s\n",
            "end time: 480\n",
            "(480000,)\n",
            "fetaure shape: torch.Size([1, 80, 3000])\n"
          ]
        },
        {
          "output_type": "stream",
          "name": "stderr",
          "text": [
            "It is strongly recommended to pass the `sampling_rate` argument to `WhisperFeatureExtractor()`. Failing to do so can result in silent errors that might be hard to debug.\n"
          ]
        },
        {
          "output_type": "stream",
          "name": "stdout",
          "text": [
            "gen ids torch.Size([1, 71])\n",
            "start time: 480 s\n",
            "end time: 510\n",
            "(480000,)\n",
            "fetaure shape: torch.Size([1, 80, 3000])\n"
          ]
        },
        {
          "output_type": "stream",
          "name": "stderr",
          "text": [
            "It is strongly recommended to pass the `sampling_rate` argument to `WhisperFeatureExtractor()`. Failing to do so can result in silent errors that might be hard to debug.\n"
          ]
        },
        {
          "output_type": "stream",
          "name": "stdout",
          "text": [
            "gen ids torch.Size([1, 67])\n",
            "start time: 510 s\n",
            "end time: 540\n",
            "(480000,)\n",
            "fetaure shape: torch.Size([1, 80, 3000])\n"
          ]
        },
        {
          "output_type": "stream",
          "name": "stderr",
          "text": [
            "It is strongly recommended to pass the `sampling_rate` argument to `WhisperFeatureExtractor()`. Failing to do so can result in silent errors that might be hard to debug.\n"
          ]
        },
        {
          "output_type": "stream",
          "name": "stdout",
          "text": [
            "gen ids torch.Size([1, 63])\n",
            "start time: 540 s\n",
            "end time: 570\n",
            "(480000,)\n",
            "fetaure shape: torch.Size([1, 80, 3000])\n"
          ]
        },
        {
          "output_type": "stream",
          "name": "stderr",
          "text": [
            "It is strongly recommended to pass the `sampling_rate` argument to `WhisperFeatureExtractor()`. Failing to do so can result in silent errors that might be hard to debug.\n"
          ]
        },
        {
          "output_type": "stream",
          "name": "stdout",
          "text": [
            "gen ids torch.Size([1, 53])\n",
            "start time: 570 s\n",
            "end time: 600\n",
            "(480000,)\n",
            "fetaure shape: torch.Size([1, 80, 3000])\n"
          ]
        },
        {
          "output_type": "stream",
          "name": "stderr",
          "text": [
            "It is strongly recommended to pass the `sampling_rate` argument to `WhisperFeatureExtractor()`. Failing to do so can result in silent errors that might be hard to debug.\n"
          ]
        },
        {
          "output_type": "stream",
          "name": "stdout",
          "text": [
            "gen ids torch.Size([1, 74])\n",
            "start time: 600 s\n",
            "end time: 612.461125\n",
            "(199378,)\n",
            "fetaure shape: torch.Size([1, 80, 3000])\n",
            "gen ids torch.Size([1, 34])\n",
            "WhatisDeepLearning？(DL01)\n",
            "Generative Adversarial Networks (DL 23).wav\n"
          ]
        },
        {
          "output_type": "stream",
          "name": "stderr",
          "text": [
            "It is strongly recommended to pass the `sampling_rate` argument to `WhisperFeatureExtractor()`. Failing to do so can result in silent errors that might be hard to debug.\n"
          ]
        },
        {
          "output_type": "stream",
          "name": "stdout",
          "text": [
            "start time: 0 s\n",
            "end time: 30\n",
            "(480000,)\n",
            "fetaure shape: torch.Size([1, 80, 3000])\n"
          ]
        },
        {
          "output_type": "stream",
          "name": "stderr",
          "text": [
            "It is strongly recommended to pass the `sampling_rate` argument to `WhisperFeatureExtractor()`. Failing to do so can result in silent errors that might be hard to debug.\n"
          ]
        },
        {
          "output_type": "stream",
          "name": "stdout",
          "text": [
            "gen ids torch.Size([1, 73])\n",
            "start time: 30 s\n",
            "end time: 60\n",
            "(480000,)\n",
            "fetaure shape: torch.Size([1, 80, 3000])\n"
          ]
        },
        {
          "output_type": "stream",
          "name": "stderr",
          "text": [
            "It is strongly recommended to pass the `sampling_rate` argument to `WhisperFeatureExtractor()`. Failing to do so can result in silent errors that might be hard to debug.\n"
          ]
        },
        {
          "output_type": "stream",
          "name": "stdout",
          "text": [
            "gen ids torch.Size([1, 57])\n",
            "start time: 60 s\n",
            "end time: 90\n",
            "(480000,)\n",
            "fetaure shape: torch.Size([1, 80, 3000])\n"
          ]
        },
        {
          "output_type": "stream",
          "name": "stderr",
          "text": [
            "It is strongly recommended to pass the `sampling_rate` argument to `WhisperFeatureExtractor()`. Failing to do so can result in silent errors that might be hard to debug.\n"
          ]
        },
        {
          "output_type": "stream",
          "name": "stdout",
          "text": [
            "gen ids torch.Size([1, 71])\n",
            "start time: 90 s\n",
            "end time: 120\n",
            "(480000,)\n",
            "fetaure shape: torch.Size([1, 80, 3000])\n"
          ]
        },
        {
          "output_type": "stream",
          "name": "stderr",
          "text": [
            "It is strongly recommended to pass the `sampling_rate` argument to `WhisperFeatureExtractor()`. Failing to do so can result in silent errors that might be hard to debug.\n"
          ]
        },
        {
          "output_type": "stream",
          "name": "stdout",
          "text": [
            "gen ids torch.Size([1, 73])\n",
            "start time: 120 s\n",
            "end time: 150\n",
            "(480000,)\n",
            "fetaure shape: torch.Size([1, 80, 3000])\n"
          ]
        },
        {
          "output_type": "stream",
          "name": "stderr",
          "text": [
            "It is strongly recommended to pass the `sampling_rate` argument to `WhisperFeatureExtractor()`. Failing to do so can result in silent errors that might be hard to debug.\n"
          ]
        },
        {
          "output_type": "stream",
          "name": "stdout",
          "text": [
            "gen ids torch.Size([1, 48])\n",
            "start time: 150 s\n",
            "end time: 180\n",
            "(480000,)\n",
            "fetaure shape: torch.Size([1, 80, 3000])\n"
          ]
        },
        {
          "output_type": "stream",
          "name": "stderr",
          "text": [
            "It is strongly recommended to pass the `sampling_rate` argument to `WhisperFeatureExtractor()`. Failing to do so can result in silent errors that might be hard to debug.\n"
          ]
        },
        {
          "output_type": "stream",
          "name": "stdout",
          "text": [
            "gen ids torch.Size([1, 64])\n",
            "start time: 180 s\n",
            "end time: 210\n",
            "(480000,)\n",
            "fetaure shape: torch.Size([1, 80, 3000])\n"
          ]
        },
        {
          "output_type": "stream",
          "name": "stderr",
          "text": [
            "It is strongly recommended to pass the `sampling_rate` argument to `WhisperFeatureExtractor()`. Failing to do so can result in silent errors that might be hard to debug.\n"
          ]
        },
        {
          "output_type": "stream",
          "name": "stdout",
          "text": [
            "gen ids torch.Size([1, 53])\n",
            "start time: 210 s\n",
            "end time: 240\n",
            "(480000,)\n",
            "fetaure shape: torch.Size([1, 80, 3000])\n"
          ]
        },
        {
          "output_type": "stream",
          "name": "stderr",
          "text": [
            "It is strongly recommended to pass the `sampling_rate` argument to `WhisperFeatureExtractor()`. Failing to do so can result in silent errors that might be hard to debug.\n"
          ]
        },
        {
          "output_type": "stream",
          "name": "stdout",
          "text": [
            "gen ids torch.Size([1, 67])\n",
            "start time: 240 s\n",
            "end time: 270\n",
            "(480000,)\n",
            "fetaure shape: torch.Size([1, 80, 3000])\n"
          ]
        },
        {
          "output_type": "stream",
          "name": "stderr",
          "text": [
            "It is strongly recommended to pass the `sampling_rate` argument to `WhisperFeatureExtractor()`. Failing to do so can result in silent errors that might be hard to debug.\n"
          ]
        },
        {
          "output_type": "stream",
          "name": "stdout",
          "text": [
            "gen ids torch.Size([1, 74])\n",
            "start time: 270 s\n",
            "end time: 300\n",
            "(480000,)\n",
            "fetaure shape: torch.Size([1, 80, 3000])\n"
          ]
        },
        {
          "output_type": "stream",
          "name": "stderr",
          "text": [
            "It is strongly recommended to pass the `sampling_rate` argument to `WhisperFeatureExtractor()`. Failing to do so can result in silent errors that might be hard to debug.\n"
          ]
        },
        {
          "output_type": "stream",
          "name": "stdout",
          "text": [
            "gen ids torch.Size([1, 67])\n",
            "start time: 300 s\n",
            "end time: 330\n",
            "(480000,)\n",
            "fetaure shape: torch.Size([1, 80, 3000])\n"
          ]
        },
        {
          "output_type": "stream",
          "name": "stderr",
          "text": [
            "It is strongly recommended to pass the `sampling_rate` argument to `WhisperFeatureExtractor()`. Failing to do so can result in silent errors that might be hard to debug.\n"
          ]
        },
        {
          "output_type": "stream",
          "name": "stdout",
          "text": [
            "gen ids torch.Size([1, 71])\n",
            "start time: 330 s\n",
            "end time: 360\n",
            "(480000,)\n",
            "fetaure shape: torch.Size([1, 80, 3000])\n"
          ]
        },
        {
          "output_type": "stream",
          "name": "stderr",
          "text": [
            "It is strongly recommended to pass the `sampling_rate` argument to `WhisperFeatureExtractor()`. Failing to do so can result in silent errors that might be hard to debug.\n"
          ]
        },
        {
          "output_type": "stream",
          "name": "stdout",
          "text": [
            "gen ids torch.Size([1, 74])\n",
            "start time: 360 s\n",
            "end time: 390\n",
            "(480000,)\n",
            "fetaure shape: torch.Size([1, 80, 3000])\n"
          ]
        },
        {
          "output_type": "stream",
          "name": "stderr",
          "text": [
            "It is strongly recommended to pass the `sampling_rate` argument to `WhisperFeatureExtractor()`. Failing to do so can result in silent errors that might be hard to debug.\n"
          ]
        },
        {
          "output_type": "stream",
          "name": "stdout",
          "text": [
            "gen ids torch.Size([1, 69])\n",
            "start time: 390 s\n",
            "end time: 420\n",
            "(480000,)\n",
            "fetaure shape: torch.Size([1, 80, 3000])\n"
          ]
        },
        {
          "output_type": "stream",
          "name": "stderr",
          "text": [
            "It is strongly recommended to pass the `sampling_rate` argument to `WhisperFeatureExtractor()`. Failing to do so can result in silent errors that might be hard to debug.\n"
          ]
        },
        {
          "output_type": "stream",
          "name": "stdout",
          "text": [
            "gen ids torch.Size([1, 90])\n",
            "start time: 420 s\n",
            "end time: 450\n",
            "(480000,)\n",
            "fetaure shape: torch.Size([1, 80, 3000])\n"
          ]
        },
        {
          "output_type": "stream",
          "name": "stderr",
          "text": [
            "It is strongly recommended to pass the `sampling_rate` argument to `WhisperFeatureExtractor()`. Failing to do so can result in silent errors that might be hard to debug.\n"
          ]
        },
        {
          "output_type": "stream",
          "name": "stdout",
          "text": [
            "gen ids torch.Size([1, 67])\n",
            "start time: 450 s\n",
            "end time: 480\n",
            "(480000,)\n",
            "fetaure shape: torch.Size([1, 80, 3000])\n"
          ]
        },
        {
          "output_type": "stream",
          "name": "stderr",
          "text": [
            "It is strongly recommended to pass the `sampling_rate` argument to `WhisperFeatureExtractor()`. Failing to do so can result in silent errors that might be hard to debug.\n"
          ]
        },
        {
          "output_type": "stream",
          "name": "stdout",
          "text": [
            "gen ids torch.Size([1, 70])\n",
            "start time: 480 s\n",
            "end time: 510\n",
            "(480000,)\n",
            "fetaure shape: torch.Size([1, 80, 3000])\n"
          ]
        },
        {
          "output_type": "stream",
          "name": "stderr",
          "text": [
            "It is strongly recommended to pass the `sampling_rate` argument to `WhisperFeatureExtractor()`. Failing to do so can result in silent errors that might be hard to debug.\n"
          ]
        },
        {
          "output_type": "stream",
          "name": "stdout",
          "text": [
            "gen ids torch.Size([1, 64])\n",
            "start time: 510 s\n",
            "end time: 540\n",
            "(480000,)\n",
            "fetaure shape: torch.Size([1, 80, 3000])\n"
          ]
        },
        {
          "output_type": "stream",
          "name": "stderr",
          "text": [
            "It is strongly recommended to pass the `sampling_rate` argument to `WhisperFeatureExtractor()`. Failing to do so can result in silent errors that might be hard to debug.\n"
          ]
        },
        {
          "output_type": "stream",
          "name": "stdout",
          "text": [
            "gen ids torch.Size([1, 68])\n",
            "start time: 540 s\n",
            "end time: 570\n",
            "(480000,)\n",
            "fetaure shape: torch.Size([1, 80, 3000])\n"
          ]
        },
        {
          "output_type": "stream",
          "name": "stderr",
          "text": [
            "It is strongly recommended to pass the `sampling_rate` argument to `WhisperFeatureExtractor()`. Failing to do so can result in silent errors that might be hard to debug.\n"
          ]
        },
        {
          "output_type": "stream",
          "name": "stdout",
          "text": [
            "gen ids torch.Size([1, 67])\n",
            "start time: 570 s\n",
            "end time: 600\n",
            "(480000,)\n",
            "fetaure shape: torch.Size([1, 80, 3000])\n"
          ]
        },
        {
          "output_type": "stream",
          "name": "stderr",
          "text": [
            "It is strongly recommended to pass the `sampling_rate` argument to `WhisperFeatureExtractor()`. Failing to do so can result in silent errors that might be hard to debug.\n"
          ]
        },
        {
          "output_type": "stream",
          "name": "stdout",
          "text": [
            "gen ids torch.Size([1, 78])\n",
            "start time: 600 s\n",
            "end time: 630\n",
            "(480000,)\n",
            "fetaure shape: torch.Size([1, 80, 3000])\n"
          ]
        },
        {
          "output_type": "stream",
          "name": "stderr",
          "text": [
            "It is strongly recommended to pass the `sampling_rate` argument to `WhisperFeatureExtractor()`. Failing to do so can result in silent errors that might be hard to debug.\n"
          ]
        },
        {
          "output_type": "stream",
          "name": "stdout",
          "text": [
            "gen ids torch.Size([1, 76])\n",
            "start time: 630 s\n",
            "end time: 660\n",
            "(480000,)\n",
            "fetaure shape: torch.Size([1, 80, 3000])\n"
          ]
        },
        {
          "output_type": "stream",
          "name": "stderr",
          "text": [
            "It is strongly recommended to pass the `sampling_rate` argument to `WhisperFeatureExtractor()`. Failing to do so can result in silent errors that might be hard to debug.\n"
          ]
        },
        {
          "output_type": "stream",
          "name": "stdout",
          "text": [
            "gen ids torch.Size([1, 83])\n",
            "start time: 660 s\n",
            "end time: 690\n",
            "(480000,)\n",
            "fetaure shape: torch.Size([1, 80, 3000])\n"
          ]
        },
        {
          "output_type": "stream",
          "name": "stderr",
          "text": [
            "It is strongly recommended to pass the `sampling_rate` argument to `WhisperFeatureExtractor()`. Failing to do so can result in silent errors that might be hard to debug.\n"
          ]
        },
        {
          "output_type": "stream",
          "name": "stdout",
          "text": [
            "gen ids torch.Size([1, 78])\n",
            "start time: 690 s\n",
            "end time: 720\n",
            "(480000,)\n",
            "fetaure shape: torch.Size([1, 80, 3000])\n"
          ]
        },
        {
          "output_type": "stream",
          "name": "stderr",
          "text": [
            "It is strongly recommended to pass the `sampling_rate` argument to `WhisperFeatureExtractor()`. Failing to do so can result in silent errors that might be hard to debug.\n"
          ]
        },
        {
          "output_type": "stream",
          "name": "stdout",
          "text": [
            "gen ids torch.Size([1, 67])\n",
            "start time: 720 s\n",
            "end time: 750\n",
            "(480000,)\n",
            "fetaure shape: torch.Size([1, 80, 3000])\n"
          ]
        },
        {
          "output_type": "stream",
          "name": "stderr",
          "text": [
            "It is strongly recommended to pass the `sampling_rate` argument to `WhisperFeatureExtractor()`. Failing to do so can result in silent errors that might be hard to debug.\n"
          ]
        },
        {
          "output_type": "stream",
          "name": "stdout",
          "text": [
            "gen ids torch.Size([1, 79])\n",
            "start time: 750 s\n",
            "end time: 780\n",
            "(480000,)\n",
            "fetaure shape: torch.Size([1, 80, 3000])\n"
          ]
        },
        {
          "output_type": "stream",
          "name": "stderr",
          "text": [
            "It is strongly recommended to pass the `sampling_rate` argument to `WhisperFeatureExtractor()`. Failing to do so can result in silent errors that might be hard to debug.\n"
          ]
        },
        {
          "output_type": "stream",
          "name": "stdout",
          "text": [
            "gen ids torch.Size([1, 77])\n",
            "start time: 780 s\n",
            "end time: 810\n",
            "(480000,)\n",
            "fetaure shape: torch.Size([1, 80, 3000])\n"
          ]
        },
        {
          "output_type": "stream",
          "name": "stderr",
          "text": [
            "It is strongly recommended to pass the `sampling_rate` argument to `WhisperFeatureExtractor()`. Failing to do so can result in silent errors that might be hard to debug.\n"
          ]
        },
        {
          "output_type": "stream",
          "name": "stdout",
          "text": [
            "gen ids torch.Size([1, 67])\n",
            "start time: 810 s\n",
            "end time: 840\n",
            "(480000,)\n",
            "fetaure shape: torch.Size([1, 80, 3000])\n"
          ]
        },
        {
          "output_type": "stream",
          "name": "stderr",
          "text": [
            "It is strongly recommended to pass the `sampling_rate` argument to `WhisperFeatureExtractor()`. Failing to do so can result in silent errors that might be hard to debug.\n"
          ]
        },
        {
          "output_type": "stream",
          "name": "stdout",
          "text": [
            "gen ids torch.Size([1, 82])\n",
            "start time: 840 s\n",
            "end time: 870\n",
            "(480000,)\n",
            "fetaure shape: torch.Size([1, 80, 3000])\n"
          ]
        },
        {
          "output_type": "stream",
          "name": "stderr",
          "text": [
            "It is strongly recommended to pass the `sampling_rate` argument to `WhisperFeatureExtractor()`. Failing to do so can result in silent errors that might be hard to debug.\n"
          ]
        },
        {
          "output_type": "stream",
          "name": "stdout",
          "text": [
            "gen ids torch.Size([1, 79])\n",
            "start time: 870 s\n",
            "end time: 900\n",
            "(480000,)\n",
            "fetaure shape: torch.Size([1, 80, 3000])\n"
          ]
        },
        {
          "output_type": "stream",
          "name": "stderr",
          "text": [
            "It is strongly recommended to pass the `sampling_rate` argument to `WhisperFeatureExtractor()`. Failing to do so can result in silent errors that might be hard to debug.\n"
          ]
        },
        {
          "output_type": "stream",
          "name": "stdout",
          "text": [
            "gen ids torch.Size([1, 85])\n",
            "start time: 900 s\n",
            "end time: 930\n",
            "(480000,)\n",
            "fetaure shape: torch.Size([1, 80, 3000])\n"
          ]
        },
        {
          "output_type": "stream",
          "name": "stderr",
          "text": [
            "It is strongly recommended to pass the `sampling_rate` argument to `WhisperFeatureExtractor()`. Failing to do so can result in silent errors that might be hard to debug.\n"
          ]
        },
        {
          "output_type": "stream",
          "name": "stdout",
          "text": [
            "gen ids torch.Size([1, 68])\n",
            "start time: 930 s\n",
            "end time: 960\n",
            "(480000,)\n",
            "fetaure shape: torch.Size([1, 80, 3000])\n"
          ]
        },
        {
          "output_type": "stream",
          "name": "stderr",
          "text": [
            "It is strongly recommended to pass the `sampling_rate` argument to `WhisperFeatureExtractor()`. Failing to do so can result in silent errors that might be hard to debug.\n"
          ]
        },
        {
          "output_type": "stream",
          "name": "stdout",
          "text": [
            "gen ids torch.Size([1, 73])\n",
            "start time: 960 s\n",
            "end time: 985.1994375\n",
            "(403191,)\n",
            "fetaure shape: torch.Size([1, 80, 3000])\n",
            "gen ids torch.Size([1, 62])\n",
            "GenerativeAdversarialNetworks(DL23)\n",
            "Deep Learning Prerequisites (DL 02).wav\n"
          ]
        },
        {
          "output_type": "stream",
          "name": "stderr",
          "text": [
            "It is strongly recommended to pass the `sampling_rate` argument to `WhisperFeatureExtractor()`. Failing to do so can result in silent errors that might be hard to debug.\n"
          ]
        },
        {
          "output_type": "stream",
          "name": "stdout",
          "text": [
            "start time: 0 s\n",
            "end time: 30\n",
            "(480000,)\n",
            "fetaure shape: torch.Size([1, 80, 3000])\n"
          ]
        },
        {
          "output_type": "stream",
          "name": "stderr",
          "text": [
            "It is strongly recommended to pass the `sampling_rate` argument to `WhisperFeatureExtractor()`. Failing to do so can result in silent errors that might be hard to debug.\n"
          ]
        },
        {
          "output_type": "stream",
          "name": "stdout",
          "text": [
            "gen ids torch.Size([1, 100])\n",
            "start time: 30 s\n",
            "end time: 60\n",
            "(480000,)\n",
            "fetaure shape: torch.Size([1, 80, 3000])\n"
          ]
        },
        {
          "output_type": "stream",
          "name": "stderr",
          "text": [
            "It is strongly recommended to pass the `sampling_rate` argument to `WhisperFeatureExtractor()`. Failing to do so can result in silent errors that might be hard to debug.\n"
          ]
        },
        {
          "output_type": "stream",
          "name": "stdout",
          "text": [
            "gen ids torch.Size([1, 85])\n",
            "start time: 60 s\n",
            "end time: 90\n",
            "(480000,)\n",
            "fetaure shape: torch.Size([1, 80, 3000])\n"
          ]
        },
        {
          "output_type": "stream",
          "name": "stderr",
          "text": [
            "It is strongly recommended to pass the `sampling_rate` argument to `WhisperFeatureExtractor()`. Failing to do so can result in silent errors that might be hard to debug.\n"
          ]
        },
        {
          "output_type": "stream",
          "name": "stdout",
          "text": [
            "gen ids torch.Size([1, 77])\n",
            "start time: 90 s\n",
            "end time: 120\n",
            "(480000,)\n",
            "fetaure shape: torch.Size([1, 80, 3000])\n"
          ]
        },
        {
          "output_type": "stream",
          "name": "stderr",
          "text": [
            "It is strongly recommended to pass the `sampling_rate` argument to `WhisperFeatureExtractor()`. Failing to do so can result in silent errors that might be hard to debug.\n"
          ]
        },
        {
          "output_type": "stream",
          "name": "stdout",
          "text": [
            "gen ids torch.Size([1, 74])\n",
            "start time: 120 s\n",
            "end time: 150\n",
            "(480000,)\n",
            "fetaure shape: torch.Size([1, 80, 3000])\n"
          ]
        },
        {
          "output_type": "stream",
          "name": "stderr",
          "text": [
            "It is strongly recommended to pass the `sampling_rate` argument to `WhisperFeatureExtractor()`. Failing to do so can result in silent errors that might be hard to debug.\n"
          ]
        },
        {
          "output_type": "stream",
          "name": "stdout",
          "text": [
            "gen ids torch.Size([1, 84])\n",
            "start time: 150 s\n",
            "end time: 180\n",
            "(480000,)\n",
            "fetaure shape: torch.Size([1, 80, 3000])\n"
          ]
        },
        {
          "output_type": "stream",
          "name": "stderr",
          "text": [
            "It is strongly recommended to pass the `sampling_rate` argument to `WhisperFeatureExtractor()`. Failing to do so can result in silent errors that might be hard to debug.\n"
          ]
        },
        {
          "output_type": "stream",
          "name": "stdout",
          "text": [
            "gen ids torch.Size([1, 79])\n",
            "start time: 180 s\n",
            "end time: 210\n",
            "(480000,)\n",
            "fetaure shape: torch.Size([1, 80, 3000])\n"
          ]
        },
        {
          "output_type": "stream",
          "name": "stderr",
          "text": [
            "It is strongly recommended to pass the `sampling_rate` argument to `WhisperFeatureExtractor()`. Failing to do so can result in silent errors that might be hard to debug.\n"
          ]
        },
        {
          "output_type": "stream",
          "name": "stdout",
          "text": [
            "gen ids torch.Size([1, 79])\n",
            "start time: 210 s\n",
            "end time: 240\n",
            "(480000,)\n",
            "fetaure shape: torch.Size([1, 80, 3000])\n"
          ]
        },
        {
          "output_type": "stream",
          "name": "stderr",
          "text": [
            "It is strongly recommended to pass the `sampling_rate` argument to `WhisperFeatureExtractor()`. Failing to do so can result in silent errors that might be hard to debug.\n"
          ]
        },
        {
          "output_type": "stream",
          "name": "stdout",
          "text": [
            "gen ids torch.Size([1, 85])\n",
            "start time: 240 s\n",
            "end time: 270\n",
            "(480000,)\n",
            "fetaure shape: torch.Size([1, 80, 3000])\n"
          ]
        },
        {
          "output_type": "stream",
          "name": "stderr",
          "text": [
            "It is strongly recommended to pass the `sampling_rate` argument to `WhisperFeatureExtractor()`. Failing to do so can result in silent errors that might be hard to debug.\n"
          ]
        },
        {
          "output_type": "stream",
          "name": "stdout",
          "text": [
            "gen ids torch.Size([1, 83])\n",
            "start time: 270 s\n",
            "end time: 300\n",
            "(480000,)\n",
            "fetaure shape: torch.Size([1, 80, 3000])\n"
          ]
        },
        {
          "output_type": "stream",
          "name": "stderr",
          "text": [
            "It is strongly recommended to pass the `sampling_rate` argument to `WhisperFeatureExtractor()`. Failing to do so can result in silent errors that might be hard to debug.\n"
          ]
        },
        {
          "output_type": "stream",
          "name": "stdout",
          "text": [
            "gen ids torch.Size([1, 95])\n",
            "start time: 300 s\n",
            "end time: 304.6574375\n",
            "(74519,)\n",
            "fetaure shape: torch.Size([1, 80, 3000])\n",
            "gen ids torch.Size([1, 15])\n",
            "DeepLearningPrerequisites(DL02)\n",
            "Computation Graphs (DL 25).wav\n"
          ]
        },
        {
          "output_type": "stream",
          "name": "stderr",
          "text": [
            "It is strongly recommended to pass the `sampling_rate` argument to `WhisperFeatureExtractor()`. Failing to do so can result in silent errors that might be hard to debug.\n"
          ]
        },
        {
          "output_type": "stream",
          "name": "stdout",
          "text": [
            "start time: 0 s\n",
            "end time: 30\n",
            "(480000,)\n",
            "fetaure shape: torch.Size([1, 80, 3000])\n"
          ]
        },
        {
          "output_type": "stream",
          "name": "stderr",
          "text": [
            "It is strongly recommended to pass the `sampling_rate` argument to `WhisperFeatureExtractor()`. Failing to do so can result in silent errors that might be hard to debug.\n"
          ]
        },
        {
          "output_type": "stream",
          "name": "stdout",
          "text": [
            "gen ids torch.Size([1, 85])\n",
            "start time: 30 s\n",
            "end time: 60\n",
            "(480000,)\n",
            "fetaure shape: torch.Size([1, 80, 3000])\n"
          ]
        },
        {
          "output_type": "stream",
          "name": "stderr",
          "text": [
            "It is strongly recommended to pass the `sampling_rate` argument to `WhisperFeatureExtractor()`. Failing to do so can result in silent errors that might be hard to debug.\n"
          ]
        },
        {
          "output_type": "stream",
          "name": "stdout",
          "text": [
            "gen ids torch.Size([1, 65])\n",
            "start time: 60 s\n",
            "end time: 90\n",
            "(480000,)\n",
            "fetaure shape: torch.Size([1, 80, 3000])\n"
          ]
        },
        {
          "output_type": "stream",
          "name": "stderr",
          "text": [
            "It is strongly recommended to pass the `sampling_rate` argument to `WhisperFeatureExtractor()`. Failing to do so can result in silent errors that might be hard to debug.\n"
          ]
        },
        {
          "output_type": "stream",
          "name": "stdout",
          "text": [
            "gen ids torch.Size([1, 55])\n",
            "start time: 90 s\n",
            "end time: 120\n",
            "(480000,)\n",
            "fetaure shape: torch.Size([1, 80, 3000])\n"
          ]
        },
        {
          "output_type": "stream",
          "name": "stderr",
          "text": [
            "It is strongly recommended to pass the `sampling_rate` argument to `WhisperFeatureExtractor()`. Failing to do so can result in silent errors that might be hard to debug.\n"
          ]
        },
        {
          "output_type": "stream",
          "name": "stdout",
          "text": [
            "gen ids torch.Size([1, 66])\n",
            "start time: 120 s\n",
            "end time: 150\n",
            "(480000,)\n",
            "fetaure shape: torch.Size([1, 80, 3000])\n"
          ]
        },
        {
          "output_type": "stream",
          "name": "stderr",
          "text": [
            "It is strongly recommended to pass the `sampling_rate` argument to `WhisperFeatureExtractor()`. Failing to do so can result in silent errors that might be hard to debug.\n"
          ]
        },
        {
          "output_type": "stream",
          "name": "stdout",
          "text": [
            "gen ids torch.Size([1, 72])\n",
            "start time: 150 s\n",
            "end time: 180\n",
            "(480000,)\n",
            "fetaure shape: torch.Size([1, 80, 3000])\n"
          ]
        },
        {
          "output_type": "stream",
          "name": "stderr",
          "text": [
            "It is strongly recommended to pass the `sampling_rate` argument to `WhisperFeatureExtractor()`. Failing to do so can result in silent errors that might be hard to debug.\n"
          ]
        },
        {
          "output_type": "stream",
          "name": "stdout",
          "text": [
            "gen ids torch.Size([1, 79])\n",
            "start time: 180 s\n",
            "end time: 210\n",
            "(480000,)\n",
            "fetaure shape: torch.Size([1, 80, 3000])\n"
          ]
        },
        {
          "output_type": "stream",
          "name": "stderr",
          "text": [
            "It is strongly recommended to pass the `sampling_rate` argument to `WhisperFeatureExtractor()`. Failing to do so can result in silent errors that might be hard to debug.\n"
          ]
        },
        {
          "output_type": "stream",
          "name": "stdout",
          "text": [
            "gen ids torch.Size([1, 73])\n",
            "start time: 210 s\n",
            "end time: 240\n",
            "(480000,)\n",
            "fetaure shape: torch.Size([1, 80, 3000])\n"
          ]
        },
        {
          "output_type": "stream",
          "name": "stderr",
          "text": [
            "It is strongly recommended to pass the `sampling_rate` argument to `WhisperFeatureExtractor()`. Failing to do so can result in silent errors that might be hard to debug.\n"
          ]
        },
        {
          "output_type": "stream",
          "name": "stdout",
          "text": [
            "gen ids torch.Size([1, 86])\n",
            "start time: 240 s\n",
            "end time: 270\n",
            "(480000,)\n",
            "fetaure shape: torch.Size([1, 80, 3000])\n"
          ]
        },
        {
          "output_type": "stream",
          "name": "stderr",
          "text": [
            "It is strongly recommended to pass the `sampling_rate` argument to `WhisperFeatureExtractor()`. Failing to do so can result in silent errors that might be hard to debug.\n"
          ]
        },
        {
          "output_type": "stream",
          "name": "stdout",
          "text": [
            "gen ids torch.Size([1, 83])\n",
            "start time: 270 s\n",
            "end time: 300\n",
            "(480000,)\n",
            "fetaure shape: torch.Size([1, 80, 3000])\n"
          ]
        },
        {
          "output_type": "stream",
          "name": "stderr",
          "text": [
            "It is strongly recommended to pass the `sampling_rate` argument to `WhisperFeatureExtractor()`. Failing to do so can result in silent errors that might be hard to debug.\n"
          ]
        },
        {
          "output_type": "stream",
          "name": "stdout",
          "text": [
            "gen ids torch.Size([1, 91])\n",
            "start time: 300 s\n",
            "end time: 330\n",
            "(480000,)\n",
            "fetaure shape: torch.Size([1, 80, 3000])\n"
          ]
        },
        {
          "output_type": "stream",
          "name": "stderr",
          "text": [
            "It is strongly recommended to pass the `sampling_rate` argument to `WhisperFeatureExtractor()`. Failing to do so can result in silent errors that might be hard to debug.\n"
          ]
        },
        {
          "output_type": "stream",
          "name": "stdout",
          "text": [
            "gen ids torch.Size([1, 90])\n",
            "start time: 330 s\n",
            "end time: 360\n",
            "(480000,)\n",
            "fetaure shape: torch.Size([1, 80, 3000])\n"
          ]
        },
        {
          "output_type": "stream",
          "name": "stderr",
          "text": [
            "It is strongly recommended to pass the `sampling_rate` argument to `WhisperFeatureExtractor()`. Failing to do so can result in silent errors that might be hard to debug.\n"
          ]
        },
        {
          "output_type": "stream",
          "name": "stdout",
          "text": [
            "gen ids torch.Size([1, 72])\n",
            "start time: 360 s\n",
            "end time: 390\n",
            "(480000,)\n",
            "fetaure shape: torch.Size([1, 80, 3000])\n"
          ]
        },
        {
          "output_type": "stream",
          "name": "stderr",
          "text": [
            "It is strongly recommended to pass the `sampling_rate` argument to `WhisperFeatureExtractor()`. Failing to do so can result in silent errors that might be hard to debug.\n"
          ]
        },
        {
          "output_type": "stream",
          "name": "stdout",
          "text": [
            "gen ids torch.Size([1, 65])\n",
            "start time: 390 s\n",
            "end time: 420\n",
            "(480000,)\n",
            "fetaure shape: torch.Size([1, 80, 3000])\n"
          ]
        },
        {
          "output_type": "stream",
          "name": "stderr",
          "text": [
            "It is strongly recommended to pass the `sampling_rate` argument to `WhisperFeatureExtractor()`. Failing to do so can result in silent errors that might be hard to debug.\n"
          ]
        },
        {
          "output_type": "stream",
          "name": "stdout",
          "text": [
            "gen ids torch.Size([1, 87])\n",
            "start time: 420 s\n",
            "end time: 450\n",
            "(480000,)\n",
            "fetaure shape: torch.Size([1, 80, 3000])\n"
          ]
        },
        {
          "output_type": "stream",
          "name": "stderr",
          "text": [
            "It is strongly recommended to pass the `sampling_rate` argument to `WhisperFeatureExtractor()`. Failing to do so can result in silent errors that might be hard to debug.\n"
          ]
        },
        {
          "output_type": "stream",
          "name": "stdout",
          "text": [
            "gen ids torch.Size([1, 72])\n",
            "start time: 450 s\n",
            "end time: 480\n",
            "(480000,)\n",
            "fetaure shape: torch.Size([1, 80, 3000])\n"
          ]
        },
        {
          "output_type": "stream",
          "name": "stderr",
          "text": [
            "It is strongly recommended to pass the `sampling_rate` argument to `WhisperFeatureExtractor()`. Failing to do so can result in silent errors that might be hard to debug.\n"
          ]
        },
        {
          "output_type": "stream",
          "name": "stdout",
          "text": [
            "gen ids torch.Size([1, 81])\n",
            "start time: 480 s\n",
            "end time: 510\n",
            "(480000,)\n",
            "fetaure shape: torch.Size([1, 80, 3000])\n"
          ]
        },
        {
          "output_type": "stream",
          "name": "stderr",
          "text": [
            "It is strongly recommended to pass the `sampling_rate` argument to `WhisperFeatureExtractor()`. Failing to do so can result in silent errors that might be hard to debug.\n"
          ]
        },
        {
          "output_type": "stream",
          "name": "stdout",
          "text": [
            "gen ids torch.Size([1, 67])\n",
            "start time: 510 s\n",
            "end time: 540\n",
            "(480000,)\n",
            "fetaure shape: torch.Size([1, 80, 3000])\n"
          ]
        },
        {
          "output_type": "stream",
          "name": "stderr",
          "text": [
            "It is strongly recommended to pass the `sampling_rate` argument to `WhisperFeatureExtractor()`. Failing to do so can result in silent errors that might be hard to debug.\n"
          ]
        },
        {
          "output_type": "stream",
          "name": "stdout",
          "text": [
            "gen ids torch.Size([1, 67])\n",
            "start time: 540 s\n",
            "end time: 570\n",
            "(480000,)\n",
            "fetaure shape: torch.Size([1, 80, 3000])\n"
          ]
        },
        {
          "output_type": "stream",
          "name": "stderr",
          "text": [
            "It is strongly recommended to pass the `sampling_rate` argument to `WhisperFeatureExtractor()`. Failing to do so can result in silent errors that might be hard to debug.\n"
          ]
        },
        {
          "output_type": "stream",
          "name": "stdout",
          "text": [
            "gen ids torch.Size([1, 84])\n",
            "start time: 570 s\n",
            "end time: 600\n",
            "(480000,)\n",
            "fetaure shape: torch.Size([1, 80, 3000])\n"
          ]
        },
        {
          "output_type": "stream",
          "name": "stderr",
          "text": [
            "It is strongly recommended to pass the `sampling_rate` argument to `WhisperFeatureExtractor()`. Failing to do so can result in silent errors that might be hard to debug.\n"
          ]
        },
        {
          "output_type": "stream",
          "name": "stdout",
          "text": [
            "gen ids torch.Size([1, 86])\n",
            "start time: 600 s\n",
            "end time: 630\n",
            "(480000,)\n",
            "fetaure shape: torch.Size([1, 80, 3000])\n"
          ]
        },
        {
          "output_type": "stream",
          "name": "stderr",
          "text": [
            "It is strongly recommended to pass the `sampling_rate` argument to `WhisperFeatureExtractor()`. Failing to do so can result in silent errors that might be hard to debug.\n"
          ]
        },
        {
          "output_type": "stream",
          "name": "stdout",
          "text": [
            "gen ids torch.Size([1, 88])\n",
            "start time: 630 s\n",
            "end time: 660\n",
            "(480000,)\n",
            "fetaure shape: torch.Size([1, 80, 3000])\n"
          ]
        },
        {
          "output_type": "stream",
          "name": "stderr",
          "text": [
            "It is strongly recommended to pass the `sampling_rate` argument to `WhisperFeatureExtractor()`. Failing to do so can result in silent errors that might be hard to debug.\n"
          ]
        },
        {
          "output_type": "stream",
          "name": "stdout",
          "text": [
            "gen ids torch.Size([1, 77])\n",
            "start time: 660 s\n",
            "end time: 690\n",
            "(480000,)\n",
            "fetaure shape: torch.Size([1, 80, 3000])\n"
          ]
        },
        {
          "output_type": "stream",
          "name": "stderr",
          "text": [
            "It is strongly recommended to pass the `sampling_rate` argument to `WhisperFeatureExtractor()`. Failing to do so can result in silent errors that might be hard to debug.\n"
          ]
        },
        {
          "output_type": "stream",
          "name": "stdout",
          "text": [
            "gen ids torch.Size([1, 446])\n",
            "start time: 690 s\n",
            "end time: 720\n",
            "(480000,)\n",
            "fetaure shape: torch.Size([1, 80, 3000])\n"
          ]
        },
        {
          "output_type": "stream",
          "name": "stderr",
          "text": [
            "It is strongly recommended to pass the `sampling_rate` argument to `WhisperFeatureExtractor()`. Failing to do so can result in silent errors that might be hard to debug.\n"
          ]
        },
        {
          "output_type": "stream",
          "name": "stdout",
          "text": [
            "gen ids torch.Size([1, 70])\n",
            "start time: 720 s\n",
            "end time: 750\n",
            "(480000,)\n",
            "fetaure shape: torch.Size([1, 80, 3000])\n"
          ]
        },
        {
          "output_type": "stream",
          "name": "stderr",
          "text": [
            "It is strongly recommended to pass the `sampling_rate` argument to `WhisperFeatureExtractor()`. Failing to do so can result in silent errors that might be hard to debug.\n"
          ]
        },
        {
          "output_type": "stream",
          "name": "stdout",
          "text": [
            "gen ids torch.Size([1, 70])\n",
            "start time: 750 s\n",
            "end time: 780\n",
            "(480000,)\n",
            "fetaure shape: torch.Size([1, 80, 3000])\n"
          ]
        },
        {
          "output_type": "stream",
          "name": "stderr",
          "text": [
            "It is strongly recommended to pass the `sampling_rate` argument to `WhisperFeatureExtractor()`. Failing to do so can result in silent errors that might be hard to debug.\n"
          ]
        },
        {
          "output_type": "stream",
          "name": "stdout",
          "text": [
            "gen ids torch.Size([1, 48])\n",
            "start time: 780 s\n",
            "end time: 810\n",
            "(480000,)\n",
            "fetaure shape: torch.Size([1, 80, 3000])\n"
          ]
        },
        {
          "output_type": "stream",
          "name": "stderr",
          "text": [
            "It is strongly recommended to pass the `sampling_rate` argument to `WhisperFeatureExtractor()`. Failing to do so can result in silent errors that might be hard to debug.\n"
          ]
        },
        {
          "output_type": "stream",
          "name": "stdout",
          "text": [
            "gen ids torch.Size([1, 74])\n",
            "start time: 810 s\n",
            "end time: 840\n",
            "(480000,)\n",
            "fetaure shape: torch.Size([1, 80, 3000])\n"
          ]
        },
        {
          "output_type": "stream",
          "name": "stderr",
          "text": [
            "It is strongly recommended to pass the `sampling_rate` argument to `WhisperFeatureExtractor()`. Failing to do so can result in silent errors that might be hard to debug.\n"
          ]
        },
        {
          "output_type": "stream",
          "name": "stdout",
          "text": [
            "gen ids torch.Size([1, 62])\n",
            "start time: 840 s\n",
            "end time: 870\n",
            "(480000,)\n",
            "fetaure shape: torch.Size([1, 80, 3000])\n"
          ]
        },
        {
          "output_type": "stream",
          "name": "stderr",
          "text": [
            "It is strongly recommended to pass the `sampling_rate` argument to `WhisperFeatureExtractor()`. Failing to do so can result in silent errors that might be hard to debug.\n"
          ]
        },
        {
          "output_type": "stream",
          "name": "stdout",
          "text": [
            "gen ids torch.Size([1, 50])\n",
            "start time: 870 s\n",
            "end time: 900\n",
            "(480000,)\n",
            "fetaure shape: torch.Size([1, 80, 3000])\n"
          ]
        },
        {
          "output_type": "stream",
          "name": "stderr",
          "text": [
            "It is strongly recommended to pass the `sampling_rate` argument to `WhisperFeatureExtractor()`. Failing to do so can result in silent errors that might be hard to debug.\n"
          ]
        },
        {
          "output_type": "stream",
          "name": "stdout",
          "text": [
            "gen ids torch.Size([1, 70])\n",
            "start time: 900 s\n",
            "end time: 930\n",
            "(480000,)\n",
            "fetaure shape: torch.Size([1, 80, 3000])\n"
          ]
        },
        {
          "output_type": "stream",
          "name": "stderr",
          "text": [
            "It is strongly recommended to pass the `sampling_rate` argument to `WhisperFeatureExtractor()`. Failing to do so can result in silent errors that might be hard to debug.\n"
          ]
        },
        {
          "output_type": "stream",
          "name": "stdout",
          "text": [
            "gen ids torch.Size([1, 67])\n",
            "start time: 930 s\n",
            "end time: 960\n",
            "(480000,)\n",
            "fetaure shape: torch.Size([1, 80, 3000])\n"
          ]
        },
        {
          "output_type": "stream",
          "name": "stderr",
          "text": [
            "It is strongly recommended to pass the `sampling_rate` argument to `WhisperFeatureExtractor()`. Failing to do so can result in silent errors that might be hard to debug.\n"
          ]
        },
        {
          "output_type": "stream",
          "name": "stdout",
          "text": [
            "gen ids torch.Size([1, 84])\n",
            "start time: 960 s\n",
            "end time: 990\n",
            "(480000,)\n",
            "fetaure shape: torch.Size([1, 80, 3000])\n"
          ]
        },
        {
          "output_type": "stream",
          "name": "stderr",
          "text": [
            "It is strongly recommended to pass the `sampling_rate` argument to `WhisperFeatureExtractor()`. Failing to do so can result in silent errors that might be hard to debug.\n"
          ]
        },
        {
          "output_type": "stream",
          "name": "stdout",
          "text": [
            "gen ids torch.Size([1, 76])\n",
            "start time: 990 s\n",
            "end time: 1020\n",
            "(480000,)\n",
            "fetaure shape: torch.Size([1, 80, 3000])\n"
          ]
        },
        {
          "output_type": "stream",
          "name": "stderr",
          "text": [
            "It is strongly recommended to pass the `sampling_rate` argument to `WhisperFeatureExtractor()`. Failing to do so can result in silent errors that might be hard to debug.\n"
          ]
        },
        {
          "output_type": "stream",
          "name": "stdout",
          "text": [
            "gen ids torch.Size([1, 91])\n",
            "start time: 1020 s\n",
            "end time: 1050\n",
            "(480000,)\n",
            "fetaure shape: torch.Size([1, 80, 3000])\n"
          ]
        },
        {
          "output_type": "stream",
          "name": "stderr",
          "text": [
            "It is strongly recommended to pass the `sampling_rate` argument to `WhisperFeatureExtractor()`. Failing to do so can result in silent errors that might be hard to debug.\n"
          ]
        },
        {
          "output_type": "stream",
          "name": "stdout",
          "text": [
            "gen ids torch.Size([1, 69])\n",
            "start time: 1050 s\n",
            "end time: 1080\n",
            "(480000,)\n",
            "fetaure shape: torch.Size([1, 80, 3000])\n"
          ]
        },
        {
          "output_type": "stream",
          "name": "stderr",
          "text": [
            "It is strongly recommended to pass the `sampling_rate` argument to `WhisperFeatureExtractor()`. Failing to do so can result in silent errors that might be hard to debug.\n"
          ]
        },
        {
          "output_type": "stream",
          "name": "stdout",
          "text": [
            "gen ids torch.Size([1, 74])\n",
            "start time: 1080 s\n",
            "end time: 1110\n",
            "(480000,)\n",
            "fetaure shape: torch.Size([1, 80, 3000])\n"
          ]
        },
        {
          "output_type": "stream",
          "name": "stderr",
          "text": [
            "It is strongly recommended to pass the `sampling_rate` argument to `WhisperFeatureExtractor()`. Failing to do so can result in silent errors that might be hard to debug.\n"
          ]
        },
        {
          "output_type": "stream",
          "name": "stdout",
          "text": [
            "gen ids torch.Size([1, 74])\n",
            "start time: 1110 s\n",
            "end time: 1140\n",
            "(480000,)\n",
            "fetaure shape: torch.Size([1, 80, 3000])\n"
          ]
        },
        {
          "output_type": "stream",
          "name": "stderr",
          "text": [
            "It is strongly recommended to pass the `sampling_rate` argument to `WhisperFeatureExtractor()`. Failing to do so can result in silent errors that might be hard to debug.\n"
          ]
        },
        {
          "output_type": "stream",
          "name": "stdout",
          "text": [
            "gen ids torch.Size([1, 71])\n",
            "start time: 1140 s\n",
            "end time: 1170\n",
            "(480000,)\n",
            "fetaure shape: torch.Size([1, 80, 3000])\n"
          ]
        },
        {
          "output_type": "stream",
          "name": "stderr",
          "text": [
            "It is strongly recommended to pass the `sampling_rate` argument to `WhisperFeatureExtractor()`. Failing to do so can result in silent errors that might be hard to debug.\n"
          ]
        },
        {
          "output_type": "stream",
          "name": "stdout",
          "text": [
            "gen ids torch.Size([1, 67])\n",
            "start time: 1170 s\n",
            "end time: 1200\n",
            "(480000,)\n",
            "fetaure shape: torch.Size([1, 80, 3000])\n"
          ]
        },
        {
          "output_type": "stream",
          "name": "stderr",
          "text": [
            "It is strongly recommended to pass the `sampling_rate` argument to `WhisperFeatureExtractor()`. Failing to do so can result in silent errors that might be hard to debug.\n"
          ]
        },
        {
          "output_type": "stream",
          "name": "stdout",
          "text": [
            "gen ids torch.Size([1, 72])\n",
            "start time: 1200 s\n",
            "end time: 1230\n",
            "(480000,)\n",
            "fetaure shape: torch.Size([1, 80, 3000])\n"
          ]
        },
        {
          "output_type": "stream",
          "name": "stderr",
          "text": [
            "It is strongly recommended to pass the `sampling_rate` argument to `WhisperFeatureExtractor()`. Failing to do so can result in silent errors that might be hard to debug.\n"
          ]
        },
        {
          "output_type": "stream",
          "name": "stdout",
          "text": [
            "gen ids torch.Size([1, 66])\n",
            "start time: 1230 s\n",
            "end time: 1260\n",
            "(480000,)\n",
            "fetaure shape: torch.Size([1, 80, 3000])\n"
          ]
        },
        {
          "output_type": "stream",
          "name": "stderr",
          "text": [
            "It is strongly recommended to pass the `sampling_rate` argument to `WhisperFeatureExtractor()`. Failing to do so can result in silent errors that might be hard to debug.\n"
          ]
        },
        {
          "output_type": "stream",
          "name": "stdout",
          "text": [
            "gen ids torch.Size([1, 66])\n",
            "start time: 1260 s\n",
            "end time: 1290\n",
            "(480000,)\n",
            "fetaure shape: torch.Size([1, 80, 3000])\n"
          ]
        },
        {
          "output_type": "stream",
          "name": "stderr",
          "text": [
            "It is strongly recommended to pass the `sampling_rate` argument to `WhisperFeatureExtractor()`. Failing to do so can result in silent errors that might be hard to debug.\n"
          ]
        },
        {
          "output_type": "stream",
          "name": "stdout",
          "text": [
            "gen ids torch.Size([1, 68])\n",
            "start time: 1290 s\n",
            "end time: 1320\n",
            "(480000,)\n",
            "fetaure shape: torch.Size([1, 80, 3000])\n"
          ]
        },
        {
          "output_type": "stream",
          "name": "stderr",
          "text": [
            "It is strongly recommended to pass the `sampling_rate` argument to `WhisperFeatureExtractor()`. Failing to do so can result in silent errors that might be hard to debug.\n"
          ]
        },
        {
          "output_type": "stream",
          "name": "stdout",
          "text": [
            "gen ids torch.Size([1, 70])\n",
            "start time: 1320 s\n",
            "end time: 1350\n",
            "(480000,)\n",
            "fetaure shape: torch.Size([1, 80, 3000])\n"
          ]
        },
        {
          "output_type": "stream",
          "name": "stderr",
          "text": [
            "It is strongly recommended to pass the `sampling_rate` argument to `WhisperFeatureExtractor()`. Failing to do so can result in silent errors that might be hard to debug.\n"
          ]
        },
        {
          "output_type": "stream",
          "name": "stdout",
          "text": [
            "gen ids torch.Size([1, 59])\n",
            "start time: 1350 s\n",
            "end time: 1380\n",
            "(480000,)\n",
            "fetaure shape: torch.Size([1, 80, 3000])\n"
          ]
        },
        {
          "output_type": "stream",
          "name": "stderr",
          "text": [
            "It is strongly recommended to pass the `sampling_rate` argument to `WhisperFeatureExtractor()`. Failing to do so can result in silent errors that might be hard to debug.\n"
          ]
        },
        {
          "output_type": "stream",
          "name": "stdout",
          "text": [
            "gen ids torch.Size([1, 78])\n",
            "start time: 1380 s\n",
            "end time: 1410\n",
            "(480000,)\n",
            "fetaure shape: torch.Size([1, 80, 3000])\n"
          ]
        },
        {
          "output_type": "stream",
          "name": "stderr",
          "text": [
            "It is strongly recommended to pass the `sampling_rate` argument to `WhisperFeatureExtractor()`. Failing to do so can result in silent errors that might be hard to debug.\n"
          ]
        },
        {
          "output_type": "stream",
          "name": "stdout",
          "text": [
            "gen ids torch.Size([1, 76])\n",
            "start time: 1410 s\n",
            "end time: 1440\n",
            "(480000,)\n",
            "fetaure shape: torch.Size([1, 80, 3000])\n"
          ]
        },
        {
          "output_type": "stream",
          "name": "stderr",
          "text": [
            "It is strongly recommended to pass the `sampling_rate` argument to `WhisperFeatureExtractor()`. Failing to do so can result in silent errors that might be hard to debug.\n"
          ]
        },
        {
          "output_type": "stream",
          "name": "stdout",
          "text": [
            "gen ids torch.Size([1, 79])\n",
            "start time: 1440 s\n",
            "end time: 1470\n",
            "(480000,)\n",
            "fetaure shape: torch.Size([1, 80, 3000])\n"
          ]
        },
        {
          "output_type": "stream",
          "name": "stderr",
          "text": [
            "It is strongly recommended to pass the `sampling_rate` argument to `WhisperFeatureExtractor()`. Failing to do so can result in silent errors that might be hard to debug.\n"
          ]
        },
        {
          "output_type": "stream",
          "name": "stdout",
          "text": [
            "gen ids torch.Size([1, 58])\n",
            "start time: 1470 s\n",
            "end time: 1500\n",
            "(480000,)\n",
            "fetaure shape: torch.Size([1, 80, 3000])\n"
          ]
        },
        {
          "output_type": "stream",
          "name": "stderr",
          "text": [
            "It is strongly recommended to pass the `sampling_rate` argument to `WhisperFeatureExtractor()`. Failing to do so can result in silent errors that might be hard to debug.\n"
          ]
        },
        {
          "output_type": "stream",
          "name": "stdout",
          "text": [
            "gen ids torch.Size([1, 49])\n",
            "start time: 1500 s\n",
            "end time: 1530\n",
            "(480000,)\n",
            "fetaure shape: torch.Size([1, 80, 3000])\n"
          ]
        },
        {
          "output_type": "stream",
          "name": "stderr",
          "text": [
            "It is strongly recommended to pass the `sampling_rate` argument to `WhisperFeatureExtractor()`. Failing to do so can result in silent errors that might be hard to debug.\n"
          ]
        },
        {
          "output_type": "stream",
          "name": "stdout",
          "text": [
            "gen ids torch.Size([1, 54])\n",
            "start time: 1530 s\n",
            "end time: 1560\n",
            "(480000,)\n",
            "fetaure shape: torch.Size([1, 80, 3000])\n"
          ]
        },
        {
          "output_type": "stream",
          "name": "stderr",
          "text": [
            "It is strongly recommended to pass the `sampling_rate` argument to `WhisperFeatureExtractor()`. Failing to do so can result in silent errors that might be hard to debug.\n"
          ]
        },
        {
          "output_type": "stream",
          "name": "stdout",
          "text": [
            "gen ids torch.Size([1, 52])\n",
            "start time: 1560 s\n",
            "end time: 1590\n",
            "(480000,)\n",
            "fetaure shape: torch.Size([1, 80, 3000])\n"
          ]
        },
        {
          "output_type": "stream",
          "name": "stderr",
          "text": [
            "It is strongly recommended to pass the `sampling_rate` argument to `WhisperFeatureExtractor()`. Failing to do so can result in silent errors that might be hard to debug.\n"
          ]
        },
        {
          "output_type": "stream",
          "name": "stdout",
          "text": [
            "gen ids torch.Size([1, 76])\n",
            "start time: 1590 s\n",
            "end time: 1620\n",
            "(480000,)\n",
            "fetaure shape: torch.Size([1, 80, 3000])\n"
          ]
        },
        {
          "output_type": "stream",
          "name": "stderr",
          "text": [
            "It is strongly recommended to pass the `sampling_rate` argument to `WhisperFeatureExtractor()`. Failing to do so can result in silent errors that might be hard to debug.\n"
          ]
        },
        {
          "output_type": "stream",
          "name": "stdout",
          "text": [
            "gen ids torch.Size([1, 78])\n",
            "start time: 1620 s\n",
            "end time: 1629.100375\n",
            "(145606,)\n",
            "fetaure shape: torch.Size([1, 80, 3000])\n",
            "gen ids torch.Size([1, 17])\n",
            "ComputationGraphs(DL25)\n",
            "Vanishing (or Exploding) Gradients (DL 11).wav\n"
          ]
        },
        {
          "output_type": "stream",
          "name": "stderr",
          "text": [
            "It is strongly recommended to pass the `sampling_rate` argument to `WhisperFeatureExtractor()`. Failing to do so can result in silent errors that might be hard to debug.\n"
          ]
        },
        {
          "output_type": "stream",
          "name": "stdout",
          "text": [
            "start time: 0 s\n",
            "end time: 30\n",
            "(480000,)\n",
            "fetaure shape: torch.Size([1, 80, 3000])\n"
          ]
        },
        {
          "output_type": "stream",
          "name": "stderr",
          "text": [
            "It is strongly recommended to pass the `sampling_rate` argument to `WhisperFeatureExtractor()`. Failing to do so can result in silent errors that might be hard to debug.\n"
          ]
        },
        {
          "output_type": "stream",
          "name": "stdout",
          "text": [
            "gen ids torch.Size([1, 90])\n",
            "start time: 30 s\n",
            "end time: 60\n",
            "(480000,)\n",
            "fetaure shape: torch.Size([1, 80, 3000])\n"
          ]
        },
        {
          "output_type": "stream",
          "name": "stderr",
          "text": [
            "It is strongly recommended to pass the `sampling_rate` argument to `WhisperFeatureExtractor()`. Failing to do so can result in silent errors that might be hard to debug.\n"
          ]
        },
        {
          "output_type": "stream",
          "name": "stdout",
          "text": [
            "gen ids torch.Size([1, 89])\n",
            "start time: 60 s\n",
            "end time: 90\n",
            "(480000,)\n",
            "fetaure shape: torch.Size([1, 80, 3000])\n"
          ]
        },
        {
          "output_type": "stream",
          "name": "stderr",
          "text": [
            "It is strongly recommended to pass the `sampling_rate` argument to `WhisperFeatureExtractor()`. Failing to do so can result in silent errors that might be hard to debug.\n"
          ]
        },
        {
          "output_type": "stream",
          "name": "stdout",
          "text": [
            "gen ids torch.Size([1, 74])\n",
            "start time: 90 s\n",
            "end time: 120\n",
            "(480000,)\n",
            "fetaure shape: torch.Size([1, 80, 3000])\n"
          ]
        },
        {
          "output_type": "stream",
          "name": "stderr",
          "text": [
            "It is strongly recommended to pass the `sampling_rate` argument to `WhisperFeatureExtractor()`. Failing to do so can result in silent errors that might be hard to debug.\n"
          ]
        },
        {
          "output_type": "stream",
          "name": "stdout",
          "text": [
            "gen ids torch.Size([1, 71])\n",
            "start time: 120 s\n",
            "end time: 150\n",
            "(480000,)\n",
            "fetaure shape: torch.Size([1, 80, 3000])\n"
          ]
        },
        {
          "output_type": "stream",
          "name": "stderr",
          "text": [
            "It is strongly recommended to pass the `sampling_rate` argument to `WhisperFeatureExtractor()`. Failing to do so can result in silent errors that might be hard to debug.\n"
          ]
        },
        {
          "output_type": "stream",
          "name": "stdout",
          "text": [
            "gen ids torch.Size([1, 86])\n",
            "start time: 150 s\n",
            "end time: 180\n",
            "(480000,)\n",
            "fetaure shape: torch.Size([1, 80, 3000])\n"
          ]
        },
        {
          "output_type": "stream",
          "name": "stderr",
          "text": [
            "It is strongly recommended to pass the `sampling_rate` argument to `WhisperFeatureExtractor()`. Failing to do so can result in silent errors that might be hard to debug.\n"
          ]
        },
        {
          "output_type": "stream",
          "name": "stdout",
          "text": [
            "gen ids torch.Size([1, 87])\n",
            "start time: 180 s\n",
            "end time: 210\n",
            "(480000,)\n",
            "fetaure shape: torch.Size([1, 80, 3000])\n"
          ]
        },
        {
          "output_type": "stream",
          "name": "stderr",
          "text": [
            "It is strongly recommended to pass the `sampling_rate` argument to `WhisperFeatureExtractor()`. Failing to do so can result in silent errors that might be hard to debug.\n"
          ]
        },
        {
          "output_type": "stream",
          "name": "stdout",
          "text": [
            "gen ids torch.Size([1, 65])\n",
            "start time: 210 s\n",
            "end time: 240\n",
            "(480000,)\n",
            "fetaure shape: torch.Size([1, 80, 3000])\n"
          ]
        },
        {
          "output_type": "stream",
          "name": "stderr",
          "text": [
            "It is strongly recommended to pass the `sampling_rate` argument to `WhisperFeatureExtractor()`. Failing to do so can result in silent errors that might be hard to debug.\n"
          ]
        },
        {
          "output_type": "stream",
          "name": "stdout",
          "text": [
            "gen ids torch.Size([1, 67])\n",
            "start time: 240 s\n",
            "end time: 270\n",
            "(480000,)\n",
            "fetaure shape: torch.Size([1, 80, 3000])\n"
          ]
        },
        {
          "output_type": "stream",
          "name": "stderr",
          "text": [
            "It is strongly recommended to pass the `sampling_rate` argument to `WhisperFeatureExtractor()`. Failing to do so can result in silent errors that might be hard to debug.\n"
          ]
        },
        {
          "output_type": "stream",
          "name": "stdout",
          "text": [
            "gen ids torch.Size([1, 65])\n",
            "start time: 270 s\n",
            "end time: 300\n",
            "(480000,)\n",
            "fetaure shape: torch.Size([1, 80, 3000])\n"
          ]
        },
        {
          "output_type": "stream",
          "name": "stderr",
          "text": [
            "It is strongly recommended to pass the `sampling_rate` argument to `WhisperFeatureExtractor()`. Failing to do so can result in silent errors that might be hard to debug.\n"
          ]
        },
        {
          "output_type": "stream",
          "name": "stdout",
          "text": [
            "gen ids torch.Size([1, 76])\n",
            "start time: 300 s\n",
            "end time: 330\n",
            "(480000,)\n",
            "fetaure shape: torch.Size([1, 80, 3000])\n"
          ]
        },
        {
          "output_type": "stream",
          "name": "stderr",
          "text": [
            "It is strongly recommended to pass the `sampling_rate` argument to `WhisperFeatureExtractor()`. Failing to do so can result in silent errors that might be hard to debug.\n"
          ]
        },
        {
          "output_type": "stream",
          "name": "stdout",
          "text": [
            "gen ids torch.Size([1, 87])\n",
            "start time: 330 s\n",
            "end time: 360\n",
            "(480000,)\n",
            "fetaure shape: torch.Size([1, 80, 3000])\n"
          ]
        },
        {
          "output_type": "stream",
          "name": "stderr",
          "text": [
            "It is strongly recommended to pass the `sampling_rate` argument to `WhisperFeatureExtractor()`. Failing to do so can result in silent errors that might be hard to debug.\n"
          ]
        },
        {
          "output_type": "stream",
          "name": "stdout",
          "text": [
            "gen ids torch.Size([1, 64])\n",
            "start time: 360 s\n",
            "end time: 390\n",
            "(480000,)\n",
            "fetaure shape: torch.Size([1, 80, 3000])\n"
          ]
        },
        {
          "output_type": "stream",
          "name": "stderr",
          "text": [
            "It is strongly recommended to pass the `sampling_rate` argument to `WhisperFeatureExtractor()`. Failing to do so can result in silent errors that might be hard to debug.\n"
          ]
        },
        {
          "output_type": "stream",
          "name": "stdout",
          "text": [
            "gen ids torch.Size([1, 42])\n",
            "start time: 390 s\n",
            "end time: 420\n",
            "(480000,)\n",
            "fetaure shape: torch.Size([1, 80, 3000])\n"
          ]
        },
        {
          "output_type": "stream",
          "name": "stderr",
          "text": [
            "It is strongly recommended to pass the `sampling_rate` argument to `WhisperFeatureExtractor()`. Failing to do so can result in silent errors that might be hard to debug.\n"
          ]
        },
        {
          "output_type": "stream",
          "name": "stdout",
          "text": [
            "gen ids torch.Size([1, 82])\n",
            "start time: 420 s\n",
            "end time: 450\n",
            "(480000,)\n",
            "fetaure shape: torch.Size([1, 80, 3000])\n"
          ]
        },
        {
          "output_type": "stream",
          "name": "stderr",
          "text": [
            "It is strongly recommended to pass the `sampling_rate` argument to `WhisperFeatureExtractor()`. Failing to do so can result in silent errors that might be hard to debug.\n"
          ]
        },
        {
          "output_type": "stream",
          "name": "stdout",
          "text": [
            "gen ids torch.Size([1, 80])\n",
            "start time: 450 s\n",
            "end time: 480\n",
            "(480000,)\n",
            "fetaure shape: torch.Size([1, 80, 3000])\n"
          ]
        },
        {
          "output_type": "stream",
          "name": "stderr",
          "text": [
            "It is strongly recommended to pass the `sampling_rate` argument to `WhisperFeatureExtractor()`. Failing to do so can result in silent errors that might be hard to debug.\n"
          ]
        },
        {
          "output_type": "stream",
          "name": "stdout",
          "text": [
            "gen ids torch.Size([1, 65])\n",
            "start time: 480 s\n",
            "end time: 510\n",
            "(480000,)\n",
            "fetaure shape: torch.Size([1, 80, 3000])\n"
          ]
        },
        {
          "output_type": "stream",
          "name": "stderr",
          "text": [
            "It is strongly recommended to pass the `sampling_rate` argument to `WhisperFeatureExtractor()`. Failing to do so can result in silent errors that might be hard to debug.\n"
          ]
        },
        {
          "output_type": "stream",
          "name": "stdout",
          "text": [
            "gen ids torch.Size([1, 80])\n",
            "start time: 510 s\n",
            "end time: 540\n",
            "(480000,)\n",
            "fetaure shape: torch.Size([1, 80, 3000])\n"
          ]
        },
        {
          "output_type": "stream",
          "name": "stderr",
          "text": [
            "It is strongly recommended to pass the `sampling_rate` argument to `WhisperFeatureExtractor()`. Failing to do so can result in silent errors that might be hard to debug.\n"
          ]
        },
        {
          "output_type": "stream",
          "name": "stdout",
          "text": [
            "gen ids torch.Size([1, 74])\n",
            "start time: 540 s\n",
            "end time: 570\n",
            "(480000,)\n",
            "fetaure shape: torch.Size([1, 80, 3000])\n"
          ]
        },
        {
          "output_type": "stream",
          "name": "stderr",
          "text": [
            "It is strongly recommended to pass the `sampling_rate` argument to `WhisperFeatureExtractor()`. Failing to do so can result in silent errors that might be hard to debug.\n"
          ]
        },
        {
          "output_type": "stream",
          "name": "stdout",
          "text": [
            "gen ids torch.Size([1, 65])\n",
            "start time: 570 s\n",
            "end time: 600\n",
            "(480000,)\n",
            "fetaure shape: torch.Size([1, 80, 3000])\n"
          ]
        },
        {
          "output_type": "stream",
          "name": "stderr",
          "text": [
            "It is strongly recommended to pass the `sampling_rate` argument to `WhisperFeatureExtractor()`. Failing to do so can result in silent errors that might be hard to debug.\n"
          ]
        },
        {
          "output_type": "stream",
          "name": "stdout",
          "text": [
            "gen ids torch.Size([1, 74])\n",
            "start time: 600 s\n",
            "end time: 630\n",
            "(480000,)\n",
            "fetaure shape: torch.Size([1, 80, 3000])\n"
          ]
        },
        {
          "output_type": "stream",
          "name": "stderr",
          "text": [
            "It is strongly recommended to pass the `sampling_rate` argument to `WhisperFeatureExtractor()`. Failing to do so can result in silent errors that might be hard to debug.\n"
          ]
        },
        {
          "output_type": "stream",
          "name": "stdout",
          "text": [
            "gen ids torch.Size([1, 71])\n",
            "start time: 630 s\n",
            "end time: 660\n",
            "(480000,)\n",
            "fetaure shape: torch.Size([1, 80, 3000])\n"
          ]
        },
        {
          "output_type": "stream",
          "name": "stderr",
          "text": [
            "It is strongly recommended to pass the `sampling_rate` argument to `WhisperFeatureExtractor()`. Failing to do so can result in silent errors that might be hard to debug.\n"
          ]
        },
        {
          "output_type": "stream",
          "name": "stdout",
          "text": [
            "gen ids torch.Size([1, 85])\n",
            "start time: 660 s\n",
            "end time: 690\n",
            "(480000,)\n",
            "fetaure shape: torch.Size([1, 80, 3000])\n"
          ]
        },
        {
          "output_type": "stream",
          "name": "stderr",
          "text": [
            "It is strongly recommended to pass the `sampling_rate` argument to `WhisperFeatureExtractor()`. Failing to do so can result in silent errors that might be hard to debug.\n"
          ]
        },
        {
          "output_type": "stream",
          "name": "stdout",
          "text": [
            "gen ids torch.Size([1, 85])\n",
            "start time: 690 s\n",
            "end time: 720\n",
            "(480000,)\n",
            "fetaure shape: torch.Size([1, 80, 3000])\n"
          ]
        },
        {
          "output_type": "stream",
          "name": "stderr",
          "text": [
            "It is strongly recommended to pass the `sampling_rate` argument to `WhisperFeatureExtractor()`. Failing to do so can result in silent errors that might be hard to debug.\n"
          ]
        },
        {
          "output_type": "stream",
          "name": "stdout",
          "text": [
            "gen ids torch.Size([1, 80])\n",
            "start time: 720 s\n",
            "end time: 726.0299375\n",
            "(96479,)\n",
            "fetaure shape: torch.Size([1, 80, 3000])\n",
            "gen ids torch.Size([1, 14])\n",
            "Vanishing(orExploding)Gradients(DL11)\n",
            "How to train your neuron (DL 04).wav\n"
          ]
        },
        {
          "output_type": "stream",
          "name": "stderr",
          "text": [
            "It is strongly recommended to pass the `sampling_rate` argument to `WhisperFeatureExtractor()`. Failing to do so can result in silent errors that might be hard to debug.\n"
          ]
        },
        {
          "output_type": "stream",
          "name": "stdout",
          "text": [
            "start time: 0 s\n",
            "end time: 30\n",
            "(480000,)\n",
            "fetaure shape: torch.Size([1, 80, 3000])\n"
          ]
        },
        {
          "output_type": "stream",
          "name": "stderr",
          "text": [
            "It is strongly recommended to pass the `sampling_rate` argument to `WhisperFeatureExtractor()`. Failing to do so can result in silent errors that might be hard to debug.\n"
          ]
        },
        {
          "output_type": "stream",
          "name": "stdout",
          "text": [
            "gen ids torch.Size([1, 67])\n",
            "start time: 30 s\n",
            "end time: 60\n",
            "(480000,)\n",
            "fetaure shape: torch.Size([1, 80, 3000])\n"
          ]
        },
        {
          "output_type": "stream",
          "name": "stderr",
          "text": [
            "It is strongly recommended to pass the `sampling_rate` argument to `WhisperFeatureExtractor()`. Failing to do so can result in silent errors that might be hard to debug.\n"
          ]
        },
        {
          "output_type": "stream",
          "name": "stdout",
          "text": [
            "gen ids torch.Size([1, 76])\n",
            "start time: 60 s\n",
            "end time: 90\n",
            "(480000,)\n",
            "fetaure shape: torch.Size([1, 80, 3000])\n"
          ]
        },
        {
          "output_type": "stream",
          "name": "stderr",
          "text": [
            "It is strongly recommended to pass the `sampling_rate` argument to `WhisperFeatureExtractor()`. Failing to do so can result in silent errors that might be hard to debug.\n"
          ]
        },
        {
          "output_type": "stream",
          "name": "stdout",
          "text": [
            "gen ids torch.Size([1, 87])\n",
            "start time: 90 s\n",
            "end time: 120\n",
            "(480000,)\n",
            "fetaure shape: torch.Size([1, 80, 3000])\n"
          ]
        },
        {
          "output_type": "stream",
          "name": "stderr",
          "text": [
            "It is strongly recommended to pass the `sampling_rate` argument to `WhisperFeatureExtractor()`. Failing to do so can result in silent errors that might be hard to debug.\n"
          ]
        },
        {
          "output_type": "stream",
          "name": "stdout",
          "text": [
            "gen ids torch.Size([1, 63])\n",
            "start time: 120 s\n",
            "end time: 150\n",
            "(480000,)\n",
            "fetaure shape: torch.Size([1, 80, 3000])\n"
          ]
        },
        {
          "output_type": "stream",
          "name": "stderr",
          "text": [
            "It is strongly recommended to pass the `sampling_rate` argument to `WhisperFeatureExtractor()`. Failing to do so can result in silent errors that might be hard to debug.\n"
          ]
        },
        {
          "output_type": "stream",
          "name": "stdout",
          "text": [
            "gen ids torch.Size([1, 66])\n",
            "start time: 150 s\n",
            "end time: 180\n",
            "(480000,)\n",
            "fetaure shape: torch.Size([1, 80, 3000])\n"
          ]
        },
        {
          "output_type": "stream",
          "name": "stderr",
          "text": [
            "It is strongly recommended to pass the `sampling_rate` argument to `WhisperFeatureExtractor()`. Failing to do so can result in silent errors that might be hard to debug.\n"
          ]
        },
        {
          "output_type": "stream",
          "name": "stdout",
          "text": [
            "gen ids torch.Size([1, 69])\n",
            "start time: 180 s\n",
            "end time: 210\n",
            "(480000,)\n",
            "fetaure shape: torch.Size([1, 80, 3000])\n"
          ]
        },
        {
          "output_type": "stream",
          "name": "stderr",
          "text": [
            "It is strongly recommended to pass the `sampling_rate` argument to `WhisperFeatureExtractor()`. Failing to do so can result in silent errors that might be hard to debug.\n"
          ]
        },
        {
          "output_type": "stream",
          "name": "stdout",
          "text": [
            "gen ids torch.Size([1, 81])\n",
            "start time: 210 s\n",
            "end time: 240\n",
            "(480000,)\n",
            "fetaure shape: torch.Size([1, 80, 3000])\n"
          ]
        },
        {
          "output_type": "stream",
          "name": "stderr",
          "text": [
            "It is strongly recommended to pass the `sampling_rate` argument to `WhisperFeatureExtractor()`. Failing to do so can result in silent errors that might be hard to debug.\n"
          ]
        },
        {
          "output_type": "stream",
          "name": "stdout",
          "text": [
            "gen ids torch.Size([1, 76])\n",
            "start time: 240 s\n",
            "end time: 270\n",
            "(480000,)\n",
            "fetaure shape: torch.Size([1, 80, 3000])\n"
          ]
        },
        {
          "output_type": "stream",
          "name": "stderr",
          "text": [
            "It is strongly recommended to pass the `sampling_rate` argument to `WhisperFeatureExtractor()`. Failing to do so can result in silent errors that might be hard to debug.\n"
          ]
        },
        {
          "output_type": "stream",
          "name": "stdout",
          "text": [
            "gen ids torch.Size([1, 87])\n",
            "start time: 270 s\n",
            "end time: 300\n",
            "(480000,)\n",
            "fetaure shape: torch.Size([1, 80, 3000])\n"
          ]
        },
        {
          "output_type": "stream",
          "name": "stderr",
          "text": [
            "It is strongly recommended to pass the `sampling_rate` argument to `WhisperFeatureExtractor()`. Failing to do so can result in silent errors that might be hard to debug.\n"
          ]
        },
        {
          "output_type": "stream",
          "name": "stdout",
          "text": [
            "gen ids torch.Size([1, 54])\n",
            "start time: 300 s\n",
            "end time: 330\n",
            "(480000,)\n",
            "fetaure shape: torch.Size([1, 80, 3000])\n"
          ]
        },
        {
          "output_type": "stream",
          "name": "stderr",
          "text": [
            "It is strongly recommended to pass the `sampling_rate` argument to `WhisperFeatureExtractor()`. Failing to do so can result in silent errors that might be hard to debug.\n"
          ]
        },
        {
          "output_type": "stream",
          "name": "stdout",
          "text": [
            "gen ids torch.Size([1, 90])\n",
            "start time: 330 s\n",
            "end time: 360\n",
            "(480000,)\n",
            "fetaure shape: torch.Size([1, 80, 3000])\n"
          ]
        },
        {
          "output_type": "stream",
          "name": "stderr",
          "text": [
            "It is strongly recommended to pass the `sampling_rate` argument to `WhisperFeatureExtractor()`. Failing to do so can result in silent errors that might be hard to debug.\n"
          ]
        },
        {
          "output_type": "stream",
          "name": "stdout",
          "text": [
            "gen ids torch.Size([1, 75])\n",
            "start time: 360 s\n",
            "end time: 390\n",
            "(480000,)\n",
            "fetaure shape: torch.Size([1, 80, 3000])\n"
          ]
        },
        {
          "output_type": "stream",
          "name": "stderr",
          "text": [
            "It is strongly recommended to pass the `sampling_rate` argument to `WhisperFeatureExtractor()`. Failing to do so can result in silent errors that might be hard to debug.\n"
          ]
        },
        {
          "output_type": "stream",
          "name": "stdout",
          "text": [
            "gen ids torch.Size([1, 83])\n",
            "start time: 390 s\n",
            "end time: 420\n",
            "(480000,)\n",
            "fetaure shape: torch.Size([1, 80, 3000])\n"
          ]
        },
        {
          "output_type": "stream",
          "name": "stderr",
          "text": [
            "It is strongly recommended to pass the `sampling_rate` argument to `WhisperFeatureExtractor()`. Failing to do so can result in silent errors that might be hard to debug.\n"
          ]
        },
        {
          "output_type": "stream",
          "name": "stdout",
          "text": [
            "gen ids torch.Size([1, 67])\n",
            "start time: 420 s\n",
            "end time: 450\n",
            "(480000,)\n",
            "fetaure shape: torch.Size([1, 80, 3000])\n"
          ]
        },
        {
          "output_type": "stream",
          "name": "stderr",
          "text": [
            "It is strongly recommended to pass the `sampling_rate` argument to `WhisperFeatureExtractor()`. Failing to do so can result in silent errors that might be hard to debug.\n"
          ]
        },
        {
          "output_type": "stream",
          "name": "stdout",
          "text": [
            "gen ids torch.Size([1, 68])\n",
            "start time: 450 s\n",
            "end time: 480\n",
            "(480000,)\n",
            "fetaure shape: torch.Size([1, 80, 3000])\n"
          ]
        },
        {
          "output_type": "stream",
          "name": "stderr",
          "text": [
            "It is strongly recommended to pass the `sampling_rate` argument to `WhisperFeatureExtractor()`. Failing to do so can result in silent errors that might be hard to debug.\n"
          ]
        },
        {
          "output_type": "stream",
          "name": "stdout",
          "text": [
            "gen ids torch.Size([1, 70])\n",
            "start time: 480 s\n",
            "end time: 510\n",
            "(480000,)\n",
            "fetaure shape: torch.Size([1, 80, 3000])\n"
          ]
        },
        {
          "output_type": "stream",
          "name": "stderr",
          "text": [
            "It is strongly recommended to pass the `sampling_rate` argument to `WhisperFeatureExtractor()`. Failing to do so can result in silent errors that might be hard to debug.\n"
          ]
        },
        {
          "output_type": "stream",
          "name": "stdout",
          "text": [
            "gen ids torch.Size([1, 55])\n",
            "start time: 510 s\n",
            "end time: 540\n",
            "(480000,)\n",
            "fetaure shape: torch.Size([1, 80, 3000])\n"
          ]
        },
        {
          "output_type": "stream",
          "name": "stderr",
          "text": [
            "It is strongly recommended to pass the `sampling_rate` argument to `WhisperFeatureExtractor()`. Failing to do so can result in silent errors that might be hard to debug.\n"
          ]
        },
        {
          "output_type": "stream",
          "name": "stdout",
          "text": [
            "gen ids torch.Size([1, 66])\n",
            "start time: 540 s\n",
            "end time: 570\n",
            "(480000,)\n",
            "fetaure shape: torch.Size([1, 80, 3000])\n"
          ]
        },
        {
          "output_type": "stream",
          "name": "stderr",
          "text": [
            "It is strongly recommended to pass the `sampling_rate` argument to `WhisperFeatureExtractor()`. Failing to do so can result in silent errors that might be hard to debug.\n"
          ]
        },
        {
          "output_type": "stream",
          "name": "stdout",
          "text": [
            "gen ids torch.Size([1, 78])\n",
            "start time: 570 s\n",
            "end time: 600\n",
            "(480000,)\n",
            "fetaure shape: torch.Size([1, 80, 3000])\n"
          ]
        },
        {
          "output_type": "stream",
          "name": "stderr",
          "text": [
            "It is strongly recommended to pass the `sampling_rate` argument to `WhisperFeatureExtractor()`. Failing to do so can result in silent errors that might be hard to debug.\n"
          ]
        },
        {
          "output_type": "stream",
          "name": "stdout",
          "text": [
            "gen ids torch.Size([1, 74])\n",
            "start time: 600 s\n",
            "end time: 630\n",
            "(480000,)\n",
            "fetaure shape: torch.Size([1, 80, 3000])\n"
          ]
        },
        {
          "output_type": "stream",
          "name": "stderr",
          "text": [
            "It is strongly recommended to pass the `sampling_rate` argument to `WhisperFeatureExtractor()`. Failing to do so can result in silent errors that might be hard to debug.\n"
          ]
        },
        {
          "output_type": "stream",
          "name": "stdout",
          "text": [
            "gen ids torch.Size([1, 77])\n",
            "start time: 630 s\n",
            "end time: 660\n",
            "(480000,)\n",
            "fetaure shape: torch.Size([1, 80, 3000])\n"
          ]
        },
        {
          "output_type": "stream",
          "name": "stderr",
          "text": [
            "It is strongly recommended to pass the `sampling_rate` argument to `WhisperFeatureExtractor()`. Failing to do so can result in silent errors that might be hard to debug.\n"
          ]
        },
        {
          "output_type": "stream",
          "name": "stdout",
          "text": [
            "gen ids torch.Size([1, 79])\n",
            "start time: 660 s\n",
            "end time: 690\n",
            "(480000,)\n",
            "fetaure shape: torch.Size([1, 80, 3000])\n"
          ]
        },
        {
          "output_type": "stream",
          "name": "stderr",
          "text": [
            "It is strongly recommended to pass the `sampling_rate` argument to `WhisperFeatureExtractor()`. Failing to do so can result in silent errors that might be hard to debug.\n"
          ]
        },
        {
          "output_type": "stream",
          "name": "stdout",
          "text": [
            "gen ids torch.Size([1, 64])\n",
            "start time: 690 s\n",
            "end time: 720\n",
            "(480000,)\n",
            "fetaure shape: torch.Size([1, 80, 3000])\n"
          ]
        },
        {
          "output_type": "stream",
          "name": "stderr",
          "text": [
            "It is strongly recommended to pass the `sampling_rate` argument to `WhisperFeatureExtractor()`. Failing to do so can result in silent errors that might be hard to debug.\n"
          ]
        },
        {
          "output_type": "stream",
          "name": "stdout",
          "text": [
            "gen ids torch.Size([1, 70])\n",
            "start time: 720 s\n",
            "end time: 750\n",
            "(480000,)\n",
            "fetaure shape: torch.Size([1, 80, 3000])\n"
          ]
        },
        {
          "output_type": "stream",
          "name": "stderr",
          "text": [
            "It is strongly recommended to pass the `sampling_rate` argument to `WhisperFeatureExtractor()`. Failing to do so can result in silent errors that might be hard to debug.\n"
          ]
        },
        {
          "output_type": "stream",
          "name": "stdout",
          "text": [
            "gen ids torch.Size([1, 85])\n",
            "start time: 750 s\n",
            "end time: 780\n",
            "(480000,)\n",
            "fetaure shape: torch.Size([1, 80, 3000])\n"
          ]
        },
        {
          "output_type": "stream",
          "name": "stderr",
          "text": [
            "It is strongly recommended to pass the `sampling_rate` argument to `WhisperFeatureExtractor()`. Failing to do so can result in silent errors that might be hard to debug.\n"
          ]
        },
        {
          "output_type": "stream",
          "name": "stdout",
          "text": [
            "gen ids torch.Size([1, 76])\n",
            "start time: 780 s\n",
            "end time: 810\n",
            "(480000,)\n",
            "fetaure shape: torch.Size([1, 80, 3000])\n"
          ]
        },
        {
          "output_type": "stream",
          "name": "stderr",
          "text": [
            "It is strongly recommended to pass the `sampling_rate` argument to `WhisperFeatureExtractor()`. Failing to do so can result in silent errors that might be hard to debug.\n"
          ]
        },
        {
          "output_type": "stream",
          "name": "stdout",
          "text": [
            "gen ids torch.Size([1, 71])\n",
            "start time: 810 s\n",
            "end time: 840\n",
            "(480000,)\n",
            "fetaure shape: torch.Size([1, 80, 3000])\n"
          ]
        },
        {
          "output_type": "stream",
          "name": "stderr",
          "text": [
            "It is strongly recommended to pass the `sampling_rate` argument to `WhisperFeatureExtractor()`. Failing to do so can result in silent errors that might be hard to debug.\n"
          ]
        },
        {
          "output_type": "stream",
          "name": "stdout",
          "text": [
            "gen ids torch.Size([1, 74])\n",
            "start time: 840 s\n",
            "end time: 870\n",
            "(480000,)\n",
            "fetaure shape: torch.Size([1, 80, 3000])\n"
          ]
        },
        {
          "output_type": "stream",
          "name": "stderr",
          "text": [
            "It is strongly recommended to pass the `sampling_rate` argument to `WhisperFeatureExtractor()`. Failing to do so can result in silent errors that might be hard to debug.\n"
          ]
        },
        {
          "output_type": "stream",
          "name": "stdout",
          "text": [
            "gen ids torch.Size([1, 78])\n",
            "start time: 870 s\n",
            "end time: 900\n",
            "(480000,)\n",
            "fetaure shape: torch.Size([1, 80, 3000])\n"
          ]
        },
        {
          "output_type": "stream",
          "name": "stderr",
          "text": [
            "It is strongly recommended to pass the `sampling_rate` argument to `WhisperFeatureExtractor()`. Failing to do so can result in silent errors that might be hard to debug.\n"
          ]
        },
        {
          "output_type": "stream",
          "name": "stdout",
          "text": [
            "gen ids torch.Size([1, 80])\n",
            "start time: 900 s\n",
            "end time: 930\n",
            "(480000,)\n",
            "fetaure shape: torch.Size([1, 80, 3000])\n"
          ]
        },
        {
          "output_type": "stream",
          "name": "stderr",
          "text": [
            "It is strongly recommended to pass the `sampling_rate` argument to `WhisperFeatureExtractor()`. Failing to do so can result in silent errors that might be hard to debug.\n"
          ]
        },
        {
          "output_type": "stream",
          "name": "stdout",
          "text": [
            "gen ids torch.Size([1, 89])\n",
            "start time: 930 s\n",
            "end time: 960\n",
            "(480000,)\n",
            "fetaure shape: torch.Size([1, 80, 3000])\n"
          ]
        },
        {
          "output_type": "stream",
          "name": "stderr",
          "text": [
            "It is strongly recommended to pass the `sampling_rate` argument to `WhisperFeatureExtractor()`. Failing to do so can result in silent errors that might be hard to debug.\n"
          ]
        },
        {
          "output_type": "stream",
          "name": "stdout",
          "text": [
            "gen ids torch.Size([1, 87])\n",
            "start time: 960 s\n",
            "end time: 990\n",
            "(480000,)\n",
            "fetaure shape: torch.Size([1, 80, 3000])\n"
          ]
        },
        {
          "output_type": "stream",
          "name": "stderr",
          "text": [
            "It is strongly recommended to pass the `sampling_rate` argument to `WhisperFeatureExtractor()`. Failing to do so can result in silent errors that might be hard to debug.\n"
          ]
        },
        {
          "output_type": "stream",
          "name": "stdout",
          "text": [
            "gen ids torch.Size([1, 84])\n",
            "start time: 990 s\n",
            "end time: 1020\n",
            "(480000,)\n",
            "fetaure shape: torch.Size([1, 80, 3000])\n"
          ]
        },
        {
          "output_type": "stream",
          "name": "stderr",
          "text": [
            "It is strongly recommended to pass the `sampling_rate` argument to `WhisperFeatureExtractor()`. Failing to do so can result in silent errors that might be hard to debug.\n"
          ]
        },
        {
          "output_type": "stream",
          "name": "stdout",
          "text": [
            "gen ids torch.Size([1, 68])\n",
            "start time: 1020 s\n",
            "end time: 1050\n",
            "(480000,)\n",
            "fetaure shape: torch.Size([1, 80, 3000])\n"
          ]
        },
        {
          "output_type": "stream",
          "name": "stderr",
          "text": [
            "It is strongly recommended to pass the `sampling_rate` argument to `WhisperFeatureExtractor()`. Failing to do so can result in silent errors that might be hard to debug.\n"
          ]
        },
        {
          "output_type": "stream",
          "name": "stdout",
          "text": [
            "gen ids torch.Size([1, 80])\n",
            "start time: 1050 s\n",
            "end time: 1080\n",
            "(480000,)\n",
            "fetaure shape: torch.Size([1, 80, 3000])\n"
          ]
        },
        {
          "output_type": "stream",
          "name": "stderr",
          "text": [
            "It is strongly recommended to pass the `sampling_rate` argument to `WhisperFeatureExtractor()`. Failing to do so can result in silent errors that might be hard to debug.\n"
          ]
        },
        {
          "output_type": "stream",
          "name": "stdout",
          "text": [
            "gen ids torch.Size([1, 70])\n",
            "start time: 1080 s\n",
            "end time: 1110\n",
            "(480000,)\n",
            "fetaure shape: torch.Size([1, 80, 3000])\n"
          ]
        },
        {
          "output_type": "stream",
          "name": "stderr",
          "text": [
            "It is strongly recommended to pass the `sampling_rate` argument to `WhisperFeatureExtractor()`. Failing to do so can result in silent errors that might be hard to debug.\n"
          ]
        },
        {
          "output_type": "stream",
          "name": "stdout",
          "text": [
            "gen ids torch.Size([1, 64])\n",
            "start time: 1110 s\n",
            "end time: 1140\n",
            "(480000,)\n",
            "fetaure shape: torch.Size([1, 80, 3000])\n"
          ]
        },
        {
          "output_type": "stream",
          "name": "stderr",
          "text": [
            "It is strongly recommended to pass the `sampling_rate` argument to `WhisperFeatureExtractor()`. Failing to do so can result in silent errors that might be hard to debug.\n"
          ]
        },
        {
          "output_type": "stream",
          "name": "stdout",
          "text": [
            "gen ids torch.Size([1, 63])\n",
            "start time: 1140 s\n",
            "end time: 1170\n",
            "(480000,)\n",
            "fetaure shape: torch.Size([1, 80, 3000])\n"
          ]
        },
        {
          "output_type": "stream",
          "name": "stderr",
          "text": [
            "It is strongly recommended to pass the `sampling_rate` argument to `WhisperFeatureExtractor()`. Failing to do so can result in silent errors that might be hard to debug.\n"
          ]
        },
        {
          "output_type": "stream",
          "name": "stdout",
          "text": [
            "gen ids torch.Size([1, 83])\n",
            "start time: 1170 s\n",
            "end time: 1200\n",
            "(480000,)\n",
            "fetaure shape: torch.Size([1, 80, 3000])\n"
          ]
        },
        {
          "output_type": "stream",
          "name": "stderr",
          "text": [
            "It is strongly recommended to pass the `sampling_rate` argument to `WhisperFeatureExtractor()`. Failing to do so can result in silent errors that might be hard to debug.\n"
          ]
        },
        {
          "output_type": "stream",
          "name": "stdout",
          "text": [
            "gen ids torch.Size([1, 77])\n",
            "start time: 1200 s\n",
            "end time: 1209.074625\n",
            "(145194,)\n",
            "fetaure shape: torch.Size([1, 80, 3000])\n",
            "gen ids torch.Size([1, 20])\n",
            "Howtotrainyourneuron(DL04)\n",
            "Other Metrics and the ROC Curve (DL 20).wav\n"
          ]
        },
        {
          "output_type": "stream",
          "name": "stderr",
          "text": [
            "It is strongly recommended to pass the `sampling_rate` argument to `WhisperFeatureExtractor()`. Failing to do so can result in silent errors that might be hard to debug.\n"
          ]
        },
        {
          "output_type": "stream",
          "name": "stdout",
          "text": [
            "start time: 0 s\n",
            "end time: 30\n",
            "(480000,)\n",
            "fetaure shape: torch.Size([1, 80, 3000])\n"
          ]
        },
        {
          "output_type": "stream",
          "name": "stderr",
          "text": [
            "It is strongly recommended to pass the `sampling_rate` argument to `WhisperFeatureExtractor()`. Failing to do so can result in silent errors that might be hard to debug.\n"
          ]
        },
        {
          "output_type": "stream",
          "name": "stdout",
          "text": [
            "gen ids torch.Size([1, 84])\n",
            "start time: 30 s\n",
            "end time: 60\n",
            "(480000,)\n",
            "fetaure shape: torch.Size([1, 80, 3000])\n"
          ]
        },
        {
          "output_type": "stream",
          "name": "stderr",
          "text": [
            "It is strongly recommended to pass the `sampling_rate` argument to `WhisperFeatureExtractor()`. Failing to do so can result in silent errors that might be hard to debug.\n"
          ]
        },
        {
          "output_type": "stream",
          "name": "stdout",
          "text": [
            "gen ids torch.Size([1, 86])\n",
            "start time: 60 s\n",
            "end time: 90\n",
            "(480000,)\n",
            "fetaure shape: torch.Size([1, 80, 3000])\n"
          ]
        },
        {
          "output_type": "stream",
          "name": "stderr",
          "text": [
            "It is strongly recommended to pass the `sampling_rate` argument to `WhisperFeatureExtractor()`. Failing to do so can result in silent errors that might be hard to debug.\n"
          ]
        },
        {
          "output_type": "stream",
          "name": "stdout",
          "text": [
            "gen ids torch.Size([1, 85])\n",
            "start time: 90 s\n",
            "end time: 120\n",
            "(480000,)\n",
            "fetaure shape: torch.Size([1, 80, 3000])\n"
          ]
        },
        {
          "output_type": "stream",
          "name": "stderr",
          "text": [
            "It is strongly recommended to pass the `sampling_rate` argument to `WhisperFeatureExtractor()`. Failing to do so can result in silent errors that might be hard to debug.\n"
          ]
        },
        {
          "output_type": "stream",
          "name": "stdout",
          "text": [
            "gen ids torch.Size([1, 82])\n",
            "start time: 120 s\n",
            "end time: 150\n",
            "(480000,)\n",
            "fetaure shape: torch.Size([1, 80, 3000])\n"
          ]
        },
        {
          "output_type": "stream",
          "name": "stderr",
          "text": [
            "It is strongly recommended to pass the `sampling_rate` argument to `WhisperFeatureExtractor()`. Failing to do so can result in silent errors that might be hard to debug.\n"
          ]
        },
        {
          "output_type": "stream",
          "name": "stdout",
          "text": [
            "gen ids torch.Size([1, 82])\n",
            "start time: 150 s\n",
            "end time: 180\n",
            "(480000,)\n",
            "fetaure shape: torch.Size([1, 80, 3000])\n"
          ]
        },
        {
          "output_type": "stream",
          "name": "stderr",
          "text": [
            "It is strongly recommended to pass the `sampling_rate` argument to `WhisperFeatureExtractor()`. Failing to do so can result in silent errors that might be hard to debug.\n"
          ]
        },
        {
          "output_type": "stream",
          "name": "stdout",
          "text": [
            "gen ids torch.Size([1, 71])\n",
            "start time: 180 s\n",
            "end time: 210\n",
            "(480000,)\n",
            "fetaure shape: torch.Size([1, 80, 3000])\n"
          ]
        },
        {
          "output_type": "stream",
          "name": "stderr",
          "text": [
            "It is strongly recommended to pass the `sampling_rate` argument to `WhisperFeatureExtractor()`. Failing to do so can result in silent errors that might be hard to debug.\n"
          ]
        },
        {
          "output_type": "stream",
          "name": "stdout",
          "text": [
            "gen ids torch.Size([1, 82])\n",
            "start time: 210 s\n",
            "end time: 240\n",
            "(480000,)\n",
            "fetaure shape: torch.Size([1, 80, 3000])\n"
          ]
        },
        {
          "output_type": "stream",
          "name": "stderr",
          "text": [
            "It is strongly recommended to pass the `sampling_rate` argument to `WhisperFeatureExtractor()`. Failing to do so can result in silent errors that might be hard to debug.\n"
          ]
        },
        {
          "output_type": "stream",
          "name": "stdout",
          "text": [
            "gen ids torch.Size([1, 76])\n",
            "start time: 240 s\n",
            "end time: 270\n",
            "(480000,)\n",
            "fetaure shape: torch.Size([1, 80, 3000])\n"
          ]
        },
        {
          "output_type": "stream",
          "name": "stderr",
          "text": [
            "It is strongly recommended to pass the `sampling_rate` argument to `WhisperFeatureExtractor()`. Failing to do so can result in silent errors that might be hard to debug.\n"
          ]
        },
        {
          "output_type": "stream",
          "name": "stdout",
          "text": [
            "gen ids torch.Size([1, 81])\n",
            "start time: 270 s\n",
            "end time: 300\n",
            "(480000,)\n",
            "fetaure shape: torch.Size([1, 80, 3000])\n"
          ]
        },
        {
          "output_type": "stream",
          "name": "stderr",
          "text": [
            "It is strongly recommended to pass the `sampling_rate` argument to `WhisperFeatureExtractor()`. Failing to do so can result in silent errors that might be hard to debug.\n"
          ]
        },
        {
          "output_type": "stream",
          "name": "stdout",
          "text": [
            "gen ids torch.Size([1, 92])\n",
            "start time: 300 s\n",
            "end time: 330\n",
            "(480000,)\n",
            "fetaure shape: torch.Size([1, 80, 3000])\n"
          ]
        },
        {
          "output_type": "stream",
          "name": "stderr",
          "text": [
            "It is strongly recommended to pass the `sampling_rate` argument to `WhisperFeatureExtractor()`. Failing to do so can result in silent errors that might be hard to debug.\n"
          ]
        },
        {
          "output_type": "stream",
          "name": "stdout",
          "text": [
            "gen ids torch.Size([1, 83])\n",
            "start time: 330 s\n",
            "end time: 360\n",
            "(480000,)\n",
            "fetaure shape: torch.Size([1, 80, 3000])\n"
          ]
        },
        {
          "output_type": "stream",
          "name": "stderr",
          "text": [
            "It is strongly recommended to pass the `sampling_rate` argument to `WhisperFeatureExtractor()`. Failing to do so can result in silent errors that might be hard to debug.\n"
          ]
        },
        {
          "output_type": "stream",
          "name": "stdout",
          "text": [
            "gen ids torch.Size([1, 98])\n",
            "start time: 360 s\n",
            "end time: 390\n",
            "(480000,)\n",
            "fetaure shape: torch.Size([1, 80, 3000])\n"
          ]
        },
        {
          "output_type": "stream",
          "name": "stderr",
          "text": [
            "It is strongly recommended to pass the `sampling_rate` argument to `WhisperFeatureExtractor()`. Failing to do so can result in silent errors that might be hard to debug.\n"
          ]
        },
        {
          "output_type": "stream",
          "name": "stdout",
          "text": [
            "gen ids torch.Size([1, 74])\n",
            "start time: 390 s\n",
            "end time: 420\n",
            "(480000,)\n",
            "fetaure shape: torch.Size([1, 80, 3000])\n"
          ]
        },
        {
          "output_type": "stream",
          "name": "stderr",
          "text": [
            "It is strongly recommended to pass the `sampling_rate` argument to `WhisperFeatureExtractor()`. Failing to do so can result in silent errors that might be hard to debug.\n"
          ]
        },
        {
          "output_type": "stream",
          "name": "stdout",
          "text": [
            "gen ids torch.Size([1, 81])\n",
            "start time: 420 s\n",
            "end time: 450\n",
            "(480000,)\n",
            "fetaure shape: torch.Size([1, 80, 3000])\n"
          ]
        },
        {
          "output_type": "stream",
          "name": "stderr",
          "text": [
            "It is strongly recommended to pass the `sampling_rate` argument to `WhisperFeatureExtractor()`. Failing to do so can result in silent errors that might be hard to debug.\n"
          ]
        },
        {
          "output_type": "stream",
          "name": "stdout",
          "text": [
            "gen ids torch.Size([1, 76])\n",
            "start time: 450 s\n",
            "end time: 480\n",
            "(480000,)\n",
            "fetaure shape: torch.Size([1, 80, 3000])\n"
          ]
        },
        {
          "output_type": "stream",
          "name": "stderr",
          "text": [
            "It is strongly recommended to pass the `sampling_rate` argument to `WhisperFeatureExtractor()`. Failing to do so can result in silent errors that might be hard to debug.\n"
          ]
        },
        {
          "output_type": "stream",
          "name": "stdout",
          "text": [
            "gen ids torch.Size([1, 82])\n",
            "start time: 480 s\n",
            "end time: 510\n",
            "(480000,)\n",
            "fetaure shape: torch.Size([1, 80, 3000])\n"
          ]
        },
        {
          "output_type": "stream",
          "name": "stderr",
          "text": [
            "It is strongly recommended to pass the `sampling_rate` argument to `WhisperFeatureExtractor()`. Failing to do so can result in silent errors that might be hard to debug.\n"
          ]
        },
        {
          "output_type": "stream",
          "name": "stdout",
          "text": [
            "gen ids torch.Size([1, 83])\n",
            "start time: 510 s\n",
            "end time: 540\n",
            "(480000,)\n",
            "fetaure shape: torch.Size([1, 80, 3000])\n"
          ]
        },
        {
          "output_type": "stream",
          "name": "stderr",
          "text": [
            "It is strongly recommended to pass the `sampling_rate` argument to `WhisperFeatureExtractor()`. Failing to do so can result in silent errors that might be hard to debug.\n"
          ]
        },
        {
          "output_type": "stream",
          "name": "stdout",
          "text": [
            "gen ids torch.Size([1, 75])\n",
            "start time: 540 s\n",
            "end time: 541.942125\n",
            "(31074,)\n",
            "fetaure shape: torch.Size([1, 80, 3000])\n",
            "gen ids torch.Size([1, 4])\n",
            "OtherMetricsandtheROCCurve(DL20)\n",
            "The Data Analysis Pipeline (DL 05).wav\n"
          ]
        },
        {
          "output_type": "stream",
          "name": "stderr",
          "text": [
            "It is strongly recommended to pass the `sampling_rate` argument to `WhisperFeatureExtractor()`. Failing to do so can result in silent errors that might be hard to debug.\n"
          ]
        },
        {
          "output_type": "stream",
          "name": "stdout",
          "text": [
            "start time: 0 s\n",
            "end time: 30\n",
            "(480000,)\n",
            "fetaure shape: torch.Size([1, 80, 3000])\n"
          ]
        },
        {
          "output_type": "stream",
          "name": "stderr",
          "text": [
            "It is strongly recommended to pass the `sampling_rate` argument to `WhisperFeatureExtractor()`. Failing to do so can result in silent errors that might be hard to debug.\n"
          ]
        },
        {
          "output_type": "stream",
          "name": "stdout",
          "text": [
            "gen ids torch.Size([1, 83])\n",
            "start time: 30 s\n",
            "end time: 60\n",
            "(480000,)\n",
            "fetaure shape: torch.Size([1, 80, 3000])\n"
          ]
        },
        {
          "output_type": "stream",
          "name": "stderr",
          "text": [
            "It is strongly recommended to pass the `sampling_rate` argument to `WhisperFeatureExtractor()`. Failing to do so can result in silent errors that might be hard to debug.\n"
          ]
        },
        {
          "output_type": "stream",
          "name": "stdout",
          "text": [
            "gen ids torch.Size([1, 80])\n",
            "start time: 60 s\n",
            "end time: 90\n",
            "(480000,)\n",
            "fetaure shape: torch.Size([1, 80, 3000])\n"
          ]
        },
        {
          "output_type": "stream",
          "name": "stderr",
          "text": [
            "It is strongly recommended to pass the `sampling_rate` argument to `WhisperFeatureExtractor()`. Failing to do so can result in silent errors that might be hard to debug.\n"
          ]
        },
        {
          "output_type": "stream",
          "name": "stdout",
          "text": [
            "gen ids torch.Size([1, 93])\n",
            "start time: 90 s\n",
            "end time: 120\n",
            "(480000,)\n",
            "fetaure shape: torch.Size([1, 80, 3000])\n"
          ]
        },
        {
          "output_type": "stream",
          "name": "stderr",
          "text": [
            "It is strongly recommended to pass the `sampling_rate` argument to `WhisperFeatureExtractor()`. Failing to do so can result in silent errors that might be hard to debug.\n"
          ]
        },
        {
          "output_type": "stream",
          "name": "stdout",
          "text": [
            "gen ids torch.Size([1, 86])\n",
            "start time: 120 s\n",
            "end time: 150\n",
            "(480000,)\n",
            "fetaure shape: torch.Size([1, 80, 3000])\n"
          ]
        },
        {
          "output_type": "stream",
          "name": "stderr",
          "text": [
            "It is strongly recommended to pass the `sampling_rate` argument to `WhisperFeatureExtractor()`. Failing to do so can result in silent errors that might be hard to debug.\n"
          ]
        },
        {
          "output_type": "stream",
          "name": "stdout",
          "text": [
            "gen ids torch.Size([1, 94])\n",
            "start time: 150 s\n",
            "end time: 180\n",
            "(480000,)\n",
            "fetaure shape: torch.Size([1, 80, 3000])\n"
          ]
        },
        {
          "output_type": "stream",
          "name": "stderr",
          "text": [
            "It is strongly recommended to pass the `sampling_rate` argument to `WhisperFeatureExtractor()`. Failing to do so can result in silent errors that might be hard to debug.\n"
          ]
        },
        {
          "output_type": "stream",
          "name": "stdout",
          "text": [
            "gen ids torch.Size([1, 83])\n",
            "start time: 180 s\n",
            "end time: 210\n",
            "(480000,)\n",
            "fetaure shape: torch.Size([1, 80, 3000])\n"
          ]
        },
        {
          "output_type": "stream",
          "name": "stderr",
          "text": [
            "It is strongly recommended to pass the `sampling_rate` argument to `WhisperFeatureExtractor()`. Failing to do so can result in silent errors that might be hard to debug.\n"
          ]
        },
        {
          "output_type": "stream",
          "name": "stdout",
          "text": [
            "gen ids torch.Size([1, 96])\n",
            "start time: 210 s\n",
            "end time: 240\n",
            "(480000,)\n",
            "fetaure shape: torch.Size([1, 80, 3000])\n"
          ]
        },
        {
          "output_type": "stream",
          "name": "stderr",
          "text": [
            "It is strongly recommended to pass the `sampling_rate` argument to `WhisperFeatureExtractor()`. Failing to do so can result in silent errors that might be hard to debug.\n"
          ]
        },
        {
          "output_type": "stream",
          "name": "stdout",
          "text": [
            "gen ids torch.Size([1, 63])\n",
            "start time: 240 s\n",
            "end time: 270\n",
            "(480000,)\n",
            "fetaure shape: torch.Size([1, 80, 3000])\n"
          ]
        },
        {
          "output_type": "stream",
          "name": "stderr",
          "text": [
            "It is strongly recommended to pass the `sampling_rate` argument to `WhisperFeatureExtractor()`. Failing to do so can result in silent errors that might be hard to debug.\n"
          ]
        },
        {
          "output_type": "stream",
          "name": "stdout",
          "text": [
            "gen ids torch.Size([1, 86])\n",
            "start time: 270 s\n",
            "end time: 300\n",
            "(480000,)\n",
            "fetaure shape: torch.Size([1, 80, 3000])\n"
          ]
        },
        {
          "output_type": "stream",
          "name": "stderr",
          "text": [
            "It is strongly recommended to pass the `sampling_rate` argument to `WhisperFeatureExtractor()`. Failing to do so can result in silent errors that might be hard to debug.\n"
          ]
        },
        {
          "output_type": "stream",
          "name": "stdout",
          "text": [
            "gen ids torch.Size([1, 84])\n",
            "start time: 300 s\n",
            "end time: 330\n",
            "(480000,)\n",
            "fetaure shape: torch.Size([1, 80, 3000])\n"
          ]
        },
        {
          "output_type": "stream",
          "name": "stderr",
          "text": [
            "It is strongly recommended to pass the `sampling_rate` argument to `WhisperFeatureExtractor()`. Failing to do so can result in silent errors that might be hard to debug.\n"
          ]
        },
        {
          "output_type": "stream",
          "name": "stdout",
          "text": [
            "gen ids torch.Size([1, 81])\n",
            "start time: 330 s\n",
            "end time: 360\n",
            "(480000,)\n",
            "fetaure shape: torch.Size([1, 80, 3000])\n"
          ]
        },
        {
          "output_type": "stream",
          "name": "stderr",
          "text": [
            "It is strongly recommended to pass the `sampling_rate` argument to `WhisperFeatureExtractor()`. Failing to do so can result in silent errors that might be hard to debug.\n"
          ]
        },
        {
          "output_type": "stream",
          "name": "stdout",
          "text": [
            "gen ids torch.Size([1, 76])\n",
            "start time: 360 s\n",
            "end time: 390\n",
            "(480000,)\n",
            "fetaure shape: torch.Size([1, 80, 3000])\n"
          ]
        },
        {
          "output_type": "stream",
          "name": "stderr",
          "text": [
            "It is strongly recommended to pass the `sampling_rate` argument to `WhisperFeatureExtractor()`. Failing to do so can result in silent errors that might be hard to debug.\n"
          ]
        },
        {
          "output_type": "stream",
          "name": "stdout",
          "text": [
            "gen ids torch.Size([1, 83])\n",
            "start time: 390 s\n",
            "end time: 420\n",
            "(480000,)\n",
            "fetaure shape: torch.Size([1, 80, 3000])\n"
          ]
        },
        {
          "output_type": "stream",
          "name": "stderr",
          "text": [
            "It is strongly recommended to pass the `sampling_rate` argument to `WhisperFeatureExtractor()`. Failing to do so can result in silent errors that might be hard to debug.\n"
          ]
        },
        {
          "output_type": "stream",
          "name": "stdout",
          "text": [
            "gen ids torch.Size([1, 95])\n",
            "start time: 420 s\n",
            "end time: 450\n",
            "(480000,)\n",
            "fetaure shape: torch.Size([1, 80, 3000])\n"
          ]
        },
        {
          "output_type": "stream",
          "name": "stderr",
          "text": [
            "It is strongly recommended to pass the `sampling_rate` argument to `WhisperFeatureExtractor()`. Failing to do so can result in silent errors that might be hard to debug.\n"
          ]
        },
        {
          "output_type": "stream",
          "name": "stdout",
          "text": [
            "gen ids torch.Size([1, 78])\n",
            "start time: 450 s\n",
            "end time: 480\n",
            "(480000,)\n",
            "fetaure shape: torch.Size([1, 80, 3000])\n"
          ]
        },
        {
          "output_type": "stream",
          "name": "stderr",
          "text": [
            "It is strongly recommended to pass the `sampling_rate` argument to `WhisperFeatureExtractor()`. Failing to do so can result in silent errors that might be hard to debug.\n"
          ]
        },
        {
          "output_type": "stream",
          "name": "stdout",
          "text": [
            "gen ids torch.Size([1, 72])\n",
            "start time: 480 s\n",
            "end time: 510\n",
            "(480000,)\n",
            "fetaure shape: torch.Size([1, 80, 3000])\n"
          ]
        },
        {
          "output_type": "stream",
          "name": "stderr",
          "text": [
            "It is strongly recommended to pass the `sampling_rate` argument to `WhisperFeatureExtractor()`. Failing to do so can result in silent errors that might be hard to debug.\n"
          ]
        },
        {
          "output_type": "stream",
          "name": "stdout",
          "text": [
            "gen ids torch.Size([1, 73])\n",
            "start time: 510 s\n",
            "end time: 540\n",
            "(480000,)\n",
            "fetaure shape: torch.Size([1, 80, 3000])\n"
          ]
        },
        {
          "output_type": "stream",
          "name": "stderr",
          "text": [
            "It is strongly recommended to pass the `sampling_rate` argument to `WhisperFeatureExtractor()`. Failing to do so can result in silent errors that might be hard to debug.\n"
          ]
        },
        {
          "output_type": "stream",
          "name": "stdout",
          "text": [
            "gen ids torch.Size([1, 75])\n",
            "start time: 540 s\n",
            "end time: 570\n",
            "(480000,)\n",
            "fetaure shape: torch.Size([1, 80, 3000])\n"
          ]
        },
        {
          "output_type": "stream",
          "name": "stderr",
          "text": [
            "It is strongly recommended to pass the `sampling_rate` argument to `WhisperFeatureExtractor()`. Failing to do so can result in silent errors that might be hard to debug.\n"
          ]
        },
        {
          "output_type": "stream",
          "name": "stdout",
          "text": [
            "gen ids torch.Size([1, 76])\n",
            "start time: 570 s\n",
            "end time: 600\n",
            "(480000,)\n",
            "fetaure shape: torch.Size([1, 80, 3000])\n"
          ]
        },
        {
          "output_type": "stream",
          "name": "stderr",
          "text": [
            "It is strongly recommended to pass the `sampling_rate` argument to `WhisperFeatureExtractor()`. Failing to do so can result in silent errors that might be hard to debug.\n"
          ]
        },
        {
          "output_type": "stream",
          "name": "stdout",
          "text": [
            "gen ids torch.Size([1, 75])\n",
            "start time: 600 s\n",
            "end time: 630\n",
            "(480000,)\n",
            "fetaure shape: torch.Size([1, 80, 3000])\n"
          ]
        },
        {
          "output_type": "stream",
          "name": "stderr",
          "text": [
            "It is strongly recommended to pass the `sampling_rate` argument to `WhisperFeatureExtractor()`. Failing to do so can result in silent errors that might be hard to debug.\n"
          ]
        },
        {
          "output_type": "stream",
          "name": "stdout",
          "text": [
            "gen ids torch.Size([1, 80])\n",
            "start time: 630 s\n",
            "end time: 660\n",
            "(480000,)\n",
            "fetaure shape: torch.Size([1, 80, 3000])\n"
          ]
        },
        {
          "output_type": "stream",
          "name": "stderr",
          "text": [
            "It is strongly recommended to pass the `sampling_rate` argument to `WhisperFeatureExtractor()`. Failing to do so can result in silent errors that might be hard to debug.\n"
          ]
        },
        {
          "output_type": "stream",
          "name": "stdout",
          "text": [
            "gen ids torch.Size([1, 80])\n",
            "start time: 660 s\n",
            "end time: 690\n",
            "(480000,)\n",
            "fetaure shape: torch.Size([1, 80, 3000])\n"
          ]
        },
        {
          "output_type": "stream",
          "name": "stderr",
          "text": [
            "It is strongly recommended to pass the `sampling_rate` argument to `WhisperFeatureExtractor()`. Failing to do so can result in silent errors that might be hard to debug.\n"
          ]
        },
        {
          "output_type": "stream",
          "name": "stdout",
          "text": [
            "gen ids torch.Size([1, 91])\n",
            "start time: 690 s\n",
            "end time: 720\n",
            "(480000,)\n",
            "fetaure shape: torch.Size([1, 80, 3000])\n"
          ]
        },
        {
          "output_type": "stream",
          "name": "stderr",
          "text": [
            "It is strongly recommended to pass the `sampling_rate` argument to `WhisperFeatureExtractor()`. Failing to do so can result in silent errors that might be hard to debug.\n"
          ]
        },
        {
          "output_type": "stream",
          "name": "stdout",
          "text": [
            "gen ids torch.Size([1, 91])\n",
            "start time: 720 s\n",
            "end time: 750\n",
            "(480000,)\n",
            "fetaure shape: torch.Size([1, 80, 3000])\n"
          ]
        },
        {
          "output_type": "stream",
          "name": "stderr",
          "text": [
            "It is strongly recommended to pass the `sampling_rate` argument to `WhisperFeatureExtractor()`. Failing to do so can result in silent errors that might be hard to debug.\n"
          ]
        },
        {
          "output_type": "stream",
          "name": "stdout",
          "text": [
            "gen ids torch.Size([1, 64])\n",
            "start time: 750 s\n",
            "end time: 780\n",
            "(480000,)\n",
            "fetaure shape: torch.Size([1, 80, 3000])\n"
          ]
        },
        {
          "output_type": "stream",
          "name": "stderr",
          "text": [
            "It is strongly recommended to pass the `sampling_rate` argument to `WhisperFeatureExtractor()`. Failing to do so can result in silent errors that might be hard to debug.\n"
          ]
        },
        {
          "output_type": "stream",
          "name": "stdout",
          "text": [
            "gen ids torch.Size([1, 82])\n",
            "start time: 780 s\n",
            "end time: 810\n",
            "(480000,)\n",
            "fetaure shape: torch.Size([1, 80, 3000])\n"
          ]
        },
        {
          "output_type": "stream",
          "name": "stderr",
          "text": [
            "It is strongly recommended to pass the `sampling_rate` argument to `WhisperFeatureExtractor()`. Failing to do so can result in silent errors that might be hard to debug.\n"
          ]
        },
        {
          "output_type": "stream",
          "name": "stdout",
          "text": [
            "gen ids torch.Size([1, 86])\n",
            "start time: 810 s\n",
            "end time: 840\n",
            "(480000,)\n",
            "fetaure shape: torch.Size([1, 80, 3000])\n"
          ]
        },
        {
          "output_type": "stream",
          "name": "stderr",
          "text": [
            "It is strongly recommended to pass the `sampling_rate` argument to `WhisperFeatureExtractor()`. Failing to do so can result in silent errors that might be hard to debug.\n"
          ]
        },
        {
          "output_type": "stream",
          "name": "stdout",
          "text": [
            "gen ids torch.Size([1, 80])\n",
            "start time: 840 s\n",
            "end time: 857.663875\n",
            "(282622,)\n",
            "fetaure shape: torch.Size([1, 80, 3000])\n",
            "gen ids torch.Size([1, 63])\n",
            "TheDataAnalysisPipeline(DL05)\n",
            "Auto-Encoders (DL 22).wav\n"
          ]
        },
        {
          "output_type": "stream",
          "name": "stderr",
          "text": [
            "It is strongly recommended to pass the `sampling_rate` argument to `WhisperFeatureExtractor()`. Failing to do so can result in silent errors that might be hard to debug.\n"
          ]
        },
        {
          "output_type": "stream",
          "name": "stdout",
          "text": [
            "start time: 0 s\n",
            "end time: 30\n",
            "(480000,)\n",
            "fetaure shape: torch.Size([1, 80, 3000])\n"
          ]
        },
        {
          "output_type": "stream",
          "name": "stderr",
          "text": [
            "It is strongly recommended to pass the `sampling_rate` argument to `WhisperFeatureExtractor()`. Failing to do so can result in silent errors that might be hard to debug.\n"
          ]
        },
        {
          "output_type": "stream",
          "name": "stdout",
          "text": [
            "gen ids torch.Size([1, 60])\n",
            "start time: 30 s\n",
            "end time: 60\n",
            "(480000,)\n",
            "fetaure shape: torch.Size([1, 80, 3000])\n"
          ]
        },
        {
          "output_type": "stream",
          "name": "stderr",
          "text": [
            "It is strongly recommended to pass the `sampling_rate` argument to `WhisperFeatureExtractor()`. Failing to do so can result in silent errors that might be hard to debug.\n"
          ]
        },
        {
          "output_type": "stream",
          "name": "stdout",
          "text": [
            "gen ids torch.Size([1, 69])\n",
            "start time: 60 s\n",
            "end time: 90\n",
            "(480000,)\n",
            "fetaure shape: torch.Size([1, 80, 3000])\n"
          ]
        },
        {
          "output_type": "stream",
          "name": "stderr",
          "text": [
            "It is strongly recommended to pass the `sampling_rate` argument to `WhisperFeatureExtractor()`. Failing to do so can result in silent errors that might be hard to debug.\n"
          ]
        },
        {
          "output_type": "stream",
          "name": "stdout",
          "text": [
            "gen ids torch.Size([1, 73])\n",
            "start time: 90 s\n",
            "end time: 120\n",
            "(480000,)\n",
            "fetaure shape: torch.Size([1, 80, 3000])\n"
          ]
        },
        {
          "output_type": "stream",
          "name": "stderr",
          "text": [
            "It is strongly recommended to pass the `sampling_rate` argument to `WhisperFeatureExtractor()`. Failing to do so can result in silent errors that might be hard to debug.\n"
          ]
        },
        {
          "output_type": "stream",
          "name": "stdout",
          "text": [
            "gen ids torch.Size([1, 72])\n",
            "start time: 120 s\n",
            "end time: 150\n",
            "(480000,)\n",
            "fetaure shape: torch.Size([1, 80, 3000])\n"
          ]
        },
        {
          "output_type": "stream",
          "name": "stderr",
          "text": [
            "It is strongly recommended to pass the `sampling_rate` argument to `WhisperFeatureExtractor()`. Failing to do so can result in silent errors that might be hard to debug.\n"
          ]
        },
        {
          "output_type": "stream",
          "name": "stdout",
          "text": [
            "gen ids torch.Size([1, 55])\n",
            "start time: 150 s\n",
            "end time: 180\n",
            "(480000,)\n",
            "fetaure shape: torch.Size([1, 80, 3000])\n"
          ]
        },
        {
          "output_type": "stream",
          "name": "stderr",
          "text": [
            "It is strongly recommended to pass the `sampling_rate` argument to `WhisperFeatureExtractor()`. Failing to do so can result in silent errors that might be hard to debug.\n"
          ]
        },
        {
          "output_type": "stream",
          "name": "stdout",
          "text": [
            "gen ids torch.Size([1, 80])\n",
            "start time: 180 s\n",
            "end time: 210\n",
            "(480000,)\n",
            "fetaure shape: torch.Size([1, 80, 3000])\n"
          ]
        },
        {
          "output_type": "stream",
          "name": "stderr",
          "text": [
            "It is strongly recommended to pass the `sampling_rate` argument to `WhisperFeatureExtractor()`. Failing to do so can result in silent errors that might be hard to debug.\n"
          ]
        },
        {
          "output_type": "stream",
          "name": "stdout",
          "text": [
            "gen ids torch.Size([1, 76])\n",
            "start time: 210 s\n",
            "end time: 240\n",
            "(480000,)\n",
            "fetaure shape: torch.Size([1, 80, 3000])\n"
          ]
        },
        {
          "output_type": "stream",
          "name": "stderr",
          "text": [
            "It is strongly recommended to pass the `sampling_rate` argument to `WhisperFeatureExtractor()`. Failing to do so can result in silent errors that might be hard to debug.\n"
          ]
        },
        {
          "output_type": "stream",
          "name": "stdout",
          "text": [
            "gen ids torch.Size([1, 73])\n",
            "start time: 240 s\n",
            "end time: 270\n",
            "(480000,)\n",
            "fetaure shape: torch.Size([1, 80, 3000])\n"
          ]
        },
        {
          "output_type": "stream",
          "name": "stderr",
          "text": [
            "It is strongly recommended to pass the `sampling_rate` argument to `WhisperFeatureExtractor()`. Failing to do so can result in silent errors that might be hard to debug.\n"
          ]
        },
        {
          "output_type": "stream",
          "name": "stdout",
          "text": [
            "gen ids torch.Size([1, 77])\n",
            "start time: 270 s\n",
            "end time: 300\n",
            "(480000,)\n",
            "fetaure shape: torch.Size([1, 80, 3000])\n"
          ]
        },
        {
          "output_type": "stream",
          "name": "stderr",
          "text": [
            "It is strongly recommended to pass the `sampling_rate` argument to `WhisperFeatureExtractor()`. Failing to do so can result in silent errors that might be hard to debug.\n"
          ]
        },
        {
          "output_type": "stream",
          "name": "stdout",
          "text": [
            "gen ids torch.Size([1, 70])\n",
            "start time: 300 s\n",
            "end time: 330\n",
            "(480000,)\n",
            "fetaure shape: torch.Size([1, 80, 3000])\n"
          ]
        },
        {
          "output_type": "stream",
          "name": "stderr",
          "text": [
            "It is strongly recommended to pass the `sampling_rate` argument to `WhisperFeatureExtractor()`. Failing to do so can result in silent errors that might be hard to debug.\n"
          ]
        },
        {
          "output_type": "stream",
          "name": "stdout",
          "text": [
            "gen ids torch.Size([1, 72])\n",
            "start time: 330 s\n",
            "end time: 360\n",
            "(480000,)\n",
            "fetaure shape: torch.Size([1, 80, 3000])\n"
          ]
        },
        {
          "output_type": "stream",
          "name": "stderr",
          "text": [
            "It is strongly recommended to pass the `sampling_rate` argument to `WhisperFeatureExtractor()`. Failing to do so can result in silent errors that might be hard to debug.\n"
          ]
        },
        {
          "output_type": "stream",
          "name": "stdout",
          "text": [
            "gen ids torch.Size([1, 84])\n",
            "start time: 360 s\n",
            "end time: 390\n",
            "(480000,)\n",
            "fetaure shape: torch.Size([1, 80, 3000])\n"
          ]
        },
        {
          "output_type": "stream",
          "name": "stderr",
          "text": [
            "It is strongly recommended to pass the `sampling_rate` argument to `WhisperFeatureExtractor()`. Failing to do so can result in silent errors that might be hard to debug.\n"
          ]
        },
        {
          "output_type": "stream",
          "name": "stdout",
          "text": [
            "gen ids torch.Size([1, 66])\n",
            "start time: 390 s\n",
            "end time: 420\n",
            "(480000,)\n",
            "fetaure shape: torch.Size([1, 80, 3000])\n"
          ]
        },
        {
          "output_type": "stream",
          "name": "stderr",
          "text": [
            "It is strongly recommended to pass the `sampling_rate` argument to `WhisperFeatureExtractor()`. Failing to do so can result in silent errors that might be hard to debug.\n"
          ]
        },
        {
          "output_type": "stream",
          "name": "stdout",
          "text": [
            "gen ids torch.Size([1, 77])\n",
            "start time: 420 s\n",
            "end time: 450\n",
            "(480000,)\n",
            "fetaure shape: torch.Size([1, 80, 3000])\n"
          ]
        },
        {
          "output_type": "stream",
          "name": "stderr",
          "text": [
            "It is strongly recommended to pass the `sampling_rate` argument to `WhisperFeatureExtractor()`. Failing to do so can result in silent errors that might be hard to debug.\n"
          ]
        },
        {
          "output_type": "stream",
          "name": "stdout",
          "text": [
            "gen ids torch.Size([1, 73])\n",
            "start time: 450 s\n",
            "end time: 480\n",
            "(480000,)\n",
            "fetaure shape: torch.Size([1, 80, 3000])\n"
          ]
        },
        {
          "output_type": "stream",
          "name": "stderr",
          "text": [
            "It is strongly recommended to pass the `sampling_rate` argument to `WhisperFeatureExtractor()`. Failing to do so can result in silent errors that might be hard to debug.\n"
          ]
        },
        {
          "output_type": "stream",
          "name": "stdout",
          "text": [
            "gen ids torch.Size([1, 72])\n",
            "start time: 480 s\n",
            "end time: 510\n",
            "(480000,)\n",
            "fetaure shape: torch.Size([1, 80, 3000])\n"
          ]
        },
        {
          "output_type": "stream",
          "name": "stderr",
          "text": [
            "It is strongly recommended to pass the `sampling_rate` argument to `WhisperFeatureExtractor()`. Failing to do so can result in silent errors that might be hard to debug.\n"
          ]
        },
        {
          "output_type": "stream",
          "name": "stdout",
          "text": [
            "gen ids torch.Size([1, 77])\n",
            "start time: 510 s\n",
            "end time: 540\n",
            "(480000,)\n",
            "fetaure shape: torch.Size([1, 80, 3000])\n"
          ]
        },
        {
          "output_type": "stream",
          "name": "stderr",
          "text": [
            "It is strongly recommended to pass the `sampling_rate` argument to `WhisperFeatureExtractor()`. Failing to do so can result in silent errors that might be hard to debug.\n"
          ]
        },
        {
          "output_type": "stream",
          "name": "stdout",
          "text": [
            "gen ids torch.Size([1, 67])\n",
            "start time: 540 s\n",
            "end time: 570\n",
            "(480000,)\n",
            "fetaure shape: torch.Size([1, 80, 3000])\n"
          ]
        },
        {
          "output_type": "stream",
          "name": "stderr",
          "text": [
            "It is strongly recommended to pass the `sampling_rate` argument to `WhisperFeatureExtractor()`. Failing to do so can result in silent errors that might be hard to debug.\n"
          ]
        },
        {
          "output_type": "stream",
          "name": "stdout",
          "text": [
            "gen ids torch.Size([1, 67])\n",
            "start time: 570 s\n",
            "end time: 600\n",
            "(480000,)\n",
            "fetaure shape: torch.Size([1, 80, 3000])\n"
          ]
        },
        {
          "output_type": "stream",
          "name": "stderr",
          "text": [
            "It is strongly recommended to pass the `sampling_rate` argument to `WhisperFeatureExtractor()`. Failing to do so can result in silent errors that might be hard to debug.\n"
          ]
        },
        {
          "output_type": "stream",
          "name": "stdout",
          "text": [
            "gen ids torch.Size([1, 71])\n",
            "start time: 600 s\n",
            "end time: 630\n",
            "(480000,)\n",
            "fetaure shape: torch.Size([1, 80, 3000])\n"
          ]
        },
        {
          "output_type": "stream",
          "name": "stderr",
          "text": [
            "It is strongly recommended to pass the `sampling_rate` argument to `WhisperFeatureExtractor()`. Failing to do so can result in silent errors that might be hard to debug.\n"
          ]
        },
        {
          "output_type": "stream",
          "name": "stdout",
          "text": [
            "gen ids torch.Size([1, 67])\n",
            "start time: 630 s\n",
            "end time: 660\n",
            "(480000,)\n",
            "fetaure shape: torch.Size([1, 80, 3000])\n"
          ]
        },
        {
          "output_type": "stream",
          "name": "stderr",
          "text": [
            "It is strongly recommended to pass the `sampling_rate` argument to `WhisperFeatureExtractor()`. Failing to do so can result in silent errors that might be hard to debug.\n"
          ]
        },
        {
          "output_type": "stream",
          "name": "stdout",
          "text": [
            "gen ids torch.Size([1, 73])\n",
            "start time: 660 s\n",
            "end time: 665.7741875\n",
            "(92387,)\n",
            "fetaure shape: torch.Size([1, 80, 3000])\n",
            "gen ids torch.Size([1, 13])\n",
            "Auto-Encoders(DL22)\n",
            "What can a single neuron compute？ (DL 03).wav\n"
          ]
        },
        {
          "output_type": "stream",
          "name": "stderr",
          "text": [
            "It is strongly recommended to pass the `sampling_rate` argument to `WhisperFeatureExtractor()`. Failing to do so can result in silent errors that might be hard to debug.\n"
          ]
        },
        {
          "output_type": "stream",
          "name": "stdout",
          "text": [
            "start time: 0 s\n",
            "end time: 30\n",
            "(480000,)\n",
            "fetaure shape: torch.Size([1, 80, 3000])\n"
          ]
        },
        {
          "output_type": "stream",
          "name": "stderr",
          "text": [
            "It is strongly recommended to pass the `sampling_rate` argument to `WhisperFeatureExtractor()`. Failing to do so can result in silent errors that might be hard to debug.\n"
          ]
        },
        {
          "output_type": "stream",
          "name": "stdout",
          "text": [
            "gen ids torch.Size([1, 75])\n",
            "start time: 30 s\n",
            "end time: 60\n",
            "(480000,)\n",
            "fetaure shape: torch.Size([1, 80, 3000])\n"
          ]
        },
        {
          "output_type": "stream",
          "name": "stderr",
          "text": [
            "It is strongly recommended to pass the `sampling_rate` argument to `WhisperFeatureExtractor()`. Failing to do so can result in silent errors that might be hard to debug.\n"
          ]
        },
        {
          "output_type": "stream",
          "name": "stdout",
          "text": [
            "gen ids torch.Size([1, 66])\n",
            "start time: 60 s\n",
            "end time: 90\n",
            "(480000,)\n",
            "fetaure shape: torch.Size([1, 80, 3000])\n"
          ]
        },
        {
          "output_type": "stream",
          "name": "stderr",
          "text": [
            "It is strongly recommended to pass the `sampling_rate` argument to `WhisperFeatureExtractor()`. Failing to do so can result in silent errors that might be hard to debug.\n"
          ]
        },
        {
          "output_type": "stream",
          "name": "stdout",
          "text": [
            "gen ids torch.Size([1, 51])\n",
            "start time: 90 s\n",
            "end time: 120\n",
            "(480000,)\n",
            "fetaure shape: torch.Size([1, 80, 3000])\n"
          ]
        },
        {
          "output_type": "stream",
          "name": "stderr",
          "text": [
            "It is strongly recommended to pass the `sampling_rate` argument to `WhisperFeatureExtractor()`. Failing to do so can result in silent errors that might be hard to debug.\n"
          ]
        },
        {
          "output_type": "stream",
          "name": "stdout",
          "text": [
            "gen ids torch.Size([1, 79])\n",
            "start time: 120 s\n",
            "end time: 150\n",
            "(480000,)\n",
            "fetaure shape: torch.Size([1, 80, 3000])\n"
          ]
        },
        {
          "output_type": "stream",
          "name": "stderr",
          "text": [
            "It is strongly recommended to pass the `sampling_rate` argument to `WhisperFeatureExtractor()`. Failing to do so can result in silent errors that might be hard to debug.\n"
          ]
        },
        {
          "output_type": "stream",
          "name": "stdout",
          "text": [
            "gen ids torch.Size([1, 67])\n",
            "start time: 150 s\n",
            "end time: 180\n",
            "(480000,)\n",
            "fetaure shape: torch.Size([1, 80, 3000])\n"
          ]
        },
        {
          "output_type": "stream",
          "name": "stderr",
          "text": [
            "It is strongly recommended to pass the `sampling_rate` argument to `WhisperFeatureExtractor()`. Failing to do so can result in silent errors that might be hard to debug.\n"
          ]
        },
        {
          "output_type": "stream",
          "name": "stdout",
          "text": [
            "gen ids torch.Size([1, 68])\n",
            "start time: 180 s\n",
            "end time: 210\n",
            "(480000,)\n",
            "fetaure shape: torch.Size([1, 80, 3000])\n"
          ]
        },
        {
          "output_type": "stream",
          "name": "stderr",
          "text": [
            "It is strongly recommended to pass the `sampling_rate` argument to `WhisperFeatureExtractor()`. Failing to do so can result in silent errors that might be hard to debug.\n"
          ]
        },
        {
          "output_type": "stream",
          "name": "stdout",
          "text": [
            "gen ids torch.Size([1, 85])\n",
            "start time: 210 s\n",
            "end time: 240\n",
            "(480000,)\n",
            "fetaure shape: torch.Size([1, 80, 3000])\n"
          ]
        },
        {
          "output_type": "stream",
          "name": "stderr",
          "text": [
            "It is strongly recommended to pass the `sampling_rate` argument to `WhisperFeatureExtractor()`. Failing to do so can result in silent errors that might be hard to debug.\n"
          ]
        },
        {
          "output_type": "stream",
          "name": "stdout",
          "text": [
            "gen ids torch.Size([1, 65])\n",
            "start time: 240 s\n",
            "end time: 270\n",
            "(480000,)\n",
            "fetaure shape: torch.Size([1, 80, 3000])\n"
          ]
        },
        {
          "output_type": "stream",
          "name": "stderr",
          "text": [
            "It is strongly recommended to pass the `sampling_rate` argument to `WhisperFeatureExtractor()`. Failing to do so can result in silent errors that might be hard to debug.\n"
          ]
        },
        {
          "output_type": "stream",
          "name": "stdout",
          "text": [
            "gen ids torch.Size([1, 83])\n",
            "start time: 270 s\n",
            "end time: 300\n",
            "(480000,)\n",
            "fetaure shape: torch.Size([1, 80, 3000])\n"
          ]
        },
        {
          "output_type": "stream",
          "name": "stderr",
          "text": [
            "It is strongly recommended to pass the `sampling_rate` argument to `WhisperFeatureExtractor()`. Failing to do so can result in silent errors that might be hard to debug.\n"
          ]
        },
        {
          "output_type": "stream",
          "name": "stdout",
          "text": [
            "gen ids torch.Size([1, 101])\n",
            "start time: 300 s\n",
            "end time: 330\n",
            "(480000,)\n",
            "fetaure shape: torch.Size([1, 80, 3000])\n"
          ]
        },
        {
          "output_type": "stream",
          "name": "stderr",
          "text": [
            "It is strongly recommended to pass the `sampling_rate` argument to `WhisperFeatureExtractor()`. Failing to do so can result in silent errors that might be hard to debug.\n"
          ]
        },
        {
          "output_type": "stream",
          "name": "stdout",
          "text": [
            "gen ids torch.Size([1, 52])\n",
            "start time: 330 s\n",
            "end time: 360\n",
            "(480000,)\n",
            "fetaure shape: torch.Size([1, 80, 3000])\n"
          ]
        },
        {
          "output_type": "stream",
          "name": "stderr",
          "text": [
            "It is strongly recommended to pass the `sampling_rate` argument to `WhisperFeatureExtractor()`. Failing to do so can result in silent errors that might be hard to debug.\n"
          ]
        },
        {
          "output_type": "stream",
          "name": "stdout",
          "text": [
            "gen ids torch.Size([1, 75])\n",
            "start time: 360 s\n",
            "end time: 390\n",
            "(480000,)\n",
            "fetaure shape: torch.Size([1, 80, 3000])\n"
          ]
        },
        {
          "output_type": "stream",
          "name": "stderr",
          "text": [
            "It is strongly recommended to pass the `sampling_rate` argument to `WhisperFeatureExtractor()`. Failing to do so can result in silent errors that might be hard to debug.\n"
          ]
        },
        {
          "output_type": "stream",
          "name": "stdout",
          "text": [
            "gen ids torch.Size([1, 72])\n",
            "start time: 390 s\n",
            "end time: 420\n",
            "(480000,)\n",
            "fetaure shape: torch.Size([1, 80, 3000])\n"
          ]
        },
        {
          "output_type": "stream",
          "name": "stderr",
          "text": [
            "It is strongly recommended to pass the `sampling_rate` argument to `WhisperFeatureExtractor()`. Failing to do so can result in silent errors that might be hard to debug.\n"
          ]
        },
        {
          "output_type": "stream",
          "name": "stdout",
          "text": [
            "gen ids torch.Size([1, 76])\n",
            "start time: 420 s\n",
            "end time: 450\n",
            "(480000,)\n",
            "fetaure shape: torch.Size([1, 80, 3000])\n"
          ]
        },
        {
          "output_type": "stream",
          "name": "stderr",
          "text": [
            "It is strongly recommended to pass the `sampling_rate` argument to `WhisperFeatureExtractor()`. Failing to do so can result in silent errors that might be hard to debug.\n"
          ]
        },
        {
          "output_type": "stream",
          "name": "stdout",
          "text": [
            "gen ids torch.Size([1, 88])\n",
            "start time: 450 s\n",
            "end time: 480\n",
            "(480000,)\n",
            "fetaure shape: torch.Size([1, 80, 3000])\n"
          ]
        },
        {
          "output_type": "stream",
          "name": "stderr",
          "text": [
            "It is strongly recommended to pass the `sampling_rate` argument to `WhisperFeatureExtractor()`. Failing to do so can result in silent errors that might be hard to debug.\n"
          ]
        },
        {
          "output_type": "stream",
          "name": "stdout",
          "text": [
            "gen ids torch.Size([1, 75])\n",
            "start time: 480 s\n",
            "end time: 510\n",
            "(480000,)\n",
            "fetaure shape: torch.Size([1, 80, 3000])\n"
          ]
        },
        {
          "output_type": "stream",
          "name": "stderr",
          "text": [
            "It is strongly recommended to pass the `sampling_rate` argument to `WhisperFeatureExtractor()`. Failing to do so can result in silent errors that might be hard to debug.\n"
          ]
        },
        {
          "output_type": "stream",
          "name": "stdout",
          "text": [
            "gen ids torch.Size([1, 74])\n",
            "start time: 510 s\n",
            "end time: 540\n",
            "(480000,)\n",
            "fetaure shape: torch.Size([1, 80, 3000])\n"
          ]
        },
        {
          "output_type": "stream",
          "name": "stderr",
          "text": [
            "It is strongly recommended to pass the `sampling_rate` argument to `WhisperFeatureExtractor()`. Failing to do so can result in silent errors that might be hard to debug.\n"
          ]
        },
        {
          "output_type": "stream",
          "name": "stdout",
          "text": [
            "gen ids torch.Size([1, 62])\n",
            "start time: 540 s\n",
            "end time: 570\n",
            "(480000,)\n",
            "fetaure shape: torch.Size([1, 80, 3000])\n"
          ]
        },
        {
          "output_type": "stream",
          "name": "stderr",
          "text": [
            "It is strongly recommended to pass the `sampling_rate` argument to `WhisperFeatureExtractor()`. Failing to do so can result in silent errors that might be hard to debug.\n"
          ]
        },
        {
          "output_type": "stream",
          "name": "stdout",
          "text": [
            "gen ids torch.Size([1, 83])\n",
            "start time: 570 s\n",
            "end time: 600\n",
            "(480000,)\n",
            "fetaure shape: torch.Size([1, 80, 3000])\n"
          ]
        },
        {
          "output_type": "stream",
          "name": "stderr",
          "text": [
            "It is strongly recommended to pass the `sampling_rate` argument to `WhisperFeatureExtractor()`. Failing to do so can result in silent errors that might be hard to debug.\n"
          ]
        },
        {
          "output_type": "stream",
          "name": "stdout",
          "text": [
            "gen ids torch.Size([1, 78])\n",
            "start time: 600 s\n",
            "end time: 630\n",
            "(480000,)\n",
            "fetaure shape: torch.Size([1, 80, 3000])\n"
          ]
        },
        {
          "output_type": "stream",
          "name": "stderr",
          "text": [
            "It is strongly recommended to pass the `sampling_rate` argument to `WhisperFeatureExtractor()`. Failing to do so can result in silent errors that might be hard to debug.\n"
          ]
        },
        {
          "output_type": "stream",
          "name": "stdout",
          "text": [
            "gen ids torch.Size([1, 54])\n",
            "start time: 630 s\n",
            "end time: 660\n",
            "(480000,)\n",
            "fetaure shape: torch.Size([1, 80, 3000])\n"
          ]
        },
        {
          "output_type": "stream",
          "name": "stderr",
          "text": [
            "It is strongly recommended to pass the `sampling_rate` argument to `WhisperFeatureExtractor()`. Failing to do so can result in silent errors that might be hard to debug.\n"
          ]
        },
        {
          "output_type": "stream",
          "name": "stdout",
          "text": [
            "gen ids torch.Size([1, 82])\n",
            "start time: 660 s\n",
            "end time: 690\n",
            "(480000,)\n",
            "fetaure shape: torch.Size([1, 80, 3000])\n"
          ]
        },
        {
          "output_type": "stream",
          "name": "stderr",
          "text": [
            "It is strongly recommended to pass the `sampling_rate` argument to `WhisperFeatureExtractor()`. Failing to do so can result in silent errors that might be hard to debug.\n"
          ]
        },
        {
          "output_type": "stream",
          "name": "stdout",
          "text": [
            "gen ids torch.Size([1, 61])\n",
            "start time: 690 s\n",
            "end time: 705.805375\n",
            "(252886,)\n",
            "fetaure shape: torch.Size([1, 80, 3000])\n",
            "gen ids torch.Size([1, 43])\n",
            "Whatcanasingleneuroncompute？(DL03)\n",
            "Transformers and Self-Attention (DL 19).wav\n"
          ]
        },
        {
          "output_type": "stream",
          "name": "stderr",
          "text": [
            "It is strongly recommended to pass the `sampling_rate` argument to `WhisperFeatureExtractor()`. Failing to do so can result in silent errors that might be hard to debug.\n"
          ]
        },
        {
          "output_type": "stream",
          "name": "stdout",
          "text": [
            "start time: 0 s\n",
            "end time: 30\n",
            "(480000,)\n",
            "fetaure shape: torch.Size([1, 80, 3000])\n"
          ]
        },
        {
          "output_type": "stream",
          "name": "stderr",
          "text": [
            "It is strongly recommended to pass the `sampling_rate` argument to `WhisperFeatureExtractor()`. Failing to do so can result in silent errors that might be hard to debug.\n"
          ]
        },
        {
          "output_type": "stream",
          "name": "stdout",
          "text": [
            "gen ids torch.Size([1, 91])\n",
            "start time: 30 s\n",
            "end time: 60\n",
            "(480000,)\n",
            "fetaure shape: torch.Size([1, 80, 3000])\n"
          ]
        },
        {
          "output_type": "stream",
          "name": "stderr",
          "text": [
            "It is strongly recommended to pass the `sampling_rate` argument to `WhisperFeatureExtractor()`. Failing to do so can result in silent errors that might be hard to debug.\n"
          ]
        },
        {
          "output_type": "stream",
          "name": "stdout",
          "text": [
            "gen ids torch.Size([1, 69])\n",
            "start time: 60 s\n",
            "end time: 90\n",
            "(480000,)\n",
            "fetaure shape: torch.Size([1, 80, 3000])\n"
          ]
        },
        {
          "output_type": "stream",
          "name": "stderr",
          "text": [
            "It is strongly recommended to pass the `sampling_rate` argument to `WhisperFeatureExtractor()`. Failing to do so can result in silent errors that might be hard to debug.\n"
          ]
        },
        {
          "output_type": "stream",
          "name": "stdout",
          "text": [
            "gen ids torch.Size([1, 72])\n",
            "start time: 90 s\n",
            "end time: 120\n",
            "(480000,)\n",
            "fetaure shape: torch.Size([1, 80, 3000])\n"
          ]
        },
        {
          "output_type": "stream",
          "name": "stderr",
          "text": [
            "It is strongly recommended to pass the `sampling_rate` argument to `WhisperFeatureExtractor()`. Failing to do so can result in silent errors that might be hard to debug.\n"
          ]
        },
        {
          "output_type": "stream",
          "name": "stdout",
          "text": [
            "gen ids torch.Size([1, 68])\n",
            "start time: 120 s\n",
            "end time: 150\n",
            "(480000,)\n",
            "fetaure shape: torch.Size([1, 80, 3000])\n"
          ]
        },
        {
          "output_type": "stream",
          "name": "stderr",
          "text": [
            "It is strongly recommended to pass the `sampling_rate` argument to `WhisperFeatureExtractor()`. Failing to do so can result in silent errors that might be hard to debug.\n"
          ]
        },
        {
          "output_type": "stream",
          "name": "stdout",
          "text": [
            "gen ids torch.Size([1, 70])\n",
            "start time: 150 s\n",
            "end time: 180\n",
            "(480000,)\n",
            "fetaure shape: torch.Size([1, 80, 3000])\n"
          ]
        },
        {
          "output_type": "stream",
          "name": "stderr",
          "text": [
            "It is strongly recommended to pass the `sampling_rate` argument to `WhisperFeatureExtractor()`. Failing to do so can result in silent errors that might be hard to debug.\n"
          ]
        },
        {
          "output_type": "stream",
          "name": "stdout",
          "text": [
            "gen ids torch.Size([1, 68])\n",
            "start time: 180 s\n",
            "end time: 210\n",
            "(480000,)\n",
            "fetaure shape: torch.Size([1, 80, 3000])\n"
          ]
        },
        {
          "output_type": "stream",
          "name": "stderr",
          "text": [
            "It is strongly recommended to pass the `sampling_rate` argument to `WhisperFeatureExtractor()`. Failing to do so can result in silent errors that might be hard to debug.\n"
          ]
        },
        {
          "output_type": "stream",
          "name": "stdout",
          "text": [
            "gen ids torch.Size([1, 87])\n",
            "start time: 210 s\n",
            "end time: 240\n",
            "(480000,)\n",
            "fetaure shape: torch.Size([1, 80, 3000])\n"
          ]
        },
        {
          "output_type": "stream",
          "name": "stderr",
          "text": [
            "It is strongly recommended to pass the `sampling_rate` argument to `WhisperFeatureExtractor()`. Failing to do so can result in silent errors that might be hard to debug.\n"
          ]
        },
        {
          "output_type": "stream",
          "name": "stdout",
          "text": [
            "gen ids torch.Size([1, 85])\n",
            "start time: 240 s\n",
            "end time: 270\n",
            "(480000,)\n",
            "fetaure shape: torch.Size([1, 80, 3000])\n"
          ]
        },
        {
          "output_type": "stream",
          "name": "stderr",
          "text": [
            "It is strongly recommended to pass the `sampling_rate` argument to `WhisperFeatureExtractor()`. Failing to do so can result in silent errors that might be hard to debug.\n"
          ]
        },
        {
          "output_type": "stream",
          "name": "stdout",
          "text": [
            "gen ids torch.Size([1, 67])\n",
            "start time: 270 s\n",
            "end time: 300\n",
            "(480000,)\n",
            "fetaure shape: torch.Size([1, 80, 3000])\n"
          ]
        },
        {
          "output_type": "stream",
          "name": "stderr",
          "text": [
            "It is strongly recommended to pass the `sampling_rate` argument to `WhisperFeatureExtractor()`. Failing to do so can result in silent errors that might be hard to debug.\n"
          ]
        },
        {
          "output_type": "stream",
          "name": "stdout",
          "text": [
            "gen ids torch.Size([1, 82])\n",
            "start time: 300 s\n",
            "end time: 330\n",
            "(480000,)\n",
            "fetaure shape: torch.Size([1, 80, 3000])\n"
          ]
        },
        {
          "output_type": "stream",
          "name": "stderr",
          "text": [
            "It is strongly recommended to pass the `sampling_rate` argument to `WhisperFeatureExtractor()`. Failing to do so can result in silent errors that might be hard to debug.\n"
          ]
        },
        {
          "output_type": "stream",
          "name": "stdout",
          "text": [
            "gen ids torch.Size([1, 83])\n",
            "start time: 330 s\n",
            "end time: 360\n",
            "(480000,)\n",
            "fetaure shape: torch.Size([1, 80, 3000])\n"
          ]
        },
        {
          "output_type": "stream",
          "name": "stderr",
          "text": [
            "It is strongly recommended to pass the `sampling_rate` argument to `WhisperFeatureExtractor()`. Failing to do so can result in silent errors that might be hard to debug.\n"
          ]
        },
        {
          "output_type": "stream",
          "name": "stdout",
          "text": [
            "gen ids torch.Size([1, 88])\n",
            "start time: 360 s\n",
            "end time: 390\n",
            "(480000,)\n",
            "fetaure shape: torch.Size([1, 80, 3000])\n"
          ]
        },
        {
          "output_type": "stream",
          "name": "stderr",
          "text": [
            "It is strongly recommended to pass the `sampling_rate` argument to `WhisperFeatureExtractor()`. Failing to do so can result in silent errors that might be hard to debug.\n"
          ]
        },
        {
          "output_type": "stream",
          "name": "stdout",
          "text": [
            "gen ids torch.Size([1, 71])\n",
            "start time: 390 s\n",
            "end time: 420\n",
            "(480000,)\n",
            "fetaure shape: torch.Size([1, 80, 3000])\n"
          ]
        },
        {
          "output_type": "stream",
          "name": "stderr",
          "text": [
            "It is strongly recommended to pass the `sampling_rate` argument to `WhisperFeatureExtractor()`. Failing to do so can result in silent errors that might be hard to debug.\n"
          ]
        },
        {
          "output_type": "stream",
          "name": "stdout",
          "text": [
            "gen ids torch.Size([1, 68])\n",
            "start time: 420 s\n",
            "end time: 450\n",
            "(480000,)\n",
            "fetaure shape: torch.Size([1, 80, 3000])\n"
          ]
        },
        {
          "output_type": "stream",
          "name": "stderr",
          "text": [
            "It is strongly recommended to pass the `sampling_rate` argument to `WhisperFeatureExtractor()`. Failing to do so can result in silent errors that might be hard to debug.\n"
          ]
        },
        {
          "output_type": "stream",
          "name": "stdout",
          "text": [
            "gen ids torch.Size([1, 71])\n",
            "start time: 450 s\n",
            "end time: 480\n",
            "(480000,)\n",
            "fetaure shape: torch.Size([1, 80, 3000])\n"
          ]
        },
        {
          "output_type": "stream",
          "name": "stderr",
          "text": [
            "It is strongly recommended to pass the `sampling_rate` argument to `WhisperFeatureExtractor()`. Failing to do so can result in silent errors that might be hard to debug.\n"
          ]
        },
        {
          "output_type": "stream",
          "name": "stdout",
          "text": [
            "gen ids torch.Size([1, 69])\n",
            "start time: 480 s\n",
            "end time: 510\n",
            "(480000,)\n",
            "fetaure shape: torch.Size([1, 80, 3000])\n"
          ]
        },
        {
          "output_type": "stream",
          "name": "stderr",
          "text": [
            "It is strongly recommended to pass the `sampling_rate` argument to `WhisperFeatureExtractor()`. Failing to do so can result in silent errors that might be hard to debug.\n"
          ]
        },
        {
          "output_type": "stream",
          "name": "stdout",
          "text": [
            "gen ids torch.Size([1, 60])\n",
            "start time: 510 s\n",
            "end time: 540\n",
            "(480000,)\n",
            "fetaure shape: torch.Size([1, 80, 3000])\n"
          ]
        },
        {
          "output_type": "stream",
          "name": "stderr",
          "text": [
            "It is strongly recommended to pass the `sampling_rate` argument to `WhisperFeatureExtractor()`. Failing to do so can result in silent errors that might be hard to debug.\n"
          ]
        },
        {
          "output_type": "stream",
          "name": "stdout",
          "text": [
            "gen ids torch.Size([1, 73])\n",
            "start time: 540 s\n",
            "end time: 570\n",
            "(480000,)\n",
            "fetaure shape: torch.Size([1, 80, 3000])\n"
          ]
        },
        {
          "output_type": "stream",
          "name": "stderr",
          "text": [
            "It is strongly recommended to pass the `sampling_rate` argument to `WhisperFeatureExtractor()`. Failing to do so can result in silent errors that might be hard to debug.\n"
          ]
        },
        {
          "output_type": "stream",
          "name": "stdout",
          "text": [
            "gen ids torch.Size([1, 66])\n",
            "start time: 570 s\n",
            "end time: 600\n",
            "(480000,)\n",
            "fetaure shape: torch.Size([1, 80, 3000])\n"
          ]
        },
        {
          "output_type": "stream",
          "name": "stderr",
          "text": [
            "It is strongly recommended to pass the `sampling_rate` argument to `WhisperFeatureExtractor()`. Failing to do so can result in silent errors that might be hard to debug.\n"
          ]
        },
        {
          "output_type": "stream",
          "name": "stdout",
          "text": [
            "gen ids torch.Size([1, 50])\n",
            "start time: 600 s\n",
            "end time: 630\n",
            "(480000,)\n",
            "fetaure shape: torch.Size([1, 80, 3000])\n"
          ]
        },
        {
          "output_type": "stream",
          "name": "stderr",
          "text": [
            "It is strongly recommended to pass the `sampling_rate` argument to `WhisperFeatureExtractor()`. Failing to do so can result in silent errors that might be hard to debug.\n"
          ]
        },
        {
          "output_type": "stream",
          "name": "stdout",
          "text": [
            "gen ids torch.Size([1, 69])\n",
            "start time: 630 s\n",
            "end time: 660\n",
            "(480000,)\n",
            "fetaure shape: torch.Size([1, 80, 3000])\n"
          ]
        },
        {
          "output_type": "stream",
          "name": "stderr",
          "text": [
            "It is strongly recommended to pass the `sampling_rate` argument to `WhisperFeatureExtractor()`. Failing to do so can result in silent errors that might be hard to debug.\n"
          ]
        },
        {
          "output_type": "stream",
          "name": "stdout",
          "text": [
            "gen ids torch.Size([1, 72])\n",
            "start time: 660 s\n",
            "end time: 690\n",
            "(480000,)\n",
            "fetaure shape: torch.Size([1, 80, 3000])\n"
          ]
        },
        {
          "output_type": "stream",
          "name": "stderr",
          "text": [
            "It is strongly recommended to pass the `sampling_rate` argument to `WhisperFeatureExtractor()`. Failing to do so can result in silent errors that might be hard to debug.\n"
          ]
        },
        {
          "output_type": "stream",
          "name": "stdout",
          "text": [
            "gen ids torch.Size([1, 69])\n",
            "start time: 690 s\n",
            "end time: 720\n",
            "(480000,)\n",
            "fetaure shape: torch.Size([1, 80, 3000])\n"
          ]
        },
        {
          "output_type": "stream",
          "name": "stderr",
          "text": [
            "It is strongly recommended to pass the `sampling_rate` argument to `WhisperFeatureExtractor()`. Failing to do so can result in silent errors that might be hard to debug.\n"
          ]
        },
        {
          "output_type": "stream",
          "name": "stdout",
          "text": [
            "gen ids torch.Size([1, 71])\n",
            "start time: 720 s\n",
            "end time: 750\n",
            "(480000,)\n",
            "fetaure shape: torch.Size([1, 80, 3000])\n"
          ]
        },
        {
          "output_type": "stream",
          "name": "stderr",
          "text": [
            "It is strongly recommended to pass the `sampling_rate` argument to `WhisperFeatureExtractor()`. Failing to do so can result in silent errors that might be hard to debug.\n"
          ]
        },
        {
          "output_type": "stream",
          "name": "stdout",
          "text": [
            "gen ids torch.Size([1, 70])\n",
            "start time: 750 s\n",
            "end time: 780\n",
            "(480000,)\n",
            "fetaure shape: torch.Size([1, 80, 3000])\n"
          ]
        },
        {
          "output_type": "stream",
          "name": "stderr",
          "text": [
            "It is strongly recommended to pass the `sampling_rate` argument to `WhisperFeatureExtractor()`. Failing to do so can result in silent errors that might be hard to debug.\n"
          ]
        },
        {
          "output_type": "stream",
          "name": "stdout",
          "text": [
            "gen ids torch.Size([1, 74])\n",
            "start time: 780 s\n",
            "end time: 810\n",
            "(480000,)\n",
            "fetaure shape: torch.Size([1, 80, 3000])\n"
          ]
        },
        {
          "output_type": "stream",
          "name": "stderr",
          "text": [
            "It is strongly recommended to pass the `sampling_rate` argument to `WhisperFeatureExtractor()`. Failing to do so can result in silent errors that might be hard to debug.\n"
          ]
        },
        {
          "output_type": "stream",
          "name": "stdout",
          "text": [
            "gen ids torch.Size([1, 71])\n",
            "start time: 810 s\n",
            "end time: 840\n",
            "(480000,)\n",
            "fetaure shape: torch.Size([1, 80, 3000])\n"
          ]
        },
        {
          "output_type": "stream",
          "name": "stderr",
          "text": [
            "It is strongly recommended to pass the `sampling_rate` argument to `WhisperFeatureExtractor()`. Failing to do so can result in silent errors that might be hard to debug.\n"
          ]
        },
        {
          "output_type": "stream",
          "name": "stdout",
          "text": [
            "gen ids torch.Size([1, 68])\n",
            "start time: 840 s\n",
            "end time: 870\n",
            "(480000,)\n",
            "fetaure shape: torch.Size([1, 80, 3000])\n"
          ]
        },
        {
          "output_type": "stream",
          "name": "stderr",
          "text": [
            "It is strongly recommended to pass the `sampling_rate` argument to `WhisperFeatureExtractor()`. Failing to do so can result in silent errors that might be hard to debug.\n"
          ]
        },
        {
          "output_type": "stream",
          "name": "stdout",
          "text": [
            "gen ids torch.Size([1, 74])\n",
            "start time: 870 s\n",
            "end time: 900\n",
            "(480000,)\n",
            "fetaure shape: torch.Size([1, 80, 3000])\n"
          ]
        },
        {
          "output_type": "stream",
          "name": "stderr",
          "text": [
            "It is strongly recommended to pass the `sampling_rate` argument to `WhisperFeatureExtractor()`. Failing to do so can result in silent errors that might be hard to debug.\n"
          ]
        },
        {
          "output_type": "stream",
          "name": "stdout",
          "text": [
            "gen ids torch.Size([1, 78])\n",
            "start time: 900 s\n",
            "end time: 930\n",
            "(480000,)\n",
            "fetaure shape: torch.Size([1, 80, 3000])\n"
          ]
        },
        {
          "output_type": "stream",
          "name": "stderr",
          "text": [
            "It is strongly recommended to pass the `sampling_rate` argument to `WhisperFeatureExtractor()`. Failing to do so can result in silent errors that might be hard to debug.\n"
          ]
        },
        {
          "output_type": "stream",
          "name": "stdout",
          "text": [
            "gen ids torch.Size([1, 69])\n",
            "start time: 930 s\n",
            "end time: 960\n",
            "(480000,)\n",
            "fetaure shape: torch.Size([1, 80, 3000])\n"
          ]
        },
        {
          "output_type": "stream",
          "name": "stderr",
          "text": [
            "It is strongly recommended to pass the `sampling_rate` argument to `WhisperFeatureExtractor()`. Failing to do so can result in silent errors that might be hard to debug.\n"
          ]
        },
        {
          "output_type": "stream",
          "name": "stdout",
          "text": [
            "gen ids torch.Size([1, 81])\n",
            "start time: 960 s\n",
            "end time: 990\n",
            "(480000,)\n",
            "fetaure shape: torch.Size([1, 80, 3000])\n"
          ]
        },
        {
          "output_type": "stream",
          "name": "stderr",
          "text": [
            "It is strongly recommended to pass the `sampling_rate` argument to `WhisperFeatureExtractor()`. Failing to do so can result in silent errors that might be hard to debug.\n"
          ]
        },
        {
          "output_type": "stream",
          "name": "stdout",
          "text": [
            "gen ids torch.Size([1, 68])\n",
            "start time: 990 s\n",
            "end time: 1020\n",
            "(480000,)\n",
            "fetaure shape: torch.Size([1, 80, 3000])\n"
          ]
        },
        {
          "output_type": "stream",
          "name": "stderr",
          "text": [
            "It is strongly recommended to pass the `sampling_rate` argument to `WhisperFeatureExtractor()`. Failing to do so can result in silent errors that might be hard to debug.\n"
          ]
        },
        {
          "output_type": "stream",
          "name": "stdout",
          "text": [
            "gen ids torch.Size([1, 81])\n",
            "start time: 1020 s\n",
            "end time: 1050\n",
            "(480000,)\n",
            "fetaure shape: torch.Size([1, 80, 3000])\n"
          ]
        },
        {
          "output_type": "stream",
          "name": "stderr",
          "text": [
            "It is strongly recommended to pass the `sampling_rate` argument to `WhisperFeatureExtractor()`. Failing to do so can result in silent errors that might be hard to debug.\n"
          ]
        },
        {
          "output_type": "stream",
          "name": "stdout",
          "text": [
            "gen ids torch.Size([1, 80])\n",
            "start time: 1050 s\n",
            "end time: 1052.874\n",
            "(45984,)\n",
            "fetaure shape: torch.Size([1, 80, 3000])\n",
            "gen ids torch.Size([1, 7])\n",
            "TransformersandSelf-Attention(DL19)\n",
            "Making Neural Networks Fast with Vectorization (DL 10).wav\n"
          ]
        },
        {
          "output_type": "stream",
          "name": "stderr",
          "text": [
            "It is strongly recommended to pass the `sampling_rate` argument to `WhisperFeatureExtractor()`. Failing to do so can result in silent errors that might be hard to debug.\n"
          ]
        },
        {
          "output_type": "stream",
          "name": "stdout",
          "text": [
            "start time: 0 s\n",
            "end time: 30\n",
            "(480000,)\n",
            "fetaure shape: torch.Size([1, 80, 3000])\n"
          ]
        },
        {
          "output_type": "stream",
          "name": "stderr",
          "text": [
            "It is strongly recommended to pass the `sampling_rate` argument to `WhisperFeatureExtractor()`. Failing to do so can result in silent errors that might be hard to debug.\n"
          ]
        },
        {
          "output_type": "stream",
          "name": "stdout",
          "text": [
            "gen ids torch.Size([1, 86])\n",
            "start time: 30 s\n",
            "end time: 60\n",
            "(480000,)\n",
            "fetaure shape: torch.Size([1, 80, 3000])\n"
          ]
        },
        {
          "output_type": "stream",
          "name": "stderr",
          "text": [
            "It is strongly recommended to pass the `sampling_rate` argument to `WhisperFeatureExtractor()`. Failing to do so can result in silent errors that might be hard to debug.\n"
          ]
        },
        {
          "output_type": "stream",
          "name": "stdout",
          "text": [
            "gen ids torch.Size([1, 85])\n",
            "start time: 60 s\n",
            "end time: 90\n",
            "(480000,)\n",
            "fetaure shape: torch.Size([1, 80, 3000])\n"
          ]
        },
        {
          "output_type": "stream",
          "name": "stderr",
          "text": [
            "It is strongly recommended to pass the `sampling_rate` argument to `WhisperFeatureExtractor()`. Failing to do so can result in silent errors that might be hard to debug.\n"
          ]
        },
        {
          "output_type": "stream",
          "name": "stdout",
          "text": [
            "gen ids torch.Size([1, 78])\n",
            "start time: 90 s\n",
            "end time: 120\n",
            "(480000,)\n",
            "fetaure shape: torch.Size([1, 80, 3000])\n"
          ]
        },
        {
          "output_type": "stream",
          "name": "stderr",
          "text": [
            "It is strongly recommended to pass the `sampling_rate` argument to `WhisperFeatureExtractor()`. Failing to do so can result in silent errors that might be hard to debug.\n"
          ]
        },
        {
          "output_type": "stream",
          "name": "stdout",
          "text": [
            "gen ids torch.Size([1, 81])\n",
            "start time: 120 s\n",
            "end time: 150\n",
            "(480000,)\n",
            "fetaure shape: torch.Size([1, 80, 3000])\n"
          ]
        },
        {
          "output_type": "stream",
          "name": "stderr",
          "text": [
            "It is strongly recommended to pass the `sampling_rate` argument to `WhisperFeatureExtractor()`. Failing to do so can result in silent errors that might be hard to debug.\n"
          ]
        },
        {
          "output_type": "stream",
          "name": "stdout",
          "text": [
            "gen ids torch.Size([1, 71])\n",
            "start time: 150 s\n",
            "end time: 180\n",
            "(480000,)\n",
            "fetaure shape: torch.Size([1, 80, 3000])\n"
          ]
        },
        {
          "output_type": "stream",
          "name": "stderr",
          "text": [
            "It is strongly recommended to pass the `sampling_rate` argument to `WhisperFeatureExtractor()`. Failing to do so can result in silent errors that might be hard to debug.\n"
          ]
        },
        {
          "output_type": "stream",
          "name": "stdout",
          "text": [
            "gen ids torch.Size([1, 67])\n",
            "start time: 180 s\n",
            "end time: 210\n",
            "(480000,)\n",
            "fetaure shape: torch.Size([1, 80, 3000])\n"
          ]
        },
        {
          "output_type": "stream",
          "name": "stderr",
          "text": [
            "It is strongly recommended to pass the `sampling_rate` argument to `WhisperFeatureExtractor()`. Failing to do so can result in silent errors that might be hard to debug.\n"
          ]
        },
        {
          "output_type": "stream",
          "name": "stdout",
          "text": [
            "gen ids torch.Size([1, 61])\n",
            "start time: 210 s\n",
            "end time: 240\n",
            "(480000,)\n",
            "fetaure shape: torch.Size([1, 80, 3000])\n"
          ]
        },
        {
          "output_type": "stream",
          "name": "stderr",
          "text": [
            "It is strongly recommended to pass the `sampling_rate` argument to `WhisperFeatureExtractor()`. Failing to do so can result in silent errors that might be hard to debug.\n"
          ]
        },
        {
          "output_type": "stream",
          "name": "stdout",
          "text": [
            "gen ids torch.Size([1, 65])\n",
            "start time: 240 s\n",
            "end time: 270\n",
            "(480000,)\n",
            "fetaure shape: torch.Size([1, 80, 3000])\n"
          ]
        },
        {
          "output_type": "stream",
          "name": "stderr",
          "text": [
            "It is strongly recommended to pass the `sampling_rate` argument to `WhisperFeatureExtractor()`. Failing to do so can result in silent errors that might be hard to debug.\n"
          ]
        },
        {
          "output_type": "stream",
          "name": "stdout",
          "text": [
            "gen ids torch.Size([1, 82])\n",
            "start time: 270 s\n",
            "end time: 300\n",
            "(480000,)\n",
            "fetaure shape: torch.Size([1, 80, 3000])\n"
          ]
        },
        {
          "output_type": "stream",
          "name": "stderr",
          "text": [
            "It is strongly recommended to pass the `sampling_rate` argument to `WhisperFeatureExtractor()`. Failing to do so can result in silent errors that might be hard to debug.\n"
          ]
        },
        {
          "output_type": "stream",
          "name": "stdout",
          "text": [
            "gen ids torch.Size([1, 72])\n",
            "start time: 300 s\n",
            "end time: 330\n",
            "(480000,)\n",
            "fetaure shape: torch.Size([1, 80, 3000])\n"
          ]
        },
        {
          "output_type": "stream",
          "name": "stderr",
          "text": [
            "It is strongly recommended to pass the `sampling_rate` argument to `WhisperFeatureExtractor()`. Failing to do so can result in silent errors that might be hard to debug.\n"
          ]
        },
        {
          "output_type": "stream",
          "name": "stdout",
          "text": [
            "gen ids torch.Size([1, 65])\n",
            "start time: 330 s\n",
            "end time: 360\n",
            "(480000,)\n",
            "fetaure shape: torch.Size([1, 80, 3000])\n"
          ]
        },
        {
          "output_type": "stream",
          "name": "stderr",
          "text": [
            "It is strongly recommended to pass the `sampling_rate` argument to `WhisperFeatureExtractor()`. Failing to do so can result in silent errors that might be hard to debug.\n"
          ]
        },
        {
          "output_type": "stream",
          "name": "stdout",
          "text": [
            "gen ids torch.Size([1, 81])\n",
            "start time: 360 s\n",
            "end time: 390\n",
            "(480000,)\n",
            "fetaure shape: torch.Size([1, 80, 3000])\n"
          ]
        },
        {
          "output_type": "stream",
          "name": "stderr",
          "text": [
            "It is strongly recommended to pass the `sampling_rate` argument to `WhisperFeatureExtractor()`. Failing to do so can result in silent errors that might be hard to debug.\n"
          ]
        },
        {
          "output_type": "stream",
          "name": "stdout",
          "text": [
            "gen ids torch.Size([1, 85])\n",
            "start time: 390 s\n",
            "end time: 420\n",
            "(480000,)\n",
            "fetaure shape: torch.Size([1, 80, 3000])\n"
          ]
        },
        {
          "output_type": "stream",
          "name": "stderr",
          "text": [
            "It is strongly recommended to pass the `sampling_rate` argument to `WhisperFeatureExtractor()`. Failing to do so can result in silent errors that might be hard to debug.\n"
          ]
        },
        {
          "output_type": "stream",
          "name": "stdout",
          "text": [
            "gen ids torch.Size([1, 83])\n",
            "start time: 420 s\n",
            "end time: 450\n",
            "(480000,)\n",
            "fetaure shape: torch.Size([1, 80, 3000])\n"
          ]
        },
        {
          "output_type": "stream",
          "name": "stderr",
          "text": [
            "It is strongly recommended to pass the `sampling_rate` argument to `WhisperFeatureExtractor()`. Failing to do so can result in silent errors that might be hard to debug.\n"
          ]
        },
        {
          "output_type": "stream",
          "name": "stdout",
          "text": [
            "gen ids torch.Size([1, 72])\n",
            "start time: 450 s\n",
            "end time: 480\n",
            "(480000,)\n",
            "fetaure shape: torch.Size([1, 80, 3000])\n"
          ]
        },
        {
          "output_type": "stream",
          "name": "stderr",
          "text": [
            "It is strongly recommended to pass the `sampling_rate` argument to `WhisperFeatureExtractor()`. Failing to do so can result in silent errors that might be hard to debug.\n"
          ]
        },
        {
          "output_type": "stream",
          "name": "stdout",
          "text": [
            "gen ids torch.Size([1, 73])\n",
            "start time: 480 s\n",
            "end time: 510\n",
            "(480000,)\n",
            "fetaure shape: torch.Size([1, 80, 3000])\n"
          ]
        },
        {
          "output_type": "stream",
          "name": "stderr",
          "text": [
            "It is strongly recommended to pass the `sampling_rate` argument to `WhisperFeatureExtractor()`. Failing to do so can result in silent errors that might be hard to debug.\n"
          ]
        },
        {
          "output_type": "stream",
          "name": "stdout",
          "text": [
            "gen ids torch.Size([1, 83])\n",
            "start time: 510 s\n",
            "end time: 540\n",
            "(480000,)\n",
            "fetaure shape: torch.Size([1, 80, 3000])\n"
          ]
        },
        {
          "output_type": "stream",
          "name": "stderr",
          "text": [
            "It is strongly recommended to pass the `sampling_rate` argument to `WhisperFeatureExtractor()`. Failing to do so can result in silent errors that might be hard to debug.\n"
          ]
        },
        {
          "output_type": "stream",
          "name": "stdout",
          "text": [
            "gen ids torch.Size([1, 83])\n",
            "start time: 540 s\n",
            "end time: 570\n",
            "(480000,)\n",
            "fetaure shape: torch.Size([1, 80, 3000])\n"
          ]
        },
        {
          "output_type": "stream",
          "name": "stderr",
          "text": [
            "It is strongly recommended to pass the `sampling_rate` argument to `WhisperFeatureExtractor()`. Failing to do so can result in silent errors that might be hard to debug.\n"
          ]
        },
        {
          "output_type": "stream",
          "name": "stdout",
          "text": [
            "gen ids torch.Size([1, 91])\n",
            "start time: 570 s\n",
            "end time: 600\n",
            "(480000,)\n",
            "fetaure shape: torch.Size([1, 80, 3000])\n"
          ]
        },
        {
          "output_type": "stream",
          "name": "stderr",
          "text": [
            "It is strongly recommended to pass the `sampling_rate` argument to `WhisperFeatureExtractor()`. Failing to do so can result in silent errors that might be hard to debug.\n"
          ]
        },
        {
          "output_type": "stream",
          "name": "stdout",
          "text": [
            "gen ids torch.Size([1, 51])\n",
            "start time: 600 s\n",
            "end time: 630\n",
            "(480000,)\n",
            "fetaure shape: torch.Size([1, 80, 3000])\n"
          ]
        },
        {
          "output_type": "stream",
          "name": "stderr",
          "text": [
            "It is strongly recommended to pass the `sampling_rate` argument to `WhisperFeatureExtractor()`. Failing to do so can result in silent errors that might be hard to debug.\n"
          ]
        },
        {
          "output_type": "stream",
          "name": "stdout",
          "text": [
            "gen ids torch.Size([1, 78])\n",
            "start time: 630 s\n",
            "end time: 660\n",
            "(480000,)\n",
            "fetaure shape: torch.Size([1, 80, 3000])\n"
          ]
        },
        {
          "output_type": "stream",
          "name": "stderr",
          "text": [
            "It is strongly recommended to pass the `sampling_rate` argument to `WhisperFeatureExtractor()`. Failing to do so can result in silent errors that might be hard to debug.\n"
          ]
        },
        {
          "output_type": "stream",
          "name": "stdout",
          "text": [
            "gen ids torch.Size([1, 60])\n",
            "start time: 660 s\n",
            "end time: 690\n",
            "(480000,)\n",
            "fetaure shape: torch.Size([1, 80, 3000])\n"
          ]
        },
        {
          "output_type": "stream",
          "name": "stderr",
          "text": [
            "It is strongly recommended to pass the `sampling_rate` argument to `WhisperFeatureExtractor()`. Failing to do so can result in silent errors that might be hard to debug.\n"
          ]
        },
        {
          "output_type": "stream",
          "name": "stdout",
          "text": [
            "gen ids torch.Size([1, 80])\n",
            "start time: 690 s\n",
            "end time: 720\n",
            "(480000,)\n",
            "fetaure shape: torch.Size([1, 80, 3000])\n"
          ]
        },
        {
          "output_type": "stream",
          "name": "stderr",
          "text": [
            "It is strongly recommended to pass the `sampling_rate` argument to `WhisperFeatureExtractor()`. Failing to do so can result in silent errors that might be hard to debug.\n"
          ]
        },
        {
          "output_type": "stream",
          "name": "stdout",
          "text": [
            "gen ids torch.Size([1, 90])\n",
            "start time: 720 s\n",
            "end time: 750\n",
            "(480000,)\n",
            "fetaure shape: torch.Size([1, 80, 3000])\n"
          ]
        },
        {
          "output_type": "stream",
          "name": "stderr",
          "text": [
            "It is strongly recommended to pass the `sampling_rate` argument to `WhisperFeatureExtractor()`. Failing to do so can result in silent errors that might be hard to debug.\n"
          ]
        },
        {
          "output_type": "stream",
          "name": "stdout",
          "text": [
            "gen ids torch.Size([1, 74])\n",
            "start time: 750 s\n",
            "end time: 780\n",
            "(480000,)\n",
            "fetaure shape: torch.Size([1, 80, 3000])\n"
          ]
        },
        {
          "output_type": "stream",
          "name": "stderr",
          "text": [
            "It is strongly recommended to pass the `sampling_rate` argument to `WhisperFeatureExtractor()`. Failing to do so can result in silent errors that might be hard to debug.\n"
          ]
        },
        {
          "output_type": "stream",
          "name": "stdout",
          "text": [
            "gen ids torch.Size([1, 58])\n",
            "start time: 780 s\n",
            "end time: 810\n",
            "(480000,)\n",
            "fetaure shape: torch.Size([1, 80, 3000])\n"
          ]
        },
        {
          "output_type": "stream",
          "name": "stderr",
          "text": [
            "It is strongly recommended to pass the `sampling_rate` argument to `WhisperFeatureExtractor()`. Failing to do so can result in silent errors that might be hard to debug.\n"
          ]
        },
        {
          "output_type": "stream",
          "name": "stdout",
          "text": [
            "gen ids torch.Size([1, 68])\n",
            "start time: 810 s\n",
            "end time: 840\n",
            "(480000,)\n",
            "fetaure shape: torch.Size([1, 80, 3000])\n"
          ]
        },
        {
          "output_type": "stream",
          "name": "stderr",
          "text": [
            "It is strongly recommended to pass the `sampling_rate` argument to `WhisperFeatureExtractor()`. Failing to do so can result in silent errors that might be hard to debug.\n"
          ]
        },
        {
          "output_type": "stream",
          "name": "stdout",
          "text": [
            "gen ids torch.Size([1, 75])\n",
            "start time: 840 s\n",
            "end time: 870\n",
            "(480000,)\n",
            "fetaure shape: torch.Size([1, 80, 3000])\n"
          ]
        },
        {
          "output_type": "stream",
          "name": "stderr",
          "text": [
            "It is strongly recommended to pass the `sampling_rate` argument to `WhisperFeatureExtractor()`. Failing to do so can result in silent errors that might be hard to debug.\n"
          ]
        },
        {
          "output_type": "stream",
          "name": "stdout",
          "text": [
            "gen ids torch.Size([1, 98])\n",
            "start time: 870 s\n",
            "end time: 900\n",
            "(480000,)\n",
            "fetaure shape: torch.Size([1, 80, 3000])\n"
          ]
        },
        {
          "output_type": "stream",
          "name": "stderr",
          "text": [
            "It is strongly recommended to pass the `sampling_rate` argument to `WhisperFeatureExtractor()`. Failing to do so can result in silent errors that might be hard to debug.\n"
          ]
        },
        {
          "output_type": "stream",
          "name": "stdout",
          "text": [
            "gen ids torch.Size([1, 58])\n",
            "start time: 900 s\n",
            "end time: 930\n",
            "(480000,)\n",
            "fetaure shape: torch.Size([1, 80, 3000])\n"
          ]
        },
        {
          "output_type": "stream",
          "name": "stderr",
          "text": [
            "It is strongly recommended to pass the `sampling_rate` argument to `WhisperFeatureExtractor()`. Failing to do so can result in silent errors that might be hard to debug.\n"
          ]
        },
        {
          "output_type": "stream",
          "name": "stdout",
          "text": [
            "gen ids torch.Size([1, 70])\n",
            "start time: 930 s\n",
            "end time: 960\n",
            "(480000,)\n",
            "fetaure shape: torch.Size([1, 80, 3000])\n"
          ]
        },
        {
          "output_type": "stream",
          "name": "stderr",
          "text": [
            "It is strongly recommended to pass the `sampling_rate` argument to `WhisperFeatureExtractor()`. Failing to do so can result in silent errors that might be hard to debug.\n"
          ]
        },
        {
          "output_type": "stream",
          "name": "stdout",
          "text": [
            "gen ids torch.Size([1, 68])\n",
            "start time: 960 s\n",
            "end time: 990\n",
            "(480000,)\n",
            "fetaure shape: torch.Size([1, 80, 3000])\n"
          ]
        },
        {
          "output_type": "stream",
          "name": "stderr",
          "text": [
            "It is strongly recommended to pass the `sampling_rate` argument to `WhisperFeatureExtractor()`. Failing to do so can result in silent errors that might be hard to debug.\n"
          ]
        },
        {
          "output_type": "stream",
          "name": "stdout",
          "text": [
            "gen ids torch.Size([1, 68])\n",
            "start time: 990 s\n",
            "end time: 1020\n",
            "(480000,)\n",
            "fetaure shape: torch.Size([1, 80, 3000])\n"
          ]
        },
        {
          "output_type": "stream",
          "name": "stderr",
          "text": [
            "It is strongly recommended to pass the `sampling_rate` argument to `WhisperFeatureExtractor()`. Failing to do so can result in silent errors that might be hard to debug.\n"
          ]
        },
        {
          "output_type": "stream",
          "name": "stdout",
          "text": [
            "gen ids torch.Size([1, 62])\n",
            "start time: 1020 s\n",
            "end time: 1050\n",
            "(480000,)\n",
            "fetaure shape: torch.Size([1, 80, 3000])\n"
          ]
        },
        {
          "output_type": "stream",
          "name": "stderr",
          "text": [
            "It is strongly recommended to pass the `sampling_rate` argument to `WhisperFeatureExtractor()`. Failing to do so can result in silent errors that might be hard to debug.\n"
          ]
        },
        {
          "output_type": "stream",
          "name": "stdout",
          "text": [
            "gen ids torch.Size([1, 57])\n",
            "start time: 1050 s\n",
            "end time: 1080\n",
            "(480000,)\n",
            "fetaure shape: torch.Size([1, 80, 3000])\n"
          ]
        },
        {
          "output_type": "stream",
          "name": "stderr",
          "text": [
            "It is strongly recommended to pass the `sampling_rate` argument to `WhisperFeatureExtractor()`. Failing to do so can result in silent errors that might be hard to debug.\n"
          ]
        },
        {
          "output_type": "stream",
          "name": "stdout",
          "text": [
            "gen ids torch.Size([1, 77])\n",
            "start time: 1080 s\n",
            "end time: 1110\n",
            "(480000,)\n",
            "fetaure shape: torch.Size([1, 80, 3000])\n"
          ]
        },
        {
          "output_type": "stream",
          "name": "stderr",
          "text": [
            "It is strongly recommended to pass the `sampling_rate` argument to `WhisperFeatureExtractor()`. Failing to do so can result in silent errors that might be hard to debug.\n"
          ]
        },
        {
          "output_type": "stream",
          "name": "stdout",
          "text": [
            "gen ids torch.Size([1, 55])\n",
            "start time: 1110 s\n",
            "end time: 1140\n",
            "(480000,)\n",
            "fetaure shape: torch.Size([1, 80, 3000])\n"
          ]
        },
        {
          "output_type": "stream",
          "name": "stderr",
          "text": [
            "It is strongly recommended to pass the `sampling_rate` argument to `WhisperFeatureExtractor()`. Failing to do so can result in silent errors that might be hard to debug.\n"
          ]
        },
        {
          "output_type": "stream",
          "name": "stdout",
          "text": [
            "gen ids torch.Size([1, 61])\n",
            "start time: 1140 s\n",
            "end time: 1170\n",
            "(480000,)\n",
            "fetaure shape: torch.Size([1, 80, 3000])\n"
          ]
        },
        {
          "output_type": "stream",
          "name": "stderr",
          "text": [
            "It is strongly recommended to pass the `sampling_rate` argument to `WhisperFeatureExtractor()`. Failing to do so can result in silent errors that might be hard to debug.\n"
          ]
        },
        {
          "output_type": "stream",
          "name": "stdout",
          "text": [
            "gen ids torch.Size([1, 68])\n",
            "start time: 1170 s\n",
            "end time: 1183.8345\n",
            "(221352,)\n",
            "fetaure shape: torch.Size([1, 80, 3000])\n",
            "gen ids torch.Size([1, 33])\n",
            "MakingNeuralNetworksFastwithVectorization(DL10)\n",
            "Word Embeddings (DL 16).wav\n"
          ]
        },
        {
          "output_type": "stream",
          "name": "stderr",
          "text": [
            "It is strongly recommended to pass the `sampling_rate` argument to `WhisperFeatureExtractor()`. Failing to do so can result in silent errors that might be hard to debug.\n"
          ]
        },
        {
          "output_type": "stream",
          "name": "stdout",
          "text": [
            "start time: 0 s\n",
            "end time: 30\n",
            "(480000,)\n",
            "fetaure shape: torch.Size([1, 80, 3000])\n"
          ]
        },
        {
          "output_type": "stream",
          "name": "stderr",
          "text": [
            "It is strongly recommended to pass the `sampling_rate` argument to `WhisperFeatureExtractor()`. Failing to do so can result in silent errors that might be hard to debug.\n"
          ]
        },
        {
          "output_type": "stream",
          "name": "stdout",
          "text": [
            "gen ids torch.Size([1, 90])\n",
            "start time: 30 s\n",
            "end time: 60\n",
            "(480000,)\n",
            "fetaure shape: torch.Size([1, 80, 3000])\n"
          ]
        },
        {
          "output_type": "stream",
          "name": "stderr",
          "text": [
            "It is strongly recommended to pass the `sampling_rate` argument to `WhisperFeatureExtractor()`. Failing to do so can result in silent errors that might be hard to debug.\n"
          ]
        },
        {
          "output_type": "stream",
          "name": "stdout",
          "text": [
            "gen ids torch.Size([1, 78])\n",
            "start time: 60 s\n",
            "end time: 90\n",
            "(480000,)\n",
            "fetaure shape: torch.Size([1, 80, 3000])\n"
          ]
        },
        {
          "output_type": "stream",
          "name": "stderr",
          "text": [
            "It is strongly recommended to pass the `sampling_rate` argument to `WhisperFeatureExtractor()`. Failing to do so can result in silent errors that might be hard to debug.\n"
          ]
        },
        {
          "output_type": "stream",
          "name": "stdout",
          "text": [
            "gen ids torch.Size([1, 63])\n",
            "start time: 90 s\n",
            "end time: 120\n",
            "(480000,)\n",
            "fetaure shape: torch.Size([1, 80, 3000])\n"
          ]
        },
        {
          "output_type": "stream",
          "name": "stderr",
          "text": [
            "It is strongly recommended to pass the `sampling_rate` argument to `WhisperFeatureExtractor()`. Failing to do so can result in silent errors that might be hard to debug.\n"
          ]
        },
        {
          "output_type": "stream",
          "name": "stdout",
          "text": [
            "gen ids torch.Size([1, 53])\n",
            "start time: 120 s\n",
            "end time: 150\n",
            "(480000,)\n",
            "fetaure shape: torch.Size([1, 80, 3000])\n"
          ]
        },
        {
          "output_type": "stream",
          "name": "stderr",
          "text": [
            "It is strongly recommended to pass the `sampling_rate` argument to `WhisperFeatureExtractor()`. Failing to do so can result in silent errors that might be hard to debug.\n"
          ]
        },
        {
          "output_type": "stream",
          "name": "stdout",
          "text": [
            "gen ids torch.Size([1, 69])\n",
            "start time: 150 s\n",
            "end time: 180\n",
            "(480000,)\n",
            "fetaure shape: torch.Size([1, 80, 3000])\n"
          ]
        },
        {
          "output_type": "stream",
          "name": "stderr",
          "text": [
            "It is strongly recommended to pass the `sampling_rate` argument to `WhisperFeatureExtractor()`. Failing to do so can result in silent errors that might be hard to debug.\n"
          ]
        },
        {
          "output_type": "stream",
          "name": "stdout",
          "text": [
            "gen ids torch.Size([1, 63])\n",
            "start time: 180 s\n",
            "end time: 210\n",
            "(480000,)\n",
            "fetaure shape: torch.Size([1, 80, 3000])\n"
          ]
        },
        {
          "output_type": "stream",
          "name": "stderr",
          "text": [
            "It is strongly recommended to pass the `sampling_rate` argument to `WhisperFeatureExtractor()`. Failing to do so can result in silent errors that might be hard to debug.\n"
          ]
        },
        {
          "output_type": "stream",
          "name": "stdout",
          "text": [
            "gen ids torch.Size([1, 63])\n",
            "start time: 210 s\n",
            "end time: 240\n",
            "(480000,)\n",
            "fetaure shape: torch.Size([1, 80, 3000])\n"
          ]
        },
        {
          "output_type": "stream",
          "name": "stderr",
          "text": [
            "It is strongly recommended to pass the `sampling_rate` argument to `WhisperFeatureExtractor()`. Failing to do so can result in silent errors that might be hard to debug.\n"
          ]
        },
        {
          "output_type": "stream",
          "name": "stdout",
          "text": [
            "gen ids torch.Size([1, 69])\n",
            "start time: 240 s\n",
            "end time: 270\n",
            "(480000,)\n",
            "fetaure shape: torch.Size([1, 80, 3000])\n"
          ]
        },
        {
          "output_type": "stream",
          "name": "stderr",
          "text": [
            "It is strongly recommended to pass the `sampling_rate` argument to `WhisperFeatureExtractor()`. Failing to do so can result in silent errors that might be hard to debug.\n"
          ]
        },
        {
          "output_type": "stream",
          "name": "stdout",
          "text": [
            "gen ids torch.Size([1, 77])\n",
            "start time: 270 s\n",
            "end time: 300\n",
            "(480000,)\n",
            "fetaure shape: torch.Size([1, 80, 3000])\n"
          ]
        },
        {
          "output_type": "stream",
          "name": "stderr",
          "text": [
            "It is strongly recommended to pass the `sampling_rate` argument to `WhisperFeatureExtractor()`. Failing to do so can result in silent errors that might be hard to debug.\n"
          ]
        },
        {
          "output_type": "stream",
          "name": "stdout",
          "text": [
            "gen ids torch.Size([1, 64])\n",
            "start time: 300 s\n",
            "end time: 330\n",
            "(480000,)\n",
            "fetaure shape: torch.Size([1, 80, 3000])\n"
          ]
        },
        {
          "output_type": "stream",
          "name": "stderr",
          "text": [
            "It is strongly recommended to pass the `sampling_rate` argument to `WhisperFeatureExtractor()`. Failing to do so can result in silent errors that might be hard to debug.\n"
          ]
        },
        {
          "output_type": "stream",
          "name": "stdout",
          "text": [
            "gen ids torch.Size([1, 54])\n",
            "start time: 330 s\n",
            "end time: 360\n",
            "(480000,)\n",
            "fetaure shape: torch.Size([1, 80, 3000])\n"
          ]
        },
        {
          "output_type": "stream",
          "name": "stderr",
          "text": [
            "It is strongly recommended to pass the `sampling_rate` argument to `WhisperFeatureExtractor()`. Failing to do so can result in silent errors that might be hard to debug.\n"
          ]
        },
        {
          "output_type": "stream",
          "name": "stdout",
          "text": [
            "gen ids torch.Size([1, 70])\n",
            "start time: 360 s\n",
            "end time: 390\n",
            "(480000,)\n",
            "fetaure shape: torch.Size([1, 80, 3000])\n"
          ]
        },
        {
          "output_type": "stream",
          "name": "stderr",
          "text": [
            "It is strongly recommended to pass the `sampling_rate` argument to `WhisperFeatureExtractor()`. Failing to do so can result in silent errors that might be hard to debug.\n",
            "It is strongly recommended to pass the `sampling_rate` argument to `WhisperFeatureExtractor()`. Failing to do so can result in silent errors that might be hard to debug.\n"
          ]
        },
        {
          "output_type": "stream",
          "name": "stdout",
          "text": [
            "gen ids torch.Size([1, 62])\n",
            "start time: 390 s\n",
            "end time: 420\n",
            "(480000,)\n",
            "fetaure shape: torch.Size([1, 80, 3000])\n",
            "gen ids torch.Size([1, 3])\n",
            "start time: 420 s\n",
            "end time: 450\n",
            "(480000,)\n",
            "fetaure shape: torch.Size([1, 80, 3000])\n"
          ]
        },
        {
          "output_type": "stream",
          "name": "stderr",
          "text": [
            "It is strongly recommended to pass the `sampling_rate` argument to `WhisperFeatureExtractor()`. Failing to do so can result in silent errors that might be hard to debug.\n"
          ]
        },
        {
          "output_type": "stream",
          "name": "stdout",
          "text": [
            "gen ids torch.Size([1, 60])\n",
            "start time: 450 s\n",
            "end time: 480\n",
            "(480000,)\n",
            "fetaure shape: torch.Size([1, 80, 3000])\n"
          ]
        },
        {
          "output_type": "stream",
          "name": "stderr",
          "text": [
            "It is strongly recommended to pass the `sampling_rate` argument to `WhisperFeatureExtractor()`. Failing to do so can result in silent errors that might be hard to debug.\n"
          ]
        },
        {
          "output_type": "stream",
          "name": "stdout",
          "text": [
            "gen ids torch.Size([1, 70])\n",
            "start time: 480 s\n",
            "end time: 510\n",
            "(480000,)\n",
            "fetaure shape: torch.Size([1, 80, 3000])\n"
          ]
        },
        {
          "output_type": "stream",
          "name": "stderr",
          "text": [
            "It is strongly recommended to pass the `sampling_rate` argument to `WhisperFeatureExtractor()`. Failing to do so can result in silent errors that might be hard to debug.\n"
          ]
        },
        {
          "output_type": "stream",
          "name": "stdout",
          "text": [
            "gen ids torch.Size([1, 78])\n",
            "start time: 510 s\n",
            "end time: 540\n",
            "(480000,)\n",
            "fetaure shape: torch.Size([1, 80, 3000])\n"
          ]
        },
        {
          "output_type": "stream",
          "name": "stderr",
          "text": [
            "It is strongly recommended to pass the `sampling_rate` argument to `WhisperFeatureExtractor()`. Failing to do so can result in silent errors that might be hard to debug.\n"
          ]
        },
        {
          "output_type": "stream",
          "name": "stdout",
          "text": [
            "gen ids torch.Size([1, 80])\n",
            "start time: 540 s\n",
            "end time: 570\n",
            "(480000,)\n",
            "fetaure shape: torch.Size([1, 80, 3000])\n"
          ]
        },
        {
          "output_type": "stream",
          "name": "stderr",
          "text": [
            "It is strongly recommended to pass the `sampling_rate` argument to `WhisperFeatureExtractor()`. Failing to do so can result in silent errors that might be hard to debug.\n"
          ]
        },
        {
          "output_type": "stream",
          "name": "stdout",
          "text": [
            "gen ids torch.Size([1, 61])\n",
            "start time: 570 s\n",
            "end time: 600\n",
            "(480000,)\n",
            "fetaure shape: torch.Size([1, 80, 3000])\n"
          ]
        },
        {
          "output_type": "stream",
          "name": "stderr",
          "text": [
            "It is strongly recommended to pass the `sampling_rate` argument to `WhisperFeatureExtractor()`. Failing to do so can result in silent errors that might be hard to debug.\n"
          ]
        },
        {
          "output_type": "stream",
          "name": "stdout",
          "text": [
            "gen ids torch.Size([1, 62])\n",
            "start time: 600 s\n",
            "end time: 630\n",
            "(480000,)\n",
            "fetaure shape: torch.Size([1, 80, 3000])\n"
          ]
        },
        {
          "output_type": "stream",
          "name": "stderr",
          "text": [
            "It is strongly recommended to pass the `sampling_rate` argument to `WhisperFeatureExtractor()`. Failing to do so can result in silent errors that might be hard to debug.\n"
          ]
        },
        {
          "output_type": "stream",
          "name": "stdout",
          "text": [
            "gen ids torch.Size([1, 69])\n",
            "start time: 630 s\n",
            "end time: 660\n",
            "(480000,)\n",
            "fetaure shape: torch.Size([1, 80, 3000])\n"
          ]
        },
        {
          "output_type": "stream",
          "name": "stderr",
          "text": [
            "It is strongly recommended to pass the `sampling_rate` argument to `WhisperFeatureExtractor()`. Failing to do so can result in silent errors that might be hard to debug.\n"
          ]
        },
        {
          "output_type": "stream",
          "name": "stdout",
          "text": [
            "gen ids torch.Size([1, 86])\n",
            "start time: 660 s\n",
            "end time: 690\n",
            "(480000,)\n",
            "fetaure shape: torch.Size([1, 80, 3000])\n"
          ]
        },
        {
          "output_type": "stream",
          "name": "stderr",
          "text": [
            "It is strongly recommended to pass the `sampling_rate` argument to `WhisperFeatureExtractor()`. Failing to do so can result in silent errors that might be hard to debug.\n"
          ]
        },
        {
          "output_type": "stream",
          "name": "stdout",
          "text": [
            "gen ids torch.Size([1, 57])\n",
            "start time: 690 s\n",
            "end time: 690.80525\n",
            "(12884,)\n",
            "fetaure shape: torch.Size([1, 80, 3000])\n",
            "gen ids torch.Size([1, 1])\n",
            "WordEmbeddings(DL16)\n",
            "Feed-Forward Neural Networks (DL 07).wav\n"
          ]
        },
        {
          "output_type": "stream",
          "name": "stderr",
          "text": [
            "It is strongly recommended to pass the `sampling_rate` argument to `WhisperFeatureExtractor()`. Failing to do so can result in silent errors that might be hard to debug.\n"
          ]
        },
        {
          "output_type": "stream",
          "name": "stdout",
          "text": [
            "start time: 0 s\n",
            "end time: 30\n",
            "(480000,)\n",
            "fetaure shape: torch.Size([1, 80, 3000])\n"
          ]
        },
        {
          "output_type": "stream",
          "name": "stderr",
          "text": [
            "It is strongly recommended to pass the `sampling_rate` argument to `WhisperFeatureExtractor()`. Failing to do so can result in silent errors that might be hard to debug.\n"
          ]
        },
        {
          "output_type": "stream",
          "name": "stdout",
          "text": [
            "gen ids torch.Size([1, 81])\n",
            "start time: 30 s\n",
            "end time: 60\n",
            "(480000,)\n",
            "fetaure shape: torch.Size([1, 80, 3000])\n"
          ]
        },
        {
          "output_type": "stream",
          "name": "stderr",
          "text": [
            "It is strongly recommended to pass the `sampling_rate` argument to `WhisperFeatureExtractor()`. Failing to do so can result in silent errors that might be hard to debug.\n"
          ]
        },
        {
          "output_type": "stream",
          "name": "stdout",
          "text": [
            "gen ids torch.Size([1, 73])\n",
            "start time: 60 s\n",
            "end time: 90\n",
            "(480000,)\n",
            "fetaure shape: torch.Size([1, 80, 3000])\n"
          ]
        },
        {
          "output_type": "stream",
          "name": "stderr",
          "text": [
            "It is strongly recommended to pass the `sampling_rate` argument to `WhisperFeatureExtractor()`. Failing to do so can result in silent errors that might be hard to debug.\n"
          ]
        },
        {
          "output_type": "stream",
          "name": "stdout",
          "text": [
            "gen ids torch.Size([1, 67])\n",
            "start time: 90 s\n",
            "end time: 120\n",
            "(480000,)\n",
            "fetaure shape: torch.Size([1, 80, 3000])\n"
          ]
        },
        {
          "output_type": "stream",
          "name": "stderr",
          "text": [
            "It is strongly recommended to pass the `sampling_rate` argument to `WhisperFeatureExtractor()`. Failing to do so can result in silent errors that might be hard to debug.\n"
          ]
        },
        {
          "output_type": "stream",
          "name": "stdout",
          "text": [
            "gen ids torch.Size([1, 75])\n",
            "start time: 120 s\n",
            "end time: 150\n",
            "(480000,)\n",
            "fetaure shape: torch.Size([1, 80, 3000])\n"
          ]
        },
        {
          "output_type": "stream",
          "name": "stderr",
          "text": [
            "It is strongly recommended to pass the `sampling_rate` argument to `WhisperFeatureExtractor()`. Failing to do so can result in silent errors that might be hard to debug.\n"
          ]
        },
        {
          "output_type": "stream",
          "name": "stdout",
          "text": [
            "gen ids torch.Size([1, 82])\n",
            "start time: 150 s\n",
            "end time: 180\n",
            "(480000,)\n",
            "fetaure shape: torch.Size([1, 80, 3000])\n"
          ]
        },
        {
          "output_type": "stream",
          "name": "stderr",
          "text": [
            "It is strongly recommended to pass the `sampling_rate` argument to `WhisperFeatureExtractor()`. Failing to do so can result in silent errors that might be hard to debug.\n"
          ]
        },
        {
          "output_type": "stream",
          "name": "stdout",
          "text": [
            "gen ids torch.Size([1, 74])\n",
            "start time: 180 s\n",
            "end time: 210\n",
            "(480000,)\n",
            "fetaure shape: torch.Size([1, 80, 3000])\n"
          ]
        },
        {
          "output_type": "stream",
          "name": "stderr",
          "text": [
            "It is strongly recommended to pass the `sampling_rate` argument to `WhisperFeatureExtractor()`. Failing to do so can result in silent errors that might be hard to debug.\n"
          ]
        },
        {
          "output_type": "stream",
          "name": "stdout",
          "text": [
            "gen ids torch.Size([1, 86])\n",
            "start time: 210 s\n",
            "end time: 240\n",
            "(480000,)\n",
            "fetaure shape: torch.Size([1, 80, 3000])\n"
          ]
        },
        {
          "output_type": "stream",
          "name": "stderr",
          "text": [
            "It is strongly recommended to pass the `sampling_rate` argument to `WhisperFeatureExtractor()`. Failing to do so can result in silent errors that might be hard to debug.\n"
          ]
        },
        {
          "output_type": "stream",
          "name": "stdout",
          "text": [
            "gen ids torch.Size([1, 70])\n",
            "start time: 240 s\n",
            "end time: 270\n",
            "(480000,)\n",
            "fetaure shape: torch.Size([1, 80, 3000])\n"
          ]
        },
        {
          "output_type": "stream",
          "name": "stderr",
          "text": [
            "It is strongly recommended to pass the `sampling_rate` argument to `WhisperFeatureExtractor()`. Failing to do so can result in silent errors that might be hard to debug.\n"
          ]
        },
        {
          "output_type": "stream",
          "name": "stdout",
          "text": [
            "gen ids torch.Size([1, 73])\n",
            "start time: 270 s\n",
            "end time: 300\n",
            "(480000,)\n",
            "fetaure shape: torch.Size([1, 80, 3000])\n"
          ]
        },
        {
          "output_type": "stream",
          "name": "stderr",
          "text": [
            "It is strongly recommended to pass the `sampling_rate` argument to `WhisperFeatureExtractor()`. Failing to do so can result in silent errors that might be hard to debug.\n"
          ]
        },
        {
          "output_type": "stream",
          "name": "stdout",
          "text": [
            "gen ids torch.Size([1, 74])\n",
            "start time: 300 s\n",
            "end time: 330\n",
            "(480000,)\n",
            "fetaure shape: torch.Size([1, 80, 3000])\n"
          ]
        },
        {
          "output_type": "stream",
          "name": "stderr",
          "text": [
            "It is strongly recommended to pass the `sampling_rate` argument to `WhisperFeatureExtractor()`. Failing to do so can result in silent errors that might be hard to debug.\n"
          ]
        },
        {
          "output_type": "stream",
          "name": "stdout",
          "text": [
            "gen ids torch.Size([1, 63])\n",
            "start time: 330 s\n",
            "end time: 360\n",
            "(480000,)\n",
            "fetaure shape: torch.Size([1, 80, 3000])\n"
          ]
        },
        {
          "output_type": "stream",
          "name": "stderr",
          "text": [
            "It is strongly recommended to pass the `sampling_rate` argument to `WhisperFeatureExtractor()`. Failing to do so can result in silent errors that might be hard to debug.\n"
          ]
        },
        {
          "output_type": "stream",
          "name": "stdout",
          "text": [
            "gen ids torch.Size([1, 63])\n",
            "start time: 360 s\n",
            "end time: 390\n",
            "(480000,)\n",
            "fetaure shape: torch.Size([1, 80, 3000])\n"
          ]
        },
        {
          "output_type": "stream",
          "name": "stderr",
          "text": [
            "It is strongly recommended to pass the `sampling_rate` argument to `WhisperFeatureExtractor()`. Failing to do so can result in silent errors that might be hard to debug.\n"
          ]
        },
        {
          "output_type": "stream",
          "name": "stdout",
          "text": [
            "gen ids torch.Size([1, 73])\n",
            "start time: 390 s\n",
            "end time: 420\n",
            "(480000,)\n",
            "fetaure shape: torch.Size([1, 80, 3000])\n"
          ]
        },
        {
          "output_type": "stream",
          "name": "stderr",
          "text": [
            "It is strongly recommended to pass the `sampling_rate` argument to `WhisperFeatureExtractor()`. Failing to do so can result in silent errors that might be hard to debug.\n"
          ]
        },
        {
          "output_type": "stream",
          "name": "stdout",
          "text": [
            "gen ids torch.Size([1, 70])\n",
            "start time: 420 s\n",
            "end time: 450\n",
            "(480000,)\n",
            "fetaure shape: torch.Size([1, 80, 3000])\n"
          ]
        },
        {
          "output_type": "stream",
          "name": "stderr",
          "text": [
            "It is strongly recommended to pass the `sampling_rate` argument to `WhisperFeatureExtractor()`. Failing to do so can result in silent errors that might be hard to debug.\n"
          ]
        },
        {
          "output_type": "stream",
          "name": "stdout",
          "text": [
            "gen ids torch.Size([1, 70])\n",
            "start time: 450 s\n",
            "end time: 480\n",
            "(480000,)\n",
            "fetaure shape: torch.Size([1, 80, 3000])\n"
          ]
        },
        {
          "output_type": "stream",
          "name": "stderr",
          "text": [
            "It is strongly recommended to pass the `sampling_rate` argument to `WhisperFeatureExtractor()`. Failing to do so can result in silent errors that might be hard to debug.\n"
          ]
        },
        {
          "output_type": "stream",
          "name": "stdout",
          "text": [
            "gen ids torch.Size([1, 65])\n",
            "start time: 480 s\n",
            "end time: 510\n",
            "(480000,)\n",
            "fetaure shape: torch.Size([1, 80, 3000])\n"
          ]
        },
        {
          "output_type": "stream",
          "name": "stderr",
          "text": [
            "It is strongly recommended to pass the `sampling_rate` argument to `WhisperFeatureExtractor()`. Failing to do so can result in silent errors that might be hard to debug.\n"
          ]
        },
        {
          "output_type": "stream",
          "name": "stdout",
          "text": [
            "gen ids torch.Size([1, 77])\n",
            "start time: 510 s\n",
            "end time: 540\n",
            "(480000,)\n",
            "fetaure shape: torch.Size([1, 80, 3000])\n"
          ]
        },
        {
          "output_type": "stream",
          "name": "stderr",
          "text": [
            "It is strongly recommended to pass the `sampling_rate` argument to `WhisperFeatureExtractor()`. Failing to do so can result in silent errors that might be hard to debug.\n"
          ]
        },
        {
          "output_type": "stream",
          "name": "stdout",
          "text": [
            "gen ids torch.Size([1, 82])\n",
            "start time: 540 s\n",
            "end time: 570\n",
            "(480000,)\n",
            "fetaure shape: torch.Size([1, 80, 3000])\n"
          ]
        },
        {
          "output_type": "stream",
          "name": "stderr",
          "text": [
            "It is strongly recommended to pass the `sampling_rate` argument to `WhisperFeatureExtractor()`. Failing to do so can result in silent errors that might be hard to debug.\n"
          ]
        },
        {
          "output_type": "stream",
          "name": "stdout",
          "text": [
            "gen ids torch.Size([1, 67])\n",
            "start time: 570 s\n",
            "end time: 600\n",
            "(480000,)\n",
            "fetaure shape: torch.Size([1, 80, 3000])\n"
          ]
        },
        {
          "output_type": "stream",
          "name": "stderr",
          "text": [
            "It is strongly recommended to pass the `sampling_rate` argument to `WhisperFeatureExtractor()`. Failing to do so can result in silent errors that might be hard to debug.\n"
          ]
        },
        {
          "output_type": "stream",
          "name": "stdout",
          "text": [
            "gen ids torch.Size([1, 75])\n",
            "start time: 600 s\n",
            "end time: 630\n",
            "(480000,)\n",
            "fetaure shape: torch.Size([1, 80, 3000])\n"
          ]
        },
        {
          "output_type": "stream",
          "name": "stderr",
          "text": [
            "It is strongly recommended to pass the `sampling_rate` argument to `WhisperFeatureExtractor()`. Failing to do so can result in silent errors that might be hard to debug.\n"
          ]
        },
        {
          "output_type": "stream",
          "name": "stdout",
          "text": [
            "gen ids torch.Size([1, 79])\n",
            "start time: 630 s\n",
            "end time: 660\n",
            "(480000,)\n",
            "fetaure shape: torch.Size([1, 80, 3000])\n"
          ]
        },
        {
          "output_type": "stream",
          "name": "stderr",
          "text": [
            "It is strongly recommended to pass the `sampling_rate` argument to `WhisperFeatureExtractor()`. Failing to do so can result in silent errors that might be hard to debug.\n"
          ]
        },
        {
          "output_type": "stream",
          "name": "stdout",
          "text": [
            "gen ids torch.Size([1, 89])\n",
            "start time: 660 s\n",
            "end time: 690\n",
            "(480000,)\n",
            "fetaure shape: torch.Size([1, 80, 3000])\n"
          ]
        },
        {
          "output_type": "stream",
          "name": "stderr",
          "text": [
            "It is strongly recommended to pass the `sampling_rate` argument to `WhisperFeatureExtractor()`. Failing to do so can result in silent errors that might be hard to debug.\n"
          ]
        },
        {
          "output_type": "stream",
          "name": "stdout",
          "text": [
            "gen ids torch.Size([1, 86])\n",
            "start time: 690 s\n",
            "end time: 720\n",
            "(480000,)\n",
            "fetaure shape: torch.Size([1, 80, 3000])\n"
          ]
        },
        {
          "output_type": "stream",
          "name": "stderr",
          "text": [
            "It is strongly recommended to pass the `sampling_rate` argument to `WhisperFeatureExtractor()`. Failing to do so can result in silent errors that might be hard to debug.\n"
          ]
        },
        {
          "output_type": "stream",
          "name": "stdout",
          "text": [
            "gen ids torch.Size([1, 100])\n",
            "start time: 720 s\n",
            "end time: 750\n",
            "(480000,)\n",
            "fetaure shape: torch.Size([1, 80, 3000])\n"
          ]
        },
        {
          "output_type": "stream",
          "name": "stderr",
          "text": [
            "It is strongly recommended to pass the `sampling_rate` argument to `WhisperFeatureExtractor()`. Failing to do so can result in silent errors that might be hard to debug.\n"
          ]
        },
        {
          "output_type": "stream",
          "name": "stdout",
          "text": [
            "gen ids torch.Size([1, 90])\n",
            "start time: 750 s\n",
            "end time: 780\n",
            "(480000,)\n",
            "fetaure shape: torch.Size([1, 80, 3000])\n"
          ]
        },
        {
          "output_type": "stream",
          "name": "stderr",
          "text": [
            "It is strongly recommended to pass the `sampling_rate` argument to `WhisperFeatureExtractor()`. Failing to do so can result in silent errors that might be hard to debug.\n"
          ]
        },
        {
          "output_type": "stream",
          "name": "stdout",
          "text": [
            "gen ids torch.Size([1, 73])\n",
            "start time: 780 s\n",
            "end time: 810\n",
            "(480000,)\n",
            "fetaure shape: torch.Size([1, 80, 3000])\n"
          ]
        },
        {
          "output_type": "stream",
          "name": "stderr",
          "text": [
            "It is strongly recommended to pass the `sampling_rate` argument to `WhisperFeatureExtractor()`. Failing to do so can result in silent errors that might be hard to debug.\n"
          ]
        },
        {
          "output_type": "stream",
          "name": "stdout",
          "text": [
            "gen ids torch.Size([1, 72])\n",
            "start time: 810 s\n",
            "end time: 840\n",
            "(480000,)\n",
            "fetaure shape: torch.Size([1, 80, 3000])\n"
          ]
        },
        {
          "output_type": "stream",
          "name": "stderr",
          "text": [
            "It is strongly recommended to pass the `sampling_rate` argument to `WhisperFeatureExtractor()`. Failing to do so can result in silent errors that might be hard to debug.\n"
          ]
        },
        {
          "output_type": "stream",
          "name": "stdout",
          "text": [
            "gen ids torch.Size([1, 70])\n",
            "start time: 840 s\n",
            "end time: 870\n",
            "(480000,)\n",
            "fetaure shape: torch.Size([1, 80, 3000])\n"
          ]
        },
        {
          "output_type": "stream",
          "name": "stderr",
          "text": [
            "It is strongly recommended to pass the `sampling_rate` argument to `WhisperFeatureExtractor()`. Failing to do so can result in silent errors that might be hard to debug.\n"
          ]
        },
        {
          "output_type": "stream",
          "name": "stdout",
          "text": [
            "gen ids torch.Size([1, 71])\n",
            "start time: 870 s\n",
            "end time: 900\n",
            "(480000,)\n",
            "fetaure shape: torch.Size([1, 80, 3000])\n"
          ]
        },
        {
          "output_type": "stream",
          "name": "stderr",
          "text": [
            "It is strongly recommended to pass the `sampling_rate` argument to `WhisperFeatureExtractor()`. Failing to do so can result in silent errors that might be hard to debug.\n"
          ]
        },
        {
          "output_type": "stream",
          "name": "stdout",
          "text": [
            "gen ids torch.Size([1, 76])\n",
            "start time: 900 s\n",
            "end time: 930\n",
            "(480000,)\n",
            "fetaure shape: torch.Size([1, 80, 3000])\n"
          ]
        },
        {
          "output_type": "stream",
          "name": "stderr",
          "text": [
            "It is strongly recommended to pass the `sampling_rate` argument to `WhisperFeatureExtractor()`. Failing to do so can result in silent errors that might be hard to debug.\n"
          ]
        },
        {
          "output_type": "stream",
          "name": "stdout",
          "text": [
            "gen ids torch.Size([1, 68])\n",
            "start time: 930 s\n",
            "end time: 960\n",
            "(480000,)\n",
            "fetaure shape: torch.Size([1, 80, 3000])\n"
          ]
        },
        {
          "output_type": "stream",
          "name": "stderr",
          "text": [
            "It is strongly recommended to pass the `sampling_rate` argument to `WhisperFeatureExtractor()`. Failing to do so can result in silent errors that might be hard to debug.\n"
          ]
        },
        {
          "output_type": "stream",
          "name": "stdout",
          "text": [
            "gen ids torch.Size([1, 52])\n",
            "start time: 960 s\n",
            "end time: 979.1274375\n",
            "(306039,)\n",
            "fetaure shape: torch.Size([1, 80, 3000])\n",
            "gen ids torch.Size([1, 54])\n",
            "Feed-ForwardNeuralNetworks(DL07)\n"
          ]
        }
      ]
    },
    {
      "cell_type": "code",
      "source": [
        "len(audio_dict.keys())"
      ],
      "metadata": {
        "colab": {
          "base_uri": "https://localhost:8080/"
        },
        "id": "e8xdbnrH8sa6",
        "outputId": "5ecdec0f-e838-4eae-cc03-b427007e5eba"
      },
      "execution_count": 24,
      "outputs": [
        {
          "output_type": "execute_result",
          "data": {
            "text/plain": [
              "26"
            ]
          },
          "metadata": {},
          "execution_count": 24
        }
      ]
    }
  ]
}